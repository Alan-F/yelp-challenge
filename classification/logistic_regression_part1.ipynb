{
 "cells": [
  {
   "cell_type": "code",
   "execution_count": 14,
   "metadata": {
    "collapsed": true
   },
   "outputs": [],
   "source": [
    "# Import the libraries we will be using\n",
    "import numpy as np\n",
    "import pandas as pd\n",
    "\n",
    "from sklearn.tree import DecisionTreeClassifier\n",
    "from sklearn.linear_model import LogisticRegression\n",
    "from sklearn.svm import SVC\n",
    "\n",
    "from sklearn.model_selection import GridSearchCV\n",
    "from sklearn import metrics\n",
    "from sklearn.model_selection import cross_val_score\n",
    "from sklearn.model_selection import train_test_split\n",
    "\n",
    "#from dstools import data_tools   #if plot decision tree surface\n",
    "\n",
    "import seaborn as sns\n",
    "import matplotlib.pylab as plt\n",
    "%matplotlib inline\n",
    "plt.rcParams['figure.figsize'] = 10, 8"
   ]
  },
  {
   "cell_type": "code",
   "execution_count": 13,
   "metadata": {
    "collapsed": false
   },
   "outputs": [
    {
     "name": "stdout",
     "output_type": "stream",
     "text": [
      "(27314, 98)\n"
     ]
    },
    {
     "data": {
      "text/html": [
       "<div>\n",
       "<table border=\"1\" class=\"dataframe\">\n",
       "  <thead>\n",
       "    <tr style=\"text-align: right;\">\n",
       "      <th></th>\n",
       "      <th>address</th>\n",
       "      <th>attributes</th>\n",
       "      <th>business_id</th>\n",
       "      <th>categories</th>\n",
       "      <th>city</th>\n",
       "      <th>hours</th>\n",
       "      <th>is_open</th>\n",
       "      <th>latitude</th>\n",
       "      <th>longitude</th>\n",
       "      <th>name</th>\n",
       "      <th>...</th>\n",
       "      <th>RestaurantsDelivery</th>\n",
       "      <th>RestaurantsGoodForGroups</th>\n",
       "      <th>RestaurantsPriceRange2</th>\n",
       "      <th>RestaurantsReservations</th>\n",
       "      <th>RestaurantsTableService</th>\n",
       "      <th>RestaurantsTakeOut</th>\n",
       "      <th>Smoking</th>\n",
       "      <th>WheelchairAccessible</th>\n",
       "      <th>WiFi</th>\n",
       "      <th>cuisine_Chinese</th>\n",
       "    </tr>\n",
       "  </thead>\n",
       "  <tbody>\n",
       "    <tr>\n",
       "      <th>EDqCEAGXVGCH4FJXgqtjqg</th>\n",
       "      <td>979 Bloor Street W</td>\n",
       "      <td>[{u'Alcohol': u'none'}, {u'Ambience': {u'roman...</td>\n",
       "      <td>EDqCEAGXVGCH4FJXgqtjqg</td>\n",
       "      <td>[Restaurants, Pizza, Chicken Wings, Italian]</td>\n",
       "      <td>Toronto</td>\n",
       "      <td>[Monday 11:0-2:0, Tuesday 11:0-2:0, Wednesday ...</td>\n",
       "      <td>1</td>\n",
       "      <td>43.661054</td>\n",
       "      <td>-79.429089</td>\n",
       "      <td>Pizza Pizza</td>\n",
       "      <td>...</td>\n",
       "      <td>False</td>\n",
       "      <td>False</td>\n",
       "      <td>NaN</td>\n",
       "      <td>NaN</td>\n",
       "      <td>NaN</td>\n",
       "      <td>NaN</td>\n",
       "      <td>False</td>\n",
       "      <td>NaN</td>\n",
       "      <td>NaN</td>\n",
       "      <td>1</td>\n",
       "    </tr>\n",
       "    <tr>\n",
       "      <th>GDnbt3isfhd57T1QqU6flg</th>\n",
       "      <td>11072 No Frank Lloyd Wright</td>\n",
       "      <td>[{u'Alcohol': u'none'}, {u'Ambience': {u'roman...</td>\n",
       "      <td>GDnbt3isfhd57T1QqU6flg</td>\n",
       "      <td>[Tex-Mex, Mexican, Fast Food, Restaurants]</td>\n",
       "      <td>Scottsdale</td>\n",
       "      <td>[Monday 10:0-22:0, Tuesday 10:0-22:0, Wednesda...</td>\n",
       "      <td>1</td>\n",
       "      <td>33.586710</td>\n",
       "      <td>-111.835410</td>\n",
       "      <td>Taco Bell</td>\n",
       "      <td>...</td>\n",
       "      <td>False</td>\n",
       "      <td>False</td>\n",
       "      <td>NaN</td>\n",
       "      <td>NaN</td>\n",
       "      <td>NaN</td>\n",
       "      <td>NaN</td>\n",
       "      <td>False</td>\n",
       "      <td>NaN</td>\n",
       "      <td>NaN</td>\n",
       "      <td>1</td>\n",
       "    </tr>\n",
       "  </tbody>\n",
       "</table>\n",
       "<p>2 rows × 98 columns</p>\n",
       "</div>"
      ],
      "text/plain": [
       "                                            address  \\\n",
       "EDqCEAGXVGCH4FJXgqtjqg           979 Bloor Street W   \n",
       "GDnbt3isfhd57T1QqU6flg  11072 No Frank Lloyd Wright   \n",
       "\n",
       "                                                               attributes  \\\n",
       "EDqCEAGXVGCH4FJXgqtjqg  [{u'Alcohol': u'none'}, {u'Ambience': {u'roman...   \n",
       "GDnbt3isfhd57T1QqU6flg  [{u'Alcohol': u'none'}, {u'Ambience': {u'roman...   \n",
       "\n",
       "                                   business_id  \\\n",
       "EDqCEAGXVGCH4FJXgqtjqg  EDqCEAGXVGCH4FJXgqtjqg   \n",
       "GDnbt3isfhd57T1QqU6flg  GDnbt3isfhd57T1QqU6flg   \n",
       "\n",
       "                                                          categories  \\\n",
       "EDqCEAGXVGCH4FJXgqtjqg  [Restaurants, Pizza, Chicken Wings, Italian]   \n",
       "GDnbt3isfhd57T1QqU6flg    [Tex-Mex, Mexican, Fast Food, Restaurants]   \n",
       "\n",
       "                              city  \\\n",
       "EDqCEAGXVGCH4FJXgqtjqg     Toronto   \n",
       "GDnbt3isfhd57T1QqU6flg  Scottsdale   \n",
       "\n",
       "                                                                    hours  \\\n",
       "EDqCEAGXVGCH4FJXgqtjqg  [Monday 11:0-2:0, Tuesday 11:0-2:0, Wednesday ...   \n",
       "GDnbt3isfhd57T1QqU6flg  [Monday 10:0-22:0, Tuesday 10:0-22:0, Wednesda...   \n",
       "\n",
       "                        is_open   latitude   longitude         name  \\\n",
       "EDqCEAGXVGCH4FJXgqtjqg        1  43.661054  -79.429089  Pizza Pizza   \n",
       "GDnbt3isfhd57T1QqU6flg        1  33.586710 -111.835410    Taco Bell   \n",
       "\n",
       "                             ...       RestaurantsDelivery  \\\n",
       "EDqCEAGXVGCH4FJXgqtjqg       ...                     False   \n",
       "GDnbt3isfhd57T1QqU6flg       ...                     False   \n",
       "\n",
       "                       RestaurantsGoodForGroups  RestaurantsPriceRange2  \\\n",
       "EDqCEAGXVGCH4FJXgqtjqg                    False                     NaN   \n",
       "GDnbt3isfhd57T1QqU6flg                    False                     NaN   \n",
       "\n",
       "                        RestaurantsReservations RestaurantsTableService  \\\n",
       "EDqCEAGXVGCH4FJXgqtjqg                      NaN                     NaN   \n",
       "GDnbt3isfhd57T1QqU6flg                      NaN                     NaN   \n",
       "\n",
       "                       RestaurantsTakeOut Smoking WheelchairAccessible WiFi  \\\n",
       "EDqCEAGXVGCH4FJXgqtjqg                NaN   False                  NaN  NaN   \n",
       "GDnbt3isfhd57T1QqU6flg                NaN   False                  NaN  NaN   \n",
       "\n",
       "                       cuisine_Chinese  \n",
       "EDqCEAGXVGCH4FJXgqtjqg               1  \n",
       "GDnbt3isfhd57T1QqU6flg               1  \n",
       "\n",
       "[2 rows x 98 columns]"
      ]
     },
     "execution_count": 13,
     "metadata": {},
     "output_type": "execute_result"
    }
   ],
   "source": [
    "df = pd.read_pickle('../data_processeing/Yelp_Cuisine_Chinese.pkl')\n",
    "print df.shape\n",
    "df.head(2)"
   ]
  },
  {
   "cell_type": "code",
   "execution_count": 29,
   "metadata": {
    "collapsed": false
   },
   "outputs": [],
   "source": [
    "#df.review_count.unique()"
   ]
  },
  {
   "cell_type": "markdown",
   "metadata": {},
   "source": [
    "#### flaten attributes"
   ]
  },
  {
   "cell_type": "code",
   "execution_count": 15,
   "metadata": {
    "collapsed": true
   },
   "outputs": [],
   "source": [
    "df2 = df.copy()"
   ]
  },
  {
   "cell_type": "code",
   "execution_count": 31,
   "metadata": {
    "collapsed": false
   },
   "outputs": [
    {
     "name": "stdout",
     "output_type": "stream",
     "text": [
      "AcceptsInsurance :  [False True]\n",
      "AgesAllowed :  [False True]\n",
      "Alcohol :  [False True]\n",
      "Ambience_casual :  [False True]\n",
      "Ambience_classy :  ['beer_and_wine' 'full_bar' 'none']\n",
      "Ambience_divey :  [False True]\n",
      "Ambience_hipster :  ['average' 'loud' 'quiet' 'very_loud']\n",
      "Ambience_intimate :  [False True]\n",
      "Ambience_romantic :  ['casual' 'dressy' 'formal']\n",
      "Ambience_touristy :  [False True]\n",
      "Ambience_trendy :  [False True]\n",
      "Ambience_upscale :  [False True]\n",
      "BYOB :  [False True]\n",
      "BYOBCorkage :  [False True]\n",
      "BestNights_friday :  [False]\n",
      "BestNights_monday :  [False True]\n",
      "BestNights_saturday :  [False True]\n",
      "BestNights_sunday :  [False True]\n",
      "BestNights_thursday :  [False 'yes_corkage' 'yes_free']\n",
      "BestNights_tuesday :  [False True]\n",
      "BestNights_wednesday :  [False True]\n",
      "BikeParking :  [False True]\n",
      "BusinessAcceptsBitcoin :  [False True]\n",
      "BusinessAcceptsCreditCards :  [False True]\n",
      "BusinessParking_garage :  [False True]\n",
      "BusinessParking_lot :  [False 'free' 'paid']\n",
      "BusinessParking_street :  [False True]\n",
      "BusinessParking_valet :  [False True]\n",
      "BusinessParking_validated :  [False True]\n",
      "ByAppointmentOnly :  [False True]\n",
      "Caters :  [False True]\n",
      "CoatCheck :  [False True]\n",
      "Corkage :  [False True]\n",
      "DietaryRestrictions_dairy-free :  [False True]\n",
      "DietaryRestrictions_gluten-free :  [False True]\n",
      "DietaryRestrictions_halal :  [False True]\n",
      "DietaryRestrictions_kosher :  [False True]\n",
      "DietaryRestrictions_soy-free :  [False True]\n",
      "DietaryRestrictions_vegan :  [False True]\n",
      "DietaryRestrictions_vegetarian :  [False True]\n",
      "DogsAllowed :  [False True]\n",
      "DriveThru :  [False True]\n",
      "GoodForDancing :  [False True]\n",
      "GoodForKids :  [False True]\n",
      "GoodForMeal_breakfast :  [False True]\n",
      "GoodForMeal_brunch :  [False True]\n",
      "GoodForMeal_dessert :  [False True]\n",
      "GoodForMeal_dinner :  [False True]\n",
      "GoodForMeal_latenight :  [False True]\n",
      "GoodForMeal_lunch :  [False True]\n",
      "HairSpecializesIn_africanamerican :  [False True]\n",
      "HairSpecializesIn_asian :  [False True]\n",
      "HairSpecializesIn_coloring :  [False True]\n",
      "HairSpecializesIn_curly :  [False True]\n",
      "HairSpecializesIn_extensions :  [False True]\n",
      "HairSpecializesIn_kids :  [1 2 3 4]\n",
      "HairSpecializesIn_perms :  ['18plus' '19plus' '21plus' 'allages']\n",
      "HairSpecializesIn_straightperms :  [False True]\n",
      "HappyHour :  [False True]\n",
      "HasTV :  [False True]\n",
      "Music_background_music :  [False True]\n",
      "Music_dj :  [False True]\n",
      "Music_jukebox :  [False True]\n",
      "Music_karaoke :  [False True]\n",
      "Music_live :  [False True]\n",
      "Music_no_music :  [False True]\n",
      "Music_video :  [False True]\n",
      "NoiseLevel :  [False True]\n",
      "Open24Hours :  [False True]\n",
      "OutdoorSeating :  [False True]\n",
      "RestaurantsAttire :  [False True]\n",
      "RestaurantsCounterService :  [False True]\n",
      "RestaurantsDelivery :  [False True]\n",
      "RestaurantsGoodForGroups :  [False True]\n",
      "RestaurantsPriceRange2 :  [False True]\n",
      "RestaurantsReservations :  [False True 'outdoor']\n",
      "RestaurantsTableService :  [False True]\n",
      "RestaurantsTakeOut :  [False True]\n",
      "Smoking :  [False True]\n",
      "WheelchairAccessible :  [False True]\n",
      "WiFi :  [False True]\n",
      "73 8\n"
     ]
    }
   ],
   "source": [
    "df_att = df2.loc[ :, u'AcceptsInsurance':'WiFi'] # include 'WiFi'\n",
    "att_type = {}\n",
    "col_b = []\n",
    "col_m = []\n",
    "for i in range(df_att.shape[1]):\n",
    "    temp = df_att.groupby(df_att.iloc[:,i]).size().keys()\n",
    "    print temp.name, ': ', temp.values\n",
    "    if set(temp.values) == set([False, True]) or set(temp.values).issubset(set([False, True])):\n",
    "        att_type[temp.name] = 'b'\n",
    "        col_b.append(temp.name)\n",
    "    else:\n",
    "        att_type[temp.name] = 'm'\n",
    "        col_m.append(temp.name)\n",
    "\n",
    "print len(col_b), len(col_m)\n",
    "col_all = col_b + col_m"
   ]
  },
  {
   "cell_type": "code",
   "execution_count": 35,
   "metadata": {
    "collapsed": false
   },
   "outputs": [
    {
     "data": {
      "text/html": [
       "<div>\n",
       "<table border=\"1\" class=\"dataframe\">\n",
       "  <thead>\n",
       "    <tr style=\"text-align: right;\">\n",
       "      <th></th>\n",
       "      <th>AcceptsInsurance</th>\n",
       "      <th>AgesAllowed</th>\n",
       "      <th>Alcohol</th>\n",
       "      <th>Ambience_casual</th>\n",
       "      <th>Ambience_divey</th>\n",
       "      <th>Ambience_intimate</th>\n",
       "      <th>Ambience_touristy</th>\n",
       "      <th>Ambience_trendy</th>\n",
       "      <th>Ambience_upscale</th>\n",
       "      <th>BYOB</th>\n",
       "      <th>...</th>\n",
       "      <th>RestaurantsDelivery</th>\n",
       "      <th>RestaurantsGoodForGroups</th>\n",
       "      <th>RestaurantsPriceRange2</th>\n",
       "      <th>RestaurantsTableService</th>\n",
       "      <th>RestaurantsTakeOut</th>\n",
       "      <th>Smoking</th>\n",
       "      <th>WheelchairAccessible</th>\n",
       "      <th>WiFi</th>\n",
       "      <th>review_count</th>\n",
       "      <th>cuisine_Chinese</th>\n",
       "    </tr>\n",
       "  </thead>\n",
       "  <tbody>\n",
       "    <tr>\n",
       "      <th>EDqCEAGXVGCH4FJXgqtjqg</th>\n",
       "      <td>NaN</td>\n",
       "      <td>False</td>\n",
       "      <td>NaN</td>\n",
       "      <td>NaN</td>\n",
       "      <td>True</td>\n",
       "      <td>NaN</td>\n",
       "      <td>NaN</td>\n",
       "      <td>NaN</td>\n",
       "      <td>True</td>\n",
       "      <td>False</td>\n",
       "      <td>...</td>\n",
       "      <td>False</td>\n",
       "      <td>False</td>\n",
       "      <td>NaN</td>\n",
       "      <td>NaN</td>\n",
       "      <td>NaN</td>\n",
       "      <td>False</td>\n",
       "      <td>NaN</td>\n",
       "      <td>NaN</td>\n",
       "      <td>7</td>\n",
       "      <td>1</td>\n",
       "    </tr>\n",
       "  </tbody>\n",
       "</table>\n",
       "<p>1 rows × 75 columns</p>\n",
       "</div>"
      ],
      "text/plain": [
       "                       AcceptsInsurance AgesAllowed Alcohol Ambience_casual  \\\n",
       "EDqCEAGXVGCH4FJXgqtjqg              NaN       False     NaN             NaN   \n",
       "\n",
       "                       Ambience_divey Ambience_intimate Ambience_touristy  \\\n",
       "EDqCEAGXVGCH4FJXgqtjqg           True               NaN               NaN   \n",
       "\n",
       "                       Ambience_trendy Ambience_upscale   BYOB  \\\n",
       "EDqCEAGXVGCH4FJXgqtjqg             NaN             True  False   \n",
       "\n",
       "                             ...       RestaurantsDelivery  \\\n",
       "EDqCEAGXVGCH4FJXgqtjqg       ...                     False   \n",
       "\n",
       "                       RestaurantsGoodForGroups RestaurantsPriceRange2  \\\n",
       "EDqCEAGXVGCH4FJXgqtjqg                    False                    NaN   \n",
       "\n",
       "                       RestaurantsTableService RestaurantsTakeOut Smoking  \\\n",
       "EDqCEAGXVGCH4FJXgqtjqg                     NaN                NaN   False   \n",
       "\n",
       "                       WheelchairAccessible WiFi review_count cuisine_Chinese  \n",
       "EDqCEAGXVGCH4FJXgqtjqg                  NaN  NaN            7               1  \n",
       "\n",
       "[1 rows x 75 columns]"
      ]
     },
     "execution_count": 35,
     "metadata": {},
     "output_type": "execute_result"
    }
   ],
   "source": [
    "### join label with all the expanded\"attributes\" and \"review count\"\n",
    "df_att_b = df2.loc[:,col_b].join(df[['review_count','cuisine_Chinese']])\n",
    "df_att_b.head(1)"
   ]
  },
  {
   "cell_type": "code",
   "execution_count": 36,
   "metadata": {
    "collapsed": false
   },
   "outputs": [
    {
     "data": {
      "text/html": [
       "<div>\n",
       "<table border=\"1\" class=\"dataframe\">\n",
       "  <thead>\n",
       "    <tr style=\"text-align: right;\">\n",
       "      <th></th>\n",
       "      <th>Ambience_classy</th>\n",
       "      <th>Ambience_hipster</th>\n",
       "      <th>Ambience_romantic</th>\n",
       "      <th>BestNights_thursday</th>\n",
       "      <th>BusinessParking_lot</th>\n",
       "      <th>HairSpecializesIn_kids</th>\n",
       "      <th>HairSpecializesIn_perms</th>\n",
       "      <th>RestaurantsReservations</th>\n",
       "      <th>review_count</th>\n",
       "      <th>cuisine_Chinese</th>\n",
       "    </tr>\n",
       "  </thead>\n",
       "  <tbody>\n",
       "    <tr>\n",
       "      <th>EDqCEAGXVGCH4FJXgqtjqg</th>\n",
       "      <td>none</td>\n",
       "      <td>quiet</td>\n",
       "      <td>casual</td>\n",
       "      <td>NaN</td>\n",
       "      <td>free</td>\n",
       "      <td>1</td>\n",
       "      <td>NaN</td>\n",
       "      <td>NaN</td>\n",
       "      <td>7</td>\n",
       "      <td>1</td>\n",
       "    </tr>\n",
       "  </tbody>\n",
       "</table>\n",
       "</div>"
      ],
      "text/plain": [
       "                       Ambience_classy Ambience_hipster Ambience_romantic  \\\n",
       "EDqCEAGXVGCH4FJXgqtjqg            none            quiet            casual   \n",
       "\n",
       "                       BestNights_thursday BusinessParking_lot  \\\n",
       "EDqCEAGXVGCH4FJXgqtjqg                 NaN                free   \n",
       "\n",
       "                       HairSpecializesIn_kids HairSpecializesIn_perms  \\\n",
       "EDqCEAGXVGCH4FJXgqtjqg                      1                     NaN   \n",
       "\n",
       "                       RestaurantsReservations  review_count  cuisine_Chinese  \n",
       "EDqCEAGXVGCH4FJXgqtjqg                     NaN             7                1  "
      ]
     },
     "execution_count": 36,
     "metadata": {},
     "output_type": "execute_result"
    }
   ],
   "source": [
    "df_att_m = df2.loc[:,col_m].join(df[['review_count','cuisine_Chinese']])\n",
    "df_att_m.head(1)"
   ]
  },
  {
   "cell_type": "code",
   "execution_count": 37,
   "metadata": {
    "collapsed": false
   },
   "outputs": [
    {
     "data": {
      "text/html": [
       "<div>\n",
       "<table border=\"1\" class=\"dataframe\">\n",
       "  <thead>\n",
       "    <tr style=\"text-align: right;\">\n",
       "      <th></th>\n",
       "      <th>AcceptsInsurance</th>\n",
       "      <th>AgesAllowed</th>\n",
       "      <th>Alcohol</th>\n",
       "      <th>Ambience_casual</th>\n",
       "      <th>Ambience_classy</th>\n",
       "      <th>Ambience_divey</th>\n",
       "      <th>Ambience_hipster</th>\n",
       "      <th>Ambience_intimate</th>\n",
       "      <th>Ambience_romantic</th>\n",
       "      <th>Ambience_touristy</th>\n",
       "      <th>...</th>\n",
       "      <th>RestaurantsGoodForGroups</th>\n",
       "      <th>RestaurantsPriceRange2</th>\n",
       "      <th>RestaurantsReservations</th>\n",
       "      <th>RestaurantsTableService</th>\n",
       "      <th>RestaurantsTakeOut</th>\n",
       "      <th>Smoking</th>\n",
       "      <th>WheelchairAccessible</th>\n",
       "      <th>WiFi</th>\n",
       "      <th>review_count</th>\n",
       "      <th>cuisine_Chinese</th>\n",
       "    </tr>\n",
       "  </thead>\n",
       "  <tbody>\n",
       "    <tr>\n",
       "      <th>EDqCEAGXVGCH4FJXgqtjqg</th>\n",
       "      <td>NaN</td>\n",
       "      <td>False</td>\n",
       "      <td>NaN</td>\n",
       "      <td>NaN</td>\n",
       "      <td>none</td>\n",
       "      <td>True</td>\n",
       "      <td>quiet</td>\n",
       "      <td>NaN</td>\n",
       "      <td>casual</td>\n",
       "      <td>NaN</td>\n",
       "      <td>...</td>\n",
       "      <td>False</td>\n",
       "      <td>NaN</td>\n",
       "      <td>NaN</td>\n",
       "      <td>NaN</td>\n",
       "      <td>NaN</td>\n",
       "      <td>False</td>\n",
       "      <td>NaN</td>\n",
       "      <td>NaN</td>\n",
       "      <td>7</td>\n",
       "      <td>1</td>\n",
       "    </tr>\n",
       "  </tbody>\n",
       "</table>\n",
       "<p>1 rows × 83 columns</p>\n",
       "</div>"
      ],
      "text/plain": [
       "                       AcceptsInsurance AgesAllowed Alcohol Ambience_casual  \\\n",
       "EDqCEAGXVGCH4FJXgqtjqg              NaN       False     NaN             NaN   \n",
       "\n",
       "                       Ambience_classy Ambience_divey Ambience_hipster  \\\n",
       "EDqCEAGXVGCH4FJXgqtjqg            none           True            quiet   \n",
       "\n",
       "                       Ambience_intimate Ambience_romantic Ambience_touristy  \\\n",
       "EDqCEAGXVGCH4FJXgqtjqg               NaN            casual               NaN   \n",
       "\n",
       "                             ...       RestaurantsGoodForGroups  \\\n",
       "EDqCEAGXVGCH4FJXgqtjqg       ...                          False   \n",
       "\n",
       "                       RestaurantsPriceRange2 RestaurantsReservations  \\\n",
       "EDqCEAGXVGCH4FJXgqtjqg                    NaN                     NaN   \n",
       "\n",
       "                       RestaurantsTableService RestaurantsTakeOut Smoking  \\\n",
       "EDqCEAGXVGCH4FJXgqtjqg                     NaN                NaN   False   \n",
       "\n",
       "                       WheelchairAccessible WiFi review_count cuisine_Chinese  \n",
       "EDqCEAGXVGCH4FJXgqtjqg                  NaN  NaN            7               1  \n",
       "\n",
       "[1 rows x 83 columns]"
      ]
     },
     "execution_count": 37,
     "metadata": {},
     "output_type": "execute_result"
    }
   ],
   "source": [
    "df_att_all = df_att.join(df[['review_count','cuisine_Chinese']])\n",
    "df_att_all.head(1)"
   ]
  },
  {
   "cell_type": "code",
   "execution_count": 38,
   "metadata": {
    "collapsed": false
   },
   "outputs": [
    {
     "data": {
      "text/plain": [
       "(27314, 83)"
      ]
     },
     "execution_count": 38,
     "metadata": {},
     "output_type": "execute_result"
    }
   ],
   "source": [
    "df_att_all.shape"
   ]
  },
  {
   "cell_type": "code",
   "execution_count": 39,
   "metadata": {
    "collapsed": false
   },
   "outputs": [
    {
     "data": {
      "text/html": [
       "<div>\n",
       "<table border=\"1\" class=\"dataframe\">\n",
       "  <thead>\n",
       "    <tr style=\"text-align: right;\">\n",
       "      <th></th>\n",
       "      <th>AcceptsInsurance</th>\n",
       "      <th>AgesAllowed</th>\n",
       "      <th>Alcohol</th>\n",
       "      <th>Ambience_casual</th>\n",
       "      <th>Ambience_classy</th>\n",
       "      <th>Ambience_divey</th>\n",
       "      <th>Ambience_hipster</th>\n",
       "      <th>Ambience_intimate</th>\n",
       "      <th>Ambience_romantic</th>\n",
       "      <th>Ambience_touristy</th>\n",
       "      <th>...</th>\n",
       "      <th>RestaurantsGoodForGroups</th>\n",
       "      <th>RestaurantsPriceRange2</th>\n",
       "      <th>RestaurantsReservations</th>\n",
       "      <th>RestaurantsTableService</th>\n",
       "      <th>RestaurantsTakeOut</th>\n",
       "      <th>Smoking</th>\n",
       "      <th>WheelchairAccessible</th>\n",
       "      <th>WiFi</th>\n",
       "      <th>review_count</th>\n",
       "      <th>cuisine_Chinese</th>\n",
       "    </tr>\n",
       "  </thead>\n",
       "  <tbody>\n",
       "    <tr>\n",
       "      <th>EDqCEAGXVGCH4FJXgqtjqg</th>\n",
       "      <td>none</td>\n",
       "      <td>False</td>\n",
       "      <td>none</td>\n",
       "      <td>none</td>\n",
       "      <td>none</td>\n",
       "      <td>True</td>\n",
       "      <td>quiet</td>\n",
       "      <td>none</td>\n",
       "      <td>casual</td>\n",
       "      <td>none</td>\n",
       "      <td>...</td>\n",
       "      <td>False</td>\n",
       "      <td>none</td>\n",
       "      <td>none</td>\n",
       "      <td>none</td>\n",
       "      <td>none</td>\n",
       "      <td>False</td>\n",
       "      <td>none</td>\n",
       "      <td>none</td>\n",
       "      <td>7</td>\n",
       "      <td>1</td>\n",
       "    </tr>\n",
       "    <tr>\n",
       "      <th>GDnbt3isfhd57T1QqU6flg</th>\n",
       "      <td>none</td>\n",
       "      <td>False</td>\n",
       "      <td>none</td>\n",
       "      <td>none</td>\n",
       "      <td>none</td>\n",
       "      <td>False</td>\n",
       "      <td>quiet</td>\n",
       "      <td>none</td>\n",
       "      <td>casual</td>\n",
       "      <td>none</td>\n",
       "      <td>...</td>\n",
       "      <td>False</td>\n",
       "      <td>none</td>\n",
       "      <td>none</td>\n",
       "      <td>none</td>\n",
       "      <td>none</td>\n",
       "      <td>False</td>\n",
       "      <td>none</td>\n",
       "      <td>none</td>\n",
       "      <td>9</td>\n",
       "      <td>1</td>\n",
       "    </tr>\n",
       "    <tr>\n",
       "      <th>a1Ba6XeIOP48e64YFD0dMw</th>\n",
       "      <td>none</td>\n",
       "      <td>none</td>\n",
       "      <td>none</td>\n",
       "      <td>none</td>\n",
       "      <td>none</td>\n",
       "      <td>none</td>\n",
       "      <td>none</td>\n",
       "      <td>none</td>\n",
       "      <td>none</td>\n",
       "      <td>none</td>\n",
       "      <td>...</td>\n",
       "      <td>none</td>\n",
       "      <td>none</td>\n",
       "      <td>none</td>\n",
       "      <td>none</td>\n",
       "      <td>none</td>\n",
       "      <td>none</td>\n",
       "      <td>none</td>\n",
       "      <td>none</td>\n",
       "      <td>3</td>\n",
       "      <td>0</td>\n",
       "    </tr>\n",
       "  </tbody>\n",
       "</table>\n",
       "<p>3 rows × 83 columns</p>\n",
       "</div>"
      ],
      "text/plain": [
       "                       AcceptsInsurance AgesAllowed Alcohol Ambience_casual  \\\n",
       "EDqCEAGXVGCH4FJXgqtjqg             none       False    none            none   \n",
       "GDnbt3isfhd57T1QqU6flg             none       False    none            none   \n",
       "a1Ba6XeIOP48e64YFD0dMw             none        none    none            none   \n",
       "\n",
       "                       Ambience_classy Ambience_divey Ambience_hipster  \\\n",
       "EDqCEAGXVGCH4FJXgqtjqg            none           True            quiet   \n",
       "GDnbt3isfhd57T1QqU6flg            none          False            quiet   \n",
       "a1Ba6XeIOP48e64YFD0dMw            none           none             none   \n",
       "\n",
       "                       Ambience_intimate Ambience_romantic Ambience_touristy  \\\n",
       "EDqCEAGXVGCH4FJXgqtjqg              none            casual              none   \n",
       "GDnbt3isfhd57T1QqU6flg              none            casual              none   \n",
       "a1Ba6XeIOP48e64YFD0dMw              none              none              none   \n",
       "\n",
       "                             ...       RestaurantsGoodForGroups  \\\n",
       "EDqCEAGXVGCH4FJXgqtjqg       ...                          False   \n",
       "GDnbt3isfhd57T1QqU6flg       ...                          False   \n",
       "a1Ba6XeIOP48e64YFD0dMw       ...                           none   \n",
       "\n",
       "                       RestaurantsPriceRange2 RestaurantsReservations  \\\n",
       "EDqCEAGXVGCH4FJXgqtjqg                   none                    none   \n",
       "GDnbt3isfhd57T1QqU6flg                   none                    none   \n",
       "a1Ba6XeIOP48e64YFD0dMw                   none                    none   \n",
       "\n",
       "                       RestaurantsTableService RestaurantsTakeOut Smoking  \\\n",
       "EDqCEAGXVGCH4FJXgqtjqg                    none               none   False   \n",
       "GDnbt3isfhd57T1QqU6flg                    none               none   False   \n",
       "a1Ba6XeIOP48e64YFD0dMw                    none               none    none   \n",
       "\n",
       "                       WheelchairAccessible  WiFi review_count cuisine_Chinese  \n",
       "EDqCEAGXVGCH4FJXgqtjqg                 none  none            7               1  \n",
       "GDnbt3isfhd57T1QqU6flg                 none  none            9               1  \n",
       "a1Ba6XeIOP48e64YFD0dMw                 none  none            3               0  \n",
       "\n",
       "[3 rows x 83 columns]"
      ]
     },
     "execution_count": 39,
     "metadata": {},
     "output_type": "execute_result"
    }
   ],
   "source": [
    "df_att_all_filled = df_att_all.fillna(value='none')\n",
    "df_att_all_filled.head(3)"
   ]
  },
  {
   "cell_type": "code",
   "execution_count": 45,
   "metadata": {
    "collapsed": true
   },
   "outputs": [],
   "source": [
    "## transformed certain columns to BINARY varibales #####\n",
    "df_chin_bi = pd.get_dummies(df_att_all_filled, \\\n",
    "                            prefix=col_all, prefix_sep='_', dummy_na=False, \\\n",
    "                            columns=col_all, sparse=False, drop_first=False)"
   ]
  },
  {
   "cell_type": "code",
   "execution_count": 56,
   "metadata": {
    "collapsed": false
   },
   "outputs": [],
   "source": [
    "## change column order\n",
    "df_chin_bi = df_chin_bi.loc[:,['cuisine_Chinese','review_count'] + list(df_chin_bi.columns.values[2:])]"
   ]
  },
  {
   "cell_type": "code",
   "execution_count": 57,
   "metadata": {
    "collapsed": false
   },
   "outputs": [
    {
     "data": {
      "text/html": [
       "<div>\n",
       "<table border=\"1\" class=\"dataframe\">\n",
       "  <thead>\n",
       "    <tr style=\"text-align: right;\">\n",
       "      <th></th>\n",
       "      <th>cuisine_Chinese</th>\n",
       "      <th>review_count</th>\n",
       "      <th>AcceptsInsurance_False</th>\n",
       "      <th>AcceptsInsurance_True</th>\n",
       "      <th>AcceptsInsurance_none</th>\n",
       "      <th>AgesAllowed_False</th>\n",
       "      <th>AgesAllowed_True</th>\n",
       "      <th>AgesAllowed_none</th>\n",
       "      <th>Alcohol_False</th>\n",
       "      <th>Alcohol_True</th>\n",
       "      <th>...</th>\n",
       "      <th>HairSpecializesIn_kids_none</th>\n",
       "      <th>HairSpecializesIn_perms_18plus</th>\n",
       "      <th>HairSpecializesIn_perms_19plus</th>\n",
       "      <th>HairSpecializesIn_perms_21plus</th>\n",
       "      <th>HairSpecializesIn_perms_allages</th>\n",
       "      <th>HairSpecializesIn_perms_none</th>\n",
       "      <th>RestaurantsReservations_False</th>\n",
       "      <th>RestaurantsReservations_True</th>\n",
       "      <th>RestaurantsReservations_none</th>\n",
       "      <th>RestaurantsReservations_outdoor</th>\n",
       "    </tr>\n",
       "  </thead>\n",
       "  <tbody>\n",
       "    <tr>\n",
       "      <th>EDqCEAGXVGCH4FJXgqtjqg</th>\n",
       "      <td>1</td>\n",
       "      <td>7</td>\n",
       "      <td>0</td>\n",
       "      <td>0</td>\n",
       "      <td>1</td>\n",
       "      <td>1</td>\n",
       "      <td>0</td>\n",
       "      <td>0</td>\n",
       "      <td>0</td>\n",
       "      <td>0</td>\n",
       "      <td>...</td>\n",
       "      <td>0</td>\n",
       "      <td>0</td>\n",
       "      <td>0</td>\n",
       "      <td>0</td>\n",
       "      <td>0</td>\n",
       "      <td>1</td>\n",
       "      <td>0</td>\n",
       "      <td>0</td>\n",
       "      <td>1</td>\n",
       "      <td>0</td>\n",
       "    </tr>\n",
       "    <tr>\n",
       "      <th>GDnbt3isfhd57T1QqU6flg</th>\n",
       "      <td>1</td>\n",
       "      <td>9</td>\n",
       "      <td>0</td>\n",
       "      <td>0</td>\n",
       "      <td>1</td>\n",
       "      <td>1</td>\n",
       "      <td>0</td>\n",
       "      <td>0</td>\n",
       "      <td>0</td>\n",
       "      <td>0</td>\n",
       "      <td>...</td>\n",
       "      <td>0</td>\n",
       "      <td>0</td>\n",
       "      <td>0</td>\n",
       "      <td>0</td>\n",
       "      <td>0</td>\n",
       "      <td>1</td>\n",
       "      <td>0</td>\n",
       "      <td>0</td>\n",
       "      <td>1</td>\n",
       "      <td>0</td>\n",
       "    </tr>\n",
       "  </tbody>\n",
       "</table>\n",
       "<p>2 rows × 254 columns</p>\n",
       "</div>"
      ],
      "text/plain": [
       "                        cuisine_Chinese  review_count  AcceptsInsurance_False  \\\n",
       "EDqCEAGXVGCH4FJXgqtjqg                1             7                       0   \n",
       "GDnbt3isfhd57T1QqU6flg                1             9                       0   \n",
       "\n",
       "                        AcceptsInsurance_True  AcceptsInsurance_none  \\\n",
       "EDqCEAGXVGCH4FJXgqtjqg                      0                      1   \n",
       "GDnbt3isfhd57T1QqU6flg                      0                      1   \n",
       "\n",
       "                        AgesAllowed_False  AgesAllowed_True  AgesAllowed_none  \\\n",
       "EDqCEAGXVGCH4FJXgqtjqg                  1                 0                 0   \n",
       "GDnbt3isfhd57T1QqU6flg                  1                 0                 0   \n",
       "\n",
       "                        Alcohol_False  Alcohol_True  \\\n",
       "EDqCEAGXVGCH4FJXgqtjqg              0             0   \n",
       "GDnbt3isfhd57T1QqU6flg              0             0   \n",
       "\n",
       "                                     ...                 \\\n",
       "EDqCEAGXVGCH4FJXgqtjqg               ...                  \n",
       "GDnbt3isfhd57T1QqU6flg               ...                  \n",
       "\n",
       "                        HairSpecializesIn_kids_none  \\\n",
       "EDqCEAGXVGCH4FJXgqtjqg                            0   \n",
       "GDnbt3isfhd57T1QqU6flg                            0   \n",
       "\n",
       "                        HairSpecializesIn_perms_18plus  \\\n",
       "EDqCEAGXVGCH4FJXgqtjqg                               0   \n",
       "GDnbt3isfhd57T1QqU6flg                               0   \n",
       "\n",
       "                        HairSpecializesIn_perms_19plus  \\\n",
       "EDqCEAGXVGCH4FJXgqtjqg                               0   \n",
       "GDnbt3isfhd57T1QqU6flg                               0   \n",
       "\n",
       "                        HairSpecializesIn_perms_21plus  \\\n",
       "EDqCEAGXVGCH4FJXgqtjqg                               0   \n",
       "GDnbt3isfhd57T1QqU6flg                               0   \n",
       "\n",
       "                        HairSpecializesIn_perms_allages  \\\n",
       "EDqCEAGXVGCH4FJXgqtjqg                                0   \n",
       "GDnbt3isfhd57T1QqU6flg                                0   \n",
       "\n",
       "                        HairSpecializesIn_perms_none  \\\n",
       "EDqCEAGXVGCH4FJXgqtjqg                             1   \n",
       "GDnbt3isfhd57T1QqU6flg                             1   \n",
       "\n",
       "                        RestaurantsReservations_False  \\\n",
       "EDqCEAGXVGCH4FJXgqtjqg                              0   \n",
       "GDnbt3isfhd57T1QqU6flg                              0   \n",
       "\n",
       "                        RestaurantsReservations_True  \\\n",
       "EDqCEAGXVGCH4FJXgqtjqg                             0   \n",
       "GDnbt3isfhd57T1QqU6flg                             0   \n",
       "\n",
       "                        RestaurantsReservations_none  \\\n",
       "EDqCEAGXVGCH4FJXgqtjqg                             1   \n",
       "GDnbt3isfhd57T1QqU6flg                             1   \n",
       "\n",
       "                        RestaurantsReservations_outdoor  \n",
       "EDqCEAGXVGCH4FJXgqtjqg                                0  \n",
       "GDnbt3isfhd57T1QqU6flg                                0  \n",
       "\n",
       "[2 rows x 254 columns]"
      ]
     },
     "execution_count": 57,
     "metadata": {},
     "output_type": "execute_result"
    }
   ],
   "source": [
    "df_chin_bi.head(2)"
   ]
  },
  {
   "cell_type": "code",
   "execution_count": 58,
   "metadata": {
    "collapsed": false
   },
   "outputs": [
    {
     "data": {
      "text/plain": [
       "(27314, 254)"
      ]
     },
     "execution_count": 58,
     "metadata": {},
     "output_type": "execute_result"
    }
   ],
   "source": [
    "df_chin_bi.shape"
   ]
  },
  {
   "cell_type": "code",
   "execution_count": 59,
   "metadata": {
    "collapsed": false
   },
   "outputs": [],
   "source": [
    "# Split training(labeled) and test(unlabled) \n",
    "df_chin_train = df_chin_bi[df_chin_bi['cuisine_Chinese'] != 0]\n",
    "df_chin_test = df_chin_bi[df_chin_bi['cuisine_Chinese'] == 0]"
   ]
  },
  {
   "cell_type": "markdown",
   "metadata": {},
   "source": [
    "## Logistic Regression"
   ]
  },
  {
   "cell_type": "markdown",
   "metadata": {},
   "source": [
    "#### Parameter tuning"
   ]
  },
  {
   "cell_type": "code",
   "execution_count": 61,
   "metadata": {
    "collapsed": false
   },
   "outputs": [
    {
     "data": {
      "text/plain": [
       "[4.2483542552915889e-18,\n",
       " 9.9925650127909073e-17,\n",
       " 2.3503537966609349e-15,\n",
       " 5.5282732335564566e-14,\n",
       " 1.30030657462187e-12,\n",
       " 3.0584544514583164e-11,\n",
       " 7.1937986119660656e-10,\n",
       " 1.6920552289032579e-08,\n",
       " 3.9798874726580644e-07,\n",
       " 9.3611036001982535e-06,\n",
       " 0.00022018275947666106,\n",
       " 0.0051789243705977379,\n",
       " 0.12181361383661964,\n",
       " 2.8651811561836724,\n",
       " 67.391999951340196,\n",
       " 1585.128970864379,\n",
       " 37283.859450495467,\n",
       " 876954.62077529205,\n",
       " 20626872.27754036,\n",
       " 485165195.40979028]"
      ]
     },
     "execution_count": 61,
     "metadata": {},
     "output_type": "execute_result"
    }
   ],
   "source": [
    "# panalty and C value tuning\n",
    "penalties = ['l1', 'l2'] \n",
    "C_values = sorted([np.exp(a*5) for a in np.linspace(-8,4,20)])\n",
    "C_values"
   ]
  },
  {
   "cell_type": "code",
   "execution_count": null,
   "metadata": {
    "collapsed": true
   },
   "outputs": [],
   "source": [
    "# dummy varibale"
   ]
  },
  {
   "cell_type": "code",
   "execution_count": 78,
   "metadata": {
    "collapsed": true
   },
   "outputs": [],
   "source": [
    "X = df_chin_train.ix[:, 1:]\n",
    "Y = df_chin_train['cuisine_Chinese'].apply(lambda n: n-1)"
   ]
  },
  {
   "cell_type": "code",
   "execution_count": 79,
   "metadata": {
    "collapsed": false
   },
   "outputs": [
    {
     "data": {
      "text/plain": [
       "array([0, 1])"
      ]
     },
     "execution_count": 79,
     "metadata": {},
     "output_type": "execute_result"
    }
   ],
   "source": [
    "Y.unique()"
   ]
  },
  {
   "cell_type": "code",
   "execution_count": 80,
   "metadata": {
    "collapsed": false
   },
   "outputs": [
    {
     "name": "stdout",
     "output_type": "stream",
     "text": [
      "Logistic regression training size(0.8): Mean AUC 0.7488\n",
      "\n",
      "Best parameters set found:\n",
      "{'penalty': 'l1', 'C': 2.8651811561836724}\n",
      "Gridsearch Scores: \n",
      "0.864946084497\n",
      "0.855 (+/-0.000) for {'penalty': 'l1', 'C': 4.2483542552915889e-18}\n",
      "0.855 (+/-0.000) for {'penalty': 'l2', 'C': 4.2483542552915889e-18}\n",
      "0.855 (+/-0.000) for {'penalty': 'l1', 'C': 9.9925650127909073e-17}\n",
      "0.855 (+/-0.000) for {'penalty': 'l2', 'C': 9.9925650127909073e-17}\n",
      "0.855 (+/-0.000) for {'penalty': 'l1', 'C': 2.3503537966609349e-15}\n",
      "0.855 (+/-0.000) for {'penalty': 'l2', 'C': 2.3503537966609349e-15}\n",
      "0.855 (+/-0.000) for {'penalty': 'l1', 'C': 5.5282732335564566e-14}\n",
      "0.855 (+/-0.000) for {'penalty': 'l2', 'C': 5.5282732335564566e-14}\n",
      "0.855 (+/-0.000) for {'penalty': 'l1', 'C': 1.30030657462187e-12}\n",
      "0.855 (+/-0.000) for {'penalty': 'l2', 'C': 1.30030657462187e-12}\n",
      "0.855 (+/-0.000) for {'penalty': 'l1', 'C': 3.0584544514583164e-11}\n",
      "0.855 (+/-0.000) for {'penalty': 'l2', 'C': 3.0584544514583164e-11}\n",
      "0.855 (+/-0.000) for {'penalty': 'l1', 'C': 7.1937986119660656e-10}\n",
      "0.855 (+/-0.000) for {'penalty': 'l2', 'C': 7.1937986119660656e-10}\n",
      "0.855 (+/-0.000) for {'penalty': 'l1', 'C': 1.6920552289032579e-08}\n",
      "0.855 (+/-0.000) for {'penalty': 'l2', 'C': 1.6920552289032579e-08}\n",
      "0.855 (+/-0.000) for {'penalty': 'l1', 'C': 3.9798874726580644e-07}\n",
      "0.855 (+/-0.000) for {'penalty': 'l2', 'C': 3.9798874726580644e-07}\n",
      "0.855 (+/-0.000) for {'penalty': 'l1', 'C': 9.3611036001982535e-06}\n",
      "0.855 (+/-0.000) for {'penalty': 'l2', 'C': 9.3611036001982535e-06}\n",
      "0.855 (+/-0.000) for {'penalty': 'l1', 'C': 0.00022018275947666106}\n",
      "0.855 (+/-0.000) for {'penalty': 'l2', 'C': 0.00022018275947666106}\n",
      "0.855 (+/-0.000) for {'penalty': 'l1', 'C': 0.0051789243705977379}\n",
      "0.855 (+/-0.001) for {'penalty': 'l2', 'C': 0.0051789243705977379}\n",
      "0.856 (+/-0.004) for {'penalty': 'l1', 'C': 0.12181361383661964}\n",
      "0.857 (+/-0.001) for {'penalty': 'l2', 'C': 0.12181361383661964}\n",
      "0.857 (+/-0.002) for {'penalty': 'l1', 'C': 2.8651811561836724}\n",
      "0.857 (+/-0.002) for {'penalty': 'l2', 'C': 2.8651811561836724}\n",
      "0.857 (+/-0.002) for {'penalty': 'l1', 'C': 67.391999951340196}\n",
      "0.856 (+/-0.002) for {'penalty': 'l2', 'C': 67.391999951340196}\n",
      "0.857 (+/-0.002) for {'penalty': 'l1', 'C': 1585.128970864379}\n",
      "0.856 (+/-0.002) for {'penalty': 'l2', 'C': 1585.128970864379}\n",
      "0.857 (+/-0.002) for {'penalty': 'l1', 'C': 37283.859450495467}\n",
      "0.857 (+/-0.002) for {'penalty': 'l2', 'C': 37283.859450495467}\n",
      "0.857 (+/-0.002) for {'penalty': 'l1', 'C': 876954.62077529205}\n",
      "0.857 (+/-0.002) for {'penalty': 'l2', 'C': 876954.62077529205}\n",
      "0.857 (+/-0.002) for {'penalty': 'l1', 'C': 20626872.27754036}\n",
      "0.857 (+/-0.002) for {'penalty': 'l2', 'C': 20626872.27754036}\n",
      "0.857 (+/-0.002) for {'penalty': 'l1', 'C': 485165195.40979028}\n",
      "0.857 (+/-0.002) for {'penalty': 'l2', 'C': 485165195.40979028}\n"
     ]
    }
   ],
   "source": [
    "# pick train test split ratio as 0.7\n",
    "\n",
    "# LR GridSearch 1\n",
    "X_train, X_vali, Y_train, Y_vali = train_test_split(\n",
    "    X, Y, train_size=0.7, random_state=90) #Use random_state to fix samples\n",
    "\n",
    "# tuning hyper parameter\n",
    "tuned_parameters_LR = {'C': C_values,\n",
    "                       'penalty': penalties} \n",
    "\n",
    "lr = LogisticRegression()\n",
    "gr_lr = GridSearchCV(lr, param_grid=tuned_parameters_LR, cv=5)\n",
    "gr_lr.fit(X_train, Y_train)\n",
    "\n",
    "gr_lr_auc_scores = cross_val_score(gr_lr, X, Y, scoring=\"roc_auc\", cv=5)\n",
    "\n",
    "print ( \"Logistic regression training size(0.8): Mean AUC %.4f\\n\" % (np.mean(gr_lr_auc_scores)))\n",
    "\n",
    "print \"Best parameters set found:\"\n",
    "print gr_lr.best_params_\n",
    "print\"Gridsearch Scores: \"\n",
    "print gr_lr.score(X_vali, Y_vali)\n",
    "\n",
    "means = gr_lr.cv_results_['mean_test_score']\n",
    "stds = gr_lr.cv_results_['std_test_score']\n",
    "for mean, std, params in zip(means, stds, gr_lr.cv_results_['params']):\n",
    "    print(\"%0.3f (+/-%0.03f) for %r\"\n",
    "          % (mean, std * 2, params))"
   ]
  },
  {
   "cell_type": "code",
   "execution_count": 81,
   "metadata": {
    "collapsed": true
   },
   "outputs": [],
   "source": [
    "p_opt = gr_lr.best_params_.values()[0]\n",
    "c_opt = gr_lr.best_params_.values()[1]"
   ]
  },
  {
   "cell_type": "code",
   "execution_count": 91,
   "metadata": {
    "collapsed": false
   },
   "outputs": [],
   "source": [
    "models = []\n",
    "labels = []\n",
    "\n",
    "# fit model\n",
    "lr_opt = LogisticRegression(C=c_opt, penalty=p_opt, random_state=99)\n",
    "lr_opt.fit(X_train, Y_train)\n",
    "models.append(lr_opt)\n",
    "labels.append('Logistic Regression')"
   ]
  },
  {
   "cell_type": "code",
   "execution_count": 92,
   "metadata": {
    "collapsed": false
   },
   "outputs": [
    {
     "data": {
      "text/plain": [
       "LogisticRegression(C=2.8651811561836724, class_weight=None, dual=False,\n",
       "          fit_intercept=True, intercept_scaling=1, max_iter=100,\n",
       "          multi_class='ovr', n_jobs=1, penalty='l1', random_state=99,\n",
       "          solver='liblinear', tol=0.0001, verbose=0, warm_start=False)"
      ]
     },
     "execution_count": 92,
     "metadata": {},
     "output_type": "execute_result"
    }
   ],
   "source": [
    "lr_opt"
   ]
  },
  {
   "cell_type": "code",
   "execution_count": 120,
   "metadata": {
    "collapsed": false
   },
   "outputs": [],
   "source": [
    "import matplotlib.pyplot as plt\n",
    "%matplotlib inline\n",
    "plt.rcParams['figure.figsize'] = 6, 6\n",
    "\n",
    "#### Plot One model - train & validation sets ####\n",
    "def plot_ROC(model, Y_train, X_train, Y_vali, X_vali, label):\n",
    "    print (\"AUC on the %s Train data = %.5f\" % \\\n",
    "           (label, metrics.roc_auc_score(model.predict(X_train), Y_train)))\n",
    "    print (\"AUC on the %s Validation data = %.5f\\n\" % \\\n",
    "           (label, metrics.roc_auc_score(model.predict(X_vali), Y_vali)))\n",
    "\n",
    "    #fpr, tpr, thresholds = metrics.roc_curve(Y_train, model.predict_proba(X_train)[:,1])    \n",
    "    #plt.plot(fpr, tpr, label='{} Train set'.format(label))\n",
    "    \n",
    "    fpr, tpr, thresholds = metrics.roc_curve(Y_vali, model.predict_proba(X_vali)[:,1])    \n",
    "    plt.plot(fpr, tpr, label='{} Validation set'.format(label))\n",
    "    \n",
    "    plt.xlabel(\"false-positive rate\", size=18)\n",
    "    plt.ylabel(\"true-positibe rate\", size=18)\n",
    "    plt.title(\"ROC Curve of {} Model\".format(label), size=20)\n",
    "    plt.legend(loc='best')\n",
    "\n",
    "    \n",
    "### more than one model - validation sets ###\n",
    "def plot_ROCs(models, Y_trains, X_trains, Y_valis, X_valis, labels):  \n",
    "    for model, Y_train, X_train, Y_vali, X_vali, label in \\\n",
    "    zip(models, Y_trains, X_trains, Y_valis, X_valis, labels):\n",
    "        \n",
    "        print (\"AUC on the %s Train data = %.5f\" % \\\n",
    "               (label, metrics.roc_auc_score(model.predict(X_train), Y_train)))\n",
    "        print (\"AUC on the %s Validation data = %.5f\\n\" % \\\n",
    "               (label, metrics.roc_auc_score(model.predict(X_vali), Y_vali)))\n",
    "        \n",
    "        fpr, tpr, thresholds = metrics.roc_curve(Y_vali, model.predict_proba(X_vali)[:,1])\n",
    "        plt.plot(fpr, tpr, label=label)\n",
    "    \n",
    "    plt.xlabel(\"fpr\", size=18)\n",
    "    plt.ylabel(\"tpr\", size=18)\n",
    "    plt.title(\"ROC Curves for models and transformed X sets\", size=20)\n",
    "    plt.legend(loc='best')\n"
   ]
  },
  {
   "cell_type": "code",
   "execution_count": 121,
   "metadata": {
    "collapsed": false
   },
   "outputs": [
    {
     "name": "stdout",
     "output_type": "stream",
     "text": [
      "AUC on the LR Train data = 0.72826\n",
      "AUC on the LR Validation data = 0.76676\n",
      "\n"
     ]
    },
    {
     "data": {
      "image/png": "[encoded data removed]",
      "text/plain": [
       "<matplotlib.figure.Figure at 0x128395090>"
      ]
     },
     "metadata": {},
     "output_type": "display_data"
    }
   ],
   "source": [
    "plot_ROC(lr_opt, Y_train, X_train, Y_vali, X_vali, label='LR')"
   ]
  },
  {
   "cell_type": "code",
   "execution_count": null,
   "metadata": {
    "collapsed": true
   },
   "outputs": [],
   "source": []
  }
 ],
 "metadata": {
  "anaconda-cloud": {},
  "kernelspec": {
   "display_name": "Python [Root]",
   "language": "python",
   "name": "Python [Root]"
  },
  "language_info": {
   "codemirror_mode": {
    "name": "ipython",
    "version": 2
   },
   "file_extension": ".py",
   "mimetype": "text/x-python",
   "name": "python",
   "nbconvert_exporter": "python",
   "pygments_lexer": "ipython2",
   "version": "2.7.12"
  }
 },
 "nbformat": 4,
 "nbformat_minor": 0
}
