{
 "cells": [
  {
   "cell_type": "code",
   "execution_count": 1,
   "metadata": {
    "collapsed": true
   },
   "outputs": [],
   "source": [
    "import pandas as pd\n",
    "import numpy as np"
   ]
  },
  {
   "cell_type": "code",
   "execution_count": 2,
   "metadata": {
    "collapsed": false
   },
   "outputs": [
    {
     "name": "stdout",
     "output_type": "stream",
     "text": [
      "(27314, 98)\n"
     ]
    },
    {
     "data": {
      "text/html": [
       "<div>\n",
       "<table border=\"1\" class=\"dataframe\">\n",
       "  <thead>\n",
       "    <tr style=\"text-align: right;\">\n",
       "      <th></th>\n",
       "      <th>address</th>\n",
       "      <th>attributes</th>\n",
       "      <th>business_id</th>\n",
       "      <th>categories</th>\n",
       "      <th>city</th>\n",
       "      <th>hours</th>\n",
       "      <th>is_open</th>\n",
       "      <th>latitude</th>\n",
       "      <th>longitude</th>\n",
       "      <th>name</th>\n",
       "      <th>...</th>\n",
       "      <th>RestaurantsDelivery</th>\n",
       "      <th>RestaurantsGoodForGroups</th>\n",
       "      <th>RestaurantsPriceRange2</th>\n",
       "      <th>RestaurantsReservations</th>\n",
       "      <th>RestaurantsTableService</th>\n",
       "      <th>RestaurantsTakeOut</th>\n",
       "      <th>Smoking</th>\n",
       "      <th>WheelchairAccessible</th>\n",
       "      <th>WiFi</th>\n",
       "      <th>cuisine_Chinese</th>\n",
       "    </tr>\n",
       "  </thead>\n",
       "  <tbody>\n",
       "    <tr>\n",
       "      <th>EDqCEAGXVGCH4FJXgqtjqg</th>\n",
       "      <td>979 Bloor Street W</td>\n",
       "      <td>[{u'Alcohol': u'none'}, {u'Ambience': {u'roman...</td>\n",
       "      <td>EDqCEAGXVGCH4FJXgqtjqg</td>\n",
       "      <td>[Restaurants, Pizza, Chicken Wings, Italian]</td>\n",
       "      <td>Toronto</td>\n",
       "      <td>[Monday 11:0-2:0, Tuesday 11:0-2:0, Wednesday ...</td>\n",
       "      <td>1</td>\n",
       "      <td>43.661054</td>\n",
       "      <td>-79.429089</td>\n",
       "      <td>Pizza Pizza</td>\n",
       "      <td>...</td>\n",
       "      <td>False</td>\n",
       "      <td>False</td>\n",
       "      <td>NaN</td>\n",
       "      <td>NaN</td>\n",
       "      <td>NaN</td>\n",
       "      <td>NaN</td>\n",
       "      <td>False</td>\n",
       "      <td>NaN</td>\n",
       "      <td>NaN</td>\n",
       "      <td>1</td>\n",
       "    </tr>\n",
       "  </tbody>\n",
       "</table>\n",
       "<p>1 rows × 98 columns</p>\n",
       "</div>"
      ],
      "text/plain": [
       "                                   address  \\\n",
       "EDqCEAGXVGCH4FJXgqtjqg  979 Bloor Street W   \n",
       "\n",
       "                                                               attributes  \\\n",
       "EDqCEAGXVGCH4FJXgqtjqg  [{u'Alcohol': u'none'}, {u'Ambience': {u'roman...   \n",
       "\n",
       "                                   business_id  \\\n",
       "EDqCEAGXVGCH4FJXgqtjqg  EDqCEAGXVGCH4FJXgqtjqg   \n",
       "\n",
       "                                                          categories     city  \\\n",
       "EDqCEAGXVGCH4FJXgqtjqg  [Restaurants, Pizza, Chicken Wings, Italian]  Toronto   \n",
       "\n",
       "                                                                    hours  \\\n",
       "EDqCEAGXVGCH4FJXgqtjqg  [Monday 11:0-2:0, Tuesday 11:0-2:0, Wednesday ...   \n",
       "\n",
       "                        is_open   latitude  longitude         name  \\\n",
       "EDqCEAGXVGCH4FJXgqtjqg        1  43.661054 -79.429089  Pizza Pizza   \n",
       "\n",
       "                             ...       RestaurantsDelivery  \\\n",
       "EDqCEAGXVGCH4FJXgqtjqg       ...                     False   \n",
       "\n",
       "                       RestaurantsGoodForGroups  RestaurantsPriceRange2  \\\n",
       "EDqCEAGXVGCH4FJXgqtjqg                    False                     NaN   \n",
       "\n",
       "                        RestaurantsReservations RestaurantsTableService  \\\n",
       "EDqCEAGXVGCH4FJXgqtjqg                      NaN                     NaN   \n",
       "\n",
       "                       RestaurantsTakeOut Smoking WheelchairAccessible WiFi  \\\n",
       "EDqCEAGXVGCH4FJXgqtjqg                NaN   False                  NaN  NaN   \n",
       "\n",
       "                       cuisine_Chinese  \n",
       "EDqCEAGXVGCH4FJXgqtjqg               1  \n",
       "\n",
       "[1 rows x 98 columns]"
      ]
     },
     "execution_count": 2,
     "metadata": {},
     "output_type": "execute_result"
    }
   ],
   "source": [
    "df = pd.read_pickle('../yelp-challenge/data_processeing/Yelp_Cuisine_Chinese.pkl')\n",
    "print df.shape\n",
    "df.head(1)"
   ]
  },
  {
   "cell_type": "code",
   "execution_count": 3,
   "metadata": {
    "collapsed": false
   },
   "outputs": [
    {
     "data": {
      "text/plain": [
       "name\n",
       "Chipotle Mexican Grill    156\n",
       "Domino's Pizza            170\n",
       "KFC                       116\n",
       "McDonald's                139\n",
       "Panda Express             123\n",
       "Panera Bread              119\n",
       "Pizza Hut                 108\n",
       "Subway                    160\n",
       "Taco Bell                 215\n",
       "dtype: int64"
      ]
     },
     "execution_count": 3,
     "metadata": {},
     "output_type": "execute_result"
    }
   ],
   "source": [
    "df.groupby(df.name).size()[df.groupby(df.name).size().values > 100]"
   ]
  },
  {
   "cell_type": "code",
   "execution_count": 4,
   "metadata": {
    "collapsed": false
   },
   "outputs": [
    {
     "data": {
      "text/plain": [
       "name\n",
       "Noodles & Company      19\n",
       "P.F. Chang's           15\n",
       "Panda Express         123\n",
       "Pei Wei                20\n",
       "Teriyaki Madness       12\n",
       "The Captain's Boil     11\n",
       "dtype: int64"
      ]
     },
     "execution_count": 4,
     "metadata": {},
     "output_type": "execute_result"
    }
   ],
   "source": [
    "df_cn = df[df.cuisine_Chinese == 2]\n",
    "df_cn.groupby(df_cn.name).size()[df_cn.groupby(df_cn.name).size().values > 10]"
   ]
  },
  {
   "cell_type": "code",
   "execution_count": 5,
   "metadata": {
    "collapsed": false
   },
   "outputs": [
    {
     "name": "stdout",
     "output_type": "stream",
     "text": [
      "27314 (18856, 98)\n",
      "(18856, 90)\n"
     ]
    }
   ],
   "source": [
    "df2 = df.copy()\n",
    "df2 = df2[df2.cuisine_Chinese != 0]\n",
    "print len(df), df2.shape\n",
    "df2.dropna(axis=1, inplace=True, how='all')\n",
    "print df2.shape\n"
   ]
  },
  {
   "cell_type": "code",
   "execution_count": 6,
   "metadata": {
    "collapsed": false
   },
   "outputs": [
    {
     "name": "stdout",
     "output_type": "stream",
     "text": [
      "AcceptsInsurance :  [False True]\n",
      "AgesAllowed :  [False True]\n",
      "Alcohol :  [False True]\n",
      "Ambience_casual :  [False True]\n",
      "Ambience_classy :  ['beer_and_wine' 'full_bar' 'none']\n",
      "Ambience_divey :  [False True]\n",
      "Ambience_hipster :  ['average' 'loud' 'quiet' 'very_loud']\n",
      "Ambience_intimate :  [False True]\n",
      "Ambience_romantic :  ['casual' 'dressy' 'formal']\n",
      "Ambience_touristy :  [False True]\n",
      "Ambience_trendy :  [False True]\n",
      "Ambience_upscale :  [False True]\n",
      "BYOB :  [False True]\n",
      "BYOBCorkage :  [False True]\n",
      "BestNights_friday :  [False]\n",
      "BestNights_monday :  [False True]\n",
      "BestNights_saturday :  [False True]\n",
      "BestNights_sunday :  [False True]\n",
      "BestNights_thursday :  [False 'yes_corkage' 'yes_free']\n",
      "BestNights_tuesday :  [False True]\n",
      "BestNights_wednesday :  [False True]\n",
      "BikeParking :  [False True]\n",
      "BusinessAcceptsBitcoin :  [False True]\n",
      "BusinessAcceptsCreditCards :  [False True]\n",
      "BusinessParking_garage :  [False True]\n",
      "BusinessParking_lot :  [False 'free' 'paid']\n",
      "BusinessParking_valet :  [False True]\n",
      "BusinessParking_validated :  [False True]\n",
      "ByAppointmentOnly :  [False True]\n",
      "CoatCheck :  [False True]\n",
      "Corkage :  [False True]\n",
      "DietaryRestrictions_dairy-free :  [False True]\n",
      "DietaryRestrictions_halal :  [False True]\n",
      "DietaryRestrictions_kosher :  [False True]\n",
      "DietaryRestrictions_soy-free :  [False True]\n",
      "DietaryRestrictions_vegan :  [False True]\n",
      "DietaryRestrictions_vegetarian :  [False True]\n",
      "DogsAllowed :  [False True]\n",
      "GoodForDancing :  [False True]\n",
      "GoodForKids :  [False True]\n",
      "GoodForMeal_breakfast :  [False True]\n",
      "GoodForMeal_brunch :  [False True]\n",
      "GoodForMeal_dessert :  [False True]\n",
      "GoodForMeal_dinner :  [False True]\n",
      "GoodForMeal_latenight :  [False True]\n",
      "GoodForMeal_lunch :  [False True]\n",
      "HairSpecializesIn_africanamerican :  [False True]\n",
      "HairSpecializesIn_asian :  [False True]\n",
      "HairSpecializesIn_coloring :  [False True]\n",
      "HairSpecializesIn_curly :  [False True]\n",
      "HairSpecializesIn_kids :  [1 2 3 4]\n",
      "HairSpecializesIn_perms :  ['18plus' '19plus' '21plus' 'allages']\n",
      "HairSpecializesIn_straightperms :  [False True]\n",
      "HappyHour :  [False True]\n",
      "HasTV :  [False True]\n",
      "Music_background_music :  [False True]\n",
      "Music_dj :  [False True]\n",
      "Music_jukebox :  [False True]\n",
      "Music_live :  [False True]\n",
      "Music_no_music :  [False True]\n",
      "Music_video :  [False True]\n",
      "Open24Hours :  [False True]\n",
      "OutdoorSeating :  [False True]\n",
      "RestaurantsAttire :  [False True]\n",
      "RestaurantsCounterService :  [False True]\n",
      "RestaurantsDelivery :  [False True]\n",
      "RestaurantsGoodForGroups :  [False True]\n",
      "RestaurantsPriceRange2 :  [False True]\n",
      "RestaurantsReservations :  [False True 'outdoor']\n",
      "RestaurantsTableService :  [False True]\n",
      "RestaurantsTakeOut :  [False True]\n",
      "Smoking :  [False True]\n",
      "WiFi :  [False True]\n",
      "65 8\n"
     ]
    }
   ],
   "source": [
    "df_att = df2.loc[ :, u'AcceptsInsurance':'WiFi'] # include 'WiFi'\n",
    "att_type = {}\n",
    "col_b = []\n",
    "col_m = []\n",
    "for i in range(df_att.shape[1]):\n",
    "    temp = df_att.groupby(df_att.iloc[:,i]).size().keys()\n",
    "    print temp.name, ': ', temp.values\n",
    "    if set(temp.values) == set([False, True]) or set(temp.values).issubset(set([False, True])):\n",
    "        att_type[temp.name] = 'b'\n",
    "        col_b.append(temp.name)\n",
    "    else:\n",
    "        att_type[temp.name] = 'm'\n",
    "        col_m.append(temp.name)\n",
    "\n",
    "print len(col_b), len(col_m)\n",
    "col_all = col_b + col_m"
   ]
  },
  {
   "cell_type": "markdown",
   "metadata": {},
   "source": [
    "#### Potential Col: 'city', 'state', 'hours', 'review_count',  'start'"
   ]
  },
  {
   "cell_type": "code",
   "execution_count": 7,
   "metadata": {
    "collapsed": false
   },
   "outputs": [
    {
     "data": {
      "text/html": [
       "<div>\n",
       "<table border=\"1\" class=\"dataframe\">\n",
       "  <thead>\n",
       "    <tr style=\"text-align: right;\">\n",
       "      <th></th>\n",
       "      <th>AcceptsInsurance</th>\n",
       "      <th>AgesAllowed</th>\n",
       "      <th>Alcohol</th>\n",
       "      <th>Ambience_casual</th>\n",
       "      <th>Ambience_divey</th>\n",
       "      <th>Ambience_intimate</th>\n",
       "      <th>Ambience_touristy</th>\n",
       "      <th>Ambience_trendy</th>\n",
       "      <th>Ambience_upscale</th>\n",
       "      <th>BYOB</th>\n",
       "      <th>...</th>\n",
       "      <th>OutdoorSeating</th>\n",
       "      <th>RestaurantsAttire</th>\n",
       "      <th>RestaurantsCounterService</th>\n",
       "      <th>RestaurantsDelivery</th>\n",
       "      <th>RestaurantsGoodForGroups</th>\n",
       "      <th>RestaurantsPriceRange2</th>\n",
       "      <th>RestaurantsTableService</th>\n",
       "      <th>RestaurantsTakeOut</th>\n",
       "      <th>Smoking</th>\n",
       "      <th>WiFi</th>\n",
       "    </tr>\n",
       "  </thead>\n",
       "  <tbody>\n",
       "    <tr>\n",
       "      <th>EDqCEAGXVGCH4FJXgqtjqg</th>\n",
       "      <td>NaN</td>\n",
       "      <td>False</td>\n",
       "      <td>NaN</td>\n",
       "      <td>NaN</td>\n",
       "      <td>True</td>\n",
       "      <td>NaN</td>\n",
       "      <td>NaN</td>\n",
       "      <td>NaN</td>\n",
       "      <td>True</td>\n",
       "      <td>False</td>\n",
       "      <td>...</td>\n",
       "      <td>False</td>\n",
       "      <td>NaN</td>\n",
       "      <td>NaN</td>\n",
       "      <td>False</td>\n",
       "      <td>False</td>\n",
       "      <td>NaN</td>\n",
       "      <td>NaN</td>\n",
       "      <td>NaN</td>\n",
       "      <td>False</td>\n",
       "      <td>NaN</td>\n",
       "    </tr>\n",
       "  </tbody>\n",
       "</table>\n",
       "<p>1 rows × 65 columns</p>\n",
       "</div>"
      ],
      "text/plain": [
       "                       AcceptsInsurance AgesAllowed Alcohol Ambience_casual  \\\n",
       "EDqCEAGXVGCH4FJXgqtjqg              NaN       False     NaN             NaN   \n",
       "\n",
       "                       Ambience_divey Ambience_intimate Ambience_touristy  \\\n",
       "EDqCEAGXVGCH4FJXgqtjqg           True               NaN               NaN   \n",
       "\n",
       "                       Ambience_trendy Ambience_upscale   BYOB ...   \\\n",
       "EDqCEAGXVGCH4FJXgqtjqg             NaN             True  False ...    \n",
       "\n",
       "                       OutdoorSeating RestaurantsAttire  \\\n",
       "EDqCEAGXVGCH4FJXgqtjqg          False               NaN   \n",
       "\n",
       "                       RestaurantsCounterService RestaurantsDelivery  \\\n",
       "EDqCEAGXVGCH4FJXgqtjqg                       NaN               False   \n",
       "\n",
       "                       RestaurantsGoodForGroups RestaurantsPriceRange2  \\\n",
       "EDqCEAGXVGCH4FJXgqtjqg                    False                    NaN   \n",
       "\n",
       "                       RestaurantsTableService RestaurantsTakeOut Smoking WiFi  \n",
       "EDqCEAGXVGCH4FJXgqtjqg                     NaN                NaN   False  NaN  \n",
       "\n",
       "[1 rows x 65 columns]"
      ]
     },
     "execution_count": 7,
     "metadata": {},
     "output_type": "execute_result"
    }
   ],
   "source": [
    "df_att_b = df2.loc[:,col_b].join(df.cuisine_Chinese)\n",
    "df_att_b.head(1).iloc[:,:-1]"
   ]
  },
  {
   "cell_type": "code",
   "execution_count": 8,
   "metadata": {
    "collapsed": false
   },
   "outputs": [
    {
     "data": {
      "text/html": [
       "<div>\n",
       "<table border=\"1\" class=\"dataframe\">\n",
       "  <thead>\n",
       "    <tr style=\"text-align: right;\">\n",
       "      <th></th>\n",
       "      <th>Ambience_classy</th>\n",
       "      <th>Ambience_hipster</th>\n",
       "      <th>Ambience_romantic</th>\n",
       "      <th>BestNights_thursday</th>\n",
       "      <th>BusinessParking_lot</th>\n",
       "      <th>HairSpecializesIn_kids</th>\n",
       "      <th>HairSpecializesIn_perms</th>\n",
       "      <th>RestaurantsReservations</th>\n",
       "      <th>cuisine_Chinese</th>\n",
       "    </tr>\n",
       "  </thead>\n",
       "  <tbody>\n",
       "    <tr>\n",
       "      <th>EDqCEAGXVGCH4FJXgqtjqg</th>\n",
       "      <td>none</td>\n",
       "      <td>quiet</td>\n",
       "      <td>casual</td>\n",
       "      <td>NaN</td>\n",
       "      <td>free</td>\n",
       "      <td>1</td>\n",
       "      <td>NaN</td>\n",
       "      <td>NaN</td>\n",
       "      <td>1</td>\n",
       "    </tr>\n",
       "  </tbody>\n",
       "</table>\n",
       "</div>"
      ],
      "text/plain": [
       "                       Ambience_classy Ambience_hipster Ambience_romantic  \\\n",
       "EDqCEAGXVGCH4FJXgqtjqg            none            quiet            casual   \n",
       "\n",
       "                       BestNights_thursday BusinessParking_lot  \\\n",
       "EDqCEAGXVGCH4FJXgqtjqg                 NaN                free   \n",
       "\n",
       "                       HairSpecializesIn_kids HairSpecializesIn_perms  \\\n",
       "EDqCEAGXVGCH4FJXgqtjqg                      1                     NaN   \n",
       "\n",
       "                       RestaurantsReservations  cuisine_Chinese  \n",
       "EDqCEAGXVGCH4FJXgqtjqg                     NaN                1  "
      ]
     },
     "execution_count": 8,
     "metadata": {},
     "output_type": "execute_result"
    }
   ],
   "source": [
    "df_att_m = df2.loc[:,col_m].join(df.cuisine_Chinese)\n",
    "df_att_m.head(1)"
   ]
  },
  {
   "cell_type": "code",
   "execution_count": 9,
   "metadata": {
    "collapsed": true
   },
   "outputs": [],
   "source": [
    "df_att_b.to_csv('df_att_b.csv',index_label=False)\n",
    "df_att_m.to_csv('df_att_m.csv',index_label=False)\n",
    "df_att_all = df_att.join(df.cuisine_Chinese)\n",
    "df_att_all.to_csv('df_att_all.csv',index_label=False)"
   ]
  },
  {
   "cell_type": "code",
   "execution_count": 10,
   "metadata": {
    "collapsed": true
   },
   "outputs": [],
   "source": [
    "# from sklearn.naive_bayes import MultinomialNB, BernoulliNB"
   ]
  },
  {
   "cell_type": "code",
   "execution_count": 11,
   "metadata": {
    "collapsed": true
   },
   "outputs": [],
   "source": [
    "# mod_b = BernoulliNB(alpha=1.0, binarize=0.0, fit_prior=True, class_prior=None)"
   ]
  },
  {
   "cell_type": "code",
   "execution_count": 12,
   "metadata": {
    "collapsed": false
   },
   "outputs": [],
   "source": [
    "# mod_b.fit(X=df_att_b.iloc[:,:-1], y=df_att_b.cuisine_Chinese)"
   ]
  },
  {
   "cell_type": "markdown",
   "metadata": {},
   "source": [
    "### naive bayes function in sklearn can not deal with NA"
   ]
  }
 ],
 "metadata": {
  "anaconda-cloud": {},
  "kernelspec": {
   "display_name": "Python [default]",
   "language": "python",
   "name": "python2"
  },
  "language_info": {
   "codemirror_mode": {
    "name": "ipython",
    "version": 2
   },
   "file_extension": ".py",
   "mimetype": "text/x-python",
   "name": "python",
   "nbconvert_exporter": "python",
   "pygments_lexer": "ipython2",
   "version": "2.7.12"
  }
 },
 "nbformat": 4,
 "nbformat_minor": 1
}
