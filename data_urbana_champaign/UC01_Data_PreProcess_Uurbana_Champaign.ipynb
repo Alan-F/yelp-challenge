{
 "cells": [
  {
   "cell_type": "markdown",
   "metadata": {},
   "source": [
    "To-Do:\n",
    "* category [list]\n",
    "* attribute \n",
    "    * transform 'attribute' to col\n",
    "    * threshold (value/proportion) -> missing value\n",
    "* hours"
   ]
  },
  {
   "cell_type": "code",
   "execution_count": 1,
   "metadata": {
    "collapsed": false
   },
   "outputs": [
    {
     "name": "stdout",
     "output_type": "stream",
     "text": [
      "Populating the interactive namespace from numpy and matplotlib\n"
     ]
    }
   ],
   "source": [
    "import seaborn\n",
    "import pandas as pd\n",
    "import pylab as pl\n",
    "import yaml\n",
    "%pylab inline"
   ]
  },
  {
   "cell_type": "code",
   "execution_count": 2,
   "metadata": {
    "collapsed": false
   },
   "outputs": [
    {
     "name": "stdout",
     "output_type": "stream",
     "text": [
      "(1556, 16)\n",
      "[u'address' u'attributes' u'business_id' u'categories' u'city' u'hours'\n",
      " u'is_open' u'latitude' u'longitude' u'name' u'neighborhood' u'postal_code'\n",
      " u'review_count' u'stars' u'state' u'type']\n"
     ]
    },
    {
     "data": {
      "text/plain": [
       "1556"
      ]
     },
     "execution_count": 2,
     "metadata": {},
     "output_type": "execute_result"
    }
   ],
   "source": [
    "df = pd.read_pickle(\"../yelp-challenge/data_urbana_champaign/business_urbana_champaign.p\")\n",
    "df.reset_index(drop=True, inplace=True)\n",
    "print df.shape\n",
    "print df.columns.values\n",
    "len(df.business_id.unique())"
   ]
  },
  {
   "cell_type": "markdown",
   "metadata": {},
   "source": [
    "### geo: u'address', u'latitude',  u'longitude'\n",
    "No None geo-data <br/>\n",
    "No None name"
   ]
  },
  {
   "cell_type": "code",
   "execution_count": 3,
   "metadata": {
    "collapsed": false
   },
   "outputs": [
    {
     "data": {
      "text/html": [
       "<div>\n",
       "<table border=\"1\" class=\"dataframe\">\n",
       "  <thead>\n",
       "    <tr style=\"text-align: right;\">\n",
       "      <th></th>\n",
       "      <th>address</th>\n",
       "      <th>attributes</th>\n",
       "      <th>business_id</th>\n",
       "      <th>categories</th>\n",
       "      <th>city</th>\n",
       "      <th>hours</th>\n",
       "      <th>is_open</th>\n",
       "      <th>latitude</th>\n",
       "      <th>longitude</th>\n",
       "      <th>name</th>\n",
       "      <th>neighborhood</th>\n",
       "      <th>postal_code</th>\n",
       "      <th>review_count</th>\n",
       "      <th>stars</th>\n",
       "      <th>state</th>\n",
       "      <th>type</th>\n",
       "    </tr>\n",
       "  </thead>\n",
       "  <tbody>\n",
       "    <tr>\n",
       "      <th>0</th>\n",
       "      <td>2501 Fields S Dr</td>\n",
       "      <td>[BusinessAcceptsCreditCards: True]</td>\n",
       "      <td>J3EckozG83hEvm267MOeHQ</td>\n",
       "      <td>[Community Service/Non-Profit, Local Services]</td>\n",
       "      <td>Champaign</td>\n",
       "      <td>[Monday 5:0-22:0, Tuesday 5:0-22:0, Wednesday ...</td>\n",
       "      <td>1</td>\n",
       "      <td>40.081839</td>\n",
       "      <td>-88.308425</td>\n",
       "      <td>YMCA</td>\n",
       "      <td></td>\n",
       "      <td>61820</td>\n",
       "      <td>7</td>\n",
       "      <td>3.5</td>\n",
       "      <td>IL</td>\n",
       "      <td>business</td>\n",
       "    </tr>\n",
       "    <tr>\n",
       "      <th>1</th>\n",
       "      <td>44 E Main St</td>\n",
       "      <td>None</td>\n",
       "      <td>3dzPclva9uHp-22TbheqlA</td>\n",
       "      <td>[Trainers, Pilates, Active Life, Fitness &amp; Ins...</td>\n",
       "      <td>Champaign</td>\n",
       "      <td>None</td>\n",
       "      <td>1</td>\n",
       "      <td>40.117598</td>\n",
       "      <td>-88.241400</td>\n",
       "      <td>Dulak Pilates Center</td>\n",
       "      <td></td>\n",
       "      <td>61820</td>\n",
       "      <td>4</td>\n",
       "      <td>5.0</td>\n",
       "      <td>IL</td>\n",
       "      <td>business</td>\n",
       "    </tr>\n",
       "  </tbody>\n",
       "</table>\n",
       "</div>"
      ],
      "text/plain": [
       "            address                          attributes  \\\n",
       "0  2501 Fields S Dr  [BusinessAcceptsCreditCards: True]   \n",
       "1      44 E Main St                                None   \n",
       "\n",
       "              business_id                                         categories  \\\n",
       "0  J3EckozG83hEvm267MOeHQ     [Community Service/Non-Profit, Local Services]   \n",
       "1  3dzPclva9uHp-22TbheqlA  [Trainers, Pilates, Active Life, Fitness & Ins...   \n",
       "\n",
       "        city                                              hours  is_open  \\\n",
       "0  Champaign  [Monday 5:0-22:0, Tuesday 5:0-22:0, Wednesday ...        1   \n",
       "1  Champaign                                               None        1   \n",
       "\n",
       "    latitude  longitude                  name neighborhood postal_code  \\\n",
       "0  40.081839 -88.308425                  YMCA                    61820   \n",
       "1  40.117598 -88.241400  Dulak Pilates Center                    61820   \n",
       "\n",
       "   review_count  stars state      type  \n",
       "0             7    3.5    IL  business  \n",
       "1             4    5.0    IL  business  "
      ]
     },
     "execution_count": 3,
     "metadata": {},
     "output_type": "execute_result"
    }
   ],
   "source": [
    "df.head(2)"
   ]
  },
  {
   "cell_type": "markdown",
   "metadata": {},
   "source": [
    "## 1. 'city'"
   ]
  },
  {
   "cell_type": "code",
   "execution_count": 4,
   "metadata": {
    "collapsed": false
   },
   "outputs": [
    {
     "name": "stdout",
     "output_type": "stream",
     "text": [
      "[u'Champaign' u'Tuscola' u'Urbana' u'Monticello' u'Savoy' u'Mahomet'\n",
      " u'St Joseph' u'Rantoul' u'Philo' u'Tolono' u'Villa Grove' u'Broadlands'\n",
      " u'Saint Joseph' u'Gifford' u'Dewey' u'Mansfield' u'Ogden' u'Fithian'\n",
      " u'Elk Grove Villa' u'Sidney' u'Homer' u'St. Joseph'] \n",
      "22\n"
     ]
    }
   ],
   "source": [
    "print df.city.unique(), '\\n', len(df.city.unique())"
   ]
  },
  {
   "cell_type": "code",
   "execution_count": 28,
   "metadata": {
    "collapsed": false
   },
   "outputs": [
    {
     "data": {
      "text/plain": [
       "87.01799485861183"
      ]
     },
     "execution_count": 28,
     "metadata": {},
     "output_type": "execute_result"
    }
   ],
   "source": [
    "city_count = df.city.groupby(df.city).apply(lambda x:x.count())\n",
    "uc_sum = city_count[city_count.keys().isin(['Champaign', 'Urbana'])].sum()\n",
    "100.0 * uc_sum / city_count.sum()"
   ]
  },
  {
   "cell_type": "markdown",
   "metadata": {},
   "source": [
    "we only consider Champaign and Urbana as our target in this dataset"
   ]
  },
  {
   "cell_type": "code",
   "execution_count": 3,
   "metadata": {
    "collapsed": false
   },
   "outputs": [
    {
     "data": {
      "text/plain": [
       "(1354, 16)"
      ]
     },
     "execution_count": 3,
     "metadata": {},
     "output_type": "execute_result"
    }
   ],
   "source": [
    "df_uc = df[df.city.isin(['Champaign', 'Urbana'])]\n",
    "df_uc.shape"
   ]
  },
  {
   "cell_type": "markdown",
   "metadata": {},
   "source": [
    "## 2. 'is_open'"
   ]
  },
  {
   "cell_type": "code",
   "execution_count": 33,
   "metadata": {
    "collapsed": false
   },
   "outputs": [
    {
     "name": "stdout",
     "output_type": "stream",
     "text": [
      "82.0531757755% (1111/1354) business_id(s) are open\n"
     ]
    }
   ],
   "source": [
    "print \"{}% ({}/{}) business_id(s) are open\".format(100.0 * sum(df_uc.is_open == 1) / len(df_uc), sum(df_uc.is_open == 1), len(df_uc))"
   ]
  },
  {
   "cell_type": "markdown",
   "metadata": {},
   "source": [
    "we only consider those with is_open == 1"
   ]
  },
  {
   "cell_type": "code",
   "execution_count": 11,
   "metadata": {
    "collapsed": false
   },
   "outputs": [
    {
     "data": {
      "text/plain": [
       "(1111, 16)"
      ]
     },
     "execution_count": 11,
     "metadata": {},
     "output_type": "execute_result"
    }
   ],
   "source": [
    "df_uc_open = df_uc[df_uc.is_open == 1]\n",
    "df_uc_open.reset_index(drop=True, inplace=True)\n",
    "df_uc_open.shape"
   ]
  },
  {
   "cell_type": "markdown",
   "metadata": {},
   "source": [
    "## 3. 'Hour'"
   ]
  },
  {
   "cell_type": "code",
   "execution_count": 112,
   "metadata": {
    "collapsed": false
   },
   "outputs": [
    {
     "data": {
      "text/plain": [
       "73.26732673267327"
      ]
     },
     "execution_count": 112,
     "metadata": {},
     "output_type": "execute_result"
    }
   ],
   "source": [
    "100.0 * df_uc_open.hours.dropna().shape[0] / df_uc_open.shape[0]"
   ]
  },
  {
   "cell_type": "markdown",
   "metadata": {},
   "source": [
    "Drop all records with missing 'Hour'"
   ]
  },
  {
   "cell_type": "code",
   "execution_count": 12,
   "metadata": {
    "collapsed": false
   },
   "outputs": [
    {
     "data": {
      "text/plain": [
       "(814, 16)"
      ]
     },
     "execution_count": 12,
     "metadata": {},
     "output_type": "execute_result"
    }
   ],
   "source": [
    "df_uc_open = df_uc_open.dropna(subset=['hours'])\n",
    "df_uc_open.reset_index(drop=True, inplace=True)\n",
    "df_uc_open.shape"
   ]
  },
  {
   "cell_type": "markdown",
   "metadata": {},
   "source": [
    "## 4. 'postal_code'"
   ]
  },
  {
   "cell_type": "code",
   "execution_count": 116,
   "metadata": {
    "collapsed": false
   },
   "outputs": [
    {
     "data": {
      "text/plain": [
       "8"
      ]
     },
     "execution_count": 116,
     "metadata": {},
     "output_type": "execute_result"
    }
   ],
   "source": [
    "len(df_uc_open.postal_code.unique())"
   ]
  },
  {
   "cell_type": "markdown",
   "metadata": {},
   "source": [
    "## 5. 'review_count'"
   ]
  },
  {
   "cell_type": "code",
   "execution_count": 117,
   "metadata": {
    "collapsed": false
   },
   "outputs": [
    {
     "data": {
      "text/plain": [
       "count    1556.000000\n",
       "mean       19.199229\n",
       "std        37.116487\n",
       "min         3.000000\n",
       "25%         4.000000\n",
       "50%         8.000000\n",
       "75%        19.000000\n",
       "max       697.000000\n",
       "Name: review_count, dtype: float64"
      ]
     },
     "execution_count": 117,
     "metadata": {},
     "output_type": "execute_result"
    }
   ],
   "source": [
    "df.review_count.describe()"
   ]
  },
  {
   "cell_type": "code",
   "execution_count": 118,
   "metadata": {
    "collapsed": false
   },
   "outputs": [
    {
     "data": {
      "text/plain": [
       "count    814.000000\n",
       "mean      26.356265\n",
       "std       48.775645\n",
       "min        3.000000\n",
       "25%        5.000000\n",
       "50%       10.000000\n",
       "75%       27.000000\n",
       "max      697.000000\n",
       "Name: review_count, dtype: float64"
      ]
     },
     "execution_count": 118,
     "metadata": {},
     "output_type": "execute_result"
    }
   ],
   "source": [
    "df_uc_open.review_count.describe()"
   ]
  },
  {
   "cell_type": "code",
   "execution_count": 119,
   "metadata": {
    "collapsed": false
   },
   "outputs": [
    {
     "data": {
      "text/plain": [
       "address                                        201 N Broadway Ave\n",
       "attributes      [Alcohol: full_bar, Ambience: {'romantic': Fal...\n",
       "business_id                                9MnbQg7kfb_WgxoV0hXKSQ\n",
       "categories                                [Barbeque, Restaurants]\n",
       "city                                                       Urbana\n",
       "hours           [Monday 11:0-22:0, Tuesday 11:0-22:0, Wednesda...\n",
       "is_open                                                         1\n",
       "latitude                                                  40.1138\n",
       "longitude                                                -88.2077\n",
       "name                                  Black Dog Smoke & Ale House\n",
       "neighborhood                                                     \n",
       "postal_code                                                 61801\n",
       "review_count                                                  697\n",
       "stars                                                         4.5\n",
       "state                                                          IL\n",
       "type                                                     business\n",
       "Name: 601, dtype: object"
      ]
     },
     "execution_count": 119,
     "metadata": {},
     "output_type": "execute_result"
    }
   ],
   "source": [
    "df_uc_open.ix[df_uc_open.review_count.argmax()]"
   ]
  },
  {
   "cell_type": "markdown",
   "metadata": {},
   "source": [
    "## 6. 'categories'"
   ]
  },
  {
   "cell_type": "code",
   "execution_count": 121,
   "metadata": {
    "collapsed": false
   },
   "outputs": [],
   "source": [
    "cat = {}\n",
    "none_num = 0\n",
    "for i in df_uc_open.categories:\n",
    "    if not i:\n",
    "        none_num += 1\n",
    "        continue\n",
    "    for j in i:\n",
    "        cat[j] = cat.get(j,0) + 1"
   ]
  },
  {
   "cell_type": "code",
   "execution_count": 122,
   "metadata": {
    "collapsed": false
   },
   "outputs": [
    {
     "data": {
      "text/plain": [
       "0"
      ]
     },
     "execution_count": 122,
     "metadata": {},
     "output_type": "execute_result"
    }
   ],
   "source": [
    "none_num"
   ]
  },
  {
   "cell_type": "code",
   "execution_count": 123,
   "metadata": {
    "collapsed": true
   },
   "outputs": [
    {
     "data": {
      "text/plain": [
       "[(u'Restaurants', 256),\n",
       " (u'Shopping', 177),\n",
       " (u'Food', 125),\n",
       " (u'Home Services', 98),\n",
       " (u'Beauty & Spas', 87),\n",
       " (u'Local Services', 72),\n",
       " (u'Automotive', 68),\n",
       " (u'Nightlife', 63),\n",
       " (u'Event Planning & Services', 55),\n",
       " (u'Home & Garden', 54),\n",
       " (u'Bars', 54),\n",
       " (u'Auto Repair', 50),\n",
       " (u'Fashion', 40),\n",
       " (u'American (Traditional)', 38),\n",
       " (u'Hotels & Travel', 36),\n",
       " (u'Real Estate', 35),\n",
       " (u'Hair Salons', 35),\n",
       " (u'Sandwiches', 34),\n",
       " (u'Fast Food', 34),\n",
       " (u'Health & Medical', 33),\n",
       " (u'Chinese', 29),\n",
       " (u'Pizza', 29),\n",
       " (u'Mexican', 28),\n",
       " (u'Apartments', 27),\n",
       " (u'Active Life', 26),\n",
       " (u'American (New)', 25),\n",
       " (u'Nail Salons', 22),\n",
       " (u'Coffee & Tea', 22),\n",
       " (u'Contractors', 22),\n",
       " (u'Furniture Stores', 22),\n",
       " (u'Breakfast & Brunch', 22),\n",
       " (u'Pets', 22),\n",
       " (u'Bakeries', 22),\n",
       " (u'Specialty Food', 21),\n",
       " (u'Home Decor', 20),\n",
       " (u'Tires', 20),\n",
       " (u'Burgers', 19),\n",
       " (u'Hotels', 19),\n",
       " (u'Grocery', 18),\n",
       " (u'Pet Services', 18),\n",
       " (u'Auto Parts & Supplies', 17),\n",
       " (u'Professional Services', 17),\n",
       " (u'Arts & Entertainment', 17),\n",
       " (u'Sporting Goods', 17),\n",
       " (u'Italian', 17),\n",
       " (u'Hair Removal', 16),\n",
       " (u'Delis', 16),\n",
       " (u'Massage', 15),\n",
       " (u'Oil Change Stations', 15),\n",
       " (u'Ice Cream & Frozen Yogurt', 15),\n",
       " (u'Barbers', 15),\n",
       " (u'Venues & Event Spaces', 14),\n",
       " (u'Department Stores', 14),\n",
       " (u'Property Management', 14),\n",
       " (u'Building Supplies', 13),\n",
       " (u'Appliances', 13),\n",
       " (u'Cosmetics & Beauty Supply', 13),\n",
       " (u'Skin Care', 13),\n",
       " (u'Hair Stylists', 13),\n",
       " (u'Salad', 13),\n",
       " (u'Pet Boarding/Pet Sitting', 12),\n",
       " (u'Chicken Wings', 12),\n",
       " (u'Mattresses', 12),\n",
       " (u'Arts & Crafts', 12),\n",
       " (u'Flowers & Gifts', 12),\n",
       " (u'Mags', 12),\n",
       " (u'Desserts', 12),\n",
       " (u'Music & Video', 12),\n",
       " (u'Books', 12),\n",
       " (u'Fitness & Instruction', 11),\n",
       " (u'Transportation', 11),\n",
       " (u'Day Spas', 11),\n",
       " (u'Caterers', 11),\n",
       " (u'Wedding Planning', 11),\n",
       " (u'Veterinarians', 11),\n",
       " (u'Drugstores', 10),\n",
       " (u'Hardware Stores', 10),\n",
       " (u'Barbeque', 10),\n",
       " (u'Waxing', 10),\n",
       " (u'Sushi Bars', 10),\n",
       " (u'University Housing', 10),\n",
       " (u'Thai', 10),\n",
       " (u'Pet Groomers', 10),\n",
       " (u'Shoe Stores', 10),\n",
       " (u'Cafes', 10),\n",
       " (u\"Women's Clothing\", 10),\n",
       " (u'Car Dealers', 10),\n",
       " (u'Lounges', 9),\n",
       " (u'Food Trucks', 9),\n",
       " (u'Sports Bars', 9),\n",
       " (u'Wine & Spirits', 9),\n",
       " (u'Nurseries & Gardening', 9),\n",
       " (u'Party & Event Planning', 9),\n",
       " (u'Asian Fusion', 9),\n",
       " (u'Massage Therapy', 9),\n",
       " (u'Beer', 9),\n",
       " (u'Florists', 9),\n",
       " (u'Gyms', 8),\n",
       " (u'Diners', 8),\n",
       " (u'Home Cleaning', 8),\n",
       " (u'Movers', 8),\n",
       " (u\"Men's Clothing\", 8),\n",
       " (u'Auto Detailing', 8),\n",
       " (u'Printing Services', 8),\n",
       " (u'Heating & Air Conditioning/HVAC', 8),\n",
       " (u'Food Delivery Services', 8),\n",
       " (u'Towing', 8),\n",
       " (u'Steakhouses', 8),\n",
       " (u'Dentists', 8),\n",
       " (u'Real Estate Services', 8),\n",
       " (u'Convenience Stores', 8),\n",
       " (u'Pubs', 8),\n",
       " (u'Electronics', 8),\n",
       " (u'Japanese', 7),\n",
       " (u'Optometrists', 7),\n",
       " (u'Body Shops', 7),\n",
       " (u'Tex-Mex', 7),\n",
       " (u'Plumbing', 7),\n",
       " (u'IT Services & Computer Repair', 7),\n",
       " (u'Airport Shuttles', 7),\n",
       " (u'Doctors', 7),\n",
       " (u'Pet Stores', 7),\n",
       " (u'General Dentistry', 7),\n",
       " (u'Photography Stores & Services', 7),\n",
       " (u'Dry Cleaning & Laundry', 6),\n",
       " (u'Juice Bars & Smoothies', 6),\n",
       " (u'Bikes', 6),\n",
       " (u'Yoga', 6),\n",
       " (u'Eyewear & Opticians', 6),\n",
       " (u'Trainers', 6),\n",
       " (u'Taxis', 6),\n",
       " (u'Ethnic Food', 6),\n",
       " (u'Sewing & Alterations', 6),\n",
       " (u'Bagels', 6),\n",
       " (u'Mobile Phones', 6),\n",
       " (u'Thrift Stores', 6),\n",
       " (u'Jewelry', 6),\n",
       " (u'Sports Wear', 6),\n",
       " (u'Korean', 6),\n",
       " (u'Financial Services', 6),\n",
       " (u'Tanning', 5),\n",
       " (u\"Men's Hair Salons\", 5),\n",
       " (u'Hobby Shops', 5),\n",
       " (u'Art Galleries', 5),\n",
       " (u'Limos', 5),\n",
       " (u'Tobacco Shops', 5),\n",
       " (u'Music Venues', 5),\n",
       " (u'Accessories', 5),\n",
       " (u'Car Wash', 5),\n",
       " (u'Appliances & Repair', 5),\n",
       " (u'Used', 5),\n",
       " (u'Indian', 5),\n",
       " (u'Bubble Tea', 5),\n",
       " (u'Bookstores', 5),\n",
       " (u'Self Storage', 5),\n",
       " (u'Vintage & Consignment', 5),\n",
       " (u'Bridal', 5),\n",
       " (u'Baby Gear & Furniture', 5),\n",
       " (u'Eyelash Service', 5),\n",
       " (u'Roofing', 4),\n",
       " (u'Antiques', 4),\n",
       " (u'Interior Design', 4),\n",
       " (u'Handyman', 4),\n",
       " (u'Vegetarian', 4),\n",
       " (u'Piercing', 4),\n",
       " (u'Seafood', 4),\n",
       " (u'Discount Store', 4),\n",
       " (u'Music & DVDs', 4),\n",
       " (u'Pet Training', 4),\n",
       " (u'Oral Surgeons', 4),\n",
       " (u'Pool Halls', 4),\n",
       " (u'Vape Shops', 4),\n",
       " (u'Photographers', 4),\n",
       " (u'Tree Services', 4),\n",
       " (u'Chocolatiers & Shops', 4),\n",
       " (u'Art Supplies', 4),\n",
       " (u'Recycling Center', 4),\n",
       " (u'Dance Clubs', 4),\n",
       " (u'Makeup Artists', 4),\n",
       " (u'Mobile Phone Repair', 4),\n",
       " (u'Wine Bars', 4),\n",
       " (u'Shipping Centers', 4),\n",
       " (u'Local Flavor', 4),\n",
       " (u'Soup', 4),\n",
       " (u'Notaries', 4),\n",
       " (u'Jewelry Repair', 4),\n",
       " (u'Karaoke', 4),\n",
       " (u'Musical Instruments & Teachers', 4),\n",
       " (u'Kitchen & Bath', 4),\n",
       " (u'Health Markets', 4),\n",
       " (u'Cosmetic Dentists', 4),\n",
       " (u'Tattoo', 4),\n",
       " (u'Electronics Repair', 4),\n",
       " (u'Carpet Cleaning', 4),\n",
       " (u'Landscaping', 4),\n",
       " (u'Real Estate Agents', 4),\n",
       " (u'Auto Glass Services', 4),\n",
       " (u'Truck Rental', 3),\n",
       " (u'Creperies', 3),\n",
       " (u'Formal Wear', 3),\n",
       " (u'Fabric Stores', 3),\n",
       " (u'Outdoor Gear', 3),\n",
       " (u'Orthodontists', 3),\n",
       " (u'Shoe Repair', 3),\n",
       " (u'Cajun/Creole', 3),\n",
       " (u'Greek', 3),\n",
       " (u'Ophthalmologists', 3),\n",
       " (u'Couriers & Delivery Services', 3),\n",
       " (u'Office Cleaning', 3),\n",
       " (u'Shaved Ice', 3),\n",
       " (u'Chiropractors', 3),\n",
       " (u'Dive Bars', 3),\n",
       " (u'Acupuncture', 3),\n",
       " (u'Damage Restoration', 3),\n",
       " (u'Szechuan', 3),\n",
       " (u'Keys & Locksmiths', 3),\n",
       " (u'Recreation Centers', 3),\n",
       " (u'Computers', 3),\n",
       " (u'Pest Control', 3),\n",
       " (u'Comfort Food', 3),\n",
       " (u'Hair Extensions', 3),\n",
       " (u'Session Photography', 3),\n",
       " (u'Mediterranean', 3),\n",
       " (u'Education', 3),\n",
       " (u'Insurance', 3),\n",
       " (u'Gutter Services', 3),\n",
       " (u'Internet Service Providers', 3),\n",
       " (u'Car Rental', 3),\n",
       " (u'Toy Stores', 3),\n",
       " (u'Imported Food', 3),\n",
       " (u'Banks & Credit Unions', 3),\n",
       " (u'Security Systems', 3),\n",
       " (u'Vegan', 3),\n",
       " (u'Windshield Installation & Repair', 3),\n",
       " (u'Snow Removal', 3),\n",
       " (u'Cheese Shops', 3),\n",
       " (u'Bike Repair/Maintenance', 3),\n",
       " (u'Medical Supplies', 3),\n",
       " (u'Buffets', 2),\n",
       " (u'Auto Insurance', 2),\n",
       " (u'Community Service/Non-Profit', 2),\n",
       " (u'Herbs & Spices', 2),\n",
       " (u'Noodles', 2),\n",
       " (u'Watch Repair', 2),\n",
       " (u'Empanadas', 2),\n",
       " (u'Libraries', 2),\n",
       " (u'Taiwanese', 2),\n",
       " (u'Vietnamese', 2),\n",
       " (u'Video Game Stores', 2),\n",
       " (u'Air Duct Cleaning', 2),\n",
       " (u'Transmission Repair', 2),\n",
       " (u'Blow Dry/Out Services', 2),\n",
       " (u'Beer Gardens', 2),\n",
       " (u'Hot Dogs', 2),\n",
       " (u'Pediatric Dentists', 2),\n",
       " (u'Laundry Services', 2),\n",
       " (u'Watches', 2),\n",
       " (u'Lawyers', 2),\n",
       " (u'Tapas Bars', 2),\n",
       " (u'Public Transportation', 2),\n",
       " (u'Cupcakes', 2),\n",
       " (u'Martial Arts', 2),\n",
       " (u'Television Service Providers', 2),\n",
       " (u'Knitting Supplies', 2),\n",
       " (u'Arcades', 2),\n",
       " (u'Escape Games', 2),\n",
       " (u'Gluten-Free', 2),\n",
       " (u'Gelato', 2),\n",
       " (u'Motorcycle Dealers', 2),\n",
       " (u'Medical Centers', 2),\n",
       " (u'Do-It-Yourself Food', 2),\n",
       " (u'Junk Removal & Hauling', 2),\n",
       " (u'Gas & Service Stations', 2),\n",
       " (u'Fish & Chips', 2),\n",
       " (u'Farmers Market', 2),\n",
       " (u'Beer Bar', 2),\n",
       " (u'Tours', 2),\n",
       " (u'Commercial Real Estate', 2),\n",
       " (u'Guns & Ammo', 2),\n",
       " (u'Southern', 2),\n",
       " (u'Candy Stores', 2),\n",
       " (u'Vinyl Records', 2),\n",
       " (u'Donuts', 2),\n",
       " (u'Painters', 2),\n",
       " (u'Counseling & Mental Health', 2),\n",
       " (u'Motorcycle Repair', 2),\n",
       " (u'Street Vendors', 2),\n",
       " (u'Signmaking', 2),\n",
       " (u'Party Supplies', 2),\n",
       " (u'Public Services & Government', 2),\n",
       " (u'Carpeting', 2),\n",
       " (u'Plus Size Fashion', 2),\n",
       " (u'Event Photography', 2),\n",
       " (u'Adult Entertainment', 2),\n",
       " (u'Home & Rental Insurance', 2),\n",
       " (u'Framing', 2),\n",
       " (u'Graphic Design', 2),\n",
       " (u'Parking', 2),\n",
       " (u'Videos & Video Game Rental', 2),\n",
       " (u'Gardeners', 2),\n",
       " (u'Windows Installation', 2),\n",
       " (u'Meat Shops', 2),\n",
       " (u'Endodontists', 1),\n",
       " (u'Organic Stores', 1),\n",
       " (u'Architects', 1),\n",
       " (u'Bowling', 1),\n",
       " (u'Vinyl Siding', 1),\n",
       " (u'Vitamins & Supplements', 1),\n",
       " (u'Real Estate Law', 1),\n",
       " (u'Laser Eye Surgery/Lasik', 1),\n",
       " (u'Diagnostic Services', 1),\n",
       " (u'Food Stands', 1),\n",
       " (u'Shopping Centers', 1),\n",
       " (u'Mountain Biking', 1),\n",
       " (u'Elementary Schools', 1),\n",
       " (u'Animal Shelters', 1),\n",
       " (u'Pool & Billiards', 1),\n",
       " (u'Zoos', 1),\n",
       " (u'Hookah Bars', 1),\n",
       " (u'Middle Eastern', 1),\n",
       " (u'Trusts', 1),\n",
       " (u'Landscape Architects', 1),\n",
       " (u'Divorce & Family Law', 1),\n",
       " (u'Costumes', 1),\n",
       " (u'Souvenir Shops', 1),\n",
       " (u'Used Bookstore', 1),\n",
       " (u'International Grocery', 1),\n",
       " (u'Kosher', 1),\n",
       " (u'Climbing', 1),\n",
       " (u'Basque', 1),\n",
       " (u'Electricians', 1),\n",
       " (u'Furniture Reupholstery', 1),\n",
       " (u'Web Design', 1),\n",
       " (u'Screen Printing', 1),\n",
       " (u'Buses', 1),\n",
       " (u'Wills', 1),\n",
       " (u'Comic Books', 1),\n",
       " (u'Dance Studios', 1),\n",
       " (u'Shades & Blinds', 1),\n",
       " (u'Fitness/Exercise Equipment', 1),\n",
       " (u'Cocktail Bars', 1),\n",
       " (u'Mortgage Brokers', 1),\n",
       " (u'Batting Cages', 1),\n",
       " (u'Shutters', 1),\n",
       " (u'Window Washing', 1),\n",
       " (u'Estate Planning Law', 1),\n",
       " (u'Mobile Phone Accessories', 1),\n",
       " (u'Dog Walkers', 1),\n",
       " (u'CSA', 1),\n",
       " (u'Museums', 1),\n",
       " (u'Performing Arts', 1),\n",
       " (u'Office Equipment', 1),\n",
       " (u'Naturopathic/Holistic', 1),\n",
       " (u'Smokehouse', 1),\n",
       " (u'Garage Door Services', 1),\n",
       " (u'& Probates', 1),\n",
       " (u'Outlet Stores', 1),\n",
       " (u'Trampoline Parks', 1),\n",
       " (u'Aquariums', 1),\n",
       " (u'Trailer Repair', 1),\n",
       " (u'Embroidery & Crochet', 1),\n",
       " (u'Jazz & Blues', 1),\n",
       " (u'Reflexology', 1),\n",
       " (u'Lingerie', 1),\n",
       " (u'Criminal Defense Law', 1),\n",
       " (u'Motorcycle Gear', 1),\n",
       " (u'Health Retreats', 1),\n",
       " (u'Newspapers & Magazines', 1),\n",
       " (u'Irish', 1),\n",
       " (u'Amusement Parks', 1),\n",
       " (u'Door Sales/Installation', 1),\n",
       " (u'Spray Tanning', 1),\n",
       " (u'Specialty Schools', 1),\n",
       " (u'Fertility', 1),\n",
       " (u'Personal Assistants', 1),\n",
       " (u'Personal Chefs', 1),\n",
       " (u'Caribbean', 1),\n",
       " (u'Roadside Assistance', 1),\n",
       " (u'Airports', 1),\n",
       " (u\"Children's Clothing\", 1),\n",
       " (u'Utilities', 1),\n",
       " (u'Argentine', 1),\n",
       " (u'Screen Printing/T-Shirt Printing', 1),\n",
       " (u'Middle Schools & High Schools', 1),\n",
       " (u'Cinema', 1),\n",
       " (u'Gun/Rifle Ranges', 1),\n",
       " (u'Gay Bars', 1),\n",
       " (u'Religious Organizations', 1),\n",
       " (u'Physical Therapy', 1),\n",
       " (u'Hot Pot', 1),\n",
       " (u'Casinos', 1),\n",
       " (u'Cards & Stationery', 1),\n",
       " (u'Irrigation', 1),\n",
       " (u'Mongolian', 1),\n",
       " (u'Life Insurance', 1),\n",
       " (u'Carpenters', 1),\n",
       " (u'RV Repair', 1),\n",
       " (u'Luggage', 1),\n",
       " (u'Masonry/Concrete', 1),\n",
       " (u'Appraisal Services', 1),\n",
       " (u'Chimney Sweeps', 1),\n",
       " (u'Wholesale Stores', 1),\n",
       " (u'Arabian', 1),\n",
       " (u'Churches', 1),\n",
       " (u'Wigs', 1),\n",
       " (u'Skating Rinks', 1),\n",
       " (u'Brewing Supplies', 1),\n",
       " (u'Immigration Law', 1),\n",
       " (u'Obstetricians & Gynecologists', 1),\n",
       " (u'Musical Instrument Services', 1),\n",
       " (u'Laboratory Testing', 1),\n",
       " (u'Train Stations', 1),\n",
       " (u'Bike Rentals', 1),\n",
       " (u'Wineries', 1),\n",
       " (u'Lighting Fixtures & Equipment', 1),\n",
       " (u'Wheel & Rim Repair', 1),\n",
       " (u'Unofficial Yelp Events', 1),\n",
       " (u'Cabinetry', 1),\n",
       " (u'Periodontists', 1),\n",
       " (u'Pakistani', 1),\n",
       " (u'Piano Stores', 1),\n",
       " (u'Mini Golf', 1),\n",
       " (u'Car Stereo Installation', 1),\n",
       " (u'Breweries', 1),\n",
       " (u'Malaysian', 1),\n",
       " (u'Custom Cakes', 1),\n",
       " (u'DUI Law', 1),\n",
       " (u'Golf', 1),\n",
       " (u'Seafood Markets', 1),\n",
       " (u'Flooring', 1),\n",
       " (u'Parks', 1),\n",
       " (u'Glass & Mirrors', 1),\n",
       " (u'Home Staging', 1),\n",
       " (u'Olive Oil', 1),\n",
       " (u'Coffee Roasteries', 1),\n",
       " (u'Ticket Sales', 1),\n",
       " (u'Traditional Chinese Medicine', 1),\n",
       " (u'Spanish', 1)]"
      ]
     },
     "execution_count": 123,
     "metadata": {},
     "output_type": "execute_result"
    }
   ],
   "source": [
    "sorted(cat.iteritems(), key=lambda x: x[1], reverse=True)"
   ]
  },
  {
   "cell_type": "markdown",
   "metadata": {},
   "source": [
    "Here we should set the list of categories we are interested."
   ]
  },
  {
   "cell_type": "code",
   "execution_count": null,
   "metadata": {
    "collapsed": true
   },
   "outputs": [],
   "source": []
  },
  {
   "cell_type": "markdown",
   "metadata": {},
   "source": [
    "## 7. 'Neighborhood'"
   ]
  },
  {
   "cell_type": "code",
   "execution_count": 124,
   "metadata": {
    "collapsed": false
   },
   "outputs": [
    {
     "data": {
      "text/plain": [
       "array([u''], dtype=object)"
      ]
     },
     "execution_count": 124,
     "metadata": {},
     "output_type": "execute_result"
    }
   ],
   "source": [
    "df_uc_open.neighborhood.unique()"
   ]
  },
  {
   "cell_type": "markdown",
   "metadata": {},
   "source": [
    "All 'Neighborhood' == None"
   ]
  },
  {
   "cell_type": "markdown",
   "metadata": {},
   "source": [
    "## 8. 'Attribute'"
   ]
  },
  {
   "cell_type": "markdown",
   "metadata": {},
   "source": [
    "First of all, remove records with None 'Attribute'"
   ]
  },
  {
   "cell_type": "code",
   "execution_count": 13,
   "metadata": {
    "collapsed": false
   },
   "outputs": [
    {
     "data": {
      "text/plain": [
       "(729, 16)"
      ]
     },
     "execution_count": 13,
     "metadata": {},
     "output_type": "execute_result"
    }
   ],
   "source": [
    "df_uc_open = df_uc_open.dropna(subset=['attributes'])\n",
    "df_uc_open.reset_index(drop=True, inplace=True)\n",
    "df_uc_open.shape\n",
    "# 814 -> ?"
   ]
  },
  {
   "cell_type": "code",
   "execution_count": 204,
   "metadata": {
    "collapsed": false
   },
   "outputs": [],
   "source": [
    "# df_uc_open.attributes\n",
    "# import yaml"
   ]
  },
  {
   "cell_type": "code",
   "execution_count": 202,
   "metadata": {
    "collapsed": false
   },
   "outputs": [],
   "source": [
    "att_count = {}\n",
    "for i in df_uc_open.attributes:\n",
    "    data = yaml.load('['+','.join(i)+']')\n",
    "    for d in data:\n",
    "        att_count[d.keys()[0]] = att_count.get(d.keys()[0], 0) + 1"
   ]
  },
  {
   "cell_type": "code",
   "execution_count": 203,
   "metadata": {
    "collapsed": false
   },
   "outputs": [
    {
     "data": {
      "text/plain": [
       "[('BusinessAcceptsCreditCards', 690),\n",
       " ('RestaurantsPriceRange2', 553),\n",
       " ('BusinessParking', 507),\n",
       " ('BikeParking', 454),\n",
       " ('WheelchairAccessible', 329),\n",
       " ('GoodForKids', 300),\n",
       " ('RestaurantsTakeOut', 292),\n",
       " ('OutdoorSeating', 274),\n",
       " ('RestaurantsGoodForGroups', 264),\n",
       " ('RestaurantsDelivery', 261),\n",
       " ('Alcohol', 257),\n",
       " ('RestaurantsReservations', 255),\n",
       " ('WiFi', 253),\n",
       " ('HasTV', 252),\n",
       " ('Ambience', 250),\n",
       " ('NoiseLevel', 242),\n",
       " ('RestaurantsAttire', 240),\n",
       " ('GoodForMeal', 240),\n",
       " ('RestaurantsTableService', 223),\n",
       " ('Caters', 202),\n",
       " ('ByAppointmentOnly', 169),\n",
       " ('BusinessAcceptsBitcoin', 68),\n",
       " ('GoodForDancing', 57),\n",
       " ('DogsAllowed', 56),\n",
       " ('CoatCheck', 55),\n",
       " ('HappyHour', 54),\n",
       " ('Music', 52),\n",
       " ('Smoking', 49),\n",
       " ('BestNights', 46),\n",
       " ('BYOBCorkage', 39),\n",
       " ('DriveThru', 35),\n",
       " ('BYOB', 31),\n",
       " ('AcceptsInsurance', 22),\n",
       " ('Corkage', 19),\n",
       " ('RestaurantsCounterService', 12),\n",
       " ('HairSpecializesIn', 10),\n",
       " ('Open24Hours', 3),\n",
       " ('AgesAllowed', 3),\n",
       " ('DietaryRestrictions', 2)]"
      ]
     },
     "execution_count": 203,
     "metadata": {},
     "output_type": "execute_result"
    }
   ],
   "source": [
    "sorted(att_count.iteritems(), key=lambda x: x[1], reverse=True)"
   ]
  },
  {
   "cell_type": "code",
   "execution_count": 207,
   "metadata": {
    "collapsed": false
   },
   "outputs": [
    {
     "data": {
      "text/plain": [
       "729"
      ]
     },
     "execution_count": 207,
     "metadata": {},
     "output_type": "execute_result"
    }
   ],
   "source": [
    "df_uc_open.shape[0]"
   ]
  },
  {
   "cell_type": "markdown",
   "metadata": {},
   "source": [
    "We need a threshold to decide which attributes we use to build model."
   ]
  },
  {
   "cell_type": "code",
   "execution_count": 212,
   "metadata": {
    "collapsed": false
   },
   "outputs": [
    {
     "data": {
      "text/plain": [
       "[{'Alcohol': 'full_bar'},\n",
       " {'Ambience': {'casual': False,\n",
       "   'classy': False,\n",
       "   'divey': False,\n",
       "   'hipster': False,\n",
       "   'intimate': False,\n",
       "   'romantic': False,\n",
       "   'touristy': False,\n",
       "   'trendy': False,\n",
       "   'upscale': False}},\n",
       " {'BusinessAcceptsCreditCards': True},\n",
       " {'NoiseLevel': 'average'},\n",
       " {'RestaurantsAttire': 'dressy'},\n",
       " {'RestaurantsGoodForGroups': True},\n",
       " {'RestaurantsPriceRange2': 3},\n",
       " {'RestaurantsReservations': True},\n",
       " {'RestaurantsTableService': True},\n",
       " {'BikeParking': True},\n",
       " {'GoodForKids': False},\n",
       " {'OutdoorSeating': True},\n",
       " {'BusinessParking': {'garage': False,\n",
       "   'lot': False,\n",
       "   'street': True,\n",
       "   'valet': False,\n",
       "   'validated': False}},\n",
       " {'HasTV': True},\n",
       " {'RestaurantsTakeOut': True},\n",
       " {'RestaurantsDelivery': True},\n",
       " {'Caters': True},\n",
       " {'WheelchairAccessible': True},\n",
       " {'WiFi': 'free'},\n",
       " {'GoodForMeal': {'breakfast': False,\n",
       "   'brunch': False,\n",
       "   'dessert': False,\n",
       "   'dinner': True,\n",
       "   'latenight': False,\n",
       "   'lunch': False}},\n",
       " {'BestNights': {'friday': False,\n",
       "   'monday': False,\n",
       "   'saturday': False,\n",
       "   'sunday': False,\n",
       "   'thursday': True,\n",
       "   'tuesday': True,\n",
       "   'wednesday': True}},\n",
       " {'CoatCheck': True},\n",
       " {'GoodForDancing': False},\n",
       " {'Music': {'background_music': True,\n",
       "   'dj': False,\n",
       "   'jukebox': False,\n",
       "   'karaoke': False,\n",
       "   'live': False,\n",
       "   'no_music': False,\n",
       "   'video': False}},\n",
       " {'Smoking': False}]"
      ]
     },
     "execution_count": 212,
     "metadata": {},
     "output_type": "execute_result"
    }
   ],
   "source": [
    "data = yaml.load('['+','.join(df_uc_open.attributes[452])+']')\n",
    "data"
   ]
  },
  {
   "cell_type": "markdown",
   "metadata": {},
   "source": [
    "There are 2 kinds of attributes:\n",
    "    * Binary \n",
    "        * 0 or 1\n",
    "        * True or False\n",
    "    * Multiple\n",
    "        * dict eg. 'GoodForMeal'\n",
    "            * if ALL False, ?\n",
    "            * if more than ONE True, ? eg. 'BestNights'\n",
    "        * multi-value eg. 'RestaurantsPriceRange2' 1,2,3... or 'Alcohol'\n",
    "    * Anything Else\n",
    "    \n",
    "    \n",
    "    * How to deal with missing values?"
   ]
  },
  {
   "cell_type": "markdown",
   "metadata": {},
   "source": [
    "## 9. 'Stars'"
   ]
  },
  {
   "cell_type": "code",
   "execution_count": 252,
   "metadata": {
    "collapsed": false
   },
   "outputs": [
    {
     "data": {
      "text/plain": [
       "(array([  12.,   19.,   32.,   55.,    0.,  127.,  162.,  138.,   94.,   90.]),\n",
       " array([ 1. ,  1.4,  1.8,  2.2,  2.6,  3. ,  3.4,  3.8,  4.2,  4.6,  5. ]),\n",
       " <a list of 10 Patch objects>)"
      ]
     },
     "execution_count": 252,
     "metadata": {},
     "output_type": "execute_result"
    },
    {
     "data": {
      "image/png": "[encoded data removed]",
      "text/plain": [
       "<matplotlib.figure.Figure at 0x111737dd0>"
      ]
     },
     "metadata": {},
     "output_type": "display_data"
    }
   ],
   "source": [
    "pl.hist(df_uc_open.stars)"
   ]
  },
  {
   "cell_type": "code",
   "execution_count": 228,
   "metadata": {
    "collapsed": false
   },
   "outputs": [
    {
     "data": {
      "text/plain": [
       "count    729.000000\n",
       "mean       3.587106\n",
       "std        0.934106\n",
       "min        1.000000\n",
       "25%        3.000000\n",
       "50%        3.500000\n",
       "75%        4.500000\n",
       "max        5.000000\n",
       "Name: stars, dtype: float64"
      ]
     },
     "execution_count": 228,
     "metadata": {},
     "output_type": "execute_result"
    }
   ],
   "source": [
    "df_uc_open.stars.describe()"
   ]
  },
  {
   "cell_type": "code",
   "execution_count": 242,
   "metadata": {
    "collapsed": false
   },
   "outputs": [
    {
     "data": {
      "text/plain": [
       "0.44170096021947874"
      ]
     },
     "execution_count": 242,
     "metadata": {},
     "output_type": "execute_result"
    }
   ],
   "source": [
    "s = 3.9\n",
    "1.0 * sum(df_uc_open.stars > s) / 729"
   ]
  },
  {
   "cell_type": "markdown",
   "metadata": {},
   "source": [
    "If we would like to build a binary classification model, here we could set threshold 'star' as '<4.0'"
   ]
  },
  {
   "cell_type": "code",
   "execution_count": 241,
   "metadata": {
    "collapsed": false
   },
   "outputs": [
    {
     "data": {
      "text/plain": [
       "3.5    0.222222\n",
       "4.0    0.189300\n",
       "3.0    0.174211\n",
       "4.5    0.128944\n",
       "5.0    0.123457\n",
       "2.5    0.075446\n",
       "2.0    0.043896\n",
       "1.5    0.026063\n",
       "1.0    0.016461\n",
       "Name: stars, dtype: float64"
      ]
     },
     "execution_count": 241,
     "metadata": {},
     "output_type": "execute_result"
    }
   ],
   "source": [
    "df_uc_open.stars.value_counts() /729"
   ]
  },
  {
   "cell_type": "code",
   "execution_count": 275,
   "metadata": {
    "collapsed": true
   },
   "outputs": [],
   "source": [
    "pl.hist?"
   ]
  },
  {
   "cell_type": "code",
   "execution_count": 276,
   "metadata": {
    "collapsed": false
   },
   "outputs": [
    {
     "name": "stdout",
     "output_type": "stream",
     "text": [
      "Champaign \n",
      "count    559.000000\n",
      "mean       3.567084\n",
      "std        0.943507\n",
      "min        1.000000\n",
      "25%        3.000000\n",
      "50%        3.500000\n",
      "75%        4.000000\n",
      "max        5.000000\n",
      "Name: stars, dtype: float64\n"
     ]
    },
    {
     "data": {
      "text/plain": [
       "(array([ 0.04472272,  0.07155635,  0.1118068 ,  0.18783542,  0.        ,\n",
       "         0.45169946,  0.5411449 ,  0.48300537,  0.29964222,  0.30858676]),\n",
       " array([ 1. ,  1.4,  1.8,  2.2,  2.6,  3. ,  3.4,  3.8,  4.2,  4.6,  5. ]),\n",
       " <a list of 10 Patch objects>)"
      ]
     },
     "execution_count": 276,
     "metadata": {},
     "output_type": "execute_result"
    },
    {
     "data": {
      "image/png": "[encoded data removed]",
      "text/plain": [
       "<matplotlib.figure.Figure at 0x111872e10>"
      ]
     },
     "metadata": {},
     "output_type": "display_data"
    }
   ],
   "source": [
    "c = ['Champaign', 'Urbana']\n",
    "print c[0], '\\n',df_uc_open[df_uc_open.city == c[0]].stars.describe()\n",
    "pl.hist(df_uc_open[df_uc_open.city == c[0]].stars, normed=True)"
   ]
  },
  {
   "cell_type": "code",
   "execution_count": 277,
   "metadata": {
    "collapsed": false
   },
   "outputs": [
    {
     "name": "stdout",
     "output_type": "stream",
     "text": [
      "Urbana \n",
      "count    170.000000\n",
      "mean       3.652941\n",
      "std        0.902080\n",
      "min        1.000000\n",
      "25%        3.000000\n",
      "50%        3.500000\n",
      "75%        4.500000\n",
      "max        5.000000\n",
      "Name: stars, dtype: float64\n"
     ]
    },
    {
     "data": {
      "text/plain": [
       "(array([ 0.02941176,  0.04411765,  0.10294118,  0.19117647,  0.        ,\n",
       "         0.38235294,  0.60294118,  0.44117647,  0.39705882,  0.30882353]),\n",
       " array([ 1. ,  1.4,  1.8,  2.2,  2.6,  3. ,  3.4,  3.8,  4.2,  4.6,  5. ]),\n",
       " <a list of 10 Patch objects>)"
      ]
     },
     "execution_count": 277,
     "metadata": {},
     "output_type": "execute_result"
    },
    {
     "data": {
      "image/png": "[encoded data removed]",
      "text/plain": [
       "<matplotlib.figure.Figure at 0x11109e450>"
      ]
     },
     "metadata": {},
     "output_type": "display_data"
    }
   ],
   "source": [
    "print c[1], '\\n',df_uc_open[df_uc_open.city == c[1]].stars.describe()\n",
    "pl.hist(df_uc_open[df_uc_open.city == c[1]].stars, normed=True)"
   ]
  },
  {
   "cell_type": "markdown",
   "metadata": {},
   "source": [
    "### output df_uc_open "
   ]
  },
  {
   "cell_type": "code",
   "execution_count": 253,
   "metadata": {
    "collapsed": false
   },
   "outputs": [
    {
     "name": "stdout",
     "output_type": "stream",
     "text": [
      "(1556, 16) (1354, 16) (729, 16)\n"
     ]
    }
   ],
   "source": [
    "print df.shape, df_uc.shape, df_uc_open.shape"
   ]
  },
  {
   "cell_type": "code",
   "execution_count": 15,
   "metadata": {
    "collapsed": true
   },
   "outputs": [],
   "source": [
    "df_uc_open.to_pickle(\"UC01_df_uc_open.p\")"
   ]
  }
 ],
 "metadata": {
  "anaconda-cloud": {},
  "kernelspec": {
   "display_name": "Python 2",
   "language": "python",
   "name": "python2"
  },
  "language_info": {
   "codemirror_mode": {
    "name": "ipython",
    "version": 2
   },
   "file_extension": ".py",
   "mimetype": "text/x-python",
   "name": "python",
   "nbconvert_exporter": "python",
   "pygments_lexer": "ipython2",
   "version": "2.7.11"
  }
 },
 "nbformat": 4,
 "nbformat_minor": 1
}
