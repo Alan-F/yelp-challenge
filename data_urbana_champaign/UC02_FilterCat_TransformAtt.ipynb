{
 "cells": [
  {
   "cell_type": "code",
   "execution_count": 151,
   "metadata": {
    "collapsed": false
   },
   "outputs": [
    {
     "name": "stdout",
     "output_type": "stream",
     "text": [
      "Populating the interactive namespace from numpy and matplotlib\n"
     ]
    }
   ],
   "source": [
    "import numpy as np\n",
    "import pandas as pd\n",
    "import yaml\n",
    "import seaborn\n",
    "import pylab as pl\n",
    "%pylab inline"
   ]
  },
  {
   "cell_type": "markdown",
   "metadata": {},
   "source": [
    "## Part 1 - Filter Categories"
   ]
  },
  {
   "cell_type": "code",
   "execution_count": 134,
   "metadata": {
    "collapsed": false
   },
   "outputs": [
    {
     "name": "stdout",
     "output_type": "stream",
     "text": [
      "(729, 16)\n",
      "(320, 16)\n"
     ]
    }
   ],
   "source": [
    "# Example: \n",
    "target_cat = ['Restaurants', 'Food'] # to be continued...\n",
    "\n",
    "df = pd.read_pickle(\"./UC01_df_uc_open.p\")\n",
    "print df.shape\n",
    "df = df[df.categories.apply(lambda x: not set(x).isdisjoint(set(target_cat)))]\n",
    "print df.shape"
   ]
  },
  {
   "cell_type": "markdown",
   "metadata": {},
   "source": [
    "For now, start from here..."
   ]
  },
  {
   "cell_type": "markdown",
   "metadata": {},
   "source": [
    "## Part 2 - Build Attribute Table"
   ]
  },
  {
   "cell_type": "code",
   "execution_count": 135,
   "metadata": {
    "collapsed": true
   },
   "outputs": [],
   "source": [
    "# load data\n",
    "df = pd.read_pickle(\"./UC01_df_uc_open.p\") #\n",
    "\n",
    "df.index = df.business_id.values\n",
    "att = df.attributes\n",
    "\n",
    "# extract attributes\n",
    "a = att.apply(lambda x: yaml.load('['+','.join(x)+']'))"
   ]
  },
  {
   "cell_type": "code",
   "execution_count": 136,
   "metadata": {
    "collapsed": false
   },
   "outputs": [
    {
     "data": {
      "text/plain": [
       "81"
      ]
     },
     "execution_count": 136,
     "metadata": {},
     "output_type": "execute_result"
    }
   ],
   "source": [
    "# find full-size attribute set\n",
    "# if subattribute exists, use '_' to connect them.\n",
    "att_all = set()\n",
    "for row in a:\n",
    "    for i in row:\n",
    "        if not isinstance(i.values()[0], dict):\n",
    "            att_all.add(i.keys()[0])\n",
    "        else:\n",
    "            prefix = i.keys()[0]\n",
    "            for k in i.values()[0].iterkeys():\n",
    "                suffix = k\n",
    "                temp = prefix + '_' + suffix\n",
    "                att_all.add(temp)\n",
    "len(att_all)"
   ]
  },
  {
   "cell_type": "code",
   "execution_count": 137,
   "metadata": {
    "collapsed": false
   },
   "outputs": [],
   "source": [
    "# create full-size attribute table\n",
    "# index = business_id\n",
    "# col = att_all\n",
    "tab = pd.DataFrame(columns=att_all, index=bid)\n",
    "\n",
    "for ind in tab.index:\n",
    "    for j in a[ind]:\n",
    "        if not isinstance(j.values()[0], dict):\n",
    "            tab.loc[ind, j.keys()[0]] = j.values()[0]\n",
    "        else:\n",
    "            prefix = j.keys()[0]\n",
    "            for k, v in j.values()[0].iteritems():\n",
    "                suffix = k\n",
    "                temp = prefix + '_' + suffix\n",
    "                tab.loc[ind, temp] = v"
   ]
  },
  {
   "cell_type": "markdown",
   "metadata": {},
   "source": [
    "## Part 3 - Missing Values \n",
    "(missing, not False)"
   ]
  },
  {
   "cell_type": "code",
   "execution_count": 146,
   "metadata": {
    "collapsed": false
   },
   "outputs": [
    {
     "name": "stdout",
     "output_type": "stream",
     "text": [
      "729\n"
     ]
    },
    {
     "data": {
      "text/plain": [
       "HairSpecializesIn_kids               553\n",
       "HairSpecializesIn_africanamerican    507\n",
       "RestaurantsDelivery                  507\n",
       "BikeParking                          507\n",
       "Music_live                           507\n",
       "Music_no_music                       507\n",
       "DietaryRestrictions_dairy-free       454\n",
       "DogsAllowed                          329\n",
       "DietaryRestrictions_vegan            300\n",
       "DietaryRestrictions_kosher           292\n",
       "HairSpecializesIn_curly              274\n",
       "BestNights_tuesday                   264\n",
       "HappyHour                            261\n",
       "Ambience_classy                      257\n",
       "BYOBCorkage                          255\n",
       "BusinessParking_valet                253\n",
       "Ambience_divey                       252\n",
       "HairSpecializesIn_coloring           250\n",
       "DietaryRestrictions_soy-free         250\n",
       "dtype: int64"
      ]
     },
     "execution_count": 146,
     "metadata": {},
     "output_type": "execute_result"
    }
   ],
   "source": [
    "print tab.shape[0]\n",
    "tab.count(axis=0).sort_values(ascending=False)[1:20]\n",
    "# 729 * 50% = 360 -> 3 attributes -> RestaurantsPriceRange2 / BusinessParking / BikeParking "
   ]
  },
  {
   "cell_type": "code",
   "execution_count": 139,
   "metadata": {
    "collapsed": false
   },
   "outputs": [
    {
     "name": "stdout",
     "output_type": "stream",
     "text": [
      "81\n"
     ]
    },
    {
     "data": {
      "text/plain": [
       "L2c-qKZWumCmOCR-dqBLrg    58\n",
       "jeTfL2kCyBtmFGSrSQHqVw    58\n",
       "D6SCh4BwNb52wZIqXdS4JQ    57\n",
       "-Jhlh8Scjy669NdtCfKSSg    57\n",
       "UUsS7SrTQQ2AvvpslfrvFA    57\n",
       "uvVOuCbo4_5z_J5WJVG4QQ    56\n",
       "S_9OaE_RBWBIXnUKvxJKsQ    56\n",
       "ODURDhURWmZr6b--O4nt3w    56\n",
       "7B-suS0RHxqxZBBfVfiPLA    56\n",
       "iZleRh4SOtf4GquA5L8WXw    56\n",
       "dn9lwYUxmhs_mLKPu7L25Q    56\n",
       "HbK6IfznbVToEaKVC0WcSg    55\n",
       "RQxLNvAra_MUUPHdhukilA    55\n",
       "vqEtZ7CtNB9G8WMzjwJA2g    55\n",
       "_TWp4gqGF7tQUGloTClcNg    55\n",
       "mklo4H47YWK7f18YXTCEoA    55\n",
       "F1qPjasn0R6-j8sa6iYNmA    55\n",
       "JbnNk6do3aHF3Kr1bX4HzQ    55\n",
       "pMiz7SP82Tknv1NbVqoSfg    54\n",
       "dtype: int64"
      ]
     },
     "execution_count": 139,
     "metadata": {},
     "output_type": "execute_result"
    }
   ],
   "source": [
    "print tab.shape[1]\n",
    "tab.count(axis=1).sort_values(ascending=False)[1:20]"
   ]
  },
  {
   "cell_type": "code",
   "execution_count": 169,
   "metadata": {
    "collapsed": false
   },
   "outputs": [
    {
     "data": {
      "text/plain": [
       "{u'bodies': [<matplotlib.collections.PolyCollection at 0x1135cb310>],\n",
       " u'cbars': <matplotlib.collections.LineCollection at 0x113328050>,\n",
       " u'cmaxes': <matplotlib.collections.LineCollection at 0x1135cb750>,\n",
       " u'cmins': <matplotlib.collections.LineCollection at 0x1135e32d0>}"
      ]
     },
     "execution_count": 169,
     "metadata": {},
     "output_type": "execute_result"
    },
    {
     "data": {
      "image/png": "[encoded data removed]",
      "text/plain": [
       "<matplotlib.figure.Figure at 0x113747590>"
      ]
     },
     "metadata": {},
     "output_type": "display_data"
    }
   ],
   "source": [
    "pl.violinplot(tab.count(axis=1).values,vert=False)"
   ]
  },
  {
   "cell_type": "markdown",
   "metadata": {},
   "source": [
    "## Part 4 - Join & output"
   ]
  },
  {
   "cell_type": "code",
   "execution_count": 140,
   "metadata": {
    "collapsed": false
   },
   "outputs": [
    {
     "name": "stdout",
     "output_type": "stream",
     "text": [
      "(729, 16) (729, 81)\n"
     ]
    }
   ],
   "source": [
    "# sort column by alphabeta\n",
    "tab.columns = tab.columns.sort_values()\n",
    "# shape\n",
    "print df.shape, tab.shape\n",
    "# join two table\n",
    "df_with_attribute = df.join(tab)"
   ]
  },
  {
   "cell_type": "code",
   "execution_count": 170,
   "metadata": {
    "collapsed": true
   },
   "outputs": [],
   "source": [
    "df_with_attribute.to_pickle(\"./UC02_df_uc_with_att.p\")"
   ]
  },
  {
   "cell_type": "markdown",
   "metadata": {},
   "source": [
    "\n",
    "## Summary"
   ]
  },
  {
   "cell_type": "markdown",
   "metadata": {},
   "source": [
    "Label:\n",
    "* stars\n",
    "\n",
    "Filter:\n",
    "* city - u & c\n",
    "* is_open == 1\n",
    "* categories <- target category list\n",
    "\n",
    "Transform:\n",
    "* attributes\n",
    "\n",
    "<br/><br/>\n",
    "\n",
    "Useful Attribute:\n",
    "* From _attributes_\n",
    "* review_count\n",
    "* hours - not preprocess\n",
    "* lat/long, address, postal_code\n",
    "* (maybe) name - text?\n",
    "\n",
    "Not Useful:\n",
    "* state - all identical\n",
    "* type - all identical\n",
    "* neighborhood - all nan\n",
    "\n",
    "<br/><br/>\n",
    "\n",
    "Idea from last discussion:\n",
    "* make full use of remaining categories"
   ]
  }
 ],
 "metadata": {
  "anaconda-cloud": {},
  "kernelspec": {
   "display_name": "Python [default]",
   "language": "python",
   "name": "python2"
  },
  "language_info": {
   "codemirror_mode": {
    "name": "ipython",
    "version": 2
   },
   "file_extension": ".py",
   "mimetype": "text/x-python",
   "name": "python",
   "nbconvert_exporter": "python",
   "pygments_lexer": "ipython2",
   "version": "2.7.12"
  }
 },
 "nbformat": 4,
 "nbformat_minor": 1
}
