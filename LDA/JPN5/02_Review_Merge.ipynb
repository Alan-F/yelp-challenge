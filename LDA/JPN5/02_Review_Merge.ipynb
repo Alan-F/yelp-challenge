{
 "cells": [
  {
   "cell_type": "markdown",
   "metadata": {},
   "source": [
    "## 0. "
   ]
  },
  {
   "cell_type": "markdown",
   "metadata": {},
   "source": [
    "- **Directory**\n",
    "- **Business_id for other cusine types**"
   ]
  },
  {
   "cell_type": "markdown",
   "metadata": {},
   "source": [
    "## 1.Load 'review'"
   ]
  },
  {
   "cell_type": "code",
   "execution_count": 1,
   "metadata": {
    "collapsed": true
   },
   "outputs": [],
   "source": [
    "import pandas as pd\n",
    "\n",
    "with open('./yelp_academic_dataset_review.json', 'rb') as f:\n",
    "    data = f.readlines()\n",
    "data = map(lambda x: x.rstrip(), data)\n",
    "data_json_str = \"[\" + ','.join(data) + \"]\"\n",
    "rw = pd.read_json(data_json_str)"
   ]
  },
  {
   "cell_type": "markdown",
   "metadata": {},
   "source": [
    "## 2.Load 'cusine' (eg.Chinese Cusine')"
   ]
  },
  {
   "cell_type": "code",
   "execution_count": 74,
   "metadata": {
    "collapsed": false
   },
   "outputs": [
    {
     "data": {
      "text/html": [
       "<div>\n",
       "<table border=\"1\" class=\"dataframe\">\n",
       "  <thead>\n",
       "    <tr style=\"text-align: right;\">\n",
       "      <th></th>\n",
       "      <th>business_id</th>\n",
       "    </tr>\n",
       "  </thead>\n",
       "  <tbody>\n",
       "    <tr>\n",
       "      <th>Eq3qA7F5uZBUbcYXROzntA</th>\n",
       "      <td>Eq3qA7F5uZBUbcYXROzntA</td>\n",
       "    </tr>\n",
       "    <tr>\n",
       "      <th>Ld2hhA3q3cdkptwS1fsYEg</th>\n",
       "      <td>Ld2hhA3q3cdkptwS1fsYEg</td>\n",
       "    </tr>\n",
       "    <tr>\n",
       "      <th>tGBeFfwXCUZOsb0YWiMWIA</th>\n",
       "      <td>tGBeFfwXCUZOsb0YWiMWIA</td>\n",
       "    </tr>\n",
       "  </tbody>\n",
       "</table>\n",
       "</div>"
      ],
      "text/plain": [
       "                                   business_id\n",
       "Eq3qA7F5uZBUbcYXROzntA  Eq3qA7F5uZBUbcYXROzntA\n",
       "Ld2hhA3q3cdkptwS1fsYEg  Ld2hhA3q3cdkptwS1fsYEg\n",
       "tGBeFfwXCUZOsb0YWiMWIA  tGBeFfwXCUZOsb0YWiMWIA"
      ]
     },
     "execution_count": 74,
     "metadata": {},
     "output_type": "execute_result"
    }
   ],
   "source": [
    "all_jpn = pd.read_csv(\"./ALL_Japanese_Business_ID.csv\")\n",
    "all_jpn.head(3)"
   ]
  },
  {
   "cell_type": "markdown",
   "metadata": {},
   "source": [
    "## 3. Merge 1&2"
   ]
  },
  {
   "cell_type": "code",
   "execution_count": 75,
   "metadata": {
    "collapsed": false
   },
   "outputs": [
    {
     "name": "stdout",
     "output_type": "stream",
     "text": [
      "4153150\n",
      "1625\n",
      "185275\n"
     ]
    }
   ],
   "source": [
    "all_rw_jpn = all_jpn.merge(rw, how='left', left_index=True, right_on='business_id')\n",
    "print len(rw)\n",
    "print len(all_jpn)\n",
    "print len(all_rw_jpn)"
   ]
  },
  {
   "cell_type": "markdown",
   "metadata": {},
   "source": [
    "## 4. Merge 'reviews' for each 'business_id'"
   ]
  },
  {
   "cell_type": "code",
   "execution_count": 76,
   "metadata": {
    "collapsed": false
   },
   "outputs": [
    {
     "name": "stdout",
     "output_type": "stream",
     "text": [
      "1625\n"
     ]
    },
    {
     "data": {
      "text/html": [
       "<div>\n",
       "<table border=\"1\" class=\"dataframe\">\n",
       "  <thead>\n",
       "    <tr style=\"text-align: right;\">\n",
       "      <th></th>\n",
       "      <th>text</th>\n",
       "      <th>business_id</th>\n",
       "    </tr>\n",
       "  </thead>\n",
       "  <tbody>\n",
       "    <tr>\n",
       "      <th>0</th>\n",
       "      <td>Came here for lunch \\nOrdered combination bent...</td>\n",
       "      <td>-4bPFENRdTqjML8aKEL6ow</td>\n",
       "    </tr>\n",
       "    <tr>\n",
       "      <th>1</th>\n",
       "      <td>Place was okay, came here because we couldn't ...</td>\n",
       "      <td>-6mzdR0YjOToJ8E04Y9O0Q</td>\n",
       "    </tr>\n",
       "    <tr>\n",
       "      <th>2</th>\n",
       "      <td>Prices have gone up, quality has gone down. Su...</td>\n",
       "      <td>-AVRReI-nfsa0lKlehEojw</td>\n",
       "    </tr>\n",
       "    <tr>\n",
       "      <th>3</th>\n",
       "      <td>After unsuccessfully trying the other location...</td>\n",
       "      <td>-BbnAc9YEO6pjvJGEtFbVQ</td>\n",
       "    </tr>\n",
       "    <tr>\n",
       "      <th>4</th>\n",
       "      <td>UPDATE: Went back!!! Kuddos to the owners! Had...</td>\n",
       "      <td>-DnaKAs2oK3rXfrjSvn9ew</td>\n",
       "    </tr>\n",
       "    <tr>\n",
       "      <th>5</th>\n",
       "      <td>New at red Rock casino. A bit overpriced. Slow...</td>\n",
       "      <td>-FcZY7a7qgxTUlTvwuyJnQ</td>\n",
       "    </tr>\n",
       "    <tr>\n",
       "      <th>6</th>\n",
       "      <td>Maybe I am a sushi snob because we have amazin...</td>\n",
       "      <td>-FyvAo_bNe6eXWpEHpSUrQ</td>\n",
       "    </tr>\n",
       "    <tr>\n",
       "      <th>7</th>\n",
       "      <td>You should be able to give 0 stars when you ba...</td>\n",
       "      <td>-GOsHrWPC0meDRgkCEgC8w</td>\n",
       "    </tr>\n",
       "    <tr>\n",
       "      <th>8</th>\n",
       "      <td>First thing I noticed when I walked in was the...</td>\n",
       "      <td>-ITj6Pu8Gdw8MmLf0XBEKQ</td>\n",
       "    </tr>\n",
       "    <tr>\n",
       "      <th>9</th>\n",
       "      <td>Hands down best sushi I've eaten in Toronto. E...</td>\n",
       "      <td>-Ipm_8YXj9UoNNHagCvsNg</td>\n",
       "    </tr>\n",
       "  </tbody>\n",
       "</table>\n",
       "</div>"
      ],
      "text/plain": [
       "                                                text             business_id\n",
       "0  Came here for lunch \\nOrdered combination bent...  -4bPFENRdTqjML8aKEL6ow\n",
       "1  Place was okay, came here because we couldn't ...  -6mzdR0YjOToJ8E04Y9O0Q\n",
       "2  Prices have gone up, quality has gone down. Su...  -AVRReI-nfsa0lKlehEojw\n",
       "3  After unsuccessfully trying the other location...  -BbnAc9YEO6pjvJGEtFbVQ\n",
       "4  UPDATE: Went back!!! Kuddos to the owners! Had...  -DnaKAs2oK3rXfrjSvn9ew\n",
       "5  New at red Rock casino. A bit overpriced. Slow...  -FcZY7a7qgxTUlTvwuyJnQ\n",
       "6  Maybe I am a sushi snob because we have amazin...  -FyvAo_bNe6eXWpEHpSUrQ\n",
       "7  You should be able to give 0 stars when you ba...  -GOsHrWPC0meDRgkCEgC8w\n",
       "8  First thing I noticed when I walked in was the...  -ITj6Pu8Gdw8MmLf0XBEKQ\n",
       "9  Hands down best sushi I've eaten in Toronto. E...  -Ipm_8YXj9UoNNHagCvsNg"
      ]
     },
     "execution_count": 76,
     "metadata": {},
     "output_type": "execute_result"
    }
   ],
   "source": [
    "test = all_rw_jpn.copy()\n",
    "del test['business_id_x']\n",
    "del test['business_id_y']\n",
    "test.set_index(inplace=True, keys=test.business_id.values)\n",
    "output = test.groupby(test['business_id']).apply(lambda x: '. '.join(x.text))\n",
    "output2 = pd.DataFrame(output, index=output.index.values)\n",
    "output2.rename(columns={0:'text'}, inplace=True)\n",
    "output2['business_id'] = output2.index.values\n",
    "output2.reset_index(drop=True, inplace=True)\n",
    "print len(output)\n",
    "output2.head(10)"
   ]
  },
  {
   "cell_type": "markdown",
   "metadata": {},
   "source": [
    "## 5.output"
   ]
  },
  {
   "cell_type": "code",
   "execution_count": 77,
   "metadata": {
    "collapsed": false
   },
   "outputs": [],
   "source": [
    "output2.to_csv(\"./all_jpn_rw.csv\", index_label=False, encoding='utf-8')"
   ]
  }
 ],
 "metadata": {
  "kernelspec": {
   "display_name": "PUI2016_Python2",
   "language": "python",
   "name": "pui2016_python2"
  },
  "language_info": {
   "codemirror_mode": {
    "name": "ipython",
    "version": 2
   },
   "file_extension": ".py",
   "mimetype": "text/x-python",
   "name": "python",
   "nbconvert_exporter": "python",
   "pygments_lexer": "ipython2",
   "version": "2.7.12"
  }
 },
 "nbformat": 4,
 "nbformat_minor": 0
}
