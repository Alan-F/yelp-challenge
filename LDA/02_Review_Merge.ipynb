{
 "cells": [
  {
   "cell_type": "markdown",
   "metadata": {},
   "source": [
    "## 0. "
   ]
  },
  {
   "cell_type": "markdown",
   "metadata": {},
   "source": [
    "- **Directory**\n",
    "- **Business_id for other cusine types**"
   ]
  },
  {
   "cell_type": "markdown",
   "metadata": {},
   "source": [
    "## 1.Load 'review'"
   ]
  },
  {
   "cell_type": "code",
   "execution_count": 1,
   "metadata": {
    "collapsed": true
   },
   "outputs": [],
   "source": [
    "import pandas as pd\n",
    "\n",
    "with open('./yelp_academic_dataset_review.json', 'rb') as f:\n",
    "    data = f.readlines()\n",
    "data = map(lambda x: x.rstrip(), data)\n",
    "data_json_str = \"[\" + ','.join(data) + \"]\"\n",
    "rw = pd.read_json(data_json_str)"
   ]
  },
  {
   "cell_type": "markdown",
   "metadata": {},
   "source": [
    "## 2.Load 'cusine' (eg.Chinese Cusine')"
   ]
  },
  {
   "cell_type": "code",
   "execution_count": 72,
   "metadata": {
    "collapsed": false
   },
   "outputs": [
    {
     "data": {
      "text/html": [
       "<div>\n",
       "<table border=\"1\" class=\"dataframe\">\n",
       "  <thead>\n",
       "    <tr style=\"text-align: right;\">\n",
       "      <th></th>\n",
       "      <th>business_id</th>\n",
       "    </tr>\n",
       "  </thead>\n",
       "  <tbody>\n",
       "    <tr>\n",
       "      <th>q_KQbgnaYDlPx8EHTydcBQ</th>\n",
       "      <td>q_KQbgnaYDlPx8EHTydcBQ</td>\n",
       "    </tr>\n",
       "    <tr>\n",
       "      <th>2px99IppAcnxR238eq_8_w</th>\n",
       "      <td>2px99IppAcnxR238eq_8_w</td>\n",
       "    </tr>\n",
       "    <tr>\n",
       "      <th>TkXbFJtFCdM_WTLkHa6Erw</th>\n",
       "      <td>TkXbFJtFCdM_WTLkHa6Erw</td>\n",
       "    </tr>\n",
       "  </tbody>\n",
       "</table>\n",
       "</div>"
      ],
      "text/plain": [
       "                                   business_id\n",
       "q_KQbgnaYDlPx8EHTydcBQ  q_KQbgnaYDlPx8EHTydcBQ\n",
       "2px99IppAcnxR238eq_8_w  2px99IppAcnxR238eq_8_w\n",
       "TkXbFJtFCdM_WTLkHa6Erw  TkXbFJtFCdM_WTLkHa6Erw"
      ]
     },
     "execution_count": 72,
     "metadata": {},
     "output_type": "execute_result"
    }
   ],
   "source": [
    "all_chinese = pd.read_csv(\"./yelp-challenge/LDA/ALL_Chinese_Business_ID.csv\")\n",
    "all_chinese.head(3)"
   ]
  },
  {
   "cell_type": "markdown",
   "metadata": {},
   "source": [
    "## 3. Merge 1&2"
   ]
  },
  {
   "cell_type": "code",
   "execution_count": null,
   "metadata": {
    "collapsed": true
   },
   "outputs": [],
   "source": [
    "all_rw_chinese = all_chinese.merge(rw, how='left', left_index=True, right_on='business_id')\n",
    "print len(rw)\n",
    "print len(all_chinese)\n",
    "print len(all_rw_chinese)"
   ]
  },
  {
   "cell_type": "markdown",
   "metadata": {},
   "source": [
    "## 4. Merge 'reviews' for each 'business_id'"
   ]
  },
  {
   "cell_type": "code",
   "execution_count": 24,
   "metadata": {
    "collapsed": true
   },
   "outputs": [],
   "source": [
    "test = all_rw_chinese.copy()\n",
    "del test['business_id_x']\n",
    "del test['business_id_y']\n",
    "test.set_index(inplace=True, keys=test.business_id.values)\n",
    "output = test.groupby(test['business_id']).apply(lambda x: '. '.join(x.text))\n",
    "output2 = pd.DataFrame(output, index=output.index.values)\n",
    "output2.rename(columns={0:'text'}, inplace=True)\n",
    "output2['business_id'] = output2.index.values\n",
    "output2.reset_index(drop=True, inplace=True)\n",
    "print len(output)\n",
    "output2.head(10)"
   ]
  },
  {
   "cell_type": "markdown",
   "metadata": {},
   "source": [
    "## 5.output"
   ]
  },
  {
   "cell_type": "code",
   "execution_count": 25,
   "metadata": {
    "collapsed": false
   },
   "outputs": [],
   "source": [
    "output2.to_csv(\"./all_chinese_rw.csv\", index_label=False, encoding='utf-8')"
   ]
  }
 ],
 "metadata": {
  "kernelspec": {
   "display_name": "PUI2016_Python2",
   "language": "python",
   "name": "pui2016_python2"
  },
  "language_info": {
   "codemirror_mode": {
    "name": "ipython",
    "version": 2
   },
   "file_extension": ".py",
   "mimetype": "text/x-python",
   "name": "python",
   "nbconvert_exporter": "python",
   "pygments_lexer": "ipython2",
   "version": "2.7.12"
  }
 },
 "nbformat": 4,
 "nbformat_minor": 0
}
