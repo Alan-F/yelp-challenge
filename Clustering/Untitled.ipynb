{
 "cells": [
  {
   "cell_type": "code",
   "execution_count": 1,
   "metadata": {
    "collapsed": true
   },
   "outputs": [],
   "source": [
    "import pandas as pd\n",
    "import numpy as np\n",
    "import matplotlib.pyplot as plt\n",
    "%matplotlib inline"
   ]
  },
  {
   "cell_type": "code",
   "execution_count": 2,
   "metadata": {
    "collapsed": true
   },
   "outputs": [],
   "source": [
    "df = pd.read_pickle('../data_processeing/Yelp_Cuisine_Chinese.pkl')"
   ]
  },
  {
   "cell_type": "code",
   "execution_count": 15,
   "metadata": {
    "collapsed": false
   },
   "outputs": [],
   "source": [
    "df_chi = df[df['cuisine_Chinese'] == 2]"
   ]
  },
  {
   "cell_type": "code",
   "execution_count": 8,
   "metadata": {
    "collapsed": false
   },
   "outputs": [
    {
     "data": {
      "text/plain": [
       "Index([                          u'address',\n",
       "                              u'attributes',\n",
       "                             u'business_id',\n",
       "                              u'categories',\n",
       "                                    u'city',\n",
       "                                   u'hours',\n",
       "                                 u'is_open',\n",
       "                                u'latitude',\n",
       "                               u'longitude',\n",
       "                                    u'name',\n",
       "                            u'neighborhood',\n",
       "                             u'postal_code',\n",
       "                            u'review_count',\n",
       "                                   u'stars',\n",
       "                                   u'state',\n",
       "                                    u'type',\n",
       "                        u'AcceptsInsurance',\n",
       "                             u'AgesAllowed',\n",
       "                                 u'Alcohol',\n",
       "                         u'Ambience_casual',\n",
       "                         u'Ambience_classy',\n",
       "                          u'Ambience_divey',\n",
       "                        u'Ambience_hipster',\n",
       "                       u'Ambience_intimate',\n",
       "                       u'Ambience_romantic',\n",
       "                       u'Ambience_touristy',\n",
       "                         u'Ambience_trendy',\n",
       "                        u'Ambience_upscale',\n",
       "                                    u'BYOB',\n",
       "                             u'BYOBCorkage',\n",
       "                       u'BestNights_friday',\n",
       "                       u'BestNights_monday',\n",
       "                     u'BestNights_saturday',\n",
       "                       u'BestNights_sunday',\n",
       "                     u'BestNights_thursday',\n",
       "                      u'BestNights_tuesday',\n",
       "                    u'BestNights_wednesday',\n",
       "                             u'BikeParking',\n",
       "                  u'BusinessAcceptsBitcoin',\n",
       "              u'BusinessAcceptsCreditCards',\n",
       "                  u'BusinessParking_garage',\n",
       "                     u'BusinessParking_lot',\n",
       "                  u'BusinessParking_street',\n",
       "                   u'BusinessParking_valet',\n",
       "               u'BusinessParking_validated',\n",
       "                       u'ByAppointmentOnly',\n",
       "                                  u'Caters',\n",
       "                               u'CoatCheck',\n",
       "                                 u'Corkage',\n",
       "          u'DietaryRestrictions_dairy-free',\n",
       "         u'DietaryRestrictions_gluten-free',\n",
       "               u'DietaryRestrictions_halal',\n",
       "              u'DietaryRestrictions_kosher',\n",
       "            u'DietaryRestrictions_soy-free',\n",
       "               u'DietaryRestrictions_vegan',\n",
       "          u'DietaryRestrictions_vegetarian',\n",
       "                             u'DogsAllowed',\n",
       "                               u'DriveThru',\n",
       "                          u'GoodForDancing',\n",
       "                             u'GoodForKids',\n",
       "                   u'GoodForMeal_breakfast',\n",
       "                      u'GoodForMeal_brunch',\n",
       "                     u'GoodForMeal_dessert',\n",
       "                      u'GoodForMeal_dinner',\n",
       "                   u'GoodForMeal_latenight',\n",
       "                       u'GoodForMeal_lunch',\n",
       "       u'HairSpecializesIn_africanamerican',\n",
       "                 u'HairSpecializesIn_asian',\n",
       "              u'HairSpecializesIn_coloring',\n",
       "                 u'HairSpecializesIn_curly',\n",
       "            u'HairSpecializesIn_extensions',\n",
       "                  u'HairSpecializesIn_kids',\n",
       "                 u'HairSpecializesIn_perms',\n",
       "         u'HairSpecializesIn_straightperms',\n",
       "                               u'HappyHour',\n",
       "                                   u'HasTV',\n",
       "                  u'Music_background_music',\n",
       "                                u'Music_dj',\n",
       "                           u'Music_jukebox',\n",
       "                           u'Music_karaoke',\n",
       "                              u'Music_live',\n",
       "                          u'Music_no_music',\n",
       "                             u'Music_video',\n",
       "                              u'NoiseLevel',\n",
       "                             u'Open24Hours',\n",
       "                          u'OutdoorSeating',\n",
       "                       u'RestaurantsAttire',\n",
       "               u'RestaurantsCounterService',\n",
       "                     u'RestaurantsDelivery',\n",
       "                u'RestaurantsGoodForGroups',\n",
       "                  u'RestaurantsPriceRange2',\n",
       "                 u'RestaurantsReservations',\n",
       "                 u'RestaurantsTableService',\n",
       "                      u'RestaurantsTakeOut',\n",
       "                                 u'Smoking',\n",
       "                    u'WheelchairAccessible',\n",
       "                                    u'WiFi',\n",
       "                         u'cuisine_Chinese'],\n",
       "      dtype='object')"
      ]
     },
     "execution_count": 8,
     "metadata": {},
     "output_type": "execute_result"
    }
   ],
   "source": [
    "df.columns"
   ]
  },
  {
   "cell_type": "code",
   "execution_count": 20,
   "metadata": {
    "collapsed": false
   },
   "outputs": [
    {
     "data": {
      "text/plain": [
       "q_KQbgnaYDlPx8EHTydcBQ              Brown's Corners\n",
       "2px99IppAcnxR238eq_8_w                             \n",
       "TkXbFJtFCdM_WTLkHa6Erw                             \n",
       "dYmm5468BdWxWgksXpy2TQ                             \n",
       "OS5IyYEXgYV9_Z0iS4MkOw                 St. Lawrence\n",
       "01aNlDhbMObjc9OdAHuNpQ                             \n",
       "KeQ1cK564cL5C_hBTFrqnA           Mississauga Valley\n",
       "ZcMRFFuvFt5gH2hdnpyigg    Rosemont-La Petite-Patrie\n",
       "1uPQTz5XZSWr0ti7kUpaDw                  Ville-Marie\n",
       "oWDLyENvjBa5LZdRGGOrow                             \n",
       "3PhF188adiC8ZutKRP9gyQ                             \n",
       "rb4d1_OtpVD91J5NDp4Y3w                    South End\n",
       "cXdQ3H0GqcIzRgrvBEaBxw                             \n",
       "-GDfRHphXjccSWhliFHnzg                             \n",
       "ls3r7doDW0p65cwMWxEIdQ                  Scarborough\n",
       "VzUo-RURV3VnfNItAYM8yg                Spring Valley\n",
       "98gLNkYYJCg4f_uJ7o2wBg                Plaza Midwood\n",
       "3GfdCuI0YCc5U3rLLLPHUw                             \n",
       "N7wlv3nrhDPuDDY8yX6QvQ                             \n",
       "H_eO04NZAQIDcbtFQ4BUag                     Westside\n",
       "f5xm2RiwLv0gbmXU4BkrGA                   Unionville\n",
       "7sMxjqfidcS1VTqdXBWhnA                             \n",
       "NiviplzqF1RtwLvYnL79fQ                             \n",
       "0BEaW7yAystJ2OG-S0jv-Q                             \n",
       "2xbxXWeu3tpZEJdGTTGbLg                     Westside\n",
       "q0oPX1DXW86QytTvvrD9MA                  Scarborough\n",
       "0C6uuZBD7xKS-uucgwoyQw                             \n",
       "N3zuaqGESF5iZsi_md9c1Q                Spring Valley\n",
       "KUI1j3pYVVQ6ddLqTS0GWw                             \n",
       "qMJCVx6-ZYvZQHlfrZ_cug                             \n",
       "                                    ...            \n",
       "R8Mw0iFenJ3nwXuZb7Ql4A                             \n",
       "u6JJojkbqVlVI4NqKsL54Q                Bickford Park\n",
       "5XX1w4WbwSlrACQ5vKuLDw                  Ville-Marie\n",
       "B6xVgae6x4Xm5wVNrxaHiw                             \n",
       "DIxgItsSI9QwX9H8lVptYg                    Northwest\n",
       "_5XClj4E5VCIsEscbrrPKg                 Little Italy\n",
       "2reHgsuAWofHfocfJ4Xs5w                    Chinatown\n",
       "fojiPcgWlM-FJTxZlz4Idg                             \n",
       "-yzBFD877La-RP739VxF7w                   Willowdale\n",
       "bj6Km1RvgD6oyppCe5yDog                             \n",
       "D5tehjlw9ZIoUzhOEblFqA                             \n",
       "Gg0sdZWtkk9yEgpS5W_PIA                             \n",
       "VbY4yD6UmA9jKKxHscrxvg                             \n",
       "mofOjB6flg-eAWOFbOkHfQ                             \n",
       "aXnWWp6Reaep4-0iKWlYHQ                Downtown Core\n",
       "pFg0ZuTVVZMZpANZXI0LtA                             \n",
       "bM-rAr7gxsxxjD-FlRcIJA                             \n",
       "phTLTkqSvylLkmz5wAwhTw                    Northwest\n",
       "XdfYrFt4tkHn3TZWtBPDWw                             \n",
       "2YBO1LEKIgyle0uX50u15Q                             \n",
       "QpOAv584eb-ecG4TLEm95g                    Southeast\n",
       "JPfi__QJAaRzmfh5aOyFEw                             \n",
       "osvcl7Fh_J5VwUikh5Vskg                     Milliken\n",
       "9Z_6rRy7Tl_C6HIgm7y6FA                             \n",
       "uLUl_dMl6a9m774LGReDVA                             \n",
       "tquWyW3Mm5ka8LJtzodALg                             \n",
       "9iJMGMsTK-q6W5MB1_Ny3Q                             \n",
       "w5CSi-An5meLnxjKSFn0wQ                             \n",
       "Q3UkgxNNInsPcUFhsQFcrg                             \n",
       "OgwN65jZebPRIPSmNpRP7A                             \n",
       "Name: neighborhood, dtype: object"
      ]
     },
     "execution_count": 20,
     "metadata": {},
     "output_type": "execute_result"
    }
   ],
   "source": [
    "df_chi['neighborhood']"
   ]
  },
  {
   "cell_type": "code",
   "execution_count": 18,
   "metadata": {
    "collapsed": true
   },
   "outputs": [],
   "source": [
    "X = df_chi.iloc[:, 16:-1]"
   ]
  },
  {
   "cell_type": "code",
   "execution_count": 48,
   "metadata": {
    "collapsed": true
   },
   "outputs": [],
   "source": [
    "y = df_chi['stars']"
   ]
  },
  {
   "cell_type": "code",
   "execution_count": 49,
   "metadata": {
    "collapsed": false
   },
   "outputs": [
    {
     "data": {
      "text/plain": [
       "<matplotlib.axes._subplots.AxesSubplot at 0x7f15b92d5a90>"
      ]
     },
     "execution_count": 49,
     "metadata": {},
     "output_type": "execute_result"
    },
    {
     "data": {
      "image/png": "[encoded data removed]",
      "text/plain": [
       "<matplotlib.figure.Figure at 0x7f15b9265890>"
      ]
     },
     "metadata": {},
     "output_type": "display_data"
    }
   ],
   "source": [
    "y.plot(kind='kde')"
   ]
  },
  {
   "cell_type": "code",
   "execution_count": 31,
   "metadata": {
    "collapsed": false
   },
   "outputs": [],
   "source": [
    "X = pd.get_dummies(X, dummy_na=False, drop_first=True)"
   ]
  },
  {
   "cell_type": "code",
   "execution_count": 50,
   "metadata": {
    "collapsed": false
   },
   "outputs": [
    {
     "data": {
      "text/plain": [
       "3.5    862\n",
       "4.0    725\n",
       "3.0    544\n",
       "4.5    228\n",
       "2.5    210\n",
       "2.0     69\n",
       "5.0     33\n",
       "1.5     15\n",
       "1.0      7\n",
       "Name: stars, dtype: int64"
      ]
     },
     "execution_count": 50,
     "metadata": {},
     "output_type": "execute_result"
    }
   ],
   "source": [
    "y.value_counts()"
   ]
  },
  {
   "cell_type": "code",
   "execution_count": 35,
   "metadata": {
    "collapsed": false
   },
   "outputs": [
    {
     "data": {
      "text/plain": [
       "HairSpecializesIn_straightperms_True         1\n",
       "BusinessParking_validated_True               1\n",
       "GoodForDancing_True                          1\n",
       "Ambience_intimate_True                       2\n",
       "GoodForKids_True                             2\n",
       "CoatCheck_True                               2\n",
       "Ambience_romantic_formal                     3\n",
       "DietaryRestrictions_vegan_True               3\n",
       "DietaryRestrictions_dairy-free_True          4\n",
       "ByAppointmentOnly_True                       4\n",
       "Music_live_True                              4\n",
       "RestaurantsReservations_True                 5\n",
       "HairSpecializesIn_africanamerican_True       6\n",
       "Open24Hours_True                             7\n",
       "BestNights_thursday_yes_corkage              7\n",
       "BestNights_saturday_True                     7\n",
       "BusinessAcceptsBitcoin_True                  8\n",
       "Ambience_trendy_True                         8\n",
       "RestaurantsTakeOut_True                      8\n",
       "BestNights_monday_True                      10\n",
       "BestNights_tuesday_True                     11\n",
       "Music_jukebox_True                          11\n",
       "BusinessParking_lot_paid                    12\n",
       "DietaryRestrictions_kosher_True             12\n",
       "RestaurantsTableService_True                15\n",
       "HairSpecializesIn_coloring_True             15\n",
       "HairSpecializesIn_kids_4                    17\n",
       "BestNights_wednesday_True                   17\n",
       "Ambience_touristy_True                      18\n",
       "GoodForMeal_breakfast_True                  22\n",
       "                                          ... \n",
       "RestaurantsCounterService_True              64\n",
       "GoodForMeal_latenight_True                  69\n",
       "GoodForMeal_dinner_True                     93\n",
       "HairSpecializesIn_kids_3                    99\n",
       "BYOBCorkage_True                           123\n",
       "Music_video_True                           133\n",
       "AgesAllowed_True                           147\n",
       "Ambience_hipster_loud                      153\n",
       "GoodForMeal_lunch_True                     455\n",
       "HairSpecializesIn_curly_True               532\n",
       "Ambience_hipster_quiet                     615\n",
       "Ambience_classy_full_bar                   647\n",
       "BusinessParking_lot_free                   713\n",
       "HappyHour_True                             936\n",
       "RestaurantsPriceRange2_True               1061\n",
       "Ambience_divey_True                       1065\n",
       "BusinessAcceptsCreditCards_True           1085\n",
       "Ambience_classy_none                      1117\n",
       "Music_no_music_True                       1144\n",
       "OutdoorSeating_True                       1193\n",
       "BYOB_True                                 1291\n",
       "Smoking_True                              1324\n",
       "BusinessParking_garage_True               1357\n",
       "HairSpecializesIn_kids_2                  1389\n",
       "Corkage_True                              1665\n",
       "GoodForMeal_dessert_True                  1759\n",
       "Ambience_upscale_True                     2248\n",
       "BestNights_sunday_True                    2313\n",
       "DietaryRestrictions_soy-free_True         2347\n",
       "DietaryRestrictions_halal_True            2516\n",
       "dtype: int64"
      ]
     },
     "execution_count": 35,
     "metadata": {},
     "output_type": "execute_result"
    }
   ],
   "source": [
    "X.sum().sort_values()"
   ]
  },
  {
   "cell_type": "code",
   "execution_count": 51,
   "metadata": {
    "collapsed": true
   },
   "outputs": [],
   "source": [
    "def good_bad(x):\n",
    "    if x >= 4.0:\n",
    "        return 1\n",
    "    else:\n",
    "        return 0\n",
    "y = y.apply(good_bad)"
   ]
  },
  {
   "cell_type": "code",
   "execution_count": 52,
   "metadata": {
    "collapsed": false,
    "scrolled": true
   },
   "outputs": [
    {
     "data": {
      "text/plain": [
       "q_KQbgnaYDlPx8EHTydcBQ    0\n",
       "2px99IppAcnxR238eq_8_w    1\n",
       "TkXbFJtFCdM_WTLkHa6Erw    0\n",
       "dYmm5468BdWxWgksXpy2TQ    0\n",
       "OS5IyYEXgYV9_Z0iS4MkOw    0\n",
       "01aNlDhbMObjc9OdAHuNpQ    1\n",
       "KeQ1cK564cL5C_hBTFrqnA    1\n",
       "ZcMRFFuvFt5gH2hdnpyigg    0\n",
       "1uPQTz5XZSWr0ti7kUpaDw    1\n",
       "oWDLyENvjBa5LZdRGGOrow    0\n",
       "3PhF188adiC8ZutKRP9gyQ    0\n",
       "rb4d1_OtpVD91J5NDp4Y3w    1\n",
       "cXdQ3H0GqcIzRgrvBEaBxw    1\n",
       "-GDfRHphXjccSWhliFHnzg    0\n",
       "ls3r7doDW0p65cwMWxEIdQ    0\n",
       "VzUo-RURV3VnfNItAYM8yg    1\n",
       "98gLNkYYJCg4f_uJ7o2wBg    0\n",
       "3GfdCuI0YCc5U3rLLLPHUw    1\n",
       "N7wlv3nrhDPuDDY8yX6QvQ    0\n",
       "H_eO04NZAQIDcbtFQ4BUag    1\n",
       "f5xm2RiwLv0gbmXU4BkrGA    1\n",
       "7sMxjqfidcS1VTqdXBWhnA    0\n",
       "NiviplzqF1RtwLvYnL79fQ    1\n",
       "0BEaW7yAystJ2OG-S0jv-Q    0\n",
       "2xbxXWeu3tpZEJdGTTGbLg    1\n",
       "q0oPX1DXW86QytTvvrD9MA    1\n",
       "0C6uuZBD7xKS-uucgwoyQw    1\n",
       "N3zuaqGESF5iZsi_md9c1Q    1\n",
       "KUI1j3pYVVQ6ddLqTS0GWw    0\n",
       "qMJCVx6-ZYvZQHlfrZ_cug    1\n",
       "                         ..\n",
       "R8Mw0iFenJ3nwXuZb7Ql4A    0\n",
       "u6JJojkbqVlVI4NqKsL54Q    1\n",
       "5XX1w4WbwSlrACQ5vKuLDw    1\n",
       "B6xVgae6x4Xm5wVNrxaHiw    0\n",
       "DIxgItsSI9QwX9H8lVptYg    1\n",
       "_5XClj4E5VCIsEscbrrPKg    1\n",
       "2reHgsuAWofHfocfJ4Xs5w    1\n",
       "fojiPcgWlM-FJTxZlz4Idg    0\n",
       "-yzBFD877La-RP739VxF7w    1\n",
       "bj6Km1RvgD6oyppCe5yDog    0\n",
       "D5tehjlw9ZIoUzhOEblFqA    0\n",
       "Gg0sdZWtkk9yEgpS5W_PIA    1\n",
       "VbY4yD6UmA9jKKxHscrxvg    1\n",
       "mofOjB6flg-eAWOFbOkHfQ    0\n",
       "aXnWWp6Reaep4-0iKWlYHQ    0\n",
       "pFg0ZuTVVZMZpANZXI0LtA    0\n",
       "bM-rAr7gxsxxjD-FlRcIJA    1\n",
       "phTLTkqSvylLkmz5wAwhTw    0\n",
       "XdfYrFt4tkHn3TZWtBPDWw    1\n",
       "2YBO1LEKIgyle0uX50u15Q    0\n",
       "QpOAv584eb-ecG4TLEm95g    0\n",
       "JPfi__QJAaRzmfh5aOyFEw    1\n",
       "osvcl7Fh_J5VwUikh5Vskg    0\n",
       "9Z_6rRy7Tl_C6HIgm7y6FA    1\n",
       "uLUl_dMl6a9m774LGReDVA    0\n",
       "tquWyW3Mm5ka8LJtzodALg    0\n",
       "9iJMGMsTK-q6W5MB1_Ny3Q    1\n",
       "w5CSi-An5meLnxjKSFn0wQ    1\n",
       "Q3UkgxNNInsPcUFhsQFcrg    1\n",
       "OgwN65jZebPRIPSmNpRP7A    1\n",
       "Name: stars, dtype: int64"
      ]
     },
     "execution_count": 52,
     "metadata": {},
     "output_type": "execute_result"
    }
   ],
   "source": [
    "y"
   ]
  },
  {
   "cell_type": "code",
   "execution_count": 39,
   "metadata": {
    "collapsed": true
   },
   "outputs": [],
   "source": [
    "from sklearn.model_selection import train_test_split\n",
    "from sklearn.metrics import roc_auc_score\n",
    "from sklearn.ensemble import RandomForestClassifier"
   ]
  },
  {
   "cell_type": "code",
   "execution_count": 76,
   "metadata": {
    "collapsed": false
   },
   "outputs": [],
   "source": [
    "def RF_model(X, y, test_size, random_state_split, random_state_model, n_estimators):\n",
    "    X_train, X_test, y_train, y_test = train_test_split(X, y, test_size=test_size, random_state=random_state_split)\n",
    "    rf = RandomForestClassifier(n_estimators=n_estimators, random_state=random_state_model)\n",
    "    rf = rf.fit(X_train, y_train)\n",
    "    y_predict = rf.predict(X_test)\n",
    "    return roc_auc_score(y_test, y_predict)"
   ]
  },
  {
   "cell_type": "code",
   "execution_count": 86,
   "metadata": {
    "collapsed": false
   },
   "outputs": [
    {
     "data": {
      "text/plain": [
       "0.57762115757407917"
      ]
     },
     "execution_count": 86,
     "metadata": {},
     "output_type": "execute_result"
    }
   ],
   "source": [
    "RF_model(X, y, test_size=0.33, random_state_split=1, random_state_model=1, n_estimators=100)"
   ]
  }
 ],
 "metadata": {
  "kernelspec": {
   "display_name": "myPy27",
   "language": "python",
   "name": "mypy27"
  },
  "language_info": {
   "codemirror_mode": {
    "name": "ipython",
    "version": 2
   },
   "file_extension": ".py",
   "mimetype": "text/x-python",
   "name": "python",
   "nbconvert_exporter": "python",
   "pygments_lexer": "ipython2",
   "version": "2.7.13"
  }
 },
 "nbformat": 4,
 "nbformat_minor": 0
}
