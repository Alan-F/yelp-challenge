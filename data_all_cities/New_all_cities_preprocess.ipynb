{
 "cells": [
  {
   "cell_type": "markdown",
   "metadata": {},
   "source": [
    "### 27314 in total"
   ]
  },
  {
   "cell_type": "code",
   "execution_count": 1,
   "metadata": {
    "collapsed": true
   },
   "outputs": [],
   "source": [
    "import pandas as pd\n",
    "import yaml\n",
    "import numpy as np"
   ]
  },
  {
   "cell_type": "markdown",
   "metadata": {},
   "source": [
    "## Load"
   ]
  },
  {
   "cell_type": "code",
   "execution_count": 3,
   "metadata": {
    "collapsed": false
   },
   "outputs": [],
   "source": [
    "# with open('./DATA/yelp_dataset_challenge_round9/yelp_academic_dataset_business.json', 'rb') as fi:\n",
    "#     data = fi.readlines()\n",
    "    \n",
    "# with open(\"./cat_food.txt\", 'rw') as fi:\n",
    "#     food = fi.read().splitlines() \n",
    "# target_cat = food"
   ]
  },
  {
   "cell_type": "markdown",
   "metadata": {},
   "source": [
    "## Preprocess"
   ]
  },
  {
   "cell_type": "code",
   "execution_count": 4,
   "metadata": {
    "collapsed": true
   },
   "outputs": [],
   "source": [
    "# data = map(lambda x: x.rstrip(), data)\n",
    "# data_json_str = \"[\" + ','.join(data) + \"]\"\n",
    "# df = pd.read_json(data_json_str)\n",
    "# df.reset_index(drop=True, inplace=True)\n",
    "\n",
    "# df_open = df[df.is_open == 1]\n",
    "# df_open.reset_index(drop=True, inplace=True)\n",
    "\n",
    "# df_open = df_open.dropna(subset=['hours'])\n",
    "# df_open.reset_index(drop=True, inplace=True)\n",
    "\n",
    "# df_open = df_open.dropna(subset=['attributes'])\n",
    "# df_open.reset_index(drop=True, inplace=True)\n",
    "\n",
    "\n",
    "# df_open = df_open[df_open.categories.apply(lambda x: not set(x).isdisjoint(set(target_cat)))]\n",
    "# df_open.index = df_open.business_id.values\n",
    "# att = df_open.attributes\n",
    "# a = att.apply(lambda x: yaml.load('['+','.join(x)+']'))\n",
    "# df_open.attributes = a\n",
    "\n",
    "# att_all = set()\n",
    "# for row in a:\n",
    "#     for i in row:\n",
    "#         if not isinstance(i.values()[0], dict):\n",
    "#             att_all.add(i.keys()[0])\n",
    "#         else:\n",
    "#             prefix = i.keys()[0]\n",
    "#             for k in i.values()[0].iterkeys():\n",
    "#                 suffix = k\n",
    "#                 temp = prefix + '_' + suffix\n",
    "#                 att_all.add(temp)\n",
    "                \n",
    "# tab = pd.DataFrame(columns=att_all, index=df_open.index)\n",
    "# for ind in tab.index:\n",
    "#     for j in a[ind]:\n",
    "#         if not isinstance(j.values()[0], dict):\n",
    "#             tab.loc[ind, j.keys()[0]] = j.values()[0]\n",
    "#         else:\n",
    "#             prefix = j.keys()[0]\n",
    "#             for k, v in j.values()[0].iteritems():\n",
    "#                 suffix = k\n",
    "#                 temp = prefix + '_' + suffix\n",
    "#                 tab.loc[ind, temp] = v                \n",
    "\n",
    "# tab.columns = tab.columns.sort_values()\n",
    "# df_with_attribute = df_open.join(tab)\n",
    "\n",
    "# df_with_attribute.to_pickle(\"all_cities_preprocess.pkl\")"
   ]
  },
  {
   "cell_type": "code",
   "execution_count": 73,
   "metadata": {
    "collapsed": false
   },
   "outputs": [],
   "source": [
    "# Be careful! encoding!\n",
    "# df_with_attribute.to_csv(\"all_cities_preprocess.csv\", encoding='utf-8')"
   ]
  },
  {
   "cell_type": "markdown",
   "metadata": {},
   "source": [
    "### Code above same as Old_all_cities_preprocess.ipynb"
   ]
  },
  {
   "cell_type": "markdown",
   "metadata": {},
   "source": [
    "## <br/><br/>"
   ]
  },
  {
   "cell_type": "code",
   "execution_count": 2,
   "metadata": {
    "collapsed": true
   },
   "outputs": [],
   "source": [
    "df_with_attribute = pd.read_pickle('../yelp-challenge/data_all_cities/all_cities_preprocess.pkl')"
   ]
  },
  {
   "cell_type": "markdown",
   "metadata": {},
   "source": [
    "## Description"
   ]
  },
  {
   "cell_type": "code",
   "execution_count": 3,
   "metadata": {
    "collapsed": false
   },
   "outputs": [
    {
     "data": {
      "text/plain": [
       "(27314, 97)"
      ]
     },
     "execution_count": 3,
     "metadata": {},
     "output_type": "execute_result"
    }
   ],
   "source": [
    "df_with_attribute.shape"
   ]
  },
  {
   "cell_type": "code",
   "execution_count": 4,
   "metadata": {
    "collapsed": false
   },
   "outputs": [
    {
     "data": {
      "text/plain": [
       "array([27314, 27314, 27314, 27314, 27314, 27314, 27314, 27314, 27314,\n",
       "       27314, 27314, 27314, 27314, 27314, 27314, 27314,  2619, 23688,\n",
       "        3667,     7, 23174, 24032, 22282,  3285, 24840,  3285,   159,\n",
       "       25460, 25339, 23217,  3285,   261,  2619, 25511,   891, 22907,\n",
       "       23217, 23688,  3285, 19314, 23688, 21387,     6, 23217,   159,\n",
       "         575,     4,  1722, 23096, 23217,     4, 26006, 23217, 25259,\n",
       "         159,  3200,   192,     4,   159,   159,  2619,  4853, 22555,\n",
       "       23688, 23688, 23590,   432,  3285, 23217, 24864,     6, 26138,\n",
       "          44,   159, 25242, 14844,  2619,   388,  2619,     6,  3285,\n",
       "       23590, 23590,     6,  2619, 23688,  3285,  3550, 23217, 23590,\n",
       "       12867,  3134,  3316,   159, 23217,     6,  2619])"
      ]
     },
     "execution_count": 4,
     "metadata": {},
     "output_type": "execute_result"
    }
   ],
   "source": [
    "df_with_attribute.count().values"
   ]
  },
  {
   "cell_type": "code",
   "execution_count": 5,
   "metadata": {
    "collapsed": false
   },
   "outputs": [
    {
     "data": {
      "text/html": [
       "<div>\n",
       "<table border=\"1\" class=\"dataframe\">\n",
       "  <thead>\n",
       "    <tr style=\"text-align: right;\">\n",
       "      <th></th>\n",
       "      <th>address</th>\n",
       "      <th>attributes</th>\n",
       "      <th>business_id</th>\n",
       "      <th>categories</th>\n",
       "      <th>city</th>\n",
       "      <th>hours</th>\n",
       "      <th>is_open</th>\n",
       "      <th>latitude</th>\n",
       "      <th>longitude</th>\n",
       "      <th>name</th>\n",
       "      <th>...</th>\n",
       "      <th>RestaurantsCounterService</th>\n",
       "      <th>RestaurantsDelivery</th>\n",
       "      <th>RestaurantsGoodForGroups</th>\n",
       "      <th>RestaurantsPriceRange2</th>\n",
       "      <th>RestaurantsReservations</th>\n",
       "      <th>RestaurantsTableService</th>\n",
       "      <th>RestaurantsTakeOut</th>\n",
       "      <th>Smoking</th>\n",
       "      <th>WheelchairAccessible</th>\n",
       "      <th>WiFi</th>\n",
       "    </tr>\n",
       "  </thead>\n",
       "  <tbody>\n",
       "    <tr>\n",
       "      <th>eHLUQ2W_hXx61NmiL9kSVg</th>\n",
       "      <td>18221 N Pima Rd, Ste 140</td>\n",
       "      <td>[{u'Alcohol': u'full_bar'}, {u'Ambience': {u'r...</td>\n",
       "      <td>eHLUQ2W_hXx61NmiL9kSVg</td>\n",
       "      <td>[Pizza, Italian, Restaurants]</td>\n",
       "      <td>Scottsdale</td>\n",
       "      <td>[Monday 11:0-0:0, Tuesday 11:0-0:0, Wednesday ...</td>\n",
       "      <td>1</td>\n",
       "      <td>33.651369</td>\n",
       "      <td>-111.886245</td>\n",
       "      <td>Rosati's Pizza</td>\n",
       "      <td>...</td>\n",
       "      <td>NaN</td>\n",
       "      <td>False</td>\n",
       "      <td>False</td>\n",
       "      <td>True</td>\n",
       "      <td>NaN</td>\n",
       "      <td>NaN</td>\n",
       "      <td>NaN</td>\n",
       "      <td>True</td>\n",
       "      <td>NaN</td>\n",
       "      <td>NaN</td>\n",
       "    </tr>\n",
       "    <tr>\n",
       "      <th>OgwN65jZebPRIPSmNpRP7A</th>\n",
       "      <td>7610 Elmwood Ave</td>\n",
       "      <td>[{u'Alcohol': u'none'}, {u'Ambience': {u'roman...</td>\n",
       "      <td>OgwN65jZebPRIPSmNpRP7A</td>\n",
       "      <td>[Restaurants, Ethnic Food, Chinese, Seafood, S...</td>\n",
       "      <td>Middleton</td>\n",
       "      <td>[Monday 16:0-20:30, Tuesday 16:0-20:30, Wednes...</td>\n",
       "      <td>1</td>\n",
       "      <td>43.095930</td>\n",
       "      <td>-89.513004</td>\n",
       "      <td>Taigu</td>\n",
       "      <td>...</td>\n",
       "      <td>NaN</td>\n",
       "      <td>False</td>\n",
       "      <td>False</td>\n",
       "      <td>NaN</td>\n",
       "      <td>NaN</td>\n",
       "      <td>NaN</td>\n",
       "      <td>NaN</td>\n",
       "      <td>True</td>\n",
       "      <td>NaN</td>\n",
       "      <td>NaN</td>\n",
       "    </tr>\n",
       "  </tbody>\n",
       "</table>\n",
       "<p>2 rows × 97 columns</p>\n",
       "</div>"
      ],
      "text/plain": [
       "                                         address  \\\n",
       "eHLUQ2W_hXx61NmiL9kSVg  18221 N Pima Rd, Ste 140   \n",
       "OgwN65jZebPRIPSmNpRP7A          7610 Elmwood Ave   \n",
       "\n",
       "                                                               attributes  \\\n",
       "eHLUQ2W_hXx61NmiL9kSVg  [{u'Alcohol': u'full_bar'}, {u'Ambience': {u'r...   \n",
       "OgwN65jZebPRIPSmNpRP7A  [{u'Alcohol': u'none'}, {u'Ambience': {u'roman...   \n",
       "\n",
       "                                   business_id  \\\n",
       "eHLUQ2W_hXx61NmiL9kSVg  eHLUQ2W_hXx61NmiL9kSVg   \n",
       "OgwN65jZebPRIPSmNpRP7A  OgwN65jZebPRIPSmNpRP7A   \n",
       "\n",
       "                                                               categories  \\\n",
       "eHLUQ2W_hXx61NmiL9kSVg                      [Pizza, Italian, Restaurants]   \n",
       "OgwN65jZebPRIPSmNpRP7A  [Restaurants, Ethnic Food, Chinese, Seafood, S...   \n",
       "\n",
       "                              city  \\\n",
       "eHLUQ2W_hXx61NmiL9kSVg  Scottsdale   \n",
       "OgwN65jZebPRIPSmNpRP7A   Middleton   \n",
       "\n",
       "                                                                    hours  \\\n",
       "eHLUQ2W_hXx61NmiL9kSVg  [Monday 11:0-0:0, Tuesday 11:0-0:0, Wednesday ...   \n",
       "OgwN65jZebPRIPSmNpRP7A  [Monday 16:0-20:30, Tuesday 16:0-20:30, Wednes...   \n",
       "\n",
       "                        is_open   latitude   longitude            name ...   \\\n",
       "eHLUQ2W_hXx61NmiL9kSVg        1  33.651369 -111.886245  Rosati's Pizza ...    \n",
       "OgwN65jZebPRIPSmNpRP7A        1  43.095930  -89.513004           Taigu ...    \n",
       "\n",
       "                       RestaurantsCounterService RestaurantsDelivery  \\\n",
       "eHLUQ2W_hXx61NmiL9kSVg                       NaN               False   \n",
       "OgwN65jZebPRIPSmNpRP7A                       NaN               False   \n",
       "\n",
       "                        RestaurantsGoodForGroups  RestaurantsPriceRange2  \\\n",
       "eHLUQ2W_hXx61NmiL9kSVg                     False                    True   \n",
       "OgwN65jZebPRIPSmNpRP7A                     False                     NaN   \n",
       "\n",
       "                       RestaurantsReservations RestaurantsTableService  \\\n",
       "eHLUQ2W_hXx61NmiL9kSVg                     NaN                     NaN   \n",
       "OgwN65jZebPRIPSmNpRP7A                     NaN                     NaN   \n",
       "\n",
       "                       RestaurantsTakeOut Smoking WheelchairAccessible WiFi  \n",
       "eHLUQ2W_hXx61NmiL9kSVg                NaN    True                  NaN  NaN  \n",
       "OgwN65jZebPRIPSmNpRP7A                NaN    True                  NaN  NaN  \n",
       "\n",
       "[2 rows x 97 columns]"
      ]
     },
     "execution_count": 5,
     "metadata": {},
     "output_type": "execute_result"
    }
   ],
   "source": [
    "df_with_attribute.tail(2)"
   ]
  },
  {
   "cell_type": "markdown",
   "metadata": {},
   "source": [
    "### Top100 \n",
    "#### by # of records"
   ]
  },
  {
   "cell_type": "code",
   "execution_count": 13,
   "metadata": {
    "collapsed": false
   },
   "outputs": [],
   "source": [
    "city_n = df_with_attribute.groupby(df_with_attribute.city).size()"
   ]
  },
  {
   "cell_type": "code",
   "execution_count": 14,
   "metadata": {
    "collapsed": false
   },
   "outputs": [
    {
     "data": {
      "text/plain": [
       "city\n",
       "Toronto        3429\n",
       "Las Vegas      2943\n",
       "Phoenix        1772\n",
       "Montréal       1644\n",
       "Charlotte      1306\n",
       "Pittsburgh     1190\n",
       "Edinburgh       893\n",
       "Scottsdale      738\n",
       "Stuttgart       728\n",
       "Mississauga     678\n",
       "Cleveland       671\n",
       "Madison         602\n",
       "Mesa            566\n",
       "Tempe           483\n",
       "Henderson       424\n",
       "Chandler        406\n",
       "Markham         340\n",
       "Glendale        330\n",
       "Gilbert         264\n",
       "Vaughan         235\n",
       "dtype: int64"
      ]
     },
     "execution_count": 14,
     "metadata": {},
     "output_type": "execute_result"
    }
   ],
   "source": [
    "city_n.sort_values(ascending=False)[:20]"
   ]
  }
 ],
 "metadata": {
  "anaconda-cloud": {},
  "kernelspec": {
   "display_name": "Python [default]",
   "language": "python",
   "name": "python2"
  },
  "language_info": {
   "codemirror_mode": {
    "name": "ipython",
    "version": 2
   },
   "file_extension": ".py",
   "mimetype": "text/x-python",
   "name": "python",
   "nbconvert_exporter": "python",
   "pygments_lexer": "ipython2",
   "version": "2.7.12"
  }
 },
 "nbformat": 4,
 "nbformat_minor": 1
}
