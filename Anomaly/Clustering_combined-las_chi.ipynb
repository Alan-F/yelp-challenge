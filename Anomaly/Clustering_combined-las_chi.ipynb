{
 "cells": [
  {
   "cell_type": "code",
   "execution_count": 2,
   "metadata": {
    "collapsed": true
   },
   "outputs": [],
   "source": [
    "import numpy as np\n",
    "import pandas as pd\n",
    "from scipy.spatial import distance\n",
    "from sklearn.cluster import SpectralClustering\n",
    "from sklearn.cluster import KMeans\n",
    "from sklearn.mixture import GaussianMixture\n",
    "from sklearn.metrics import silhouette_samples, silhouette_score\n",
    "import matplotlib.pyplot as plt\n",
    "%matplotlib inline"
   ]
  },
  {
   "cell_type": "code",
   "execution_count": 3,
   "metadata": {
    "collapsed": false
   },
   "outputs": [],
   "source": [
    "df = pd.read_pickle('df_1518.pkl')"
   ]
  },
  {
   "cell_type": "code",
   "execution_count": 4,
   "metadata": {
    "collapsed": true
   },
   "outputs": [],
   "source": [
    "spatial_label = pd.read_pickle('../data_processeing/spatial_labels.pkl')"
   ]
  },
  {
   "cell_type": "code",
   "execution_count": 5,
   "metadata": {
    "collapsed": true
   },
   "outputs": [],
   "source": [
    "df_new = pd.concat([df,spatial_label], axis=1)"
   ]
  },
  {
   "cell_type": "code",
   "execution_count": 6,
   "metadata": {
    "collapsed": false
   },
   "outputs": [],
   "source": [
    "df_select = df_new[(df_new['stars'] >= 4) & (df_new['spatial_label'] == 7) & (df_new['cuisine_Chinese'] == 2)]"
   ]
  },
  {
   "cell_type": "markdown",
   "metadata": {},
   "source": [
    "# Spectual Clustering"
   ]
  },
  {
   "cell_type": "code",
   "execution_count": 7,
   "metadata": {
    "collapsed": true
   },
   "outputs": [],
   "source": [
    "X = df_select.loc[:, 'AgesAllowed': 'review_count_greater_median']\n",
    "X = pd.concat([X, df_select[['stars']]], axis=1)\n",
    "X['stars'] = X['stars'].apply(str)\n",
    "X = pd.get_dummies(X, dummy_na=False, drop_first=True)\n",
    "def true_false(x):\n",
    "    if x == True:\n",
    "        return 1\n",
    "    else:\n",
    "        return 0\n",
    "X['review_count_greater_median'] = X['review_count_greater_median'].apply(true_false)"
   ]
  },
  {
   "cell_type": "code",
   "execution_count": 8,
   "metadata": {
    "collapsed": false
   },
   "outputs": [
    {
     "name": "stdout",
     "output_type": "stream",
     "text": [
      "0.0604747245331\n",
      "161\n",
      "8\n",
      "0\n",
      "0\n",
      "0\n",
      "0.0179897292672\n",
      "160\n",
      "8\n",
      "1\n",
      "0\n",
      "0\n",
      "0.043740098015\n",
      "7\n",
      "153\n",
      "8\n",
      "1\n",
      "0\n"
     ]
    }
   ],
   "source": [
    "for n_clusters in range(2,5):  \n",
    "    spectural_clustering = SpectralClustering(n_clusters=n_clusters, random_state=100, affinity='sigmoid').fit(X)\n",
    "    labels = spectural_clustering.labels_\n",
    "    print silhouette_score(X, labels, metric='cityblock')\n",
    "    print list(labels).count(0)\n",
    "    print list(labels).count(1)\n",
    "    print list(labels).count(2)\n",
    "    print list(labels).count(3)\n",
    "    print list(labels).count(4)"
   ]
  },
  {
   "cell_type": "code",
   "execution_count": 9,
   "metadata": {
    "collapsed": true
   },
   "outputs": [],
   "source": [
    "spectural_clustering = SpectralClustering(n_clusters=2, random_state=999, affinity='sigmoid').fit(X)\n",
    "labels_spectural = spectural_clustering.labels_"
   ]
  },
  {
   "cell_type": "code",
   "execution_count": 10,
   "metadata": {
    "collapsed": false
   },
   "outputs": [
    {
     "data": {
      "text/plain": [
       "(169, 67)"
      ]
     },
     "execution_count": 10,
     "metadata": {},
     "output_type": "execute_result"
    }
   ],
   "source": [
    "df_select.shape"
   ]
  },
  {
   "cell_type": "markdown",
   "metadata": {},
   "source": [
    "# KMeans"
   ]
  },
  {
   "cell_type": "code",
   "execution_count": 11,
   "metadata": {
    "collapsed": true
   },
   "outputs": [],
   "source": [
    "## function that gets silhouette scores for a clustering method\n",
    "def get_silhouette_score(X, cluster_method, method='complete'):\n",
    "    \n",
    "    #Choose a range(list) of clusters I would like to try:\n",
    "    range_n_clusters = range(2,10)\n",
    "    \n",
    "    if cluster_method == 'kmeans':\n",
    "        for n_clusters in range_n_clusters: \n",
    "            km_result = KMeans(n_clusters=n_clusters, random_state=22).fit(X) # fit model\n",
    "            cluster_labels = km_result.labels_\n",
    "\n",
    "            # clustering model & clustering result to variable \"cluster_labels\". \n",
    "            silhouette_avg = silhouette_score(X, cluster_labels, random_state=22)\n",
    "            print(\"For n_clusters ={},\".format(n_clusters)+\"{} - average silhouette_score :{}\".\\\n",
    "                  format(cluster_method, silhouette_avg))\n",
    "\n",
    "        \n",
    "    elif cluster_method == 'gaussian_mix':\n",
    "        for n_clusters in range_n_clusters: \n",
    "            gm = GaussianMixture(n_components=n_clusters, random_state=22).fit(X) # fit model\n",
    "            cluster_labels = gm.predict(X)\n",
    "\n",
    "            # clustering model & clustering result to variable \"cluster_labels\". \n",
    "            silhouette_avg = silhouette_score(X, cluster_labels, random_state=22)\n",
    "            print(\"For n_clusters ={},\".format(n_clusters)+\"{} - average silhouette_score :{}\".\\\n",
    "                  format(cluster_method, silhouette_avg))\n",
    "        \n",
    "        # res_mix_cluster.predict(X)\n",
    "        \n",
    "    elif cluster_method == 'hierarchical':\n",
    "        # Define Z\n",
    "        Z = linkage(X, method)\n",
    "\n",
    "        for n_clusters in range_n_clusters:   \n",
    "            cluster_labels=  fcluster(Z, n_clusters, criterion='maxclust') \n",
    "\n",
    "            silhouette_avg = silhouette_score(X, cluster_labels, random_state=22)\n",
    "            print(\"For n_clusters ={},\".format(n_clusters)+\"{} - average silhouette_score :{}\".\\\n",
    "                  format(cluster_method, silhouette_avg))"
   ]
  },
  {
   "cell_type": "code",
   "execution_count": 12,
   "metadata": {
    "collapsed": false
   },
   "outputs": [
    {
     "name": "stdout",
     "output_type": "stream",
     "text": [
      "For n_clusters =2,kmeans - average silhouette_score :0.153933490359\n",
      "For n_clusters =3,kmeans - average silhouette_score :0.0895060167385\n",
      "For n_clusters =4,kmeans - average silhouette_score :0.0960596183143\n",
      "For n_clusters =5,kmeans - average silhouette_score :0.0941486644697\n",
      "For n_clusters =6,kmeans - average silhouette_score :0.0916804580175\n",
      "For n_clusters =7,kmeans - average silhouette_score :0.0956989968796\n",
      "For n_clusters =8,kmeans - average silhouette_score :0.0840999060067\n",
      "For n_clusters =9,kmeans - average silhouette_score :0.0849166946159\n"
     ]
    }
   ],
   "source": [
    "## choose the number of clusters using silhouette method\n",
    "get_silhouette_score(X, 'kmeans')"
   ]
  },
  {
   "cell_type": "code",
   "execution_count": 13,
   "metadata": {
    "collapsed": false
   },
   "outputs": [
    {
     "name": "stdout",
     "output_type": "stream",
     "text": [
      "77\n",
      "33\n",
      "59\n"
     ]
    }
   ],
   "source": [
    "n_clusters = 3  # number of clusters\n",
    "#XX= X.ix[:, ] # hour of day data\n",
    "\n",
    "#train the model.\n",
    "km=KMeans(n_clusters=n_clusters, random_state=22).fit(X)\n",
    "labels_km = km.labels_\n",
    "\n",
    "print list(labels_km).count(0)\n",
    "print list(labels_km).count(1)\n",
    "print list(labels_km).count(2)"
   ]
  },
  {
   "cell_type": "code",
   "execution_count": 14,
   "metadata": {
    "collapsed": false
   },
   "outputs": [
    {
     "data": {
      "text/html": [
       "<div>\n",
       "<table border=\"1\" class=\"dataframe\">\n",
       "  <thead>\n",
       "    <tr style=\"text-align: right;\">\n",
       "      <th></th>\n",
       "      <th>0</th>\n",
       "      <th>1</th>\n",
       "      <th>2</th>\n",
       "      <th>cluster</th>\n",
       "      <th>score</th>\n",
       "    </tr>\n",
       "  </thead>\n",
       "  <tbody>\n",
       "    <tr>\n",
       "      <th>69</th>\n",
       "      <td>3.523839</td>\n",
       "      <td>2.965984</td>\n",
       "      <td>3.215116</td>\n",
       "      <td>1</td>\n",
       "      <td>2.965984</td>\n",
       "    </tr>\n",
       "    <tr>\n",
       "      <th>83</th>\n",
       "      <td>3.382812</td>\n",
       "      <td>3.061506</td>\n",
       "      <td>2.758289</td>\n",
       "      <td>2</td>\n",
       "      <td>2.758289</td>\n",
       "    </tr>\n",
       "    <tr>\n",
       "      <th>92</th>\n",
       "      <td>3.593181</td>\n",
       "      <td>2.731982</td>\n",
       "      <td>3.215116</td>\n",
       "      <td>1</td>\n",
       "      <td>2.731982</td>\n",
       "    </tr>\n",
       "    <tr>\n",
       "      <th>166</th>\n",
       "      <td>3.162571</td>\n",
       "      <td>2.720868</td>\n",
       "      <td>3.183329</td>\n",
       "      <td>1</td>\n",
       "      <td>2.720868</td>\n",
       "    </tr>\n",
       "    <tr>\n",
       "      <th>46</th>\n",
       "      <td>3.066668</td>\n",
       "      <td>2.653203</td>\n",
       "      <td>2.869717</td>\n",
       "      <td>1</td>\n",
       "      <td>2.653203</td>\n",
       "    </tr>\n",
       "  </tbody>\n",
       "</table>\n",
       "</div>"
      ],
      "text/plain": [
       "            0         1         2  cluster     score\n",
       "69   3.523839  2.965984  3.215116        1  2.965984\n",
       "83   3.382812  3.061506  2.758289        2  2.758289\n",
       "92   3.593181  2.731982  3.215116        1  2.731982\n",
       "166  3.162571  2.720868  3.183329        1  2.720868\n",
       "46   3.066668  2.653203  2.869717        1  2.653203"
      ]
     },
     "execution_count": 14,
     "metadata": {},
     "output_type": "execute_result"
    }
   ],
   "source": [
    "## Distance \n",
    "# KM=KMeans(n_clusters=k,random_state=9)\n",
    "scor=km.fit_predict(X)\n",
    "\n",
    "res_p=pd.DataFrame(km.transform(X))  ## distances of each data point to each cluster center!!!\n",
    "res_p=pd.concat((res_p, pd.DataFrame(km.fit_predict(X))),axis=1)\n",
    "\n",
    "res_p.columns=list(range(n_clusters))+[\"cluster\"]\n",
    "res_p.loc[:,\"score\"]=res_p.apply(lambda x: x[int(x[\"cluster\"])],axis=1)\n",
    "res_p.sort_values(\"score\",ascending=False)[:5]"
   ]
  },
  {
   "cell_type": "code",
   "execution_count": 15,
   "metadata": {
    "collapsed": true
   },
   "outputs": [],
   "source": [
    "X_df = X.copy()"
   ]
  },
  {
   "cell_type": "code",
   "execution_count": 16,
   "metadata": {
    "collapsed": true
   },
   "outputs": [],
   "source": [
    "X_df['km'] = labels_km"
   ]
  },
  {
   "cell_type": "code",
   "execution_count": 17,
   "metadata": {
    "collapsed": false
   },
   "outputs": [],
   "source": [
    "X_df['distance_KM'] = res_p.score.values"
   ]
  },
  {
   "cell_type": "code",
   "execution_count": 18,
   "metadata": {
    "collapsed": true
   },
   "outputs": [],
   "source": [
    "## Get Anomalies\n",
    "def get_anomaly(df, label_col, dist_or_likelihood, thres):\n",
    "    \n",
    "    df_anomalies = pd.DataFrame(columns=df.columns)\n",
    "    \n",
    "    clustermean = df.groupby(label_col)[dist_or_likelihood].mean()\n",
    "    clusterstd = df.groupby(label_col)[dist_or_likelihood].std()\n",
    "    \n",
    "    for label in df[label_col].unique():\n",
    "        anomaly = df[(df[label_col]==label) \\\n",
    "               & (abs(df[dist_or_likelihood] - clustermean[label]) / clusterstd[label] > thres)]\n",
    "        \n",
    "        df_anomalies = pd.concat([df_anomalies, anomaly], axis=0)\n",
    "    \n",
    "    return df_anomalies"
   ]
  },
  {
   "cell_type": "code",
   "execution_count": 19,
   "metadata": {
    "collapsed": false
   },
   "outputs": [],
   "source": [
    "## get anomalies based on kmeans distance\n",
    "km_anomalies = get_anomaly(X_df, 'km', 'distance_KM', 2)"
   ]
  },
  {
   "cell_type": "code",
   "execution_count": 20,
   "metadata": {
    "collapsed": false
   },
   "outputs": [
    {
     "data": {
      "text/plain": [
       "y8d90Pt16Nip-B5UXWBP-w    2.593608\n",
       "UTXNr62dGSK-tet8OeXUcQ    2.758289\n",
       "IZivKqtHyz4-ts8KsnvMrA    2.576474\n",
       "-Uix-n4Jqo4W7ERagC5qAA    2.568902\n",
       "2xbxXWeu3tpZEJdGTTGbLg    1.663358\n",
       "zjvnqTjBp56NhMp1GrlO5g    2.965984\n",
       "Name: distance_KM, dtype: float64"
      ]
     },
     "execution_count": 20,
     "metadata": {},
     "output_type": "execute_result"
    }
   ],
   "source": [
    "km_anomalies['distance_KM']"
   ]
  },
  {
   "cell_type": "code",
   "execution_count": null,
   "metadata": {
    "collapsed": true
   },
   "outputs": [],
   "source": []
  },
  {
   "cell_type": "code",
   "execution_count": null,
   "metadata": {
    "collapsed": true
   },
   "outputs": [],
   "source": []
  },
  {
   "cell_type": "markdown",
   "metadata": {},
   "source": [
    "# Gaussian Mixture"
   ]
  },
  {
   "cell_type": "code",
   "execution_count": 21,
   "metadata": {
    "collapsed": false
   },
   "outputs": [
    {
     "name": "stdout",
     "output_type": "stream",
     "text": [
      "For n_clusters =2,gaussian_mix - average silhouette_score :0.177347637193\n",
      "For n_clusters =3,gaussian_mix - average silhouette_score :0.102471274593\n",
      "For n_clusters =4,gaussian_mix - average silhouette_score :0.0660608778246\n",
      "For n_clusters =5,gaussian_mix - average silhouette_score :0.0610811965445\n",
      "For n_clusters =6,gaussian_mix - average silhouette_score :0.0764446920948\n",
      "For n_clusters =7,gaussian_mix - average silhouette_score :0.0604045046468\n",
      "For n_clusters =8,gaussian_mix - average silhouette_score :0.0647091305484\n",
      "For n_clusters =9,gaussian_mix - average silhouette_score :0.0650270024766\n"
     ]
    }
   ],
   "source": [
    "##### Gaussian Mixture #########\n",
    "\n",
    "## choose the number of clusters using silhouette method\n",
    "get_silhouette_score(X, 'gaussian_mix')"
   ]
  },
  {
   "cell_type": "code",
   "execution_count": 24,
   "metadata": {
    "collapsed": false
   },
   "outputs": [],
   "source": [
    "k = 2\n",
    "GM=GaussianMixture(n_components=k,random_state=22)\n",
    "GM.fit(X)\n",
    "\n",
    "label_gm = GM.predict(X)"
   ]
  },
  {
   "cell_type": "code",
   "execution_count": 25,
   "metadata": {
    "collapsed": false
   },
   "outputs": [
    {
     "name": "stdout",
     "output_type": "stream",
     "text": [
      "134\n",
      "35\n",
      "0\n",
      "0\n",
      "0\n"
     ]
    }
   ],
   "source": [
    "print list(label_gm).count(0)\n",
    "print list(label_gm).count(1)\n",
    "print list(label_gm).count(2)\n",
    "print list(label_gm).count(3)\n",
    "print list(label_gm).count(4)"
   ]
  },
  {
   "cell_type": "markdown",
   "metadata": {},
   "source": [
    "# Isolation Forest"
   ]
  },
  {
   "cell_type": "code",
   "execution_count": 26,
   "metadata": {
    "collapsed": true
   },
   "outputs": [],
   "source": [
    "### 3) Isolation Foreset\n",
    "from sklearn.ensemble import IsolationForest\n",
    "\n",
    "# fit the model\n",
    "ISF = IsolationForest(max_samples=100, random_state=22)\n",
    "ISF.fit(X)\n",
    "\n",
    "## compute anomaly score of the input. The lower, the more abnormal.\n",
    "score_isf = ISF.decision_function(X)"
   ]
  },
  {
   "cell_type": "code",
   "execution_count": 27,
   "metadata": {
    "collapsed": false
   },
   "outputs": [
    {
     "data": {
      "text/plain": [
       "69"
      ]
     },
     "execution_count": 27,
     "metadata": {},
     "output_type": "execute_result"
    }
   ],
   "source": [
    "score_isf.argmin()"
   ]
  },
  {
   "cell_type": "markdown",
   "metadata": {},
   "source": [
    "# KNN Distance"
   ]
  },
  {
   "cell_type": "code",
   "execution_count": 28,
   "metadata": {
    "collapsed": true
   },
   "outputs": [],
   "source": [
    "def dist2knn(x, nn, k):\n",
    "    dist_ = []\n",
    "    for i in range(len(nn)):\n",
    "        dist_.append(distance.euclidean(x, nn.iloc[i,:]))\n",
    "    dist_.sort()\n",
    "    return sum(dist_[:k+1]) # +1: remove 0 self"
   ]
  },
  {
   "cell_type": "code",
   "execution_count": 29,
   "metadata": {
    "collapsed": false
   },
   "outputs": [
    {
     "name": "stdout",
     "output_type": "stream",
     "text": [
      "100.0%\n"
     ]
    }
   ],
   "source": [
    "dist_sum_knn = []\n",
    "for i in range(len(X)):\n",
    "    print '\\r{}%'.format(100.0*(i+1)/len(X)),\n",
    "    dist_sum_knn.append(dist2knn(X.iloc[i,:], X, 5))"
   ]
  },
  {
   "cell_type": "code",
   "execution_count": null,
   "metadata": {
    "collapsed": true
   },
   "outputs": [],
   "source": []
  },
  {
   "cell_type": "markdown",
   "metadata": {},
   "source": [
    "# Output"
   ]
  },
  {
   "cell_type": "code",
   "execution_count": 30,
   "metadata": {
    "collapsed": true
   },
   "outputs": [],
   "source": [
    "result = pd.DataFrame(index=X.index)"
   ]
  },
  {
   "cell_type": "code",
   "execution_count": 31,
   "metadata": {
    "collapsed": false
   },
   "outputs": [],
   "source": [
    "result['clusters_sp'] = labels_spectural\n",
    "result['clusters_km'] = labels_km\n",
    "result['distance_km'] = km_anomalies['distance_KM']\n",
    "result['clusters_gm'] = label_gm\n",
    "result['scores_isf'] = score_isf\n",
    "result['distance_knn'] = dist_sum_knn"
   ]
  },
  {
   "cell_type": "code",
   "execution_count": 32,
   "metadata": {
    "collapsed": false
   },
   "outputs": [
    {
     "data": {
      "text/html": [
       "<div>\n",
       "<table border=\"1\" class=\"dataframe\">\n",
       "  <thead>\n",
       "    <tr style=\"text-align: right;\">\n",
       "      <th></th>\n",
       "      <th>clusters_sp</th>\n",
       "      <th>clusters_km</th>\n",
       "      <th>distance_km</th>\n",
       "      <th>clusters_gm</th>\n",
       "      <th>scores_isf</th>\n",
       "      <th>distance_knn</th>\n",
       "    </tr>\n",
       "  </thead>\n",
       "  <tbody>\n",
       "    <tr>\n",
       "      <th>01aNlDhbMObjc9OdAHuNpQ</th>\n",
       "      <td>0</td>\n",
       "      <td>2</td>\n",
       "      <td>NaN</td>\n",
       "      <td>0</td>\n",
       "      <td>0.089663</td>\n",
       "      <td>9.196152</td>\n",
       "    </tr>\n",
       "    <tr>\n",
       "      <th>VzUo-RURV3VnfNItAYM8yg</th>\n",
       "      <td>0</td>\n",
       "      <td>0</td>\n",
       "      <td>NaN</td>\n",
       "      <td>0</td>\n",
       "      <td>0.013683</td>\n",
       "      <td>10.944272</td>\n",
       "    </tr>\n",
       "    <tr>\n",
       "      <th>3GfdCuI0YCc5U3rLLLPHUw</th>\n",
       "      <td>0</td>\n",
       "      <td>2</td>\n",
       "      <td>NaN</td>\n",
       "      <td>0</td>\n",
       "      <td>0.045325</td>\n",
       "      <td>10.236068</td>\n",
       "    </tr>\n",
       "    <tr>\n",
       "      <th>H_eO04NZAQIDcbtFQ4BUag</th>\n",
       "      <td>1</td>\n",
       "      <td>0</td>\n",
       "      <td>NaN</td>\n",
       "      <td>0</td>\n",
       "      <td>0.087450</td>\n",
       "      <td>8.660254</td>\n",
       "    </tr>\n",
       "    <tr>\n",
       "      <th>2xbxXWeu3tpZEJdGTTGbLg</th>\n",
       "      <td>0</td>\n",
       "      <td>1</td>\n",
       "      <td>1.663358</td>\n",
       "      <td>0</td>\n",
       "      <td>0.086864</td>\n",
       "      <td>9.668288</td>\n",
       "    </tr>\n",
       "    <tr>\n",
       "      <th>N3zuaqGESF5iZsi_md9c1Q</th>\n",
       "      <td>0</td>\n",
       "      <td>2</td>\n",
       "      <td>NaN</td>\n",
       "      <td>0</td>\n",
       "      <td>0.072284</td>\n",
       "      <td>9.732051</td>\n",
       "    </tr>\n",
       "    <tr>\n",
       "      <th>BKg8YIGX_5YyUczmBAyyCQ</th>\n",
       "      <td>0</td>\n",
       "      <td>0</td>\n",
       "      <td>NaN</td>\n",
       "      <td>0</td>\n",
       "      <td>0.105013</td>\n",
       "      <td>8.928203</td>\n",
       "    </tr>\n",
       "    <tr>\n",
       "      <th>kABF0hYfAEnl166mn1zR1A</th>\n",
       "      <td>0</td>\n",
       "      <td>2</td>\n",
       "      <td>NaN</td>\n",
       "      <td>0</td>\n",
       "      <td>0.141218</td>\n",
       "      <td>7.071068</td>\n",
       "    </tr>\n",
       "    <tr>\n",
       "      <th>5OqrwhtZ3mcmUSwLINZTWQ</th>\n",
       "      <td>0</td>\n",
       "      <td>1</td>\n",
       "      <td>NaN</td>\n",
       "      <td>1</td>\n",
       "      <td>-0.036444</td>\n",
       "      <td>11.391274</td>\n",
       "    </tr>\n",
       "    <tr>\n",
       "      <th>ky5L-EfUwU9chSPcIeXM5w</th>\n",
       "      <td>0</td>\n",
       "      <td>0</td>\n",
       "      <td>NaN</td>\n",
       "      <td>0</td>\n",
       "      <td>0.127891</td>\n",
       "      <td>6.656854</td>\n",
       "    </tr>\n",
       "    <tr>\n",
       "      <th>WSGHEQdcdbBWXDpna99EiQ</th>\n",
       "      <td>0</td>\n",
       "      <td>0</td>\n",
       "      <td>NaN</td>\n",
       "      <td>0</td>\n",
       "      <td>0.108063</td>\n",
       "      <td>7.610366</td>\n",
       "    </tr>\n",
       "    <tr>\n",
       "      <th>W8xPHUqL088jdcmNZyH-eA</th>\n",
       "      <td>0</td>\n",
       "      <td>0</td>\n",
       "      <td>NaN</td>\n",
       "      <td>0</td>\n",
       "      <td>0.105383</td>\n",
       "      <td>9.414214</td>\n",
       "    </tr>\n",
       "    <tr>\n",
       "      <th>wpnLPAnkMEb1NpC3xiD_qg</th>\n",
       "      <td>0</td>\n",
       "      <td>0</td>\n",
       "      <td>NaN</td>\n",
       "      <td>0</td>\n",
       "      <td>0.017324</td>\n",
       "      <td>11.157694</td>\n",
       "    </tr>\n",
       "    <tr>\n",
       "      <th>A6lKCuTrDSJ_eFKyumZCJQ</th>\n",
       "      <td>0</td>\n",
       "      <td>0</td>\n",
       "      <td>NaN</td>\n",
       "      <td>0</td>\n",
       "      <td>0.073273</td>\n",
       "      <td>10.708204</td>\n",
       "    </tr>\n",
       "    <tr>\n",
       "      <th>YkOCo5ipV2he2WXIAlZb-A</th>\n",
       "      <td>0</td>\n",
       "      <td>0</td>\n",
       "      <td>NaN</td>\n",
       "      <td>0</td>\n",
       "      <td>0.103053</td>\n",
       "      <td>7.706742</td>\n",
       "    </tr>\n",
       "    <tr>\n",
       "      <th>HyoPFfBHLK0lKVHWEdFpvQ</th>\n",
       "      <td>0</td>\n",
       "      <td>0</td>\n",
       "      <td>NaN</td>\n",
       "      <td>0</td>\n",
       "      <td>0.067762</td>\n",
       "      <td>10.204187</td>\n",
       "    </tr>\n",
       "    <tr>\n",
       "      <th>eBxQzBFLEPwRCxuiL50SQA</th>\n",
       "      <td>0</td>\n",
       "      <td>1</td>\n",
       "      <td>NaN</td>\n",
       "      <td>1</td>\n",
       "      <td>0.052726</td>\n",
       "      <td>11.820605</td>\n",
       "    </tr>\n",
       "    <tr>\n",
       "      <th>MpT8KheTjs7TSDWIoMUFxg</th>\n",
       "      <td>0</td>\n",
       "      <td>0</td>\n",
       "      <td>NaN</td>\n",
       "      <td>0</td>\n",
       "      <td>0.059467</td>\n",
       "      <td>8.700170</td>\n",
       "    </tr>\n",
       "    <tr>\n",
       "      <th>aTbz9GdpAf2M5MeAHVNhWw</th>\n",
       "      <td>0</td>\n",
       "      <td>2</td>\n",
       "      <td>NaN</td>\n",
       "      <td>0</td>\n",
       "      <td>0.067115</td>\n",
       "      <td>10.676323</td>\n",
       "    </tr>\n",
       "    <tr>\n",
       "      <th>hf761YTEXm0B1GdtGHGGYQ</th>\n",
       "      <td>0</td>\n",
       "      <td>0</td>\n",
       "      <td>NaN</td>\n",
       "      <td>0</td>\n",
       "      <td>0.094983</td>\n",
       "      <td>10.204187</td>\n",
       "    </tr>\n",
       "    <tr>\n",
       "      <th>1ZnVfS-qP19upP_fwOhZsA</th>\n",
       "      <td>0</td>\n",
       "      <td>0</td>\n",
       "      <td>NaN</td>\n",
       "      <td>0</td>\n",
       "      <td>0.130772</td>\n",
       "      <td>7.071068</td>\n",
       "    </tr>\n",
       "    <tr>\n",
       "      <th>eV-5b1Bjtnn-QePN3t3taQ</th>\n",
       "      <td>0</td>\n",
       "      <td>2</td>\n",
       "      <td>NaN</td>\n",
       "      <td>0</td>\n",
       "      <td>0.120631</td>\n",
       "      <td>6.656854</td>\n",
       "    </tr>\n",
       "    <tr>\n",
       "      <th>HPLB1Tr8ZB5UkD-2umKPdA</th>\n",
       "      <td>0</td>\n",
       "      <td>2</td>\n",
       "      <td>NaN</td>\n",
       "      <td>0</td>\n",
       "      <td>0.132974</td>\n",
       "      <td>6.656854</td>\n",
       "    </tr>\n",
       "    <tr>\n",
       "      <th>ABlNn6tyCTfjiKteYnp53g</th>\n",
       "      <td>0</td>\n",
       "      <td>0</td>\n",
       "      <td>NaN</td>\n",
       "      <td>0</td>\n",
       "      <td>0.082698</td>\n",
       "      <td>8.878315</td>\n",
       "    </tr>\n",
       "    <tr>\n",
       "      <th>2PS9kBbuJcmBhcNp-D62uA</th>\n",
       "      <td>0</td>\n",
       "      <td>0</td>\n",
       "      <td>NaN</td>\n",
       "      <td>0</td>\n",
       "      <td>0.081908</td>\n",
       "      <td>9.732051</td>\n",
       "    </tr>\n",
       "    <tr>\n",
       "      <th>-sN_og_84rLW22CaE3cjVw</th>\n",
       "      <td>0</td>\n",
       "      <td>2</td>\n",
       "      <td>NaN</td>\n",
       "      <td>0</td>\n",
       "      <td>0.065244</td>\n",
       "      <td>10.236068</td>\n",
       "    </tr>\n",
       "    <tr>\n",
       "      <th>w6zW6gIyg1sI5V6Wag_SYg</th>\n",
       "      <td>0</td>\n",
       "      <td>2</td>\n",
       "      <td>NaN</td>\n",
       "      <td>0</td>\n",
       "      <td>0.119115</td>\n",
       "      <td>7.706742</td>\n",
       "    </tr>\n",
       "    <tr>\n",
       "      <th>rIeXMt92PLNjZbemWKRXcA</th>\n",
       "      <td>0</td>\n",
       "      <td>2</td>\n",
       "      <td>NaN</td>\n",
       "      <td>0</td>\n",
       "      <td>0.113818</td>\n",
       "      <td>8.024580</td>\n",
       "    </tr>\n",
       "    <tr>\n",
       "      <th>B_WggEKFq-ZFNui8CHPYvA</th>\n",
       "      <td>0</td>\n",
       "      <td>0</td>\n",
       "      <td>NaN</td>\n",
       "      <td>0</td>\n",
       "      <td>0.116683</td>\n",
       "      <td>6.656854</td>\n",
       "    </tr>\n",
       "    <tr>\n",
       "      <th>XIDhO9YAhsCa0upSkMhGuw</th>\n",
       "      <td>0</td>\n",
       "      <td>1</td>\n",
       "      <td>NaN</td>\n",
       "      <td>1</td>\n",
       "      <td>0.020693</td>\n",
       "      <td>11.080520</td>\n",
       "    </tr>\n",
       "    <tr>\n",
       "      <th>...</th>\n",
       "      <td>...</td>\n",
       "      <td>...</td>\n",
       "      <td>...</td>\n",
       "      <td>...</td>\n",
       "      <td>...</td>\n",
       "      <td>...</td>\n",
       "    </tr>\n",
       "    <tr>\n",
       "      <th>A5Rkh7UymKm0_Rxm9K2PJw</th>\n",
       "      <td>0</td>\n",
       "      <td>2</td>\n",
       "      <td>NaN</td>\n",
       "      <td>0</td>\n",
       "      <td>0.020272</td>\n",
       "      <td>12.426550</td>\n",
       "    </tr>\n",
       "    <tr>\n",
       "      <th>WRQ-9LluyivReFiQZFUujw</th>\n",
       "      <td>0</td>\n",
       "      <td>0</td>\n",
       "      <td>NaN</td>\n",
       "      <td>0</td>\n",
       "      <td>0.109342</td>\n",
       "      <td>6.242641</td>\n",
       "    </tr>\n",
       "    <tr>\n",
       "      <th>O3OH5IEFMPtz7mPKakPZ3Q</th>\n",
       "      <td>0</td>\n",
       "      <td>2</td>\n",
       "      <td>NaN</td>\n",
       "      <td>0</td>\n",
       "      <td>0.063558</td>\n",
       "      <td>9.732051</td>\n",
       "    </tr>\n",
       "    <tr>\n",
       "      <th>xxAGaqYnboeR0SilS7DbAg</th>\n",
       "      <td>0</td>\n",
       "      <td>0</td>\n",
       "      <td>NaN</td>\n",
       "      <td>1</td>\n",
       "      <td>0.047351</td>\n",
       "      <td>12.426550</td>\n",
       "    </tr>\n",
       "    <tr>\n",
       "      <th>eJPckkV1k7gn0V2awA1pzA</th>\n",
       "      <td>0</td>\n",
       "      <td>0</td>\n",
       "      <td>NaN</td>\n",
       "      <td>0</td>\n",
       "      <td>0.099795</td>\n",
       "      <td>7.706742</td>\n",
       "    </tr>\n",
       "    <tr>\n",
       "      <th>JdoBiBRgeS_KKaNaU1sofA</th>\n",
       "      <td>0</td>\n",
       "      <td>2</td>\n",
       "      <td>NaN</td>\n",
       "      <td>0</td>\n",
       "      <td>0.128551</td>\n",
       "      <td>7.071068</td>\n",
       "    </tr>\n",
       "    <tr>\n",
       "      <th>lmxA0dJM0XsPCIHPXhEQ-g</th>\n",
       "      <td>0</td>\n",
       "      <td>1</td>\n",
       "      <td>NaN</td>\n",
       "      <td>1</td>\n",
       "      <td>-0.018781</td>\n",
       "      <td>12.362570</td>\n",
       "    </tr>\n",
       "    <tr>\n",
       "      <th>Cl-xl1vTUwHeaGgBxzdTRA</th>\n",
       "      <td>0</td>\n",
       "      <td>2</td>\n",
       "      <td>NaN</td>\n",
       "      <td>0</td>\n",
       "      <td>0.111801</td>\n",
       "      <td>8.928203</td>\n",
       "    </tr>\n",
       "    <tr>\n",
       "      <th>PglC8rgguMIlT621p1BLdQ</th>\n",
       "      <td>0</td>\n",
       "      <td>2</td>\n",
       "      <td>NaN</td>\n",
       "      <td>0</td>\n",
       "      <td>0.097091</td>\n",
       "      <td>9.146264</td>\n",
       "    </tr>\n",
       "    <tr>\n",
       "      <th>Zua91nLoti4rx1VCkuIe6g</th>\n",
       "      <td>0</td>\n",
       "      <td>1</td>\n",
       "      <td>NaN</td>\n",
       "      <td>1</td>\n",
       "      <td>-0.018843</td>\n",
       "      <td>12.497732</td>\n",
       "    </tr>\n",
       "    <tr>\n",
       "      <th>pQ6e4fjq6kqRqLE6w8CfWQ</th>\n",
       "      <td>0</td>\n",
       "      <td>2</td>\n",
       "      <td>NaN</td>\n",
       "      <td>0</td>\n",
       "      <td>0.139344</td>\n",
       "      <td>7.928203</td>\n",
       "    </tr>\n",
       "    <tr>\n",
       "      <th>beuVp5CZxCdNvQIIPBS2rw</th>\n",
       "      <td>0</td>\n",
       "      <td>2</td>\n",
       "      <td>NaN</td>\n",
       "      <td>0</td>\n",
       "      <td>0.062357</td>\n",
       "      <td>10.440255</td>\n",
       "    </tr>\n",
       "    <tr>\n",
       "      <th>FPAOrUsP7GuIyqmK9UoPUQ</th>\n",
       "      <td>1</td>\n",
       "      <td>0</td>\n",
       "      <td>NaN</td>\n",
       "      <td>0</td>\n",
       "      <td>0.078042</td>\n",
       "      <td>8.560478</td>\n",
       "    </tr>\n",
       "    <tr>\n",
       "      <th>-Uix-n4Jqo4W7ERagC5qAA</th>\n",
       "      <td>1</td>\n",
       "      <td>0</td>\n",
       "      <td>2.568902</td>\n",
       "      <td>0</td>\n",
       "      <td>-0.013621</td>\n",
       "      <td>13.032495</td>\n",
       "    </tr>\n",
       "    <tr>\n",
       "      <th>4JkGjRRc3XucG9U8XwthGg</th>\n",
       "      <td>0</td>\n",
       "      <td>0</td>\n",
       "      <td>NaN</td>\n",
       "      <td>0</td>\n",
       "      <td>0.135239</td>\n",
       "      <td>5.828427</td>\n",
       "    </tr>\n",
       "    <tr>\n",
       "      <th>XKo3y41cF6euqS7I6AX_1Q</th>\n",
       "      <td>0</td>\n",
       "      <td>0</td>\n",
       "      <td>NaN</td>\n",
       "      <td>0</td>\n",
       "      <td>0.080824</td>\n",
       "      <td>10.000000</td>\n",
       "    </tr>\n",
       "    <tr>\n",
       "      <th>0xvdC8F0HmFpAFkJk6nXLg</th>\n",
       "      <td>0</td>\n",
       "      <td>2</td>\n",
       "      <td>NaN</td>\n",
       "      <td>0</td>\n",
       "      <td>0.051095</td>\n",
       "      <td>10.000000</td>\n",
       "    </tr>\n",
       "    <tr>\n",
       "      <th>ywtDqnrLeWzG7Q-9ORmSsA</th>\n",
       "      <td>0</td>\n",
       "      <td>0</td>\n",
       "      <td>NaN</td>\n",
       "      <td>0</td>\n",
       "      <td>0.121607</td>\n",
       "      <td>6.656854</td>\n",
       "    </tr>\n",
       "    <tr>\n",
       "      <th>czyhvf93Txsfxdxqcm16mA</th>\n",
       "      <td>0</td>\n",
       "      <td>0</td>\n",
       "      <td>NaN</td>\n",
       "      <td>0</td>\n",
       "      <td>0.147601</td>\n",
       "      <td>4.000000</td>\n",
       "    </tr>\n",
       "    <tr>\n",
       "      <th>D6K3VT6S8FwFm4u5uN8T8g</th>\n",
       "      <td>0</td>\n",
       "      <td>2</td>\n",
       "      <td>NaN</td>\n",
       "      <td>0</td>\n",
       "      <td>0.105825</td>\n",
       "      <td>6.974691</td>\n",
       "    </tr>\n",
       "    <tr>\n",
       "      <th>H1NqpoM2hT_A6M98PSrZvw</th>\n",
       "      <td>0</td>\n",
       "      <td>0</td>\n",
       "      <td>NaN</td>\n",
       "      <td>0</td>\n",
       "      <td>0.087609</td>\n",
       "      <td>8.560478</td>\n",
       "    </tr>\n",
       "    <tr>\n",
       "      <th>01VPJkcU0m8WzlA7dCEpVQ</th>\n",
       "      <td>0</td>\n",
       "      <td>0</td>\n",
       "      <td>NaN</td>\n",
       "      <td>0</td>\n",
       "      <td>0.084024</td>\n",
       "      <td>9.196152</td>\n",
       "    </tr>\n",
       "    <tr>\n",
       "      <th>Vs7gc9EE3k9wARuUcN9piA</th>\n",
       "      <td>0</td>\n",
       "      <td>2</td>\n",
       "      <td>NaN</td>\n",
       "      <td>0</td>\n",
       "      <td>0.142358</td>\n",
       "      <td>4.828427</td>\n",
       "    </tr>\n",
       "    <tr>\n",
       "      <th>Gh1BoQNMGkh91pSHqvDRAA</th>\n",
       "      <td>0</td>\n",
       "      <td>2</td>\n",
       "      <td>NaN</td>\n",
       "      <td>0</td>\n",
       "      <td>0.146998</td>\n",
       "      <td>4.414214</td>\n",
       "    </tr>\n",
       "    <tr>\n",
       "      <th>oyPvqoQhsdkfUeHtdPD7BQ</th>\n",
       "      <td>0</td>\n",
       "      <td>2</td>\n",
       "      <td>NaN</td>\n",
       "      <td>0</td>\n",
       "      <td>0.134607</td>\n",
       "      <td>7.388905</td>\n",
       "    </tr>\n",
       "    <tr>\n",
       "      <th>DIxgItsSI9QwX9H8lVptYg</th>\n",
       "      <td>0</td>\n",
       "      <td>0</td>\n",
       "      <td>NaN</td>\n",
       "      <td>0</td>\n",
       "      <td>0.081862</td>\n",
       "      <td>9.196152</td>\n",
       "    </tr>\n",
       "    <tr>\n",
       "      <th>2reHgsuAWofHfocfJ4Xs5w</th>\n",
       "      <td>0</td>\n",
       "      <td>0</td>\n",
       "      <td>NaN</td>\n",
       "      <td>0</td>\n",
       "      <td>0.073752</td>\n",
       "      <td>9.146264</td>\n",
       "    </tr>\n",
       "    <tr>\n",
       "      <th>bM-rAr7gxsxxjD-FlRcIJA</th>\n",
       "      <td>0</td>\n",
       "      <td>1</td>\n",
       "      <td>NaN</td>\n",
       "      <td>1</td>\n",
       "      <td>-0.017160</td>\n",
       "      <td>14.656854</td>\n",
       "    </tr>\n",
       "    <tr>\n",
       "      <th>JPfi__QJAaRzmfh5aOyFEw</th>\n",
       "      <td>0</td>\n",
       "      <td>0</td>\n",
       "      <td>NaN</td>\n",
       "      <td>0</td>\n",
       "      <td>0.084706</td>\n",
       "      <td>9.968119</td>\n",
       "    </tr>\n",
       "    <tr>\n",
       "      <th>w5CSi-An5meLnxjKSFn0wQ</th>\n",
       "      <td>0</td>\n",
       "      <td>2</td>\n",
       "      <td>NaN</td>\n",
       "      <td>0</td>\n",
       "      <td>0.106556</td>\n",
       "      <td>8.660254</td>\n",
       "    </tr>\n",
       "  </tbody>\n",
       "</table>\n",
       "<p>169 rows × 6 columns</p>\n",
       "</div>"
      ],
      "text/plain": [
       "                        clusters_sp  clusters_km  distance_km  clusters_gm  \\\n",
       "01aNlDhbMObjc9OdAHuNpQ            0            2          NaN            0   \n",
       "VzUo-RURV3VnfNItAYM8yg            0            0          NaN            0   \n",
       "3GfdCuI0YCc5U3rLLLPHUw            0            2          NaN            0   \n",
       "H_eO04NZAQIDcbtFQ4BUag            1            0          NaN            0   \n",
       "2xbxXWeu3tpZEJdGTTGbLg            0            1     1.663358            0   \n",
       "N3zuaqGESF5iZsi_md9c1Q            0            2          NaN            0   \n",
       "BKg8YIGX_5YyUczmBAyyCQ            0            0          NaN            0   \n",
       "kABF0hYfAEnl166mn1zR1A            0            2          NaN            0   \n",
       "5OqrwhtZ3mcmUSwLINZTWQ            0            1          NaN            1   \n",
       "ky5L-EfUwU9chSPcIeXM5w            0            0          NaN            0   \n",
       "WSGHEQdcdbBWXDpna99EiQ            0            0          NaN            0   \n",
       "W8xPHUqL088jdcmNZyH-eA            0            0          NaN            0   \n",
       "wpnLPAnkMEb1NpC3xiD_qg            0            0          NaN            0   \n",
       "A6lKCuTrDSJ_eFKyumZCJQ            0            0          NaN            0   \n",
       "YkOCo5ipV2he2WXIAlZb-A            0            0          NaN            0   \n",
       "HyoPFfBHLK0lKVHWEdFpvQ            0            0          NaN            0   \n",
       "eBxQzBFLEPwRCxuiL50SQA            0            1          NaN            1   \n",
       "MpT8KheTjs7TSDWIoMUFxg            0            0          NaN            0   \n",
       "aTbz9GdpAf2M5MeAHVNhWw            0            2          NaN            0   \n",
       "hf761YTEXm0B1GdtGHGGYQ            0            0          NaN            0   \n",
       "1ZnVfS-qP19upP_fwOhZsA            0            0          NaN            0   \n",
       "eV-5b1Bjtnn-QePN3t3taQ            0            2          NaN            0   \n",
       "HPLB1Tr8ZB5UkD-2umKPdA            0            2          NaN            0   \n",
       "ABlNn6tyCTfjiKteYnp53g            0            0          NaN            0   \n",
       "2PS9kBbuJcmBhcNp-D62uA            0            0          NaN            0   \n",
       "-sN_og_84rLW22CaE3cjVw            0            2          NaN            0   \n",
       "w6zW6gIyg1sI5V6Wag_SYg            0            2          NaN            0   \n",
       "rIeXMt92PLNjZbemWKRXcA            0            2          NaN            0   \n",
       "B_WggEKFq-ZFNui8CHPYvA            0            0          NaN            0   \n",
       "XIDhO9YAhsCa0upSkMhGuw            0            1          NaN            1   \n",
       "...                             ...          ...          ...          ...   \n",
       "A5Rkh7UymKm0_Rxm9K2PJw            0            2          NaN            0   \n",
       "WRQ-9LluyivReFiQZFUujw            0            0          NaN            0   \n",
       "O3OH5IEFMPtz7mPKakPZ3Q            0            2          NaN            0   \n",
       "xxAGaqYnboeR0SilS7DbAg            0            0          NaN            1   \n",
       "eJPckkV1k7gn0V2awA1pzA            0            0          NaN            0   \n",
       "JdoBiBRgeS_KKaNaU1sofA            0            2          NaN            0   \n",
       "lmxA0dJM0XsPCIHPXhEQ-g            0            1          NaN            1   \n",
       "Cl-xl1vTUwHeaGgBxzdTRA            0            2          NaN            0   \n",
       "PglC8rgguMIlT621p1BLdQ            0            2          NaN            0   \n",
       "Zua91nLoti4rx1VCkuIe6g            0            1          NaN            1   \n",
       "pQ6e4fjq6kqRqLE6w8CfWQ            0            2          NaN            0   \n",
       "beuVp5CZxCdNvQIIPBS2rw            0            2          NaN            0   \n",
       "FPAOrUsP7GuIyqmK9UoPUQ            1            0          NaN            0   \n",
       "-Uix-n4Jqo4W7ERagC5qAA            1            0     2.568902            0   \n",
       "4JkGjRRc3XucG9U8XwthGg            0            0          NaN            0   \n",
       "XKo3y41cF6euqS7I6AX_1Q            0            0          NaN            0   \n",
       "0xvdC8F0HmFpAFkJk6nXLg            0            2          NaN            0   \n",
       "ywtDqnrLeWzG7Q-9ORmSsA            0            0          NaN            0   \n",
       "czyhvf93Txsfxdxqcm16mA            0            0          NaN            0   \n",
       "D6K3VT6S8FwFm4u5uN8T8g            0            2          NaN            0   \n",
       "H1NqpoM2hT_A6M98PSrZvw            0            0          NaN            0   \n",
       "01VPJkcU0m8WzlA7dCEpVQ            0            0          NaN            0   \n",
       "Vs7gc9EE3k9wARuUcN9piA            0            2          NaN            0   \n",
       "Gh1BoQNMGkh91pSHqvDRAA            0            2          NaN            0   \n",
       "oyPvqoQhsdkfUeHtdPD7BQ            0            2          NaN            0   \n",
       "DIxgItsSI9QwX9H8lVptYg            0            0          NaN            0   \n",
       "2reHgsuAWofHfocfJ4Xs5w            0            0          NaN            0   \n",
       "bM-rAr7gxsxxjD-FlRcIJA            0            1          NaN            1   \n",
       "JPfi__QJAaRzmfh5aOyFEw            0            0          NaN            0   \n",
       "w5CSi-An5meLnxjKSFn0wQ            0            2          NaN            0   \n",
       "\n",
       "                        scores_isf  distance_knn  \n",
       "01aNlDhbMObjc9OdAHuNpQ    0.089663      9.196152  \n",
       "VzUo-RURV3VnfNItAYM8yg    0.013683     10.944272  \n",
       "3GfdCuI0YCc5U3rLLLPHUw    0.045325     10.236068  \n",
       "H_eO04NZAQIDcbtFQ4BUag    0.087450      8.660254  \n",
       "2xbxXWeu3tpZEJdGTTGbLg    0.086864      9.668288  \n",
       "N3zuaqGESF5iZsi_md9c1Q    0.072284      9.732051  \n",
       "BKg8YIGX_5YyUczmBAyyCQ    0.105013      8.928203  \n",
       "kABF0hYfAEnl166mn1zR1A    0.141218      7.071068  \n",
       "5OqrwhtZ3mcmUSwLINZTWQ   -0.036444     11.391274  \n",
       "ky5L-EfUwU9chSPcIeXM5w    0.127891      6.656854  \n",
       "WSGHEQdcdbBWXDpna99EiQ    0.108063      7.610366  \n",
       "W8xPHUqL088jdcmNZyH-eA    0.105383      9.414214  \n",
       "wpnLPAnkMEb1NpC3xiD_qg    0.017324     11.157694  \n",
       "A6lKCuTrDSJ_eFKyumZCJQ    0.073273     10.708204  \n",
       "YkOCo5ipV2he2WXIAlZb-A    0.103053      7.706742  \n",
       "HyoPFfBHLK0lKVHWEdFpvQ    0.067762     10.204187  \n",
       "eBxQzBFLEPwRCxuiL50SQA    0.052726     11.820605  \n",
       "MpT8KheTjs7TSDWIoMUFxg    0.059467      8.700170  \n",
       "aTbz9GdpAf2M5MeAHVNhWw    0.067115     10.676323  \n",
       "hf761YTEXm0B1GdtGHGGYQ    0.094983     10.204187  \n",
       "1ZnVfS-qP19upP_fwOhZsA    0.130772      7.071068  \n",
       "eV-5b1Bjtnn-QePN3t3taQ    0.120631      6.656854  \n",
       "HPLB1Tr8ZB5UkD-2umKPdA    0.132974      6.656854  \n",
       "ABlNn6tyCTfjiKteYnp53g    0.082698      8.878315  \n",
       "2PS9kBbuJcmBhcNp-D62uA    0.081908      9.732051  \n",
       "-sN_og_84rLW22CaE3cjVw    0.065244     10.236068  \n",
       "w6zW6gIyg1sI5V6Wag_SYg    0.119115      7.706742  \n",
       "rIeXMt92PLNjZbemWKRXcA    0.113818      8.024580  \n",
       "B_WggEKFq-ZFNui8CHPYvA    0.116683      6.656854  \n",
       "XIDhO9YAhsCa0upSkMhGuw    0.020693     11.080520  \n",
       "...                            ...           ...  \n",
       "A5Rkh7UymKm0_Rxm9K2PJw    0.020272     12.426550  \n",
       "WRQ-9LluyivReFiQZFUujw    0.109342      6.242641  \n",
       "O3OH5IEFMPtz7mPKakPZ3Q    0.063558      9.732051  \n",
       "xxAGaqYnboeR0SilS7DbAg    0.047351     12.426550  \n",
       "eJPckkV1k7gn0V2awA1pzA    0.099795      7.706742  \n",
       "JdoBiBRgeS_KKaNaU1sofA    0.128551      7.071068  \n",
       "lmxA0dJM0XsPCIHPXhEQ-g   -0.018781     12.362570  \n",
       "Cl-xl1vTUwHeaGgBxzdTRA    0.111801      8.928203  \n",
       "PglC8rgguMIlT621p1BLdQ    0.097091      9.146264  \n",
       "Zua91nLoti4rx1VCkuIe6g   -0.018843     12.497732  \n",
       "pQ6e4fjq6kqRqLE6w8CfWQ    0.139344      7.928203  \n",
       "beuVp5CZxCdNvQIIPBS2rw    0.062357     10.440255  \n",
       "FPAOrUsP7GuIyqmK9UoPUQ    0.078042      8.560478  \n",
       "-Uix-n4Jqo4W7ERagC5qAA   -0.013621     13.032495  \n",
       "4JkGjRRc3XucG9U8XwthGg    0.135239      5.828427  \n",
       "XKo3y41cF6euqS7I6AX_1Q    0.080824     10.000000  \n",
       "0xvdC8F0HmFpAFkJk6nXLg    0.051095     10.000000  \n",
       "ywtDqnrLeWzG7Q-9ORmSsA    0.121607      6.656854  \n",
       "czyhvf93Txsfxdxqcm16mA    0.147601      4.000000  \n",
       "D6K3VT6S8FwFm4u5uN8T8g    0.105825      6.974691  \n",
       "H1NqpoM2hT_A6M98PSrZvw    0.087609      8.560478  \n",
       "01VPJkcU0m8WzlA7dCEpVQ    0.084024      9.196152  \n",
       "Vs7gc9EE3k9wARuUcN9piA    0.142358      4.828427  \n",
       "Gh1BoQNMGkh91pSHqvDRAA    0.146998      4.414214  \n",
       "oyPvqoQhsdkfUeHtdPD7BQ    0.134607      7.388905  \n",
       "DIxgItsSI9QwX9H8lVptYg    0.081862      9.196152  \n",
       "2reHgsuAWofHfocfJ4Xs5w    0.073752      9.146264  \n",
       "bM-rAr7gxsxxjD-FlRcIJA   -0.017160     14.656854  \n",
       "JPfi__QJAaRzmfh5aOyFEw    0.084706      9.968119  \n",
       "w5CSi-An5meLnxjKSFn0wQ    0.106556      8.660254  \n",
       "\n",
       "[169 rows x 6 columns]"
      ]
     },
     "execution_count": 32,
     "metadata": {},
     "output_type": "execute_result"
    }
   ],
   "source": [
    "result"
   ]
  },
  {
   "cell_type": "code",
   "execution_count": 33,
   "metadata": {
    "collapsed": false
   },
   "outputs": [],
   "source": [
    "result.to_csv('LasVegas_chi_results.csv', index_label=False, encoding='utf-8' )"
   ]
  },
  {
   "cell_type": "code",
   "execution_count": 34,
   "metadata": {
    "collapsed": true
   },
   "outputs": [],
   "source": [
    "anomaly_merged = pd.concat([df_select, result], axis=1)"
   ]
  },
  {
   "cell_type": "code",
   "execution_count": 35,
   "metadata": {
    "collapsed": false
   },
   "outputs": [
    {
     "data": {
      "text/plain": [
       "2xbxXWeu3tpZEJdGTTGbLg    1.663358\n",
       "-Uix-n4Jqo4W7ERagC5qAA    2.568902\n",
       "IZivKqtHyz4-ts8KsnvMrA    2.576474\n",
       "y8d90Pt16Nip-B5UXWBP-w    2.593608\n",
       "UTXNr62dGSK-tet8OeXUcQ    2.758289\n",
       "zjvnqTjBp56NhMp1GrlO5g    2.965984\n",
       "01aNlDhbMObjc9OdAHuNpQ         NaN\n",
       "VzUo-RURV3VnfNItAYM8yg         NaN\n",
       "3GfdCuI0YCc5U3rLLLPHUw         NaN\n",
       "H_eO04NZAQIDcbtFQ4BUag         NaN\n",
       "N3zuaqGESF5iZsi_md9c1Q         NaN\n",
       "BKg8YIGX_5YyUczmBAyyCQ         NaN\n",
       "kABF0hYfAEnl166mn1zR1A         NaN\n",
       "5OqrwhtZ3mcmUSwLINZTWQ         NaN\n",
       "ky5L-EfUwU9chSPcIeXM5w         NaN\n",
       "WSGHEQdcdbBWXDpna99EiQ         NaN\n",
       "W8xPHUqL088jdcmNZyH-eA         NaN\n",
       "wpnLPAnkMEb1NpC3xiD_qg         NaN\n",
       "A6lKCuTrDSJ_eFKyumZCJQ         NaN\n",
       "YkOCo5ipV2he2WXIAlZb-A         NaN\n",
       "HyoPFfBHLK0lKVHWEdFpvQ         NaN\n",
       "eBxQzBFLEPwRCxuiL50SQA         NaN\n",
       "MpT8KheTjs7TSDWIoMUFxg         NaN\n",
       "aTbz9GdpAf2M5MeAHVNhWw         NaN\n",
       "hf761YTEXm0B1GdtGHGGYQ         NaN\n",
       "1ZnVfS-qP19upP_fwOhZsA         NaN\n",
       "eV-5b1Bjtnn-QePN3t3taQ         NaN\n",
       "HPLB1Tr8ZB5UkD-2umKPdA         NaN\n",
       "ABlNn6tyCTfjiKteYnp53g         NaN\n",
       "2PS9kBbuJcmBhcNp-D62uA         NaN\n",
       "                            ...   \n",
       "yYMTMtguT90BfMJVxasFuw         NaN\n",
       "A5Rkh7UymKm0_Rxm9K2PJw         NaN\n",
       "WRQ-9LluyivReFiQZFUujw         NaN\n",
       "O3OH5IEFMPtz7mPKakPZ3Q         NaN\n",
       "xxAGaqYnboeR0SilS7DbAg         NaN\n",
       "eJPckkV1k7gn0V2awA1pzA         NaN\n",
       "JdoBiBRgeS_KKaNaU1sofA         NaN\n",
       "lmxA0dJM0XsPCIHPXhEQ-g         NaN\n",
       "Cl-xl1vTUwHeaGgBxzdTRA         NaN\n",
       "PglC8rgguMIlT621p1BLdQ         NaN\n",
       "Zua91nLoti4rx1VCkuIe6g         NaN\n",
       "pQ6e4fjq6kqRqLE6w8CfWQ         NaN\n",
       "beuVp5CZxCdNvQIIPBS2rw         NaN\n",
       "FPAOrUsP7GuIyqmK9UoPUQ         NaN\n",
       "4JkGjRRc3XucG9U8XwthGg         NaN\n",
       "XKo3y41cF6euqS7I6AX_1Q         NaN\n",
       "0xvdC8F0HmFpAFkJk6nXLg         NaN\n",
       "ywtDqnrLeWzG7Q-9ORmSsA         NaN\n",
       "czyhvf93Txsfxdxqcm16mA         NaN\n",
       "D6K3VT6S8FwFm4u5uN8T8g         NaN\n",
       "H1NqpoM2hT_A6M98PSrZvw         NaN\n",
       "01VPJkcU0m8WzlA7dCEpVQ         NaN\n",
       "Vs7gc9EE3k9wARuUcN9piA         NaN\n",
       "Gh1BoQNMGkh91pSHqvDRAA         NaN\n",
       "oyPvqoQhsdkfUeHtdPD7BQ         NaN\n",
       "DIxgItsSI9QwX9H8lVptYg         NaN\n",
       "2reHgsuAWofHfocfJ4Xs5w         NaN\n",
       "bM-rAr7gxsxxjD-FlRcIJA         NaN\n",
       "JPfi__QJAaRzmfh5aOyFEw         NaN\n",
       "w5CSi-An5meLnxjKSFn0wQ         NaN\n",
       "Name: distance_km, dtype: float64"
      ]
     },
     "execution_count": 35,
     "metadata": {},
     "output_type": "execute_result"
    }
   ],
   "source": [
    "anomaly_merged['distance_km'].sort_values()"
   ]
  },
  {
   "cell_type": "code",
   "execution_count": 43,
   "metadata": {
    "collapsed": false
   },
   "outputs": [
    {
     "data": {
      "text/plain": [
       "yYMTMtguT90BfMJVxasFuw     4.000000\n",
       "czyhvf93Txsfxdxqcm16mA     4.000000\n",
       "Gh1BoQNMGkh91pSHqvDRAA     4.414214\n",
       "8FUzCm4Q13MJMX7N6ftmQw     4.414214\n",
       "arv3T_av9OoVo3SvxV4TXw     4.828427\n",
       "Vs7gc9EE3k9wARuUcN9piA     4.828427\n",
       "YI08egmS9lWWB6N6MmrePw     5.242641\n",
       "gWeYW0E5Tfmmj_9fugfLNw     5.242641\n",
       "zdE82PiD6wquvjYLyhOJNA     5.414214\n",
       "oAngC9V69vyzBVYwKEJQaw     5.414214\n",
       "MyTsAeShB9pcWP84GSTAdw     5.828427\n",
       "Os1n1_idfw9vv9kwULGJnQ     5.828427\n",
       "4JkGjRRc3XucG9U8XwthGg     5.828427\n",
       "IS_IWMsFRJii__17LsP1Og     6.242641\n",
       "WRQ-9LluyivReFiQZFUujw     6.242641\n",
       "9tLCuUmw3Tlco-tKPGkIWQ     6.242641\n",
       "ZuNJelvkJD4wsXNBRg6t5w     6.242641\n",
       "V-0qRzBHKixmQgon_fW_AA     6.242641\n",
       "eiTWTVThkHr-DKXxIysbgA     6.560478\n",
       "ky5L-EfUwU9chSPcIeXM5w     6.656854\n",
       "ywtDqnrLeWzG7Q-9ORmSsA     6.656854\n",
       "t6ZIBNrQjvtwor8W-u3sUg     6.656854\n",
       "eV-5b1Bjtnn-QePN3t3taQ     6.656854\n",
       "HPLB1Tr8ZB5UkD-2umKPdA     6.656854\n",
       "_8VkSb_Mryb6bHQxSWB7Pg     6.656854\n",
       "IkaII0DYh1OPGRnqx2ccvA     6.656854\n",
       "B_WggEKFq-ZFNui8CHPYvA     6.656854\n",
       "JJAwT9R6Fp2yyWHtWFA8uQ     6.878315\n",
       "D6K3VT6S8FwFm4u5uN8T8g     6.974691\n",
       "JdoBiBRgeS_KKaNaU1sofA     7.071068\n",
       "                            ...    \n",
       "9mQGAVvNsUULaEPQpG9LuA    11.567377\n",
       "jScBTQtdAt-8RshaiBEHgw    11.584537\n",
       "OOHDPE3tilNC4md8Lcx_4Q    11.584537\n",
       "xEH00X_VoRepWKXQrragmw    11.820605\n",
       "eBxQzBFLEPwRCxuiL50SQA    11.820605\n",
       "YTfXZ9tbTBJkWsDI7cMDWQ    11.820605\n",
       "Er5XAY2UFGGqBHdqpeCFkA    11.922533\n",
       "w0ArxcJ0XsyK1ZwrIf3gpA    12.016867\n",
       "0i9S0BejjRv0ZDwdO9XymA    12.034027\n",
       "Ec9CBmL3285XkeHaNp-bSQ    12.247449\n",
       "lmxA0dJM0XsPCIHPXhEQ-g    12.362570\n",
       "A5Rkh7UymKm0_Rxm9K2PJw    12.426550\n",
       "xxAGaqYnboeR0SilS7DbAg    12.426550\n",
       "Zua91nLoti4rx1VCkuIe6g    12.497732\n",
       "PYIk6aWfw8B8bO1mTn2rpQ    12.622812\n",
       "y8d90Pt16Nip-B5UXWBP-w    12.622812\n",
       "l3joBBpkq0ib11dKUpKMAw    12.622812\n",
       "Fanu7vgveGy1LyLV8R9aMA    12.774742\n",
       "SLx-vB9LnRtC83oAeVdAuA    12.988163\n",
       "1Df5WnLX3DqN6ymlhqznaQ    13.001749\n",
       "-Uix-n4Jqo4W7ERagC5qAA    13.032495\n",
       "r05kbKriZ3Z56Nre1WQIDg    13.228757\n",
       "-CQokjildrY7UZezXCdEBw    13.538674\n",
       "T419Y3fiJW9EuFDkFougVA    13.580522\n",
       "9cw870n3gsGikVoOT5YOYg    13.776784\n",
       "IQnUxhO7oieEP7-5ZVJ4uA    14.142136\n",
       "UTXNr62dGSK-tet8OeXUcQ    14.302606\n",
       "bM-rAr7gxsxxjD-FlRcIJA    14.656854\n",
       "3pSUr_cdrphurO6m1HMP9A    14.828427\n",
       "zjvnqTjBp56NhMp1GrlO5g    16.274430\n",
       "Name: distance_knn, dtype: float64"
      ]
     },
     "execution_count": 43,
     "metadata": {},
     "output_type": "execute_result"
    }
   ],
   "source": [
    "anomaly_merged['distance_knn'].sort_values()"
   ]
  },
  {
   "cell_type": "code",
   "execution_count": 42,
   "metadata": {
    "collapsed": false
   },
   "outputs": [
    {
     "data": {
      "text/plain": [
       "zjvnqTjBp56NhMp1GrlO5g   -0.066326\n",
       "IRbgMt0cVuzK1KSppU16_Q   -0.051790\n",
       "kICgNgVRkIh4doz0atyMMA   -0.049993\n",
       "3pSUr_cdrphurO6m1HMP9A   -0.048296\n",
       "5OqrwhtZ3mcmUSwLINZTWQ   -0.036444\n",
       "-CQokjildrY7UZezXCdEBw   -0.034522\n",
       "UTXNr62dGSK-tet8OeXUcQ   -0.030198\n",
       "9cw870n3gsGikVoOT5YOYg   -0.024481\n",
       "T419Y3fiJW9EuFDkFougVA   -0.021470\n",
       "9mQGAVvNsUULaEPQpG9LuA   -0.019341\n",
       "Zua91nLoti4rx1VCkuIe6g   -0.018843\n",
       "lmxA0dJM0XsPCIHPXhEQ-g   -0.018781\n",
       "PYIk6aWfw8B8bO1mTn2rpQ   -0.017927\n",
       "bM-rAr7gxsxxjD-FlRcIJA   -0.017160\n",
       "-Uix-n4Jqo4W7ERagC5qAA   -0.013621\n",
       "xEH00X_VoRepWKXQrragmw   -0.010544\n",
       "Fanu7vgveGy1LyLV8R9aMA   -0.009628\n",
       "IZivKqtHyz4-ts8KsnvMrA   -0.005598\n",
       "y8d90Pt16Nip-B5UXWBP-w   -0.004788\n",
       "1Df5WnLX3DqN6ymlhqznaQ    0.003512\n",
       "rbQOcy2n8dBPpm5ua3VU_Q    0.011956\n",
       "VzUo-RURV3VnfNItAYM8yg    0.013683\n",
       "IQnUxhO7oieEP7-5ZVJ4uA    0.014040\n",
       "SLx-vB9LnRtC83oAeVdAuA    0.014722\n",
       "Ec9CBmL3285XkeHaNp-bSQ    0.017006\n",
       "wpnLPAnkMEb1NpC3xiD_qg    0.017324\n",
       "w0ArxcJ0XsyK1ZwrIf3gpA    0.017484\n",
       "A5Rkh7UymKm0_Rxm9K2PJw    0.020272\n",
       "XIDhO9YAhsCa0upSkMhGuw    0.020693\n",
       "pH0BLkL4cbxKzu471VZnuA    0.020922\n",
       "                            ...   \n",
       "gWeYW0E5Tfmmj_9fugfLNw    0.127180\n",
       "ky5L-EfUwU9chSPcIeXM5w    0.127891\n",
       "JdoBiBRgeS_KKaNaU1sofA    0.128551\n",
       "vbVJzKDhHlhMnKRpES5QzQ    0.128685\n",
       "TrN8HBHBL4-Tu7cXMDoopQ    0.129543\n",
       "zdE82PiD6wquvjYLyhOJNA    0.129897\n",
       "1ZnVfS-qP19upP_fwOhZsA    0.130772\n",
       "C5azlhXSTOlqVAM3nl95nw    0.131628\n",
       "Rv1IiQaIIDunqzS8dSvHCw    0.132203\n",
       "0VjHFdczi6Nln_nn8bucJQ    0.132924\n",
       "HPLB1Tr8ZB5UkD-2umKPdA    0.132974\n",
       "vAh6WNioOEw7G9tGhd_JQw    0.133524\n",
       "yBxzqKXHhvNVaFnEOd4f7Q    0.133972\n",
       "MyTsAeShB9pcWP84GSTAdw    0.134241\n",
       "oyPvqoQhsdkfUeHtdPD7BQ    0.134607\n",
       "oAngC9V69vyzBVYwKEJQaw    0.134890\n",
       "4JkGjRRc3XucG9U8XwthGg    0.135239\n",
       "ZibmYdOPKLlqDM9oR6xzOA    0.135968\n",
       "IS_IWMsFRJii__17LsP1Og    0.136437\n",
       "_8VkSb_Mryb6bHQxSWB7Pg    0.136814\n",
       "pQ6e4fjq6kqRqLE6w8CfWQ    0.139344\n",
       "Os1n1_idfw9vv9kwULGJnQ    0.139575\n",
       "ZuNJelvkJD4wsXNBRg6t5w    0.140763\n",
       "kABF0hYfAEnl166mn1zR1A    0.141218\n",
       "arv3T_av9OoVo3SvxV4TXw    0.142358\n",
       "Vs7gc9EE3k9wARuUcN9piA    0.142358\n",
       "Gh1BoQNMGkh91pSHqvDRAA    0.146998\n",
       "8FUzCm4Q13MJMX7N6ftmQw    0.146998\n",
       "yYMTMtguT90BfMJVxasFuw    0.147601\n",
       "czyhvf93Txsfxdxqcm16mA    0.147601\n",
       "Name: scores_isf, dtype: float64"
      ]
     },
     "execution_count": 42,
     "metadata": {},
     "output_type": "execute_result"
    }
   ],
   "source": [
    "anomaly_merged['scores_isf'].sort_values()"
   ]
  },
  {
   "cell_type": "code",
   "execution_count": 46,
   "metadata": {
    "collapsed": false
   },
   "outputs": [
    {
     "data": {
      "text/plain": [
       "categories                        [Nightlife, Lounges, Bars, Restaurants, Mexica...\n",
       "city                                                                      Las Vegas\n",
       "hours                             [Monday 11:0-22:0, Tuesday 11:0-22:0, Wednesda...\n",
       "is_open                                                                           1\n",
       "latitude                                                                    36.1599\n",
       "longitude                                                                  -115.152\n",
       "name                                                         Mingo Kitchen & Lounge\n",
       "neighborhood                                                               Downtown\n",
       "postal_code                                                                   89101\n",
       "review_count                                                                    169\n",
       "stars                                                                             4\n",
       "state                                                                            NV\n",
       "AgesAllowed                                                                    True\n",
       "Ambience_casual                                                                 NaN\n",
       "Ambience_classy                                                            full_bar\n",
       "Ambience_divey                                                                 True\n",
       "Ambience_hipster                                                            average\n",
       "Ambience_intimate                                                             False\n",
       "Ambience_romantic                                                            casual\n",
       "Ambience_touristy                                                              True\n",
       "Ambience_trendy                                                                 NaN\n",
       "Ambience_upscale                                                               True\n",
       "BYOB                                                                           True\n",
       "BYOBCorkage                                                                    True\n",
       "BestNights_friday                                                             False\n",
       "BestNights_monday                                                               NaN\n",
       "BestNights_saturday                                                           False\n",
       "BestNights_sunday                                                              True\n",
       "BestNights_thursday                                                             NaN\n",
       "BestNights_tuesday                                                            False\n",
       "                                                        ...                        \n",
       "DietaryRestrictions_soy-free                                                  False\n",
       "DietaryRestrictions_vegan                                                       NaN\n",
       "DietaryRestrictions_vegetarian                                                  NaN\n",
       "GoodForMeal_breakfast                                                          True\n",
       "GoodForMeal_brunch                                                             True\n",
       "GoodForMeal_dessert                                                            True\n",
       "GoodForMeal_dinner                                                            False\n",
       "GoodForMeal_latenight                                                         False\n",
       "GoodForMeal_lunch                                                             False\n",
       "HappyHour                                                                      True\n",
       "Music_background_music                                                         True\n",
       "Music_dj                                                                        NaN\n",
       "Music_jukebox                                                                 False\n",
       "Music_karaoke                                                                   NaN\n",
       "Music_live                                                                    False\n",
       "Music_no_music                                                                 True\n",
       "Music_video                                                                   False\n",
       "OutdoorSeating                                                                False\n",
       "RestaurantsDelivery                                                           False\n",
       "RestaurantsGoodForGroups                                                      False\n",
       "Smoking                                                                       False\n",
       "review_count_greater_median                                                    True\n",
       "cuisine_Chinese                                                                   2\n",
       "spatial_label                                                                     7\n",
       "clusters_sp                                                                       0\n",
       "clusters_km                                                                       1\n",
       "distance_km                                                                 2.96598\n",
       "clusters_gm                                                                       1\n",
       "scores_isf                                                               -0.0663256\n",
       "distance_knn                                                                16.2744\n",
       "Name: zjvnqTjBp56NhMp1GrlO5g, dtype: object"
      ]
     },
     "execution_count": 46,
     "metadata": {},
     "output_type": "execute_result"
    }
   ],
   "source": [
    "anomaly_merged.loc['zjvnqTjBp56NhMp1GrlO5g', :]"
   ]
  },
  {
   "cell_type": "code",
   "execution_count": null,
   "metadata": {
    "collapsed": true
   },
   "outputs": [],
   "source": []
  }
 ],
 "metadata": {
  "kernelspec": {
   "display_name": "myPy27",
   "language": "python",
   "name": "mypy27"
  },
  "language_info": {
   "codemirror_mode": {
    "name": "ipython",
    "version": 2
   },
   "file_extension": ".py",
   "mimetype": "text/x-python",
   "name": "python",
   "nbconvert_exporter": "python",
   "pygments_lexer": "ipython2",
   "version": "2.7.13"
  }
 },
 "nbformat": 4,
 "nbformat_minor": 0
}
