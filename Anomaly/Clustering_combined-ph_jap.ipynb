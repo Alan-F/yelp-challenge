{
 "cells": [
  {
   "cell_type": "code",
   "execution_count": 1,
   "metadata": {
    "collapsed": true
   },
   "outputs": [],
   "source": [
    "import numpy as np\n",
    "import pandas as pd\n",
    "from scipy.spatial import distance\n",
    "from sklearn.cluster import SpectralClustering\n",
    "from sklearn.cluster import KMeans\n",
    "from sklearn.mixture import GaussianMixture\n",
    "from sklearn.metrics import silhouette_samples, silhouette_score\n",
    "import matplotlib.pyplot as plt\n",
    "%matplotlib inline"
   ]
  },
  {
   "cell_type": "code",
   "execution_count": 2,
   "metadata": {
    "collapsed": true
   },
   "outputs": [],
   "source": [
    "df = pd.read_pickle('../data_processeing/Yelp_Cuisine_Japanese.pkl')\n",
    "d = pd.read_pickle('../data_processeing/Yelp_Cuisine_Japanese.pkl')\n",
    "df = df.loc[:,'AcceptsInsurance':'cuisine_Japanese']\n",
    "if_col_keep = 1.0* df.count().sort_values() / len(df) > 0.7\n",
    "col_keep = df.count().sort_values()[if_col_keep]\n",
    "col_prefix = []\n",
    "for c in col_keep.keys().values:\n",
    "    #print c.split('_')[0]\n",
    "    if c == 'cuisine_Chinese':\n",
    "        pass\n",
    "    else:\n",
    "        col_prefix.append(c.split('_')[0])\n",
    "col_prefix = list(set(col_prefix))\n",
    "delete_col = ['HairSpecializesIn']\n",
    "for c in delete_col:\n",
    "    col_prefix.remove(c)\n",
    "len(col_prefix)\n",
    "col_with_prefix = []\n",
    "for c in df.columns[:-1]:\n",
    "    if c.split('_')[0] in col_prefix:\n",
    "        col_with_prefix.append(c)\n",
    "df1 = df.copy()\n",
    "md = df1.join(d.review_count).review_count.median()\n",
    "df1['review_count_greater_median'] = df1.join(d.review_count).review_count > md\n",
    "df_basic = d[[u'categories', u'city', u'hours', u'is_open', u'latitude', u'longitude', u'name', u'neighborhood', u'postal_code', u'review_count', u'stars', u'state']]\n",
    "df_final = df_basic.join(df1[col_with_prefix+['review_count_greater_median','cuisine_Japanese']])"
   ]
  },
  {
   "cell_type": "code",
   "execution_count": 3,
   "metadata": {
    "collapsed": true
   },
   "outputs": [],
   "source": [
    "spatial_label = pd.read_pickle('../data_processeing/spatial_labels.pkl')"
   ]
  },
  {
   "cell_type": "code",
   "execution_count": 4,
   "metadata": {
    "collapsed": true
   },
   "outputs": [],
   "source": [
    "df_new = pd.concat([df_final,spatial_label], axis=1)"
   ]
  },
  {
   "cell_type": "code",
   "execution_count": 5,
   "metadata": {
    "collapsed": true
   },
   "outputs": [],
   "source": [
    "df_select = df_new[(df_new['stars'] >= 4) & (df_new['spatial_label'] == 2) & (df_new['cuisine_Japanese'] == 2)]"
   ]
  },
  {
   "cell_type": "markdown",
   "metadata": {},
   "source": [
    "# Spectual Clustering"
   ]
  },
  {
   "cell_type": "code",
   "execution_count": 6,
   "metadata": {
    "collapsed": true
   },
   "outputs": [],
   "source": [
    "X = df_select.loc[:, 'AgesAllowed': 'review_count_greater_median']\n",
    "X = pd.concat([X, df_select[['stars']]], axis=1)\n",
    "X['stars'] = X['stars'].apply(str)\n",
    "X = pd.get_dummies(X, dummy_na=False, drop_first=True)\n",
    "def true_false(x):\n",
    "    if x == True:\n",
    "        return 1\n",
    "    else:\n",
    "        return 0\n",
    "X['review_count_greater_median'] = X['review_count_greater_median'].apply(true_false)"
   ]
  },
  {
   "cell_type": "code",
   "execution_count": 7,
   "metadata": {
    "collapsed": false
   },
   "outputs": [
    {
     "name": "stdout",
     "output_type": "stream",
     "text": [
      "0.357625510143\n",
      "118\n",
      "1\n",
      "0\n",
      "0\n",
      "0\n",
      "0.313062733033\n",
      "2\n",
      "116\n",
      "1\n",
      "0\n",
      "0\n",
      "0.100278545237\n",
      "112\n",
      "5\n",
      "1\n",
      "1\n",
      "0\n"
     ]
    }
   ],
   "source": [
    "for n_clusters in range(2,5):  \n",
    "    spectural_clustering = SpectralClustering(n_clusters=n_clusters, random_state=100, affinity='sigmoid').fit(X)\n",
    "    labels = spectural_clustering.labels_\n",
    "    print silhouette_score(X, labels, metric='cityblock')\n",
    "    print list(labels).count(0)\n",
    "    print list(labels).count(1)\n",
    "    print list(labels).count(2)\n",
    "    print list(labels).count(3)\n",
    "    print list(labels).count(4)"
   ]
  },
  {
   "cell_type": "code",
   "execution_count": 8,
   "metadata": {
    "collapsed": true
   },
   "outputs": [],
   "source": [
    "spectural_clustering = SpectralClustering(n_clusters=2, random_state=999, affinity='sigmoid').fit(X)\n",
    "labels_spectural = spectural_clustering.labels_"
   ]
  },
  {
   "cell_type": "code",
   "execution_count": 9,
   "metadata": {
    "collapsed": false
   },
   "outputs": [
    {
     "data": {
      "text/plain": [
       "(119, 67)"
      ]
     },
     "execution_count": 9,
     "metadata": {},
     "output_type": "execute_result"
    }
   ],
   "source": [
    "df_select.shape"
   ]
  },
  {
   "cell_type": "markdown",
   "metadata": {},
   "source": [
    "# KMeans"
   ]
  },
  {
   "cell_type": "code",
   "execution_count": 10,
   "metadata": {
    "collapsed": true
   },
   "outputs": [],
   "source": [
    "## function that gets silhouette scores for a clustering method\n",
    "def get_silhouette_score(X, cluster_method, method='complete'):\n",
    "    \n",
    "    #Choose a range(list) of clusters I would like to try:\n",
    "    range_n_clusters = range(2,10)\n",
    "    \n",
    "    if cluster_method == 'kmeans':\n",
    "        for n_clusters in range_n_clusters: \n",
    "            km_result = KMeans(n_clusters=n_clusters, random_state=22).fit(X) # fit model\n",
    "            cluster_labels = km_result.labels_\n",
    "\n",
    "            # clustering model & clustering result to variable \"cluster_labels\". \n",
    "            silhouette_avg = silhouette_score(X, cluster_labels, random_state=22)\n",
    "            print(\"For n_clusters ={},\".format(n_clusters)+\"{} - average silhouette_score :{}\".\\\n",
    "                  format(cluster_method, silhouette_avg))\n",
    "\n",
    "        \n",
    "    elif cluster_method == 'gaussian_mix':\n",
    "        for n_clusters in range_n_clusters: \n",
    "            gm = GaussianMixture(n_components=n_clusters, random_state=22).fit(X) # fit model\n",
    "            cluster_labels = gm.predict(X)\n",
    "\n",
    "            # clustering model & clustering result to variable \"cluster_labels\". \n",
    "            silhouette_avg = silhouette_score(X, cluster_labels, random_state=22)\n",
    "            print(\"For n_clusters ={},\".format(n_clusters)+\"{} - average silhouette_score :{}\".\\\n",
    "                  format(cluster_method, silhouette_avg))\n",
    "        \n",
    "        # res_mix_cluster.predict(X)\n",
    "        \n",
    "    elif cluster_method == 'hierarchical':\n",
    "        # Define Z\n",
    "        Z = linkage(X, method)\n",
    "\n",
    "        for n_clusters in range_n_clusters:   \n",
    "            cluster_labels=  fcluster(Z, n_clusters, criterion='maxclust') \n",
    "\n",
    "            silhouette_avg = silhouette_score(X, cluster_labels, random_state=22)\n",
    "            print(\"For n_clusters ={},\".format(n_clusters)+\"{} - average silhouette_score :{}\".\\\n",
    "                  format(cluster_method, silhouette_avg))"
   ]
  },
  {
   "cell_type": "code",
   "execution_count": 11,
   "metadata": {
    "collapsed": false
   },
   "outputs": [
    {
     "name": "stdout",
     "output_type": "stream",
     "text": [
      "For n_clusters =2,kmeans - average silhouette_score :0.198111214924\n",
      "For n_clusters =3,kmeans - average silhouette_score :0.124831239787\n",
      "For n_clusters =4,kmeans - average silhouette_score :0.13200666947\n",
      "For n_clusters =5,kmeans - average silhouette_score :0.127508828854\n",
      "For n_clusters =6,kmeans - average silhouette_score :0.110961452304\n",
      "For n_clusters =7,kmeans - average silhouette_score :0.110801032654\n",
      "For n_clusters =8,kmeans - average silhouette_score :0.111323618817\n",
      "For n_clusters =9,kmeans - average silhouette_score :0.0983671939625\n"
     ]
    }
   ],
   "source": [
    "## choose the number of clusters using silhouette method\n",
    "get_silhouette_score(X, 'kmeans')"
   ]
  },
  {
   "cell_type": "code",
   "execution_count": 12,
   "metadata": {
    "collapsed": false
   },
   "outputs": [
    {
     "name": "stdout",
     "output_type": "stream",
     "text": [
      "88\n",
      "31\n"
     ]
    }
   ],
   "source": [
    "n_clusters = 2  # number of clusters\n",
    "#XX= X.ix[:, ] # hour of day data\n",
    "\n",
    "#train the model.\n",
    "km=KMeans(n_clusters=n_clusters, random_state=22).fit(X)\n",
    "labels_km = km.labels_\n",
    "\n",
    "print list(labels_km).count(0)\n",
    "print list(labels_km).count(1)"
   ]
  },
  {
   "cell_type": "code",
   "execution_count": 13,
   "metadata": {
    "collapsed": false
   },
   "outputs": [
    {
     "data": {
      "text/html": [
       "<div>\n",
       "<table border=\"1\" class=\"dataframe\">\n",
       "  <thead>\n",
       "    <tr style=\"text-align: right;\">\n",
       "      <th></th>\n",
       "      <th>0</th>\n",
       "      <th>1</th>\n",
       "      <th>cluster</th>\n",
       "      <th>score</th>\n",
       "    </tr>\n",
       "  </thead>\n",
       "  <tbody>\n",
       "    <tr>\n",
       "      <th>39</th>\n",
       "      <td>3.108302</td>\n",
       "      <td>3.416463</td>\n",
       "      <td>0</td>\n",
       "      <td>3.108302</td>\n",
       "    </tr>\n",
       "    <tr>\n",
       "      <th>70</th>\n",
       "      <td>2.950762</td>\n",
       "      <td>3.368922</td>\n",
       "      <td>0</td>\n",
       "      <td>2.950762</td>\n",
       "    </tr>\n",
       "    <tr>\n",
       "      <th>35</th>\n",
       "      <td>2.911997</td>\n",
       "      <td>3.541636</td>\n",
       "      <td>0</td>\n",
       "      <td>2.911997</td>\n",
       "    </tr>\n",
       "    <tr>\n",
       "      <th>30</th>\n",
       "      <td>2.788401</td>\n",
       "      <td>3.344898</td>\n",
       "      <td>0</td>\n",
       "      <td>2.788401</td>\n",
       "    </tr>\n",
       "    <tr>\n",
       "      <th>14</th>\n",
       "      <td>2.856842</td>\n",
       "      <td>2.722894</td>\n",
       "      <td>1</td>\n",
       "      <td>2.722894</td>\n",
       "    </tr>\n",
       "  </tbody>\n",
       "</table>\n",
       "</div>"
      ],
      "text/plain": [
       "           0         1  cluster     score\n",
       "39  3.108302  3.416463        0  3.108302\n",
       "70  2.950762  3.368922        0  2.950762\n",
       "35  2.911997  3.541636        0  2.911997\n",
       "30  2.788401  3.344898        0  2.788401\n",
       "14  2.856842  2.722894        1  2.722894"
      ]
     },
     "execution_count": 13,
     "metadata": {},
     "output_type": "execute_result"
    }
   ],
   "source": [
    "## Distance \n",
    "# KM=KMeans(n_clusters=k,random_state=9)\n",
    "scor=km.fit_predict(X)\n",
    "\n",
    "res_p=pd.DataFrame(km.transform(X))  ## distances of each data point to each cluster center!!!\n",
    "res_p=pd.concat((res_p, pd.DataFrame(km.fit_predict(X))),axis=1)\n",
    "\n",
    "res_p.columns=list(range(n_clusters))+[\"cluster\"]\n",
    "res_p.loc[:,\"score\"]=res_p.apply(lambda x: x[int(x[\"cluster\"])],axis=1)\n",
    "res_p.sort_values(\"score\",ascending=False)[:5]"
   ]
  },
  {
   "cell_type": "code",
   "execution_count": 14,
   "metadata": {
    "collapsed": true
   },
   "outputs": [],
   "source": [
    "X_df = X.copy()"
   ]
  },
  {
   "cell_type": "code",
   "execution_count": 15,
   "metadata": {
    "collapsed": true
   },
   "outputs": [],
   "source": [
    "X_df['km'] = labels_km"
   ]
  },
  {
   "cell_type": "code",
   "execution_count": 16,
   "metadata": {
    "collapsed": false
   },
   "outputs": [],
   "source": [
    "X_df['distance_KM'] = res_p.score.values"
   ]
  },
  {
   "cell_type": "code",
   "execution_count": 17,
   "metadata": {
    "collapsed": true
   },
   "outputs": [],
   "source": [
    "## Get Anomalies\n",
    "def get_anomaly(df, label_col, dist_or_likelihood, thres):\n",
    "    \n",
    "    df_anomalies = pd.DataFrame(columns=df.columns)\n",
    "    \n",
    "    clustermean = df.groupby(label_col)[dist_or_likelihood].mean()\n",
    "    clusterstd = df.groupby(label_col)[dist_or_likelihood].std()\n",
    "    \n",
    "    for label in df[label_col].unique():\n",
    "        anomaly = df[(df[label_col]==label) \\\n",
    "               & (abs(df[dist_or_likelihood] - clustermean[label]) / clusterstd[label] > thres)]\n",
    "        \n",
    "        df_anomalies = pd.concat([df_anomalies, anomaly], axis=0)\n",
    "    \n",
    "    return df_anomalies"
   ]
  },
  {
   "cell_type": "code",
   "execution_count": 18,
   "metadata": {
    "collapsed": false
   },
   "outputs": [],
   "source": [
    "## get anomalies based on kmeans distance\n",
    "km_anomalies = get_anomaly(X_df, 'km', 'distance_KM', 2)"
   ]
  },
  {
   "cell_type": "code",
   "execution_count": 19,
   "metadata": {
    "collapsed": false
   },
   "outputs": [
    {
     "data": {
      "text/plain": [
       "O7ZvoH_ONGNKbXvHDSZlwg    2.722894\n",
       "ZCzey5aPhd7jYIoHsUfjmQ    2.788401\n",
       "e6d50rwRTU-fONeSBJmOHQ    2.911997\n",
       "0Buxoc0cRqjpvkezo3bqog    3.108302\n",
       "fI9ErCUGY8rXRPBbatcxMA    2.950762\n",
       "Name: distance_KM, dtype: float64"
      ]
     },
     "execution_count": 19,
     "metadata": {},
     "output_type": "execute_result"
    }
   ],
   "source": [
    "km_anomalies['distance_KM']"
   ]
  },
  {
   "cell_type": "code",
   "execution_count": null,
   "metadata": {
    "collapsed": true
   },
   "outputs": [],
   "source": []
  },
  {
   "cell_type": "code",
   "execution_count": null,
   "metadata": {
    "collapsed": true
   },
   "outputs": [],
   "source": []
  },
  {
   "cell_type": "markdown",
   "metadata": {},
   "source": [
    "# Gaussian Mixture"
   ]
  },
  {
   "cell_type": "code",
   "execution_count": 20,
   "metadata": {
    "collapsed": false
   },
   "outputs": [
    {
     "name": "stdout",
     "output_type": "stream",
     "text": [
      "For n_clusters =2,gaussian_mix - average silhouette_score :0.115937006875\n",
      "For n_clusters =3,gaussian_mix - average silhouette_score :0.119965109891\n",
      "For n_clusters =4,gaussian_mix - average silhouette_score :0.146853177694\n",
      "For n_clusters =5,gaussian_mix - average silhouette_score :0.106963683433\n",
      "For n_clusters =6,gaussian_mix - average silhouette_score :0.108982386698\n",
      "For n_clusters =7,gaussian_mix - average silhouette_score :0.112175042316\n",
      "For n_clusters =8,gaussian_mix - average silhouette_score :0.0755344608829\n",
      "For n_clusters =9,gaussian_mix - average silhouette_score :0.0862290144781\n"
     ]
    }
   ],
   "source": [
    "##### Gaussian Mixture #########\n",
    "\n",
    "## choose the number of clusters using silhouette method\n",
    "get_silhouette_score(X, 'gaussian_mix')"
   ]
  },
  {
   "cell_type": "code",
   "execution_count": 22,
   "metadata": {
    "collapsed": false
   },
   "outputs": [],
   "source": [
    "k = 4\n",
    "GM=GaussianMixture(n_components=k,random_state=22)\n",
    "GM.fit(X)\n",
    "\n",
    "label_gm = GM.predict(X)"
   ]
  },
  {
   "cell_type": "code",
   "execution_count": 23,
   "metadata": {
    "collapsed": false
   },
   "outputs": [
    {
     "name": "stdout",
     "output_type": "stream",
     "text": [
      "24\n",
      "17\n",
      "16\n",
      "62\n",
      "0\n"
     ]
    }
   ],
   "source": [
    "print list(label_gm).count(0)\n",
    "print list(label_gm).count(1)\n",
    "print list(label_gm).count(2)\n",
    "print list(label_gm).count(3)\n",
    "print list(label_gm).count(4)"
   ]
  },
  {
   "cell_type": "markdown",
   "metadata": {},
   "source": [
    "# Isolation Forest"
   ]
  },
  {
   "cell_type": "code",
   "execution_count": 24,
   "metadata": {
    "collapsed": true
   },
   "outputs": [],
   "source": [
    "### 3) Isolation Foreset\n",
    "from sklearn.ensemble import IsolationForest\n",
    "\n",
    "# fit the model\n",
    "ISF = IsolationForest(max_samples=100, random_state=22)\n",
    "ISF.fit(X)\n",
    "\n",
    "## compute anomaly score of the input. The lower, the more abnormal.\n",
    "score_isf = ISF.decision_function(X)"
   ]
  },
  {
   "cell_type": "code",
   "execution_count": 25,
   "metadata": {
    "collapsed": false
   },
   "outputs": [
    {
     "data": {
      "text/plain": [
       "35"
      ]
     },
     "execution_count": 25,
     "metadata": {},
     "output_type": "execute_result"
    }
   ],
   "source": [
    "score_isf.argmin()"
   ]
  },
  {
   "cell_type": "markdown",
   "metadata": {},
   "source": [
    "# KNN Distance"
   ]
  },
  {
   "cell_type": "code",
   "execution_count": 26,
   "metadata": {
    "collapsed": true
   },
   "outputs": [],
   "source": [
    "def dist2knn(x, nn, k):\n",
    "    dist_ = []\n",
    "    for i in range(len(nn)):\n",
    "        dist_.append(distance.euclidean(x, nn.iloc[i,:]))\n",
    "    dist_.sort()\n",
    "    return sum(dist_[:k+1]) # +1: remove 0 self"
   ]
  },
  {
   "cell_type": "code",
   "execution_count": 27,
   "metadata": {
    "collapsed": false
   },
   "outputs": [
    {
     "name": "stdout",
     "output_type": "stream",
     "text": [
      "100.0%\n"
     ]
    }
   ],
   "source": [
    "dist_sum_knn = []\n",
    "for i in range(len(X)):\n",
    "    print '\\r{}%'.format(100.0*(i+1)/len(X)),\n",
    "    dist_sum_knn.append(dist2knn(X.iloc[i,:], X, 5))"
   ]
  },
  {
   "cell_type": "code",
   "execution_count": null,
   "metadata": {
    "collapsed": true
   },
   "outputs": [],
   "source": []
  },
  {
   "cell_type": "markdown",
   "metadata": {},
   "source": [
    "# Output"
   ]
  },
  {
   "cell_type": "code",
   "execution_count": 28,
   "metadata": {
    "collapsed": true
   },
   "outputs": [],
   "source": [
    "result = pd.DataFrame(index=X.index)"
   ]
  },
  {
   "cell_type": "code",
   "execution_count": 29,
   "metadata": {
    "collapsed": false
   },
   "outputs": [],
   "source": [
    "result['clusters_sp'] = labels_spectural\n",
    "result['clusters_km'] = labels_km\n",
    "result['distance_km'] = km_anomalies['distance_KM']\n",
    "result['clusters_gm'] = label_gm\n",
    "result['scores_isf'] = score_isf\n",
    "result['distance_knn'] = dist_sum_knn"
   ]
  },
  {
   "cell_type": "code",
   "execution_count": 30,
   "metadata": {
    "collapsed": false
   },
   "outputs": [
    {
     "data": {
      "text/html": [
       "<div>\n",
       "<table border=\"1\" class=\"dataframe\">\n",
       "  <thead>\n",
       "    <tr style=\"text-align: right;\">\n",
       "      <th></th>\n",
       "      <th>clusters_sp</th>\n",
       "      <th>clusters_km</th>\n",
       "      <th>distance_km</th>\n",
       "      <th>clusters_gm</th>\n",
       "      <th>scores_isf</th>\n",
       "      <th>distance_knn</th>\n",
       "    </tr>\n",
       "  </thead>\n",
       "  <tbody>\n",
       "    <tr>\n",
       "      <th>Ld2hhA3q3cdkptwS1fsYEg</th>\n",
       "      <td>0</td>\n",
       "      <td>1</td>\n",
       "      <td>NaN</td>\n",
       "      <td>2</td>\n",
       "      <td>0.067136</td>\n",
       "      <td>9.464102</td>\n",
       "    </tr>\n",
       "    <tr>\n",
       "      <th>E_f5hWSBXkxvyckUpU31kQ</th>\n",
       "      <td>1</td>\n",
       "      <td>1</td>\n",
       "      <td>NaN</td>\n",
       "      <td>1</td>\n",
       "      <td>-0.050171</td>\n",
       "      <td>12.230289</td>\n",
       "    </tr>\n",
       "    <tr>\n",
       "      <th>gA9hCYY7MYl9oZ3aym5dvw</th>\n",
       "      <td>0</td>\n",
       "      <td>0</td>\n",
       "      <td>NaN</td>\n",
       "      <td>3</td>\n",
       "      <td>0.165696</td>\n",
       "      <td>2.000000</td>\n",
       "    </tr>\n",
       "    <tr>\n",
       "      <th>fS9a8AGrcwWPf_9vfn5wPQ</th>\n",
       "      <td>0</td>\n",
       "      <td>0</td>\n",
       "      <td>NaN</td>\n",
       "      <td>3</td>\n",
       "      <td>0.166010</td>\n",
       "      <td>5.000000</td>\n",
       "    </tr>\n",
       "    <tr>\n",
       "      <th>_IZyyv0dFfpIy_rI_-nwTQ</th>\n",
       "      <td>0</td>\n",
       "      <td>0</td>\n",
       "      <td>NaN</td>\n",
       "      <td>0</td>\n",
       "      <td>0.117533</td>\n",
       "      <td>6.656854</td>\n",
       "    </tr>\n",
       "    <tr>\n",
       "      <th>-ITj6Pu8Gdw8MmLf0XBEKQ</th>\n",
       "      <td>0</td>\n",
       "      <td>0</td>\n",
       "      <td>NaN</td>\n",
       "      <td>3</td>\n",
       "      <td>0.165041</td>\n",
       "      <td>0.000000</td>\n",
       "    </tr>\n",
       "    <tr>\n",
       "      <th>kkEqZmVvVkgmCaOqE13mDg</th>\n",
       "      <td>0</td>\n",
       "      <td>1</td>\n",
       "      <td>NaN</td>\n",
       "      <td>2</td>\n",
       "      <td>0.084863</td>\n",
       "      <td>8.928203</td>\n",
       "    </tr>\n",
       "    <tr>\n",
       "      <th>KGS8NdjkMzrS_BoBTo5nBA</th>\n",
       "      <td>0</td>\n",
       "      <td>0</td>\n",
       "      <td>NaN</td>\n",
       "      <td>3</td>\n",
       "      <td>0.153479</td>\n",
       "      <td>6.242641</td>\n",
       "    </tr>\n",
       "    <tr>\n",
       "      <th>ctzH0uqGz6q_o2nuCrAUvA</th>\n",
       "      <td>0</td>\n",
       "      <td>0</td>\n",
       "      <td>NaN</td>\n",
       "      <td>3</td>\n",
       "      <td>0.132629</td>\n",
       "      <td>7.071068</td>\n",
       "    </tr>\n",
       "    <tr>\n",
       "      <th>J7rkQISD48jXgdM6UxNAbw</th>\n",
       "      <td>0</td>\n",
       "      <td>1</td>\n",
       "      <td>NaN</td>\n",
       "      <td>2</td>\n",
       "      <td>0.104192</td>\n",
       "      <td>8.292529</td>\n",
       "    </tr>\n",
       "    <tr>\n",
       "      <th>RZFryvOkznd4jtpj8PbSzg</th>\n",
       "      <td>0</td>\n",
       "      <td>0</td>\n",
       "      <td>NaN</td>\n",
       "      <td>3</td>\n",
       "      <td>0.155109</td>\n",
       "      <td>5.000000</td>\n",
       "    </tr>\n",
       "    <tr>\n",
       "      <th>Ly2ShApiomYZwKehwb7eRA</th>\n",
       "      <td>0</td>\n",
       "      <td>0</td>\n",
       "      <td>NaN</td>\n",
       "      <td>3</td>\n",
       "      <td>0.115044</td>\n",
       "      <td>7.292529</td>\n",
       "    </tr>\n",
       "    <tr>\n",
       "      <th>wa8QgXQu1ZxwPgdRl9lYlg</th>\n",
       "      <td>0</td>\n",
       "      <td>0</td>\n",
       "      <td>NaN</td>\n",
       "      <td>3</td>\n",
       "      <td>0.165041</td>\n",
       "      <td>0.000000</td>\n",
       "    </tr>\n",
       "    <tr>\n",
       "      <th>P2GBKrx7dJg3xeGtuU2K-A</th>\n",
       "      <td>0</td>\n",
       "      <td>0</td>\n",
       "      <td>NaN</td>\n",
       "      <td>3</td>\n",
       "      <td>0.152744</td>\n",
       "      <td>5.242641</td>\n",
       "    </tr>\n",
       "    <tr>\n",
       "      <th>O7ZvoH_ONGNKbXvHDSZlwg</th>\n",
       "      <td>0</td>\n",
       "      <td>1</td>\n",
       "      <td>2.722894</td>\n",
       "      <td>1</td>\n",
       "      <td>-0.015636</td>\n",
       "      <td>13.580522</td>\n",
       "    </tr>\n",
       "    <tr>\n",
       "      <th>mRxUCEoUUe-XsEYS1SlrTA</th>\n",
       "      <td>0</td>\n",
       "      <td>1</td>\n",
       "      <td>NaN</td>\n",
       "      <td>2</td>\n",
       "      <td>0.021353</td>\n",
       "      <td>11.371115</td>\n",
       "    </tr>\n",
       "    <tr>\n",
       "      <th>5j2ugUALtjsa2nkV1YGq5Q</th>\n",
       "      <td>0</td>\n",
       "      <td>0</td>\n",
       "      <td>NaN</td>\n",
       "      <td>3</td>\n",
       "      <td>0.139997</td>\n",
       "      <td>6.656854</td>\n",
       "    </tr>\n",
       "    <tr>\n",
       "      <th>gRMYm-CeEdjXtaQcVo8vsw</th>\n",
       "      <td>0</td>\n",
       "      <td>0</td>\n",
       "      <td>NaN</td>\n",
       "      <td>3</td>\n",
       "      <td>0.167695</td>\n",
       "      <td>0.000000</td>\n",
       "    </tr>\n",
       "    <tr>\n",
       "      <th>dYU5hXVyPsm7C-T-13I_YQ</th>\n",
       "      <td>0</td>\n",
       "      <td>0</td>\n",
       "      <td>NaN</td>\n",
       "      <td>3</td>\n",
       "      <td>0.128427</td>\n",
       "      <td>5.242641</td>\n",
       "    </tr>\n",
       "    <tr>\n",
       "      <th>oa52t2Nfb7sOCqJE5M5hzg</th>\n",
       "      <td>0</td>\n",
       "      <td>0</td>\n",
       "      <td>NaN</td>\n",
       "      <td>0</td>\n",
       "      <td>0.119636</td>\n",
       "      <td>6.974691</td>\n",
       "    </tr>\n",
       "    <tr>\n",
       "      <th>8PaMGALpL7FwwdUy7eK4ZA</th>\n",
       "      <td>0</td>\n",
       "      <td>1</td>\n",
       "      <td>NaN</td>\n",
       "      <td>1</td>\n",
       "      <td>0.048683</td>\n",
       "      <td>8.878315</td>\n",
       "    </tr>\n",
       "    <tr>\n",
       "      <th>TkoyGi8J7YFjA6SbaRzrxg</th>\n",
       "      <td>0</td>\n",
       "      <td>0</td>\n",
       "      <td>NaN</td>\n",
       "      <td>3</td>\n",
       "      <td>0.167695</td>\n",
       "      <td>0.000000</td>\n",
       "    </tr>\n",
       "    <tr>\n",
       "      <th>4s_cPDS_AkLP1fXMJPqB2w</th>\n",
       "      <td>0</td>\n",
       "      <td>0</td>\n",
       "      <td>NaN</td>\n",
       "      <td>3</td>\n",
       "      <td>0.163634</td>\n",
       "      <td>5.000000</td>\n",
       "    </tr>\n",
       "    <tr>\n",
       "      <th>SIBaomIYVvsMU0GTuqX4vQ</th>\n",
       "      <td>0</td>\n",
       "      <td>0</td>\n",
       "      <td>NaN</td>\n",
       "      <td>0</td>\n",
       "      <td>0.075484</td>\n",
       "      <td>10.236068</td>\n",
       "    </tr>\n",
       "    <tr>\n",
       "      <th>KH9XgG2nt0G6bk8-NKkQQQ</th>\n",
       "      <td>0</td>\n",
       "      <td>0</td>\n",
       "      <td>NaN</td>\n",
       "      <td>0</td>\n",
       "      <td>0.141131</td>\n",
       "      <td>6.656854</td>\n",
       "    </tr>\n",
       "    <tr>\n",
       "      <th>L6ZPG8lO1tMGmHimSjuEMg</th>\n",
       "      <td>0</td>\n",
       "      <td>0</td>\n",
       "      <td>NaN</td>\n",
       "      <td>3</td>\n",
       "      <td>0.031630</td>\n",
       "      <td>12.247449</td>\n",
       "    </tr>\n",
       "    <tr>\n",
       "      <th>fT6Uwl6abRQfiNgxre_qbg</th>\n",
       "      <td>0</td>\n",
       "      <td>0</td>\n",
       "      <td>NaN</td>\n",
       "      <td>3</td>\n",
       "      <td>0.015909</td>\n",
       "      <td>10.000000</td>\n",
       "    </tr>\n",
       "    <tr>\n",
       "      <th>evdJO0v9rvVixieNEnaeJg</th>\n",
       "      <td>0</td>\n",
       "      <td>0</td>\n",
       "      <td>NaN</td>\n",
       "      <td>3</td>\n",
       "      <td>0.143754</td>\n",
       "      <td>6.656854</td>\n",
       "    </tr>\n",
       "    <tr>\n",
       "      <th>zXjA4Jms2jCAP09EO7Ghfg</th>\n",
       "      <td>0</td>\n",
       "      <td>1</td>\n",
       "      <td>NaN</td>\n",
       "      <td>2</td>\n",
       "      <td>0.073777</td>\n",
       "      <td>8.928203</td>\n",
       "    </tr>\n",
       "    <tr>\n",
       "      <th>XVS-zdj4Z6TihagZcZZ7pQ</th>\n",
       "      <td>0</td>\n",
       "      <td>0</td>\n",
       "      <td>NaN</td>\n",
       "      <td>3</td>\n",
       "      <td>0.108696</td>\n",
       "      <td>5.000000</td>\n",
       "    </tr>\n",
       "    <tr>\n",
       "      <th>...</th>\n",
       "      <td>...</td>\n",
       "      <td>...</td>\n",
       "      <td>...</td>\n",
       "      <td>...</td>\n",
       "      <td>...</td>\n",
       "      <td>...</td>\n",
       "    </tr>\n",
       "    <tr>\n",
       "      <th>CUivTcULsu5MJIYYNVm1zw</th>\n",
       "      <td>0</td>\n",
       "      <td>0</td>\n",
       "      <td>NaN</td>\n",
       "      <td>3</td>\n",
       "      <td>0.077025</td>\n",
       "      <td>9.464102</td>\n",
       "    </tr>\n",
       "    <tr>\n",
       "      <th>NJ0RzuWd5xDqfJejYQZ65g</th>\n",
       "      <td>0</td>\n",
       "      <td>0</td>\n",
       "      <td>NaN</td>\n",
       "      <td>0</td>\n",
       "      <td>0.009708</td>\n",
       "      <td>11.607183</td>\n",
       "    </tr>\n",
       "    <tr>\n",
       "      <th>dA7ORbBrCdxoMlvn3I6JDA</th>\n",
       "      <td>0</td>\n",
       "      <td>0</td>\n",
       "      <td>NaN</td>\n",
       "      <td>0</td>\n",
       "      <td>0.069254</td>\n",
       "      <td>11.180340</td>\n",
       "    </tr>\n",
       "    <tr>\n",
       "      <th>W_2SaN0xzmH0WjScED4a4Q</th>\n",
       "      <td>0</td>\n",
       "      <td>1</td>\n",
       "      <td>NaN</td>\n",
       "      <td>2</td>\n",
       "      <td>0.004568</td>\n",
       "      <td>11.820605</td>\n",
       "    </tr>\n",
       "    <tr>\n",
       "      <th>GWnhc3MO4XjsKIpyExV--Q</th>\n",
       "      <td>0</td>\n",
       "      <td>0</td>\n",
       "      <td>NaN</td>\n",
       "      <td>3</td>\n",
       "      <td>0.154119</td>\n",
       "      <td>6.656854</td>\n",
       "    </tr>\n",
       "    <tr>\n",
       "      <th>DwP10iEz5LGf3fhcVQZm0Q</th>\n",
       "      <td>0</td>\n",
       "      <td>0</td>\n",
       "      <td>NaN</td>\n",
       "      <td>0</td>\n",
       "      <td>0.016535</td>\n",
       "      <td>10.745523</td>\n",
       "    </tr>\n",
       "    <tr>\n",
       "      <th>u2q_84hHvKGl5hKnAE7zNw</th>\n",
       "      <td>0</td>\n",
       "      <td>0</td>\n",
       "      <td>NaN</td>\n",
       "      <td>3</td>\n",
       "      <td>0.146813</td>\n",
       "      <td>5.828427</td>\n",
       "    </tr>\n",
       "    <tr>\n",
       "      <th>B-pELAaG6vPfa3eQAUk98A</th>\n",
       "      <td>0</td>\n",
       "      <td>1</td>\n",
       "      <td>NaN</td>\n",
       "      <td>1</td>\n",
       "      <td>0.037356</td>\n",
       "      <td>8.878315</td>\n",
       "    </tr>\n",
       "    <tr>\n",
       "      <th>S-oLPRdhlyL5HAknBKTUcQ</th>\n",
       "      <td>0</td>\n",
       "      <td>0</td>\n",
       "      <td>NaN</td>\n",
       "      <td>3</td>\n",
       "      <td>0.114535</td>\n",
       "      <td>8.610366</td>\n",
       "    </tr>\n",
       "    <tr>\n",
       "      <th>kO1-ZswCgQak2beKUMaYRw</th>\n",
       "      <td>0</td>\n",
       "      <td>1</td>\n",
       "      <td>NaN</td>\n",
       "      <td>2</td>\n",
       "      <td>0.116140</td>\n",
       "      <td>7.706742</td>\n",
       "    </tr>\n",
       "    <tr>\n",
       "      <th>SMXmELJ8jFBPDq3VWRlLeQ</th>\n",
       "      <td>0</td>\n",
       "      <td>0</td>\n",
       "      <td>NaN</td>\n",
       "      <td>3</td>\n",
       "      <td>0.128427</td>\n",
       "      <td>5.242641</td>\n",
       "    </tr>\n",
       "    <tr>\n",
       "      <th>Xfod0UWr_9B-TOM6qxVIwQ</th>\n",
       "      <td>0</td>\n",
       "      <td>1</td>\n",
       "      <td>NaN</td>\n",
       "      <td>2</td>\n",
       "      <td>0.082645</td>\n",
       "      <td>8.928203</td>\n",
       "    </tr>\n",
       "    <tr>\n",
       "      <th>JQwMRgCMZJhIDxec1z7URQ</th>\n",
       "      <td>0</td>\n",
       "      <td>0</td>\n",
       "      <td>NaN</td>\n",
       "      <td>3</td>\n",
       "      <td>0.143050</td>\n",
       "      <td>6.656854</td>\n",
       "    </tr>\n",
       "    <tr>\n",
       "      <th>8CRXSMiyTR9DOMOdrTDRUw</th>\n",
       "      <td>0</td>\n",
       "      <td>0</td>\n",
       "      <td>NaN</td>\n",
       "      <td>3</td>\n",
       "      <td>0.165041</td>\n",
       "      <td>0.000000</td>\n",
       "    </tr>\n",
       "    <tr>\n",
       "      <th>2r6UD7ExSMrK0LGeglquDA</th>\n",
       "      <td>0</td>\n",
       "      <td>0</td>\n",
       "      <td>NaN</td>\n",
       "      <td>0</td>\n",
       "      <td>0.079122</td>\n",
       "      <td>9.732051</td>\n",
       "    </tr>\n",
       "    <tr>\n",
       "      <th>H_yoEB8N8CeABPuLMFWEzQ</th>\n",
       "      <td>0</td>\n",
       "      <td>0</td>\n",
       "      <td>NaN</td>\n",
       "      <td>3</td>\n",
       "      <td>0.141537</td>\n",
       "      <td>7.388905</td>\n",
       "    </tr>\n",
       "    <tr>\n",
       "      <th>YrtAT1B8aFp5dKNss1ICbw</th>\n",
       "      <td>0</td>\n",
       "      <td>0</td>\n",
       "      <td>NaN</td>\n",
       "      <td>3</td>\n",
       "      <td>0.165696</td>\n",
       "      <td>2.000000</td>\n",
       "    </tr>\n",
       "    <tr>\n",
       "      <th>ecJri9ozyke4dOCWulZiRQ</th>\n",
       "      <td>0</td>\n",
       "      <td>0</td>\n",
       "      <td>NaN</td>\n",
       "      <td>3</td>\n",
       "      <td>0.151234</td>\n",
       "      <td>6.656854</td>\n",
       "    </tr>\n",
       "    <tr>\n",
       "      <th>gBEWJ4b2OvUmN4Oh7ju3hw</th>\n",
       "      <td>0</td>\n",
       "      <td>0</td>\n",
       "      <td>NaN</td>\n",
       "      <td>3</td>\n",
       "      <td>0.122476</td>\n",
       "      <td>6.656854</td>\n",
       "    </tr>\n",
       "    <tr>\n",
       "      <th>oZcbn7ENit23xbCsyu9xbA</th>\n",
       "      <td>0</td>\n",
       "      <td>0</td>\n",
       "      <td>NaN</td>\n",
       "      <td>0</td>\n",
       "      <td>0.081784</td>\n",
       "      <td>10.000000</td>\n",
       "    </tr>\n",
       "    <tr>\n",
       "      <th>BWgXFbRqrPKci7C1__6BXg</th>\n",
       "      <td>0</td>\n",
       "      <td>1</td>\n",
       "      <td>NaN</td>\n",
       "      <td>2</td>\n",
       "      <td>0.093320</td>\n",
       "      <td>9.196152</td>\n",
       "    </tr>\n",
       "    <tr>\n",
       "      <th>U5ZlFP1kBFzlmnaIn1f9sQ</th>\n",
       "      <td>0</td>\n",
       "      <td>0</td>\n",
       "      <td>NaN</td>\n",
       "      <td>3</td>\n",
       "      <td>0.167695</td>\n",
       "      <td>0.000000</td>\n",
       "    </tr>\n",
       "    <tr>\n",
       "      <th>gcNC4k7TZJVX_1YHdIkDNQ</th>\n",
       "      <td>0</td>\n",
       "      <td>0</td>\n",
       "      <td>NaN</td>\n",
       "      <td>3</td>\n",
       "      <td>0.151806</td>\n",
       "      <td>5.000000</td>\n",
       "    </tr>\n",
       "    <tr>\n",
       "      <th>ivAe-BA1y3DOyRUKHdPnQA</th>\n",
       "      <td>0</td>\n",
       "      <td>0</td>\n",
       "      <td>NaN</td>\n",
       "      <td>3</td>\n",
       "      <td>0.118956</td>\n",
       "      <td>7.706742</td>\n",
       "    </tr>\n",
       "    <tr>\n",
       "      <th>K3J4zvnQ_G1d5xfffPf2Wg</th>\n",
       "      <td>0</td>\n",
       "      <td>1</td>\n",
       "      <td>NaN</td>\n",
       "      <td>1</td>\n",
       "      <td>-0.018467</td>\n",
       "      <td>13.032495</td>\n",
       "    </tr>\n",
       "    <tr>\n",
       "      <th>MBsIf01fcA8Vy7vCMMKf2A</th>\n",
       "      <td>0</td>\n",
       "      <td>0</td>\n",
       "      <td>NaN</td>\n",
       "      <td>3</td>\n",
       "      <td>0.163736</td>\n",
       "      <td>5.000000</td>\n",
       "    </tr>\n",
       "    <tr>\n",
       "      <th>yqYtY3-Po4OVPafA9Z-Xyw</th>\n",
       "      <td>0</td>\n",
       "      <td>0</td>\n",
       "      <td>NaN</td>\n",
       "      <td>0</td>\n",
       "      <td>0.085100</td>\n",
       "      <td>8.342417</td>\n",
       "    </tr>\n",
       "    <tr>\n",
       "      <th>XC06xxb7FFYsXcI2E38IIw</th>\n",
       "      <td>0</td>\n",
       "      <td>0</td>\n",
       "      <td>NaN</td>\n",
       "      <td>0</td>\n",
       "      <td>0.072360</td>\n",
       "      <td>10.000000</td>\n",
       "    </tr>\n",
       "    <tr>\n",
       "      <th>hNLgrdd0QC3qLbD4tOHHVQ</th>\n",
       "      <td>0</td>\n",
       "      <td>0</td>\n",
       "      <td>NaN</td>\n",
       "      <td>3</td>\n",
       "      <td>0.130741</td>\n",
       "      <td>7.071068</td>\n",
       "    </tr>\n",
       "    <tr>\n",
       "      <th>35Z23ZztQCsJdASRbU69Vg</th>\n",
       "      <td>0</td>\n",
       "      <td>0</td>\n",
       "      <td>NaN</td>\n",
       "      <td>3</td>\n",
       "      <td>0.128919</td>\n",
       "      <td>5.000000</td>\n",
       "    </tr>\n",
       "  </tbody>\n",
       "</table>\n",
       "<p>119 rows × 6 columns</p>\n",
       "</div>"
      ],
      "text/plain": [
       "                        clusters_sp  clusters_km  distance_km  clusters_gm  \\\n",
       "Ld2hhA3q3cdkptwS1fsYEg            0            1          NaN            2   \n",
       "E_f5hWSBXkxvyckUpU31kQ            1            1          NaN            1   \n",
       "gA9hCYY7MYl9oZ3aym5dvw            0            0          NaN            3   \n",
       "fS9a8AGrcwWPf_9vfn5wPQ            0            0          NaN            3   \n",
       "_IZyyv0dFfpIy_rI_-nwTQ            0            0          NaN            0   \n",
       "-ITj6Pu8Gdw8MmLf0XBEKQ            0            0          NaN            3   \n",
       "kkEqZmVvVkgmCaOqE13mDg            0            1          NaN            2   \n",
       "KGS8NdjkMzrS_BoBTo5nBA            0            0          NaN            3   \n",
       "ctzH0uqGz6q_o2nuCrAUvA            0            0          NaN            3   \n",
       "J7rkQISD48jXgdM6UxNAbw            0            1          NaN            2   \n",
       "RZFryvOkznd4jtpj8PbSzg            0            0          NaN            3   \n",
       "Ly2ShApiomYZwKehwb7eRA            0            0          NaN            3   \n",
       "wa8QgXQu1ZxwPgdRl9lYlg            0            0          NaN            3   \n",
       "P2GBKrx7dJg3xeGtuU2K-A            0            0          NaN            3   \n",
       "O7ZvoH_ONGNKbXvHDSZlwg            0            1     2.722894            1   \n",
       "mRxUCEoUUe-XsEYS1SlrTA            0            1          NaN            2   \n",
       "5j2ugUALtjsa2nkV1YGq5Q            0            0          NaN            3   \n",
       "gRMYm-CeEdjXtaQcVo8vsw            0            0          NaN            3   \n",
       "dYU5hXVyPsm7C-T-13I_YQ            0            0          NaN            3   \n",
       "oa52t2Nfb7sOCqJE5M5hzg            0            0          NaN            0   \n",
       "8PaMGALpL7FwwdUy7eK4ZA            0            1          NaN            1   \n",
       "TkoyGi8J7YFjA6SbaRzrxg            0            0          NaN            3   \n",
       "4s_cPDS_AkLP1fXMJPqB2w            0            0          NaN            3   \n",
       "SIBaomIYVvsMU0GTuqX4vQ            0            0          NaN            0   \n",
       "KH9XgG2nt0G6bk8-NKkQQQ            0            0          NaN            0   \n",
       "L6ZPG8lO1tMGmHimSjuEMg            0            0          NaN            3   \n",
       "fT6Uwl6abRQfiNgxre_qbg            0            0          NaN            3   \n",
       "evdJO0v9rvVixieNEnaeJg            0            0          NaN            3   \n",
       "zXjA4Jms2jCAP09EO7Ghfg            0            1          NaN            2   \n",
       "XVS-zdj4Z6TihagZcZZ7pQ            0            0          NaN            3   \n",
       "...                             ...          ...          ...          ...   \n",
       "CUivTcULsu5MJIYYNVm1zw            0            0          NaN            3   \n",
       "NJ0RzuWd5xDqfJejYQZ65g            0            0          NaN            0   \n",
       "dA7ORbBrCdxoMlvn3I6JDA            0            0          NaN            0   \n",
       "W_2SaN0xzmH0WjScED4a4Q            0            1          NaN            2   \n",
       "GWnhc3MO4XjsKIpyExV--Q            0            0          NaN            3   \n",
       "DwP10iEz5LGf3fhcVQZm0Q            0            0          NaN            0   \n",
       "u2q_84hHvKGl5hKnAE7zNw            0            0          NaN            3   \n",
       "B-pELAaG6vPfa3eQAUk98A            0            1          NaN            1   \n",
       "S-oLPRdhlyL5HAknBKTUcQ            0            0          NaN            3   \n",
       "kO1-ZswCgQak2beKUMaYRw            0            1          NaN            2   \n",
       "SMXmELJ8jFBPDq3VWRlLeQ            0            0          NaN            3   \n",
       "Xfod0UWr_9B-TOM6qxVIwQ            0            1          NaN            2   \n",
       "JQwMRgCMZJhIDxec1z7URQ            0            0          NaN            3   \n",
       "8CRXSMiyTR9DOMOdrTDRUw            0            0          NaN            3   \n",
       "2r6UD7ExSMrK0LGeglquDA            0            0          NaN            0   \n",
       "H_yoEB8N8CeABPuLMFWEzQ            0            0          NaN            3   \n",
       "YrtAT1B8aFp5dKNss1ICbw            0            0          NaN            3   \n",
       "ecJri9ozyke4dOCWulZiRQ            0            0          NaN            3   \n",
       "gBEWJ4b2OvUmN4Oh7ju3hw            0            0          NaN            3   \n",
       "oZcbn7ENit23xbCsyu9xbA            0            0          NaN            0   \n",
       "BWgXFbRqrPKci7C1__6BXg            0            1          NaN            2   \n",
       "U5ZlFP1kBFzlmnaIn1f9sQ            0            0          NaN            3   \n",
       "gcNC4k7TZJVX_1YHdIkDNQ            0            0          NaN            3   \n",
       "ivAe-BA1y3DOyRUKHdPnQA            0            0          NaN            3   \n",
       "K3J4zvnQ_G1d5xfffPf2Wg            0            1          NaN            1   \n",
       "MBsIf01fcA8Vy7vCMMKf2A            0            0          NaN            3   \n",
       "yqYtY3-Po4OVPafA9Z-Xyw            0            0          NaN            0   \n",
       "XC06xxb7FFYsXcI2E38IIw            0            0          NaN            0   \n",
       "hNLgrdd0QC3qLbD4tOHHVQ            0            0          NaN            3   \n",
       "35Z23ZztQCsJdASRbU69Vg            0            0          NaN            3   \n",
       "\n",
       "                        scores_isf  distance_knn  \n",
       "Ld2hhA3q3cdkptwS1fsYEg    0.067136      9.464102  \n",
       "E_f5hWSBXkxvyckUpU31kQ   -0.050171     12.230289  \n",
       "gA9hCYY7MYl9oZ3aym5dvw    0.165696      2.000000  \n",
       "fS9a8AGrcwWPf_9vfn5wPQ    0.166010      5.000000  \n",
       "_IZyyv0dFfpIy_rI_-nwTQ    0.117533      6.656854  \n",
       "-ITj6Pu8Gdw8MmLf0XBEKQ    0.165041      0.000000  \n",
       "kkEqZmVvVkgmCaOqE13mDg    0.084863      8.928203  \n",
       "KGS8NdjkMzrS_BoBTo5nBA    0.153479      6.242641  \n",
       "ctzH0uqGz6q_o2nuCrAUvA    0.132629      7.071068  \n",
       "J7rkQISD48jXgdM6UxNAbw    0.104192      8.292529  \n",
       "RZFryvOkznd4jtpj8PbSzg    0.155109      5.000000  \n",
       "Ly2ShApiomYZwKehwb7eRA    0.115044      7.292529  \n",
       "wa8QgXQu1ZxwPgdRl9lYlg    0.165041      0.000000  \n",
       "P2GBKrx7dJg3xeGtuU2K-A    0.152744      5.242641  \n",
       "O7ZvoH_ONGNKbXvHDSZlwg   -0.015636     13.580522  \n",
       "mRxUCEoUUe-XsEYS1SlrTA    0.021353     11.371115  \n",
       "5j2ugUALtjsa2nkV1YGq5Q    0.139997      6.656854  \n",
       "gRMYm-CeEdjXtaQcVo8vsw    0.167695      0.000000  \n",
       "dYU5hXVyPsm7C-T-13I_YQ    0.128427      5.242641  \n",
       "oa52t2Nfb7sOCqJE5M5hzg    0.119636      6.974691  \n",
       "8PaMGALpL7FwwdUy7eK4ZA    0.048683      8.878315  \n",
       "TkoyGi8J7YFjA6SbaRzrxg    0.167695      0.000000  \n",
       "4s_cPDS_AkLP1fXMJPqB2w    0.163634      5.000000  \n",
       "SIBaomIYVvsMU0GTuqX4vQ    0.075484     10.236068  \n",
       "KH9XgG2nt0G6bk8-NKkQQQ    0.141131      6.656854  \n",
       "L6ZPG8lO1tMGmHimSjuEMg    0.031630     12.247449  \n",
       "fT6Uwl6abRQfiNgxre_qbg    0.015909     10.000000  \n",
       "evdJO0v9rvVixieNEnaeJg    0.143754      6.656854  \n",
       "zXjA4Jms2jCAP09EO7Ghfg    0.073777      8.928203  \n",
       "XVS-zdj4Z6TihagZcZZ7pQ    0.108696      5.000000  \n",
       "...                            ...           ...  \n",
       "CUivTcULsu5MJIYYNVm1zw    0.077025      9.464102  \n",
       "NJ0RzuWd5xDqfJejYQZ65g    0.009708     11.607183  \n",
       "dA7ORbBrCdxoMlvn3I6JDA    0.069254     11.180340  \n",
       "W_2SaN0xzmH0WjScED4a4Q    0.004568     11.820605  \n",
       "GWnhc3MO4XjsKIpyExV--Q    0.154119      6.656854  \n",
       "DwP10iEz5LGf3fhcVQZm0Q    0.016535     10.745523  \n",
       "u2q_84hHvKGl5hKnAE7zNw    0.146813      5.828427  \n",
       "B-pELAaG6vPfa3eQAUk98A    0.037356      8.878315  \n",
       "S-oLPRdhlyL5HAknBKTUcQ    0.114535      8.610366  \n",
       "kO1-ZswCgQak2beKUMaYRw    0.116140      7.706742  \n",
       "SMXmELJ8jFBPDq3VWRlLeQ    0.128427      5.242641  \n",
       "Xfod0UWr_9B-TOM6qxVIwQ    0.082645      8.928203  \n",
       "JQwMRgCMZJhIDxec1z7URQ    0.143050      6.656854  \n",
       "8CRXSMiyTR9DOMOdrTDRUw    0.165041      0.000000  \n",
       "2r6UD7ExSMrK0LGeglquDA    0.079122      9.732051  \n",
       "H_yoEB8N8CeABPuLMFWEzQ    0.141537      7.388905  \n",
       "YrtAT1B8aFp5dKNss1ICbw    0.165696      2.000000  \n",
       "ecJri9ozyke4dOCWulZiRQ    0.151234      6.656854  \n",
       "gBEWJ4b2OvUmN4Oh7ju3hw    0.122476      6.656854  \n",
       "oZcbn7ENit23xbCsyu9xbA    0.081784     10.000000  \n",
       "BWgXFbRqrPKci7C1__6BXg    0.093320      9.196152  \n",
       "U5ZlFP1kBFzlmnaIn1f9sQ    0.167695      0.000000  \n",
       "gcNC4k7TZJVX_1YHdIkDNQ    0.151806      5.000000  \n",
       "ivAe-BA1y3DOyRUKHdPnQA    0.118956      7.706742  \n",
       "K3J4zvnQ_G1d5xfffPf2Wg   -0.018467     13.032495  \n",
       "MBsIf01fcA8Vy7vCMMKf2A    0.163736      5.000000  \n",
       "yqYtY3-Po4OVPafA9Z-Xyw    0.085100      8.342417  \n",
       "XC06xxb7FFYsXcI2E38IIw    0.072360     10.000000  \n",
       "hNLgrdd0QC3qLbD4tOHHVQ    0.130741      7.071068  \n",
       "35Z23ZztQCsJdASRbU69Vg    0.128919      5.000000  \n",
       "\n",
       "[119 rows x 6 columns]"
      ]
     },
     "execution_count": 30,
     "metadata": {},
     "output_type": "execute_result"
    }
   ],
   "source": [
    "result"
   ]
  },
  {
   "cell_type": "code",
   "execution_count": 31,
   "metadata": {
    "collapsed": false
   },
   "outputs": [],
   "source": [
    "result.to_csv('Phoenix_jap_results.csv', index_label=False, encoding='utf-8' )"
   ]
  },
  {
   "cell_type": "code",
   "execution_count": 32,
   "metadata": {
    "collapsed": true
   },
   "outputs": [],
   "source": [
    "anomaly_merged = pd.concat([df_select, result], axis=1)"
   ]
  },
  {
   "cell_type": "code",
   "execution_count": 35,
   "metadata": {
    "collapsed": false
   },
   "outputs": [
    {
     "data": {
      "text/html": [
       "<div>\n",
       "<table border=\"1\" class=\"dataframe\">\n",
       "  <thead>\n",
       "    <tr style=\"text-align: right;\">\n",
       "      <th></th>\n",
       "      <th>categories</th>\n",
       "      <th>city</th>\n",
       "      <th>hours</th>\n",
       "      <th>is_open</th>\n",
       "      <th>latitude</th>\n",
       "      <th>longitude</th>\n",
       "      <th>name</th>\n",
       "      <th>neighborhood</th>\n",
       "      <th>postal_code</th>\n",
       "      <th>review_count</th>\n",
       "      <th>...</th>\n",
       "      <th>Music_live</th>\n",
       "      <th>Music_no_music</th>\n",
       "      <th>Music_video</th>\n",
       "      <th>OutdoorSeating</th>\n",
       "      <th>RestaurantsDelivery</th>\n",
       "      <th>RestaurantsGoodForGroups</th>\n",
       "      <th>Smoking</th>\n",
       "      <th>review_count_greater_median</th>\n",
       "      <th>cuisine_Japanese</th>\n",
       "      <th>spatial_label</th>\n",
       "    </tr>\n",
       "  </thead>\n",
       "  <tbody>\n",
       "    <tr>\n",
       "      <th>E_f5hWSBXkxvyckUpU31kQ</th>\n",
       "      <td>[Food Trucks, Food, Restaurants, Sushi Bars]</td>\n",
       "      <td>Phoenix</td>\n",
       "      <td>[Tuesday 11:0-22:0, Wednesday 11:0-22:0, Thurs...</td>\n",
       "      <td>1</td>\n",
       "      <td>33.451025</td>\n",
       "      <td>-112.133684</td>\n",
       "      <td>Sushi Mocorito</td>\n",
       "      <td></td>\n",
       "      <td>85009</td>\n",
       "      <td>3</td>\n",
       "      <td>...</td>\n",
       "      <td>NaN</td>\n",
       "      <td>NaN</td>\n",
       "      <td>NaN</td>\n",
       "      <td>False</td>\n",
       "      <td>NaN</td>\n",
       "      <td>NaN</td>\n",
       "      <td>NaN</td>\n",
       "      <td>False</td>\n",
       "      <td>2</td>\n",
       "      <td>2</td>\n",
       "    </tr>\n",
       "  </tbody>\n",
       "</table>\n",
       "<p>1 rows × 67 columns</p>\n",
       "</div>"
      ],
      "text/plain": [
       "                                                          categories     city  \\\n",
       "E_f5hWSBXkxvyckUpU31kQ  [Food Trucks, Food, Restaurants, Sushi Bars]  Phoenix   \n",
       "\n",
       "                                                                    hours  \\\n",
       "E_f5hWSBXkxvyckUpU31kQ  [Tuesday 11:0-22:0, Wednesday 11:0-22:0, Thurs...   \n",
       "\n",
       "                        is_open   latitude   longitude            name  \\\n",
       "E_f5hWSBXkxvyckUpU31kQ        1  33.451025 -112.133684  Sushi Mocorito   \n",
       "\n",
       "                       neighborhood postal_code  review_count      ...       \\\n",
       "E_f5hWSBXkxvyckUpU31kQ                    85009             3      ...        \n",
       "\n",
       "                        Music_live Music_no_music Music_video OutdoorSeating  \\\n",
       "E_f5hWSBXkxvyckUpU31kQ         NaN            NaN         NaN          False   \n",
       "\n",
       "                       RestaurantsDelivery RestaurantsGoodForGroups Smoking  \\\n",
       "E_f5hWSBXkxvyckUpU31kQ                 NaN                      NaN     NaN   \n",
       "\n",
       "                       review_count_greater_median cuisine_Japanese  \\\n",
       "E_f5hWSBXkxvyckUpU31kQ                       False                2   \n",
       "\n",
       "                       spatial_label  \n",
       "E_f5hWSBXkxvyckUpU31kQ             2  \n",
       "\n",
       "[1 rows x 67 columns]"
      ]
     },
     "execution_count": 35,
     "metadata": {},
     "output_type": "execute_result"
    }
   ],
   "source": [
    "df_select[anomaly_merged['clusters_sp'] == 1]"
   ]
  },
  {
   "cell_type": "code",
   "execution_count": 33,
   "metadata": {
    "collapsed": false
   },
   "outputs": [
    {
     "data": {
      "text/plain": [
       "O7ZvoH_ONGNKbXvHDSZlwg    2.722894\n",
       "ZCzey5aPhd7jYIoHsUfjmQ    2.788401\n",
       "e6d50rwRTU-fONeSBJmOHQ    2.911997\n",
       "fI9ErCUGY8rXRPBbatcxMA    2.950762\n",
       "0Buxoc0cRqjpvkezo3bqog    3.108302\n",
       "Ld2hhA3q3cdkptwS1fsYEg         NaN\n",
       "E_f5hWSBXkxvyckUpU31kQ         NaN\n",
       "gA9hCYY7MYl9oZ3aym5dvw         NaN\n",
       "fS9a8AGrcwWPf_9vfn5wPQ         NaN\n",
       "_IZyyv0dFfpIy_rI_-nwTQ         NaN\n",
       "-ITj6Pu8Gdw8MmLf0XBEKQ         NaN\n",
       "kkEqZmVvVkgmCaOqE13mDg         NaN\n",
       "KGS8NdjkMzrS_BoBTo5nBA         NaN\n",
       "ctzH0uqGz6q_o2nuCrAUvA         NaN\n",
       "J7rkQISD48jXgdM6UxNAbw         NaN\n",
       "RZFryvOkznd4jtpj8PbSzg         NaN\n",
       "Ly2ShApiomYZwKehwb7eRA         NaN\n",
       "wa8QgXQu1ZxwPgdRl9lYlg         NaN\n",
       "P2GBKrx7dJg3xeGtuU2K-A         NaN\n",
       "mRxUCEoUUe-XsEYS1SlrTA         NaN\n",
       "5j2ugUALtjsa2nkV1YGq5Q         NaN\n",
       "gRMYm-CeEdjXtaQcVo8vsw         NaN\n",
       "dYU5hXVyPsm7C-T-13I_YQ         NaN\n",
       "oa52t2Nfb7sOCqJE5M5hzg         NaN\n",
       "8PaMGALpL7FwwdUy7eK4ZA         NaN\n",
       "TkoyGi8J7YFjA6SbaRzrxg         NaN\n",
       "4s_cPDS_AkLP1fXMJPqB2w         NaN\n",
       "SIBaomIYVvsMU0GTuqX4vQ         NaN\n",
       "KH9XgG2nt0G6bk8-NKkQQQ         NaN\n",
       "L6ZPG8lO1tMGmHimSjuEMg         NaN\n",
       "                            ...   \n",
       "CUivTcULsu5MJIYYNVm1zw         NaN\n",
       "NJ0RzuWd5xDqfJejYQZ65g         NaN\n",
       "dA7ORbBrCdxoMlvn3I6JDA         NaN\n",
       "W_2SaN0xzmH0WjScED4a4Q         NaN\n",
       "GWnhc3MO4XjsKIpyExV--Q         NaN\n",
       "DwP10iEz5LGf3fhcVQZm0Q         NaN\n",
       "u2q_84hHvKGl5hKnAE7zNw         NaN\n",
       "B-pELAaG6vPfa3eQAUk98A         NaN\n",
       "S-oLPRdhlyL5HAknBKTUcQ         NaN\n",
       "kO1-ZswCgQak2beKUMaYRw         NaN\n",
       "SMXmELJ8jFBPDq3VWRlLeQ         NaN\n",
       "Xfod0UWr_9B-TOM6qxVIwQ         NaN\n",
       "JQwMRgCMZJhIDxec1z7URQ         NaN\n",
       "8CRXSMiyTR9DOMOdrTDRUw         NaN\n",
       "2r6UD7ExSMrK0LGeglquDA         NaN\n",
       "H_yoEB8N8CeABPuLMFWEzQ         NaN\n",
       "YrtAT1B8aFp5dKNss1ICbw         NaN\n",
       "ecJri9ozyke4dOCWulZiRQ         NaN\n",
       "gBEWJ4b2OvUmN4Oh7ju3hw         NaN\n",
       "oZcbn7ENit23xbCsyu9xbA         NaN\n",
       "BWgXFbRqrPKci7C1__6BXg         NaN\n",
       "U5ZlFP1kBFzlmnaIn1f9sQ         NaN\n",
       "gcNC4k7TZJVX_1YHdIkDNQ         NaN\n",
       "ivAe-BA1y3DOyRUKHdPnQA         NaN\n",
       "K3J4zvnQ_G1d5xfffPf2Wg         NaN\n",
       "MBsIf01fcA8Vy7vCMMKf2A         NaN\n",
       "yqYtY3-Po4OVPafA9Z-Xyw         NaN\n",
       "XC06xxb7FFYsXcI2E38IIw         NaN\n",
       "hNLgrdd0QC3qLbD4tOHHVQ         NaN\n",
       "35Z23ZztQCsJdASRbU69Vg         NaN\n",
       "Name: distance_km, dtype: float64"
      ]
     },
     "execution_count": 33,
     "metadata": {},
     "output_type": "execute_result"
    }
   ],
   "source": [
    "anomaly_merged['distance_km'].sort_values()"
   ]
  },
  {
   "cell_type": "code",
   "execution_count": 36,
   "metadata": {
    "collapsed": false
   },
   "outputs": [
    {
     "data": {
      "text/plain": [
       "8CRXSMiyTR9DOMOdrTDRUw     0.000000\n",
       "kImf4ivgHInr7kTTJWaVhg     0.000000\n",
       "LtNgP4FqXp5nMFOHErK8cw     0.000000\n",
       "U5ZlFP1kBFzlmnaIn1f9sQ     0.000000\n",
       "XqRY9T8s0JhdehfSmXhCxw     0.000000\n",
       "-ITj6Pu8Gdw8MmLf0XBEKQ     0.000000\n",
       "_reykENmCBh03iczpFAufg     0.000000\n",
       "pBoWsom3mZFYo9EucIWRDg     0.000000\n",
       "DEeGnshpgUOIOjhq_dd5Ug     0.000000\n",
       "wa8QgXQu1ZxwPgdRl9lYlg     0.000000\n",
       "gRMYm-CeEdjXtaQcVo8vsw     0.000000\n",
       "TkoyGi8J7YFjA6SbaRzrxg     0.000000\n",
       "YrtAT1B8aFp5dKNss1ICbw     2.000000\n",
       "EB0vzUuimM2nRXND5VJkIw     2.000000\n",
       "gA9hCYY7MYl9oZ3aym5dvw     2.000000\n",
       "a1KXovXPdeDurOrER4ST6A     2.000000\n",
       "XVS-zdj4Z6TihagZcZZ7pQ     5.000000\n",
       "35Z23ZztQCsJdASRbU69Vg     5.000000\n",
       "R_M4P9XetEM-aLE7eHdthw     5.000000\n",
       "xlb4QVFWB9CSPT7qNRn5xA     5.000000\n",
       "R-Jmd1zLAyGsN5uP_hJx3g     5.000000\n",
       "V6X1T1DdfUVNIk3AmispDg     5.000000\n",
       "bkZVphD4miecxL2PalLi8w     5.000000\n",
       "G4LzA_UqrzcZ5gAyWWP2sw     5.000000\n",
       "gcNC4k7TZJVX_1YHdIkDNQ     5.000000\n",
       "MBsIf01fcA8Vy7vCMMKf2A     5.000000\n",
       "4s_cPDS_AkLP1fXMJPqB2w     5.000000\n",
       "RZFryvOkznd4jtpj8PbSzg     5.000000\n",
       "fS9a8AGrcwWPf_9vfn5wPQ     5.000000\n",
       "P2GBKrx7dJg3xeGtuU2K-A     5.242641\n",
       "                            ...    \n",
       "GnAvR67XtnBdCuLDuulQwA     9.968119\n",
       "fT6Uwl6abRQfiNgxre_qbg    10.000000\n",
       "XC06xxb7FFYsXcI2E38IIw    10.000000\n",
       "oZcbn7ENit23xbCsyu9xbA    10.000000\n",
       "SIBaomIYVvsMU0GTuqX4vQ    10.236068\n",
       "erpMXkhBRNAwfXYfqIaC6Q    10.440255\n",
       "5O02gK9VpnLZNC-aFnp6lQ    10.708204\n",
       "DwP10iEz5LGf3fhcVQZm0Q    10.745523\n",
       "rWmZAJMZ8NBw-_FbOYPnfA    10.785329\n",
       "FsCujpVh9Za2Dl5MIYLCxA    11.157694\n",
       "dA7ORbBrCdxoMlvn3I6JDA    11.180340\n",
       "mRxUCEoUUe-XsEYS1SlrTA    11.371115\n",
       "1qkKfqhO8z2XMzLLDFE96Q    11.371115\n",
       "GA_Nx4xA3Z4pn9i5XKF1Wg    11.393762\n",
       "NJ0RzuWd5xDqfJejYQZ65g    11.607183\n",
       "GUyrT0FO-YBAmvGNH0653w    11.780799\n",
       "3HU3V2AYuVUxdd_Q5Nv5Vw    11.820605\n",
       "W_2SaN0xzmH0WjScED4a4Q    11.820605\n",
       "yCK1Ok69D7TSWJESZQZHiQ    11.820605\n",
       "4_XrzTImR7calqcE6Otyaw    12.034027\n",
       "fI9ErCUGY8rXRPBbatcxMA    12.166309\n",
       "8QfDxSuHkXA-sv5wcfP4Zg    12.173322\n",
       "E_f5hWSBXkxvyckUpU31kQ    12.230289\n",
       "L6ZPG8lO1tMGmHimSjuEMg    12.247449\n",
       "PDxLOAtYqOz6z7M7h0LRoA    12.443710\n",
       "K3J4zvnQ_G1d5xfffPf2Wg    13.032495\n",
       "O7ZvoH_ONGNKbXvHDSZlwg    13.580522\n",
       "ZCzey5aPhd7jYIoHsUfjmQ    13.776784\n",
       "e6d50rwRTU-fONeSBJmOHQ    14.313708\n",
       "0Buxoc0cRqjpvkezo3bqog    14.809837\n",
       "Name: distance_knn, dtype: float64"
      ]
     },
     "execution_count": 36,
     "metadata": {},
     "output_type": "execute_result"
    }
   ],
   "source": [
    "anomaly_merged['distance_knn'].sort_values()"
   ]
  },
  {
   "cell_type": "code",
   "execution_count": 42,
   "metadata": {
    "collapsed": false
   },
   "outputs": [
    {
     "data": {
      "text/plain": [
       "[u'Nightlife',\n",
       " u'Cocktail Bars',\n",
       " u'Asian Fusion',\n",
       " u'Burgers',\n",
       " u'Restaurants',\n",
       " u'Bars',\n",
       " u'Japanese']"
      ]
     },
     "execution_count": 42,
     "metadata": {},
     "output_type": "execute_result"
    }
   ],
   "source": [
    "anomaly_merged.loc['e6d50rwRTU-fONeSBJmOHQ', 'categories']"
   ]
  },
  {
   "cell_type": "code",
   "execution_count": 38,
   "metadata": {
    "collapsed": false
   },
   "outputs": [
    {
     "data": {
      "text/plain": [
       "e6d50rwRTU-fONeSBJmOHQ   -0.087289\n",
       "8QfDxSuHkXA-sv5wcfP4Zg   -0.059991\n",
       "0Buxoc0cRqjpvkezo3bqog   -0.059496\n",
       "E_f5hWSBXkxvyckUpU31kQ   -0.050171\n",
       "fI9ErCUGY8rXRPBbatcxMA   -0.037297\n",
       "PDxLOAtYqOz6z7M7h0LRoA   -0.028772\n",
       "ZCzey5aPhd7jYIoHsUfjmQ   -0.027958\n",
       "GUyrT0FO-YBAmvGNH0653w   -0.023175\n",
       "K3J4zvnQ_G1d5xfffPf2Wg   -0.018467\n",
       "O7ZvoH_ONGNKbXvHDSZlwg   -0.015636\n",
       "FsCujpVh9Za2Dl5MIYLCxA   -0.002797\n",
       "3HU3V2AYuVUxdd_Q5Nv5Vw    0.001810\n",
       "W_2SaN0xzmH0WjScED4a4Q    0.004568\n",
       "1qkKfqhO8z2XMzLLDFE96Q    0.008132\n",
       "rWmZAJMZ8NBw-_FbOYPnfA    0.008444\n",
       "NJ0RzuWd5xDqfJejYQZ65g    0.009708\n",
       "yCK1Ok69D7TSWJESZQZHiQ    0.009708\n",
       "GA_Nx4xA3Z4pn9i5XKF1Wg    0.012851\n",
       "fT6Uwl6abRQfiNgxre_qbg    0.015909\n",
       "DwP10iEz5LGf3fhcVQZm0Q    0.016535\n",
       "mRxUCEoUUe-XsEYS1SlrTA    0.021353\n",
       "4_XrzTImR7calqcE6Otyaw    0.027445\n",
       "3vta1BSPwdSulcCFMpBjDw    0.028404\n",
       "L6ZPG8lO1tMGmHimSjuEMg    0.031630\n",
       "B-pELAaG6vPfa3eQAUk98A    0.037356\n",
       "8PaMGALpL7FwwdUy7eK4ZA    0.048683\n",
       "RWAgNm7kFVhr69XEZsccYw    0.055319\n",
       "z9KxcVoe6tQGyB_Zy0Umcg    0.057540\n",
       "L7rjzj2g2EEbHfee9V-X2Q    0.058574\n",
       "jCg6MSfu3fgXxO2QrpDV7w    0.063499\n",
       "                            ...   \n",
       "ecJri9ozyke4dOCWulZiRQ    0.151234\n",
       "gcNC4k7TZJVX_1YHdIkDNQ    0.151806\n",
       "xlb4QVFWB9CSPT7qNRn5xA    0.151966\n",
       "R1oI13c1oNxE91wkjYDeow    0.152744\n",
       "P2GBKrx7dJg3xeGtuU2K-A    0.152744\n",
       "KGS8NdjkMzrS_BoBTo5nBA    0.153479\n",
       "GWnhc3MO4XjsKIpyExV--Q    0.154119\n",
       "RZFryvOkznd4jtpj8PbSzg    0.155109\n",
       "G4LzA_UqrzcZ5gAyWWP2sw    0.161855\n",
       "R-Jmd1zLAyGsN5uP_hJx3g    0.163135\n",
       "4s_cPDS_AkLP1fXMJPqB2w    0.163634\n",
       "MBsIf01fcA8Vy7vCMMKf2A    0.163736\n",
       "R_M4P9XetEM-aLE7eHdthw    0.164743\n",
       "wa8QgXQu1ZxwPgdRl9lYlg    0.165041\n",
       "-ITj6Pu8Gdw8MmLf0XBEKQ    0.165041\n",
       "kImf4ivgHInr7kTTJWaVhg    0.165041\n",
       "pBoWsom3mZFYo9EucIWRDg    0.165041\n",
       "LtNgP4FqXp5nMFOHErK8cw    0.165041\n",
       "8CRXSMiyTR9DOMOdrTDRUw    0.165041\n",
       "YrtAT1B8aFp5dKNss1ICbw    0.165696\n",
       "EB0vzUuimM2nRXND5VJkIw    0.165696\n",
       "gA9hCYY7MYl9oZ3aym5dvw    0.165696\n",
       "a1KXovXPdeDurOrER4ST6A    0.165696\n",
       "fS9a8AGrcwWPf_9vfn5wPQ    0.166010\n",
       "XqRY9T8s0JhdehfSmXhCxw    0.167695\n",
       "TkoyGi8J7YFjA6SbaRzrxg    0.167695\n",
       "_reykENmCBh03iczpFAufg    0.167695\n",
       "gRMYm-CeEdjXtaQcVo8vsw    0.167695\n",
       "U5ZlFP1kBFzlmnaIn1f9sQ    0.167695\n",
       "DEeGnshpgUOIOjhq_dd5Ug    0.167695\n",
       "Name: scores_isf, dtype: float64"
      ]
     },
     "execution_count": 38,
     "metadata": {},
     "output_type": "execute_result"
    }
   ],
   "source": [
    "anomaly_merged['scores_isf'].sort_values()"
   ]
  },
  {
   "cell_type": "code",
   "execution_count": null,
   "metadata": {
    "collapsed": true
   },
   "outputs": [],
   "source": []
  }
 ],
 "metadata": {
  "kernelspec": {
   "display_name": "myPy27",
   "language": "python",
   "name": "mypy27"
  },
  "language_info": {
   "codemirror_mode": {
    "name": "ipython",
    "version": 2
   },
   "file_extension": ".py",
   "mimetype": "text/x-python",
   "name": "python",
   "nbconvert_exporter": "python",
   "pygments_lexer": "ipython2",
   "version": "2.7.13"
  }
 },
 "nbformat": 4,
 "nbformat_minor": 0
}
