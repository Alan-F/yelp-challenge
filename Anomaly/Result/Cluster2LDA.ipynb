{
 "cells": [
  {
   "cell_type": "code",
   "execution_count": 62,
   "metadata": {
    "collapsed": true
   },
   "outputs": [],
   "source": [
    "import pandas as pd"
   ]
  },
  {
   "cell_type": "markdown",
   "metadata": {},
   "source": [
    "# CHN"
   ]
  },
  {
   "cell_type": "code",
   "execution_count": 63,
   "metadata": {
    "collapsed": false
   },
   "outputs": [],
   "source": [
    "bid = pd.read_csv(\"../yelp-challenge/LDA/CHN15/01_ALL_Chinese_Business_ID.csv\")\n",
    "topic_CHN_5 = pd.read_csv(\"../yelp-challenge/LDA/CHN5/topic2doc.csv\", index_col=0)\n",
    "topic_CHN_5.index = bid.business_id.values\n",
    "topic_CHN_15 = pd.read_csv(\"../yelp-challenge/LDA/CHN15/04_topic2doc.csv\", index_col=0)\n",
    "topic_CHN_15.index = bid.business_id.values"
   ]
  },
  {
   "cell_type": "code",
   "execution_count": 81,
   "metadata": {
    "collapsed": false
   },
   "outputs": [],
   "source": [
    "TOR_CHN = pd.read_csv(\"../yelp-challenge/Anomaly/Result/torronto_chi_results.csv\")\n",
    "TOR_CHN = TOR_CHN.loc[:, 'clusters_sp':'clusters_gm']\n",
    "\n",
    "PHO_CHN = pd.read_csv(\"../yelp-challenge/Anomaly/Result/Phoenix_chi_results.csv\")\n",
    "PHO_CHN = PHO_CHN.loc[:, 'clusters_sp':'clusters_gm']\n",
    "\n",
    "LAS_CHN = pd.read_csv(\"../yelp-challenge/Anomaly/Result/LasVegas_chi_results.csv\")\n",
    "LAS_CHN = LAS_CHN.loc[:, 'clusters_sp':'clusters_gm']"
   ]
  },
  {
   "cell_type": "code",
   "execution_count": 82,
   "metadata": {
    "collapsed": true
   },
   "outputs": [],
   "source": [
    "TOR_CHN_LDA5 = TOR_CHN.join(topic_CHN_5[['max']],how='left')\n",
    "TOR_CHN_LDA15 = TOR_CHN.join(topic_CHN_15[['max']],how='left')\n",
    "\n",
    "PHO_CHN_LDA5 = PHO_CHN.join(topic_CHN_5[['max']],how='left')\n",
    "PHO_CHN_LDA15 = PHO_CHN.join(topic_CHN_15[['max']],how='left')\n",
    "\n",
    "LAS_CHN_LDA5 = LAS_CHN.join(topic_CHN_5[['max']],how='left')\n",
    "LAS_CHN_LDA15 = LAS_CHN.join(topic_CHN_15[['max']],how='left')"
   ]
  },
  {
   "cell_type": "code",
   "execution_count": 89,
   "metadata": {
    "collapsed": false
   },
   "outputs": [],
   "source": [
    "def ClsuterTopic(LDA):\n",
    "    for method in ['clusters_sp']:#, 'clusters_km', 'clusters_gm']:\n",
    "        n_cluster = len(LDA.loc[:,method].unique())\n",
    "        print method\n",
    "        for i in range(n_cluster):\n",
    "            tmp = LDA[LDA.loc[:,method] == i]\n",
    "            print \"c{}: {}\".format(i,tmp.groupby(tmp['max']).size().argmax()+1) # topics index start from 1  \n",
    "        print '\\n'"
   ]
  },
  {
   "cell_type": "markdown",
   "metadata": {},
   "source": [
    "## 1. SP + CHN15"
   ]
  },
  {
   "cell_type": "code",
   "execution_count": 90,
   "metadata": {
    "collapsed": false
   },
   "outputs": [
    {
     "name": "stdout",
     "output_type": "stream",
     "text": [
      "clusters_sp\n",
      "c0: 13\n",
      "c1: 15\n",
      "\n",
      "\n",
      "clusters_sp\n",
      "c0: 13\n",
      "c1: 12\n",
      "\n",
      "\n",
      "clusters_sp\n",
      "c0: 13\n",
      "c1: 4\n",
      "\n",
      "\n"
     ]
    }
   ],
   "source": [
    "ClsuterTopic(TOR_CHN_LDA15)\n",
    "ClsuterTopic(PHO_CHN_LDA15)\n",
    "ClsuterTopic(LAS_CHN_LDA15)"
   ]
  },
  {
   "cell_type": "code",
   "execution_count": 94,
   "metadata": {
    "collapsed": false
   },
   "outputs": [
    {
     "data": {
      "text/html": [
       "<div>\n",
       "<table border=\"1\" class=\"dataframe\">\n",
       "  <thead>\n",
       "    <tr style=\"text-align: right;\">\n",
       "      <th></th>\n",
       "      <th>Topic 13</th>\n",
       "      <th>Topic 15</th>\n",
       "      <th>Topic 12</th>\n",
       "      <th>Topic 4</th>\n",
       "    </tr>\n",
       "  </thead>\n",
       "  <tbody>\n",
       "    <tr>\n",
       "      <th>0</th>\n",
       "      <td>happy</td>\n",
       "      <td>bowl</td>\n",
       "      <td>chicken</td>\n",
       "      <td>tea</td>\n",
       "    </tr>\n",
       "    <tr>\n",
       "      <th>1</th>\n",
       "      <td>menu</td>\n",
       "      <td>chicken</td>\n",
       "      <td>chinese</td>\n",
       "      <td>milk</td>\n",
       "    </tr>\n",
       "    <tr>\n",
       "      <th>2</th>\n",
       "      <td>hour</td>\n",
       "      <td>sauce</td>\n",
       "      <td>rice</td>\n",
       "      <td>boba</td>\n",
       "    </tr>\n",
       "    <tr>\n",
       "      <th>3</th>\n",
       "      <td>server</td>\n",
       "      <td>rice</td>\n",
       "      <td>fried</td>\n",
       "      <td>drink</td>\n",
       "    </tr>\n",
       "    <tr>\n",
       "      <th>4</th>\n",
       "      <td>ordered</td>\n",
       "      <td>fresh</td>\n",
       "      <td>ordered</td>\n",
       "      <td>drinks</td>\n",
       "    </tr>\n",
       "    <tr>\n",
       "      <th>5</th>\n",
       "      <td>table</td>\n",
       "      <td>location</td>\n",
       "      <td>egg</td>\n",
       "      <td>ice</td>\n",
       "    </tr>\n",
       "    <tr>\n",
       "      <th>6</th>\n",
       "      <td>bar</td>\n",
       "      <td>teriyaki</td>\n",
       "      <td>lunch</td>\n",
       "      <td>bubble</td>\n",
       "    </tr>\n",
       "    <tr>\n",
       "      <th>7</th>\n",
       "      <td>night</td>\n",
       "      <td>veggies</td>\n",
       "      <td>soup</td>\n",
       "      <td>sweet</td>\n",
       "    </tr>\n",
       "    <tr>\n",
       "      <th>8</th>\n",
       "      <td>drinks</td>\n",
       "      <td>eat</td>\n",
       "      <td>beef</td>\n",
       "      <td>green</td>\n",
       "    </tr>\n",
       "    <tr>\n",
       "      <th>9</th>\n",
       "      <td>experience</td>\n",
       "      <td>meat</td>\n",
       "      <td>shrimp</td>\n",
       "      <td>taste</td>\n",
       "    </tr>\n",
       "    <tr>\n",
       "      <th>10</th>\n",
       "      <td>wait</td>\n",
       "      <td>staff</td>\n",
       "      <td>sauce</td>\n",
       "      <td>mango</td>\n",
       "    </tr>\n",
       "    <tr>\n",
       "      <th>11</th>\n",
       "      <td>beer</td>\n",
       "      <td>sauces</td>\n",
       "      <td>sour</td>\n",
       "      <td>pretty</td>\n",
       "    </tr>\n",
       "    <tr>\n",
       "      <th>12</th>\n",
       "      <td>atmosphere</td>\n",
       "      <td>meal</td>\n",
       "      <td>hot</td>\n",
       "      <td>ordered</td>\n",
       "    </tr>\n",
       "    <tr>\n",
       "      <th>13</th>\n",
       "      <td>waitress</td>\n",
       "      <td>friendly</td>\n",
       "      <td>delivery</td>\n",
       "      <td>sugar</td>\n",
       "    </tr>\n",
       "    <tr>\n",
       "      <th>14</th>\n",
       "      <td>drink</td>\n",
       "      <td>spicy</td>\n",
       "      <td>eat</td>\n",
       "      <td>places</td>\n",
       "    </tr>\n",
       "    <tr>\n",
       "      <th>15</th>\n",
       "      <td>minutes</td>\n",
       "      <td>clean</td>\n",
       "      <td>friendly</td>\n",
       "      <td>taro</td>\n",
       "    </tr>\n",
       "    <tr>\n",
       "      <th>16</th>\n",
       "      <td>location</td>\n",
       "      <td>burrito</td>\n",
       "      <td>orange</td>\n",
       "      <td>teas</td>\n",
       "    </tr>\n",
       "    <tr>\n",
       "      <th>17</th>\n",
       "      <td>dinner</td>\n",
       "      <td>fast</td>\n",
       "      <td>sweet</td>\n",
       "      <td>dessert</td>\n",
       "    </tr>\n",
       "    <tr>\n",
       "      <th>18</th>\n",
       "      <td>house</td>\n",
       "      <td>lunch</td>\n",
       "      <td>fast</td>\n",
       "      <td>taiwanese</td>\n",
       "    </tr>\n",
       "    <tr>\n",
       "      <th>19</th>\n",
       "      <td>waiter</td>\n",
       "      <td>give</td>\n",
       "      <td>rolls</td>\n",
       "      <td>jelly</td>\n",
       "    </tr>\n",
       "    <tr>\n",
       "      <th>20</th>\n",
       "      <td>pretty</td>\n",
       "      <td>panda</td>\n",
       "      <td>menu</td>\n",
       "      <td>tapioca</td>\n",
       "    </tr>\n",
       "    <tr>\n",
       "      <th>21</th>\n",
       "      <td>staff</td>\n",
       "      <td>healthy</td>\n",
       "      <td>chow</td>\n",
       "      <td>menu</td>\n",
       "    </tr>\n",
       "    <tr>\n",
       "      <th>22</th>\n",
       "      <td>asked</td>\n",
       "      <td>shabu</td>\n",
       "      <td>bad</td>\n",
       "      <td>friendly</td>\n",
       "    </tr>\n",
       "    <tr>\n",
       "      <th>23</th>\n",
       "      <td>friends</td>\n",
       "      <td>customer</td>\n",
       "      <td>delicious</td>\n",
       "      <td>desserts</td>\n",
       "    </tr>\n",
       "    <tr>\n",
       "      <th>24</th>\n",
       "      <td>manager</td>\n",
       "      <td>line</td>\n",
       "      <td>fresh</td>\n",
       "      <td>friends</td>\n",
       "    </tr>\n",
       "    <tr>\n",
       "      <th>25</th>\n",
       "      <td>seated</td>\n",
       "      <td>pretty</td>\n",
       "      <td>pretty</td>\n",
       "      <td>location</td>\n",
       "    </tr>\n",
       "    <tr>\n",
       "      <th>26</th>\n",
       "      <td>meal</td>\n",
       "      <td>noodles</td>\n",
       "      <td>portions</td>\n",
       "      <td>staff</td>\n",
       "    </tr>\n",
       "    <tr>\n",
       "      <th>27</th>\n",
       "      <td>selection</td>\n",
       "      <td>quick</td>\n",
       "      <td>give</td>\n",
       "      <td>fresh</td>\n",
       "    </tr>\n",
       "    <tr>\n",
       "      <th>28</th>\n",
       "      <td>busy</td>\n",
       "      <td>bowls</td>\n",
       "      <td>years</td>\n",
       "      <td>flavor</td>\n",
       "    </tr>\n",
       "    <tr>\n",
       "      <th>29</th>\n",
       "      <td>bad</td>\n",
       "      <td>pei</td>\n",
       "      <td>family</td>\n",
       "      <td>lot</td>\n",
       "    </tr>\n",
       "  </tbody>\n",
       "</table>\n",
       "</div>"
      ],
      "text/plain": [
       "      Topic 13  Topic 15   Topic 12    Topic 4\n",
       "0        happy      bowl    chicken        tea\n",
       "1         menu   chicken    chinese       milk\n",
       "2         hour     sauce       rice       boba\n",
       "3       server      rice      fried      drink\n",
       "4      ordered     fresh    ordered     drinks\n",
       "5        table  location        egg        ice\n",
       "6          bar  teriyaki      lunch     bubble\n",
       "7        night   veggies       soup      sweet\n",
       "8       drinks       eat       beef      green\n",
       "9   experience      meat     shrimp      taste\n",
       "10        wait     staff      sauce      mango\n",
       "11        beer    sauces       sour     pretty\n",
       "12  atmosphere      meal        hot    ordered\n",
       "13    waitress  friendly   delivery      sugar\n",
       "14       drink     spicy        eat     places\n",
       "15     minutes     clean   friendly       taro\n",
       "16    location   burrito     orange       teas\n",
       "17      dinner      fast      sweet    dessert\n",
       "18       house     lunch       fast  taiwanese\n",
       "19      waiter      give      rolls      jelly\n",
       "20      pretty     panda       menu    tapioca\n",
       "21       staff   healthy       chow       menu\n",
       "22       asked     shabu        bad   friendly\n",
       "23     friends  customer  delicious   desserts\n",
       "24     manager      line      fresh    friends\n",
       "25      seated    pretty     pretty   location\n",
       "26        meal   noodles   portions      staff\n",
       "27   selection     quick       give      fresh\n",
       "28        busy     bowls      years     flavor\n",
       "29         bad       pei     family        lot"
      ]
     },
     "execution_count": 94,
     "metadata": {},
     "output_type": "execute_result"
    }
   ],
   "source": [
    "CHN15_TOPIC = pd.read_csv(\"../yelp-challenge/LDA/CHN15/04_top30_word2topic.csv\")\n",
    "CHN15_TOPIC.loc[:,['Topic 13', 'Topic 15', 'Topic 12', 'Topic 4']]"
   ]
  },
  {
   "cell_type": "markdown",
   "metadata": {},
   "source": [
    "<br/><br/><br/>"
   ]
  },
  {
   "cell_type": "markdown",
   "metadata": {},
   "source": [
    "# JPN"
   ]
  },
  {
   "cell_type": "code",
   "execution_count": 97,
   "metadata": {
    "collapsed": false
   },
   "outputs": [],
   "source": [
    "bid2 = pd.read_csv(\"../yelp-challenge/LDA/JPN5/ALL_Japanese_Business_ID.csv\")\n",
    "topic_JPN_5 = pd.read_csv(\"../yelp-challenge/LDA/JPN5/topic2doc.csv\", index_col=0)\n",
    "topic_JPN_5.index = bid2.business_id.values"
   ]
  },
  {
   "cell_type": "code",
   "execution_count": 100,
   "metadata": {
    "collapsed": false
   },
   "outputs": [],
   "source": [
    "TOR_JPN = pd.read_csv(\"../yelp-challenge/Anomaly/Result/torronto_jap_results.csv\")\n",
    "TOR_JPN = TOR_JPN.loc[:, 'clusters_sp':'clusters_gm']\n",
    "\n",
    "PHO_JPN = pd.read_csv(\"../yelp-challenge/Anomaly/Result/Phoenix_jap_results.csv\")\n",
    "PHO_JPN = PHO_JPN.loc[:, 'clusters_sp':'clusters_gm']\n",
    "\n",
    "LAS_JPN = pd.read_csv(\"../yelp-challenge/Anomaly/Result/LasVegas_jap_results.csv\")\n",
    "LAS_JPN = LAS_JPN.loc[:, 'clusters_sp':'clusters_gm']"
   ]
  },
  {
   "cell_type": "code",
   "execution_count": 101,
   "metadata": {
    "collapsed": true
   },
   "outputs": [],
   "source": [
    "TOR_JPN_LDA5 = TOR_JPN.join(topic_JPN_5[['max']],how='left')\n",
    "PHO_JPN_LDA5 = PHO_JPN.join(topic_JPN_5[['max']],how='left')\n",
    "LAS_JPN_LDA5 = LAS_JPN.join(topic_JPN_5[['max']],how='left')"
   ]
  },
  {
   "cell_type": "code",
   "execution_count": 104,
   "metadata": {
    "collapsed": true
   },
   "outputs": [],
   "source": [
    "def ClsuterTopic(LDA):\n",
    "    for method in ['clusters_gm']:#['clusters_sp', 'clusters_km', 'clusters_gm']:\n",
    "        n_cluster = len(LDA.loc[:,method].unique())\n",
    "        print method\n",
    "        for i in range(n_cluster):\n",
    "            tmp = LDA[LDA.loc[:,method] == i]\n",
    "            print \"c{}: {}\".format(i,tmp.groupby(tmp['max']).size().argmax()+1) # topics index start from 1  \n",
    "        print '\\n'"
   ]
  },
  {
   "cell_type": "code",
   "execution_count": 105,
   "metadata": {
    "collapsed": false
   },
   "outputs": [
    {
     "name": "stdout",
     "output_type": "stream",
     "text": [
      "clusters_gm\n",
      "c0: 3\n",
      "c1: 3\n",
      "c2: 3\n",
      "c3: 3\n",
      "\n",
      "\n",
      "clusters_gm\n",
      "c0: 2\n",
      "c1: 3\n",
      "c2: 3\n",
      "c3: 3\n",
      "\n",
      "\n",
      "clusters_gm\n",
      "c0: 2\n",
      "c1: 2\n",
      "c2: 2\n",
      "c3: 3\n",
      "\n",
      "\n"
     ]
    }
   ],
   "source": [
    "ClsuterTopic(TOR_JPN_LDA5)\n",
    "ClsuterTopic(PHO_JPN_LDA5)\n",
    "ClsuterTopic(LAS_JPN_LDA5)"
   ]
  },
  {
   "cell_type": "code",
   "execution_count": 106,
   "metadata": {
    "collapsed": false
   },
   "outputs": [
    {
     "data": {
      "text/html": [
       "<div>\n",
       "<table border=\"1\" class=\"dataframe\">\n",
       "  <thead>\n",
       "    <tr style=\"text-align: right;\">\n",
       "      <th></th>\n",
       "      <th>Topic 2</th>\n",
       "      <th>Topic 3</th>\n",
       "    </tr>\n",
       "  </thead>\n",
       "  <tbody>\n",
       "    <tr>\n",
       "      <th>0</th>\n",
       "      <td>sushi</td>\n",
       "      <td>ramen</td>\n",
       "    </tr>\n",
       "    <tr>\n",
       "      <th>1</th>\n",
       "      <td>roll</td>\n",
       "      <td>pork</td>\n",
       "    </tr>\n",
       "    <tr>\n",
       "      <th>2</th>\n",
       "      <td>rolls</td>\n",
       "      <td>noodles</td>\n",
       "    </tr>\n",
       "    <tr>\n",
       "      <th>3</th>\n",
       "      <td>fresh</td>\n",
       "      <td>broth</td>\n",
       "    </tr>\n",
       "    <tr>\n",
       "      <th>4</th>\n",
       "      <td>fish</td>\n",
       "      <td>bowl</td>\n",
       "    </tr>\n",
       "    <tr>\n",
       "      <th>5</th>\n",
       "      <td>eat</td>\n",
       "      <td>chicken</td>\n",
       "    </tr>\n",
       "    <tr>\n",
       "      <th>6</th>\n",
       "      <td>quality</td>\n",
       "      <td>japanese</td>\n",
       "    </tr>\n",
       "    <tr>\n",
       "      <th>7</th>\n",
       "      <td>ayce</td>\n",
       "      <td>spicy</td>\n",
       "    </tr>\n",
       "    <tr>\n",
       "      <th>8</th>\n",
       "      <td>salmon</td>\n",
       "      <td>ordered</td>\n",
       "    </tr>\n",
       "    <tr>\n",
       "      <th>9</th>\n",
       "      <td>menu</td>\n",
       "      <td>soup</td>\n",
       "    </tr>\n",
       "    <tr>\n",
       "      <th>10</th>\n",
       "      <td>tuna</td>\n",
       "      <td>rice</td>\n",
       "    </tr>\n",
       "    <tr>\n",
       "      <th>11</th>\n",
       "      <td>sashimi</td>\n",
       "      <td>curry</td>\n",
       "    </tr>\n",
       "    <tr>\n",
       "      <th>12</th>\n",
       "      <td>lunch</td>\n",
       "      <td>small</td>\n",
       "    </tr>\n",
       "    <tr>\n",
       "      <th>13</th>\n",
       "      <td>ordered</td>\n",
       "      <td>delicious</td>\n",
       "    </tr>\n",
       "    <tr>\n",
       "      <th>14</th>\n",
       "      <td>rice</td>\n",
       "      <td>wait</td>\n",
       "    </tr>\n",
       "    <tr>\n",
       "      <th>15</th>\n",
       "      <td>spicy</td>\n",
       "      <td>pretty</td>\n",
       "    </tr>\n",
       "    <tr>\n",
       "      <th>16</th>\n",
       "      <td>tempura</td>\n",
       "      <td>bit</td>\n",
       "    </tr>\n",
       "    <tr>\n",
       "      <th>17</th>\n",
       "      <td>friendly</td>\n",
       "      <td>miso</td>\n",
       "    </tr>\n",
       "    <tr>\n",
       "      <th>18</th>\n",
       "      <td>pretty</td>\n",
       "      <td>taste</td>\n",
       "    </tr>\n",
       "    <tr>\n",
       "      <th>19</th>\n",
       "      <td>price</td>\n",
       "      <td>egg</td>\n",
       "    </tr>\n",
       "    <tr>\n",
       "      <th>20</th>\n",
       "      <td>places</td>\n",
       "      <td>noodle</td>\n",
       "    </tr>\n",
       "    <tr>\n",
       "      <th>21</th>\n",
       "      <td>staff</td>\n",
       "      <td>menu</td>\n",
       "    </tr>\n",
       "    <tr>\n",
       "      <th>22</th>\n",
       "      <td>dinner</td>\n",
       "      <td>sauce</td>\n",
       "    </tr>\n",
       "    <tr>\n",
       "      <th>23</th>\n",
       "      <td>delicious</td>\n",
       "      <td>fried</td>\n",
       "    </tr>\n",
       "    <tr>\n",
       "      <th>24</th>\n",
       "      <td>amazing</td>\n",
       "      <td>friendly</td>\n",
       "    </tr>\n",
       "    <tr>\n",
       "      <th>25</th>\n",
       "      <td>wait</td>\n",
       "      <td>tea</td>\n",
       "    </tr>\n",
       "    <tr>\n",
       "      <th>26</th>\n",
       "      <td>favorite</td>\n",
       "      <td>places</td>\n",
       "    </tr>\n",
       "    <tr>\n",
       "      <th>27</th>\n",
       "      <td>2</td>\n",
       "      <td>meat</td>\n",
       "    </tr>\n",
       "    <tr>\n",
       "      <th>28</th>\n",
       "      <td>nigiri</td>\n",
       "      <td>side</td>\n",
       "    </tr>\n",
       "    <tr>\n",
       "      <th>29</th>\n",
       "      <td>salad</td>\n",
       "      <td>lunch</td>\n",
       "    </tr>\n",
       "  </tbody>\n",
       "</table>\n",
       "</div>"
      ],
      "text/plain": [
       "      Topic 2    Topic 3\n",
       "0       sushi      ramen\n",
       "1        roll       pork\n",
       "2       rolls    noodles\n",
       "3       fresh      broth\n",
       "4        fish       bowl\n",
       "5         eat    chicken\n",
       "6     quality   japanese\n",
       "7        ayce      spicy\n",
       "8      salmon    ordered\n",
       "9        menu       soup\n",
       "10       tuna       rice\n",
       "11    sashimi      curry\n",
       "12      lunch      small\n",
       "13    ordered  delicious\n",
       "14       rice       wait\n",
       "15      spicy     pretty\n",
       "16    tempura        bit\n",
       "17   friendly       miso\n",
       "18     pretty      taste\n",
       "19      price        egg\n",
       "20     places     noodle\n",
       "21      staff       menu\n",
       "22     dinner      sauce\n",
       "23  delicious      fried\n",
       "24    amazing   friendly\n",
       "25       wait        tea\n",
       "26   favorite     places\n",
       "27          2       meat\n",
       "28     nigiri       side\n",
       "29      salad      lunch"
      ]
     },
     "execution_count": 106,
     "metadata": {},
     "output_type": "execute_result"
    }
   ],
   "source": [
    "JPN5_TOPIC = pd.read_csv(\"../yelp-challenge/LDA/JPN5/top30_word2topic.csv\")\n",
    "JPN5_TOPIC.loc[:,['Topic 2', 'Topic 3']]"
   ]
  },
  {
   "cell_type": "markdown",
   "metadata": {},
   "source": [
    "<br/><br/><br/>"
   ]
  },
  {
   "cell_type": "markdown",
   "metadata": {},
   "source": [
    "# What if No Clustering for One city?"
   ]
  },
  {
   "cell_type": "markdown",
   "metadata": {},
   "source": [
    "### CHN5 "
   ]
  },
  {
   "cell_type": "code",
   "execution_count": 121,
   "metadata": {
    "collapsed": false
   },
   "outputs": [
    {
     "data": {
      "text/plain": [
       "3"
      ]
     },
     "execution_count": 121,
     "metadata": {},
     "output_type": "execute_result"
    }
   ],
   "source": [
    "TOR_CHN_LDA5['max'].value_counts().argmax()"
   ]
  },
  {
   "cell_type": "code",
   "execution_count": 122,
   "metadata": {
    "collapsed": false
   },
   "outputs": [
    {
     "data": {
      "text/plain": [
       "3"
      ]
     },
     "execution_count": 122,
     "metadata": {},
     "output_type": "execute_result"
    }
   ],
   "source": [
    "PHO_CHN_LDA5['max'].value_counts().argmax()"
   ]
  },
  {
   "cell_type": "code",
   "execution_count": 123,
   "metadata": {
    "collapsed": false
   },
   "outputs": [
    {
     "data": {
      "text/plain": [
       "3"
      ]
     },
     "execution_count": 123,
     "metadata": {},
     "output_type": "execute_result"
    }
   ],
   "source": [
    "LAS_CHN_LDA5['max'].value_counts().argmax()"
   ]
  },
  {
   "cell_type": "markdown",
   "metadata": {},
   "source": [
    "### CHN15"
   ]
  },
  {
   "cell_type": "code",
   "execution_count": 124,
   "metadata": {
    "collapsed": false
   },
   "outputs": [
    {
     "data": {
      "text/plain": [
       "12"
      ]
     },
     "execution_count": 124,
     "metadata": {},
     "output_type": "execute_result"
    }
   ],
   "source": [
    "TOR_CHN_LDA15['max'].value_counts().argmax()"
   ]
  },
  {
   "cell_type": "code",
   "execution_count": 125,
   "metadata": {
    "collapsed": false
   },
   "outputs": [
    {
     "data": {
      "text/plain": [
       "12"
      ]
     },
     "execution_count": 125,
     "metadata": {},
     "output_type": "execute_result"
    }
   ],
   "source": [
    "PHO_CHN_LDA15['max'].value_counts().argmax()"
   ]
  },
  {
   "cell_type": "code",
   "execution_count": 126,
   "metadata": {
    "collapsed": false
   },
   "outputs": [
    {
     "data": {
      "text/plain": [
       "12"
      ]
     },
     "execution_count": 126,
     "metadata": {},
     "output_type": "execute_result"
    }
   ],
   "source": [
    "LAS_CHN_LDA15['max'].value_counts().argmax()"
   ]
  },
  {
   "cell_type": "markdown",
   "metadata": {},
   "source": [
    "### JPN5"
   ]
  },
  {
   "cell_type": "code",
   "execution_count": 118,
   "metadata": {
    "collapsed": false
   },
   "outputs": [
    {
     "data": {
      "text/plain": [
       "2"
      ]
     },
     "execution_count": 118,
     "metadata": {},
     "output_type": "execute_result"
    }
   ],
   "source": [
    "TOR_JPN_LDA5['max'].value_counts().argmax()"
   ]
  },
  {
   "cell_type": "code",
   "execution_count": 120,
   "metadata": {
    "collapsed": false
   },
   "outputs": [
    {
     "data": {
      "text/plain": [
       "2"
      ]
     },
     "execution_count": 120,
     "metadata": {},
     "output_type": "execute_result"
    }
   ],
   "source": [
    "PHO_JPN_LDA5['max'].value_counts().argmax()"
   ]
  },
  {
   "cell_type": "code",
   "execution_count": 119,
   "metadata": {
    "collapsed": false
   },
   "outputs": [
    {
     "data": {
      "text/plain": [
       "2"
      ]
     },
     "execution_count": 119,
     "metadata": {},
     "output_type": "execute_result"
    }
   ],
   "source": [
    "LAS_JPN_LDA5['max'].value_counts().argmax()"
   ]
  }
 ],
 "metadata": {
  "anaconda-cloud": {},
  "kernelspec": {
   "display_name": "Python [default]",
   "language": "python",
   "name": "python2"
  },
  "language_info": {
   "codemirror_mode": {
    "name": "ipython",
    "version": 2
   },
   "file_extension": ".py",
   "mimetype": "text/x-python",
   "name": "python",
   "nbconvert_exporter": "python",
   "pygments_lexer": "ipython2",
   "version": "2.7.12"
  }
 },
 "nbformat": 4,
 "nbformat_minor": 1
}
