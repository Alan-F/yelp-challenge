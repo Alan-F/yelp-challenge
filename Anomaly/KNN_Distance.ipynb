{
 "cells": [
  {
   "cell_type": "code",
   "execution_count": 1,
   "metadata": {
    "collapsed": true
   },
   "outputs": [],
   "source": [
    "import pandas as pd"
   ]
  },
  {
   "cell_type": "code",
   "execution_count": 2,
   "metadata": {
    "collapsed": true
   },
   "outputs": [],
   "source": [
    "df = pd.read_pickle(\"../yelp-challenge/Anomaly/df_1518.pkl\")\n",
    "spatial_label = pd.read_pickle(\"../yelp-challenge/data_processeing/spatial_labels.pkl\")"
   ]
  },
  {
   "cell_type": "markdown",
   "metadata": {},
   "source": [
    "## 3 - the greater T"
   ]
  },
  {
   "cell_type": "code",
   "execution_count": 11,
   "metadata": {
    "collapsed": false
   },
   "outputs": [
    {
     "data": {
      "text/plain": [
       "spatial_label\n",
       "0      80\n",
       "1      84\n",
       "2     482\n",
       "3     853\n",
       "4      63\n",
       "5     182\n",
       "6     194\n",
       "7     410\n",
       "8     163\n",
       "9     139\n",
       "10     43\n",
       "dtype: int64"
      ]
     },
     "execution_count": 11,
     "metadata": {},
     "output_type": "execute_result"
    }
   ],
   "source": [
    "tmp = df.join(spatial_label)[['city','spatial_label']]\n",
    "tmp[df.cuisine_Chinese==2].groupby(tmp.spatial_label).size()"
   ]
  },
  {
   "cell_type": "code",
   "execution_count": 40,
   "metadata": {
    "collapsed": true
   },
   "outputs": [],
   "source": [
    "df1 = df.copy()\n",
    "df1 = df.join(spatial_label)"
   ]
  },
  {
   "cell_type": "code",
   "execution_count": 41,
   "metadata": {
    "collapsed": false
   },
   "outputs": [
    {
     "data": {
      "text/plain": [
       "(27314, 66)"
      ]
     },
     "execution_count": 41,
     "metadata": {},
     "output_type": "execute_result"
    }
   ],
   "source": [
    "df.shape"
   ]
  },
  {
   "cell_type": "markdown",
   "metadata": {},
   "source": [
    "# Filter"
   ]
  },
  {
   "cell_type": "markdown",
   "metadata": {},
   "source": [
    "## Spatial_label == 3"
   ]
  },
  {
   "cell_type": "code",
   "execution_count": 42,
   "metadata": {
    "collapsed": false
   },
   "outputs": [
    {
     "data": {
      "text/plain": [
       "(6464, 67)"
      ]
     },
     "execution_count": 42,
     "metadata": {},
     "output_type": "execute_result"
    }
   ],
   "source": [
    "df1 = df1[df1.spatial_label == 3]\n",
    "df1.shape"
   ]
  },
  {
   "cell_type": "markdown",
   "metadata": {},
   "source": [
    "## Chinese == 2"
   ]
  },
  {
   "cell_type": "code",
   "execution_count": 43,
   "metadata": {
    "collapsed": false
   },
   "outputs": [
    {
     "data": {
      "text/plain": [
       "(853, 67)"
      ]
     },
     "execution_count": 43,
     "metadata": {},
     "output_type": "execute_result"
    }
   ],
   "source": [
    "df1 = df1[df1.cuisine_Chinese == 2]\n",
    "df1.shape"
   ]
  },
  {
   "cell_type": "markdown",
   "metadata": {},
   "source": [
    "## Star == 4"
   ]
  },
  {
   "cell_type": "code",
   "execution_count": 44,
   "metadata": {
    "collapsed": false
   },
   "outputs": [
    {
     "data": {
      "text/plain": [
       "(235, 67)"
      ]
     },
     "execution_count": 44,
     "metadata": {},
     "output_type": "execute_result"
    }
   ],
   "source": [
    "df1 = df1[df1.stars >= 4]\n",
    "df1.shape"
   ]
  },
  {
   "cell_type": "markdown",
   "metadata": {},
   "source": [
    "## Anomaly Detection"
   ]
  },
  {
   "cell_type": "code",
   "execution_count": 46,
   "metadata": {
    "collapsed": false
   },
   "outputs": [],
   "source": [
    "df2 = df1.copy()"
   ]
  },
  {
   "cell_type": "code",
   "execution_count": 47,
   "metadata": {
    "collapsed": false
   },
   "outputs": [
    {
     "data": {
      "text/plain": [
       "array([u'categories', u'city', u'hours', u'is_open', u'latitude',\n",
       "       u'longitude', u'name', u'neighborhood', u'postal_code',\n",
       "       u'review_count', u'stars', u'state', 'AgesAllowed',\n",
       "       'Ambience_casual', 'Ambience_classy', 'Ambience_divey',\n",
       "       'Ambience_hipster', 'Ambience_intimate', 'Ambience_romantic',\n",
       "       'Ambience_touristy', 'Ambience_trendy', 'Ambience_upscale', 'BYOB',\n",
       "       'BYOBCorkage', 'BestNights_friday', 'BestNights_monday',\n",
       "       'BestNights_saturday', 'BestNights_sunday', 'BestNights_thursday',\n",
       "       'BestNights_tuesday', 'BestNights_wednesday', 'BikeParking',\n",
       "       'BusinessAcceptsCreditCards', 'BusinessParking_garage',\n",
       "       'BusinessParking_lot', 'BusinessParking_street',\n",
       "       'BusinessParking_valet', 'BusinessParking_validated', 'Corkage',\n",
       "       'DietaryRestrictions_dairy-free', 'DietaryRestrictions_gluten-free',\n",
       "       'DietaryRestrictions_halal', 'DietaryRestrictions_kosher',\n",
       "       'DietaryRestrictions_soy-free', 'DietaryRestrictions_vegan',\n",
       "       'DietaryRestrictions_vegetarian', 'GoodForMeal_breakfast',\n",
       "       'GoodForMeal_brunch', 'GoodForMeal_dessert', 'GoodForMeal_dinner',\n",
       "       'GoodForMeal_latenight', 'GoodForMeal_lunch', 'HappyHour',\n",
       "       'Music_background_music', 'Music_dj', 'Music_jukebox',\n",
       "       'Music_karaoke', 'Music_live', 'Music_no_music', 'Music_video',\n",
       "       'OutdoorSeating', 'RestaurantsDelivery', 'RestaurantsGoodForGroups',\n",
       "       'Smoking', 'review_count_greater_median', 'cuisine_Chinese',\n",
       "       'spatial_label'], dtype=object)"
      ]
     },
     "execution_count": 47,
     "metadata": {},
     "output_type": "execute_result"
    }
   ],
   "source": [
    "df2.columns.values"
   ]
  },
  {
   "cell_type": "code",
   "execution_count": 48,
   "metadata": {
    "collapsed": true
   },
   "outputs": [],
   "source": [
    "df2 = df2.loc[:,'AgesAllowed':'review_count_greater_median']"
   ]
  },
  {
   "cell_type": "code",
   "execution_count": 49,
   "metadata": {
    "collapsed": true
   },
   "outputs": [],
   "source": [
    "df2 = df2.join(df1.stars)"
   ]
  },
  {
   "cell_type": "code",
   "execution_count": 58,
   "metadata": {
    "collapsed": false
   },
   "outputs": [
    {
     "data": {
      "text/plain": [
       "34"
      ]
     },
     "execution_count": 58,
     "metadata": {},
     "output_type": "execute_result"
    }
   ],
   "source": [
    "is_keep = 1.0 * df2.count() / len(df2) > 0.7\n",
    "sum(is_keep)"
   ]
  },
  {
   "cell_type": "code",
   "execution_count": 65,
   "metadata": {
    "collapsed": false
   },
   "outputs": [],
   "source": [
    "df2 = df2.loc[:,is_keep]"
   ]
  },
  {
   "cell_type": "code",
   "execution_count": 66,
   "metadata": {
    "collapsed": false
   },
   "outputs": [
    {
     "data": {
      "text/plain": [
       "(235, 34)"
      ]
     },
     "execution_count": 66,
     "metadata": {},
     "output_type": "execute_result"
    }
   ],
   "source": [
    "df2.shape"
   ]
  },
  {
   "cell_type": "code",
   "execution_count": 68,
   "metadata": {
    "collapsed": false
   },
   "outputs": [
    {
     "data": {
      "text/html": [
       "<div>\n",
       "<table border=\"1\" class=\"dataframe\">\n",
       "  <thead>\n",
       "    <tr style=\"text-align: right;\">\n",
       "      <th></th>\n",
       "      <th>AgesAllowed</th>\n",
       "      <th>Ambience_classy</th>\n",
       "      <th>Ambience_divey</th>\n",
       "      <th>Ambience_hipster</th>\n",
       "      <th>Ambience_romantic</th>\n",
       "      <th>Ambience_upscale</th>\n",
       "      <th>BYOB</th>\n",
       "      <th>BYOBCorkage</th>\n",
       "      <th>BestNights_sunday</th>\n",
       "      <th>BestNights_tuesday</th>\n",
       "      <th>...</th>\n",
       "      <th>GoodForMeal_lunch</th>\n",
       "      <th>HappyHour</th>\n",
       "      <th>Music_no_music</th>\n",
       "      <th>Music_video</th>\n",
       "      <th>OutdoorSeating</th>\n",
       "      <th>RestaurantsDelivery</th>\n",
       "      <th>RestaurantsGoodForGroups</th>\n",
       "      <th>Smoking</th>\n",
       "      <th>review_count_greater_median</th>\n",
       "      <th>stars</th>\n",
       "    </tr>\n",
       "  </thead>\n",
       "  <tbody>\n",
       "    <tr>\n",
       "      <th>KeQ1cK564cL5C_hBTFrqnA</th>\n",
       "      <td>False</td>\n",
       "      <td>full_bar</td>\n",
       "      <td>True</td>\n",
       "      <td>average</td>\n",
       "      <td>casual</td>\n",
       "      <td>True</td>\n",
       "      <td>True</td>\n",
       "      <td>True</td>\n",
       "      <td>True</td>\n",
       "      <td>False</td>\n",
       "      <td>...</td>\n",
       "      <td>False</td>\n",
       "      <td>True</td>\n",
       "      <td>True</td>\n",
       "      <td>False</td>\n",
       "      <td>True</td>\n",
       "      <td>False</td>\n",
       "      <td>False</td>\n",
       "      <td>False</td>\n",
       "      <td>True</td>\n",
       "      <td>4.0</td>\n",
       "    </tr>\n",
       "    <tr>\n",
       "      <th>f5xm2RiwLv0gbmXU4BkrGA</th>\n",
       "      <td>False</td>\n",
       "      <td>beer_and_wine</td>\n",
       "      <td>True</td>\n",
       "      <td>average</td>\n",
       "      <td>casual</td>\n",
       "      <td>NaN</td>\n",
       "      <td>True</td>\n",
       "      <td>NaN</td>\n",
       "      <td>True</td>\n",
       "      <td>NaN</td>\n",
       "      <td>...</td>\n",
       "      <td>NaN</td>\n",
       "      <td>False</td>\n",
       "      <td>NaN</td>\n",
       "      <td>NaN</td>\n",
       "      <td>True</td>\n",
       "      <td>NaN</td>\n",
       "      <td>NaN</td>\n",
       "      <td>NaN</td>\n",
       "      <td>False</td>\n",
       "      <td>4.0</td>\n",
       "    </tr>\n",
       "    <tr>\n",
       "      <th>q0oPX1DXW86QytTvvrD9MA</th>\n",
       "      <td>False</td>\n",
       "      <td>full_bar</td>\n",
       "      <td>True</td>\n",
       "      <td>quiet</td>\n",
       "      <td>casual</td>\n",
       "      <td>True</td>\n",
       "      <td>True</td>\n",
       "      <td>False</td>\n",
       "      <td>True</td>\n",
       "      <td>False</td>\n",
       "      <td>...</td>\n",
       "      <td>False</td>\n",
       "      <td>True</td>\n",
       "      <td>True</td>\n",
       "      <td>False</td>\n",
       "      <td>True</td>\n",
       "      <td>False</td>\n",
       "      <td>False</td>\n",
       "      <td>True</td>\n",
       "      <td>False</td>\n",
       "      <td>4.0</td>\n",
       "    </tr>\n",
       "    <tr>\n",
       "      <th>0C6uuZBD7xKS-uucgwoyQw</th>\n",
       "      <td>False</td>\n",
       "      <td>none</td>\n",
       "      <td>False</td>\n",
       "      <td>quiet</td>\n",
       "      <td>casual</td>\n",
       "      <td>True</td>\n",
       "      <td>False</td>\n",
       "      <td>False</td>\n",
       "      <td>True</td>\n",
       "      <td>False</td>\n",
       "      <td>...</td>\n",
       "      <td>False</td>\n",
       "      <td>False</td>\n",
       "      <td>False</td>\n",
       "      <td>True</td>\n",
       "      <td>False</td>\n",
       "      <td>False</td>\n",
       "      <td>False</td>\n",
       "      <td>False</td>\n",
       "      <td>True</td>\n",
       "      <td>4.0</td>\n",
       "    </tr>\n",
       "    <tr>\n",
       "      <th>mevOvXMnlTLbSl4w8fcG2A</th>\n",
       "      <td>False</td>\n",
       "      <td>full_bar</td>\n",
       "      <td>False</td>\n",
       "      <td>average</td>\n",
       "      <td>casual</td>\n",
       "      <td>True</td>\n",
       "      <td>True</td>\n",
       "      <td>False</td>\n",
       "      <td>True</td>\n",
       "      <td>False</td>\n",
       "      <td>...</td>\n",
       "      <td>False</td>\n",
       "      <td>True</td>\n",
       "      <td>True</td>\n",
       "      <td>False</td>\n",
       "      <td>False</td>\n",
       "      <td>False</td>\n",
       "      <td>False</td>\n",
       "      <td>False</td>\n",
       "      <td>False</td>\n",
       "      <td>4.0</td>\n",
       "    </tr>\n",
       "  </tbody>\n",
       "</table>\n",
       "<p>5 rows × 34 columns</p>\n",
       "</div>"
      ],
      "text/plain": [
       "                       AgesAllowed Ambience_classy Ambience_divey  \\\n",
       "KeQ1cK564cL5C_hBTFrqnA       False        full_bar           True   \n",
       "f5xm2RiwLv0gbmXU4BkrGA       False   beer_and_wine           True   \n",
       "q0oPX1DXW86QytTvvrD9MA       False        full_bar           True   \n",
       "0C6uuZBD7xKS-uucgwoyQw       False            none          False   \n",
       "mevOvXMnlTLbSl4w8fcG2A       False        full_bar          False   \n",
       "\n",
       "                       Ambience_hipster Ambience_romantic Ambience_upscale  \\\n",
       "KeQ1cK564cL5C_hBTFrqnA          average            casual             True   \n",
       "f5xm2RiwLv0gbmXU4BkrGA          average            casual              NaN   \n",
       "q0oPX1DXW86QytTvvrD9MA            quiet            casual             True   \n",
       "0C6uuZBD7xKS-uucgwoyQw            quiet            casual             True   \n",
       "mevOvXMnlTLbSl4w8fcG2A          average            casual             True   \n",
       "\n",
       "                         BYOB BYOBCorkage BestNights_sunday  \\\n",
       "KeQ1cK564cL5C_hBTFrqnA   True        True              True   \n",
       "f5xm2RiwLv0gbmXU4BkrGA   True         NaN              True   \n",
       "q0oPX1DXW86QytTvvrD9MA   True       False              True   \n",
       "0C6uuZBD7xKS-uucgwoyQw  False       False              True   \n",
       "mevOvXMnlTLbSl4w8fcG2A   True       False              True   \n",
       "\n",
       "                       BestNights_tuesday  ...  GoodForMeal_lunch HappyHour  \\\n",
       "KeQ1cK564cL5C_hBTFrqnA              False  ...              False      True   \n",
       "f5xm2RiwLv0gbmXU4BkrGA                NaN  ...                NaN     False   \n",
       "q0oPX1DXW86QytTvvrD9MA              False  ...              False      True   \n",
       "0C6uuZBD7xKS-uucgwoyQw              False  ...              False     False   \n",
       "mevOvXMnlTLbSl4w8fcG2A              False  ...              False      True   \n",
       "\n",
       "                       Music_no_music Music_video OutdoorSeating  \\\n",
       "KeQ1cK564cL5C_hBTFrqnA           True       False           True   \n",
       "f5xm2RiwLv0gbmXU4BkrGA            NaN         NaN           True   \n",
       "q0oPX1DXW86QytTvvrD9MA           True       False           True   \n",
       "0C6uuZBD7xKS-uucgwoyQw          False        True          False   \n",
       "mevOvXMnlTLbSl4w8fcG2A           True       False          False   \n",
       "\n",
       "                       RestaurantsDelivery RestaurantsGoodForGroups Smoking  \\\n",
       "KeQ1cK564cL5C_hBTFrqnA               False                    False   False   \n",
       "f5xm2RiwLv0gbmXU4BkrGA                 NaN                      NaN     NaN   \n",
       "q0oPX1DXW86QytTvvrD9MA               False                    False    True   \n",
       "0C6uuZBD7xKS-uucgwoyQw               False                    False   False   \n",
       "mevOvXMnlTLbSl4w8fcG2A               False                    False   False   \n",
       "\n",
       "                       review_count_greater_median stars  \n",
       "KeQ1cK564cL5C_hBTFrqnA                        True   4.0  \n",
       "f5xm2RiwLv0gbmXU4BkrGA                       False   4.0  \n",
       "q0oPX1DXW86QytTvvrD9MA                       False   4.0  \n",
       "0C6uuZBD7xKS-uucgwoyQw                        True   4.0  \n",
       "mevOvXMnlTLbSl4w8fcG2A                       False   4.0  \n",
       "\n",
       "[5 rows x 34 columns]"
      ]
     },
     "execution_count": 68,
     "metadata": {},
     "output_type": "execute_result"
    }
   ],
   "source": [
    "df2.head()"
   ]
  },
  {
   "cell_type": "code",
   "execution_count": 118,
   "metadata": {
    "collapsed": false
   },
   "outputs": [],
   "source": [
    "df3 = df2.copy()\n",
    "#df3 = df3.replace([None], [False])\n",
    "# df3.Ambience_hipster.unique()"
   ]
  },
  {
   "cell_type": "code",
   "execution_count": 119,
   "metadata": {
    "collapsed": false
   },
   "outputs": [
    {
     "data": {
      "text/plain": [
       "(36,)"
      ]
     },
     "execution_count": 119,
     "metadata": {},
     "output_type": "execute_result"
    }
   ],
   "source": [
    "pd.get_dummies(df3.iloc[:,:-1],drop_first=True, dummy_na=False).columns.shape"
   ]
  },
  {
   "cell_type": "code",
   "execution_count": 120,
   "metadata": {
    "collapsed": false
   },
   "outputs": [],
   "source": [
    "df3 = pd.get_dummies(df3.iloc[:,:-1],drop_first=True, dummy_na=False)"
   ]
  },
  {
   "cell_type": "code",
   "execution_count": 122,
   "metadata": {
    "collapsed": false
   },
   "outputs": [],
   "source": [
    "from sklearn.cluster import KMeans"
   ]
  },
  {
   "cell_type": "code",
   "execution_count": 184,
   "metadata": {
    "collapsed": false
   },
   "outputs": [
    {
     "name": "stdout",
     "output_type": "stream",
     "text": [
      "115\n",
      "120\n"
     ]
    }
   ],
   "source": [
    "k=2\n",
    "mod = KMeans(n_clusters=k, random_state=1).fit(df3)\n",
    "for i in range(k):\n",
    "    print sum(mod.labels_ == i)"
   ]
  },
  {
   "cell_type": "code",
   "execution_count": 188,
   "metadata": {
    "collapsed": false
   },
   "outputs": [],
   "source": [
    "from scipy.spatial import distance"
   ]
  },
  {
   "cell_type": "code",
   "execution_count": 189,
   "metadata": {
    "collapsed": true
   },
   "outputs": [],
   "source": [
    "def dist2knn(x, nn, k):\n",
    "    dist_ = []\n",
    "    for i in range(len(nn)):\n",
    "        dist_.append(distance.euclidean(x, nn.iloc[i,:]))\n",
    "    dist_.sort()\n",
    "    return sum(dist_[:k+1]) # +1: remove 0 self"
   ]
  },
  {
   "cell_type": "code",
   "execution_count": 190,
   "metadata": {
    "collapsed": false
   },
   "outputs": [
    {
     "name": "stdout",
     "output_type": "stream",
     "text": [
      "100.0%\n"
     ]
    }
   ],
   "source": [
    "dist_sum_knn = []\n",
    "for i in range(len(df3)):\n",
    "    print '\\r{}%'.format(100.0*(i+1)/len(df3)),\n",
    "    dist_sum_knn.append(dist2knn(df3.iloc[i,:], df3, 5))"
   ]
  },
  {
   "cell_type": "code",
   "execution_count": 221,
   "metadata": {
    "collapsed": false
   },
   "outputs": [],
   "source": [
    "df4 = df3.copy()\n",
    "df4['dist'] = dist_sum_knn"
   ]
  },
  {
   "cell_type": "markdown",
   "metadata": {},
   "source": [
    "## TOP10 Possible Anomaly"
   ]
  },
  {
   "cell_type": "code",
   "execution_count": 222,
   "metadata": {
    "collapsed": false
   },
   "outputs": [
    {
     "data": {
      "text/html": [
       "<div>\n",
       "<table border=\"1\" class=\"dataframe\">\n",
       "  <thead>\n",
       "    <tr style=\"text-align: right;\">\n",
       "      <th></th>\n",
       "      <th>dist</th>\n",
       "    </tr>\n",
       "  </thead>\n",
       "  <tbody>\n",
       "    <tr>\n",
       "      <th>E0iHvHraTa-t6ka9rYL8uQ</th>\n",
       "      <td>12.836233</td>\n",
       "    </tr>\n",
       "    <tr>\n",
       "      <th>8xPmlVJy2o6x0J04CBpEMQ</th>\n",
       "      <td>12.836233</td>\n",
       "    </tr>\n",
       "    <tr>\n",
       "      <th>td9FZybutwNG7DgocHCiXA</th>\n",
       "      <td>12.836233</td>\n",
       "    </tr>\n",
       "    <tr>\n",
       "      <th>bGuxRBRKv7i1BKKfGbjxEw</th>\n",
       "      <td>12.822648</td>\n",
       "    </tr>\n",
       "    <tr>\n",
       "      <th>1pttL4MkpxOL6Mj2azOjVQ</th>\n",
       "      <td>12.622812</td>\n",
       "    </tr>\n",
       "  </tbody>\n",
       "</table>\n",
       "</div>"
      ],
      "text/plain": [
       "                             dist\n",
       "E0iHvHraTa-t6ka9rYL8uQ  12.836233\n",
       "8xPmlVJy2o6x0J04CBpEMQ  12.836233\n",
       "td9FZybutwNG7DgocHCiXA  12.836233\n",
       "bGuxRBRKv7i1BKKfGbjxEw  12.822648\n",
       "1pttL4MkpxOL6Mj2azOjVQ  12.622812"
      ]
     },
     "execution_count": 222,
     "metadata": {},
     "output_type": "execute_result"
    }
   ],
   "source": [
    "df4.sort_values(by='dist', ascending=False)[['dist']][:5]"
   ]
  },
  {
   "cell_type": "code",
   "execution_count": 223,
   "metadata": {
    "collapsed": true
   },
   "outputs": [],
   "source": [
    "bid_top5 = df4.sort_values(by='dist', ascending=False)[['dist']][:5].index.values"
   ]
  },
  {
   "cell_type": "code",
   "execution_count": 224,
   "metadata": {
    "collapsed": false
   },
   "outputs": [],
   "source": [
    "is_top5 = [ind in bid_top5 for ind in df.index.values]"
   ]
  },
  {
   "cell_type": "code",
   "execution_count": 232,
   "metadata": {
    "collapsed": true
   },
   "outputs": [],
   "source": [
    "import geopandas as gpd\n",
    "import pyproj\n",
    "from shapely.geometry import Point"
   ]
  },
  {
   "cell_type": "code",
   "execution_count": 233,
   "metadata": {
    "collapsed": true
   },
   "outputs": [],
   "source": [
    "proj = pyproj.Proj(init='epsg:4326', preserve_units=True)\n",
    "gdf = gpd.GeoDataFrame(df)"
   ]
  },
  {
   "cell_type": "code",
   "execution_count": 235,
   "metadata": {
    "collapsed": false
   },
   "outputs": [],
   "source": [
    "geometry = []\n",
    "for i in range(len(gdf)):\n",
    "    row = gdf.iloc[i,:]\n",
    "    geo = Point(proj(float(row['longitude']), float(row['latitude'])))\n",
    "    geometry.append(geo)"
   ]
  },
  {
   "cell_type": "code",
   "execution_count": 236,
   "metadata": {
    "collapsed": false
   },
   "outputs": [],
   "source": [
    "gdf['geometry'] = geometry"
   ]
  },
  {
   "cell_type": "code",
   "execution_count": 240,
   "metadata": {
    "collapsed": false
   },
   "outputs": [],
   "source": [
    "# gdf.plot(c=is_top5)"
   ]
  }
 ],
 "metadata": {
  "kernelspec": {
   "display_name": "Python [default]",
   "language": "python",
   "name": "python2"
  },
  "language_info": {
   "codemirror_mode": {
    "name": "ipython",
    "version": 2
   },
   "file_extension": ".py",
   "mimetype": "text/x-python",
   "name": "python",
   "nbconvert_exporter": "python",
   "pygments_lexer": "ipython2",
   "version": "2.7.12"
  }
 },
 "nbformat": 4,
 "nbformat_minor": 1
}
