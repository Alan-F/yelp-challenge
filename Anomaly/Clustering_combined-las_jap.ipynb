{
 "cells": [
  {
   "cell_type": "code",
   "execution_count": 1,
   "metadata": {
    "collapsed": true
   },
   "outputs": [],
   "source": [
    "import numpy as np\n",
    "import pandas as pd\n",
    "from scipy.spatial import distance\n",
    "from sklearn.cluster import SpectralClustering\n",
    "from sklearn.cluster import KMeans\n",
    "from sklearn.mixture import GaussianMixture\n",
    "from sklearn.metrics import silhouette_samples, silhouette_score\n",
    "import matplotlib.pyplot as plt\n",
    "%matplotlib inline"
   ]
  },
  {
   "cell_type": "code",
   "execution_count": 31,
   "metadata": {
    "collapsed": true
   },
   "outputs": [],
   "source": [
    "df = pd.read_pickle('../data_processeing/Yelp_Cuisine_Japanese.pkl')\n",
    "d = pd.read_pickle('../data_processeing/Yelp_Cuisine_Japanese.pkl')\n",
    "df = df.loc[:,'AcceptsInsurance':'cuisine_Japanese']\n",
    "if_col_keep = 1.0* df.count().sort_values() / len(df) > 0.7\n",
    "col_keep = df.count().sort_values()[if_col_keep]\n",
    "col_prefix = []\n",
    "for c in col_keep.keys().values:\n",
    "    #print c.split('_')[0]\n",
    "    if c == 'cuisine_Chinese':\n",
    "        pass\n",
    "    else:\n",
    "        col_prefix.append(c.split('_')[0])\n",
    "col_prefix = list(set(col_prefix))\n",
    "delete_col = ['HairSpecializesIn']\n",
    "for c in delete_col:\n",
    "    col_prefix.remove(c)\n",
    "len(col_prefix)\n",
    "col_with_prefix = []\n",
    "for c in df.columns[:-1]:\n",
    "    if c.split('_')[0] in col_prefix:\n",
    "        col_with_prefix.append(c)\n",
    "df1 = df.copy()\n",
    "md = df1.join(d.review_count).review_count.median()\n",
    "df1['review_count_greater_median'] = df1.join(d.review_count).review_count > md\n",
    "df_basic = d[[u'categories', u'city', u'hours', u'is_open', u'latitude', u'longitude', u'name', u'neighborhood', u'postal_code', u'review_count', u'stars', u'state']]\n",
    "df_final = df_basic.join(df1[col_with_prefix+['review_count_greater_median','cuisine_Japanese']])"
   ]
  },
  {
   "cell_type": "code",
   "execution_count": 32,
   "metadata": {
    "collapsed": true
   },
   "outputs": [],
   "source": [
    "spatial_label = pd.read_pickle('../data_processeing/spatial_labels.pkl')"
   ]
  },
  {
   "cell_type": "code",
   "execution_count": 33,
   "metadata": {
    "collapsed": true
   },
   "outputs": [],
   "source": [
    "df_new = pd.concat([df_final,spatial_label], axis=1)"
   ]
  },
  {
   "cell_type": "code",
   "execution_count": 35,
   "metadata": {
    "collapsed": false
   },
   "outputs": [],
   "source": [
    "df_select = df_new[(df_new['stars'] >= 4) & (df_new['spatial_label'] == 7) & (df_new['cuisine_Japanese'] == 2)]"
   ]
  },
  {
   "cell_type": "markdown",
   "metadata": {},
   "source": [
    "# Spectual Clustering"
   ]
  },
  {
   "cell_type": "code",
   "execution_count": 36,
   "metadata": {
    "collapsed": true
   },
   "outputs": [],
   "source": [
    "X = df_select.loc[:, 'AgesAllowed': 'review_count_greater_median']\n",
    "X = pd.concat([X, df_select[['stars']]], axis=1)\n",
    "X['stars'] = X['stars'].apply(str)\n",
    "X = pd.get_dummies(X, dummy_na=False, drop_first=True)\n",
    "def true_false(x):\n",
    "    if x == True:\n",
    "        return 1\n",
    "    else:\n",
    "        return 0\n",
    "X['review_count_greater_median'] = X['review_count_greater_median'].apply(true_false)"
   ]
  },
  {
   "cell_type": "code",
   "execution_count": 37,
   "metadata": {
    "collapsed": false
   },
   "outputs": [
    {
     "name": "stdout",
     "output_type": "stream",
     "text": [
      "0.344147842509\n",
      "147\n",
      "15\n",
      "0\n",
      "0\n",
      "0\n",
      "0.287056046631\n",
      "10\n",
      "140\n",
      "12\n",
      "0\n",
      "0\n",
      "0.263604236518\n",
      "140\n",
      "1\n",
      "10\n",
      "11\n",
      "0\n"
     ]
    }
   ],
   "source": [
    "for n_clusters in range(2,5):  \n",
    "    spectural_clustering = SpectralClustering(n_clusters=n_clusters, random_state=100, affinity='sigmoid').fit(X)\n",
    "    labels = spectural_clustering.labels_\n",
    "    print silhouette_score(X, labels, metric='cityblock')\n",
    "    print list(labels).count(0)\n",
    "    print list(labels).count(1)\n",
    "    print list(labels).count(2)\n",
    "    print list(labels).count(3)\n",
    "    print list(labels).count(4)"
   ]
  },
  {
   "cell_type": "code",
   "execution_count": 38,
   "metadata": {
    "collapsed": true
   },
   "outputs": [],
   "source": [
    "spectural_clustering = SpectralClustering(n_clusters=2, random_state=999, affinity='sigmoid').fit(X)\n",
    "labels_spectural = spectural_clustering.labels_"
   ]
  },
  {
   "cell_type": "code",
   "execution_count": 39,
   "metadata": {
    "collapsed": false
   },
   "outputs": [
    {
     "data": {
      "text/plain": [
       "(162, 67)"
      ]
     },
     "execution_count": 39,
     "metadata": {},
     "output_type": "execute_result"
    }
   ],
   "source": [
    "df_select.shape"
   ]
  },
  {
   "cell_type": "markdown",
   "metadata": {},
   "source": [
    "# KMeans"
   ]
  },
  {
   "cell_type": "code",
   "execution_count": 40,
   "metadata": {
    "collapsed": true
   },
   "outputs": [],
   "source": [
    "## function that gets silhouette scores for a clustering method\n",
    "def get_silhouette_score(X, cluster_method, method='complete'):\n",
    "    \n",
    "    #Choose a range(list) of clusters I would like to try:\n",
    "    range_n_clusters = range(2,10)\n",
    "    \n",
    "    if cluster_method == 'kmeans':\n",
    "        for n_clusters in range_n_clusters: \n",
    "            km_result = KMeans(n_clusters=n_clusters, random_state=22).fit(X) # fit model\n",
    "            cluster_labels = km_result.labels_\n",
    "\n",
    "            # clustering model & clustering result to variable \"cluster_labels\". \n",
    "            silhouette_avg = silhouette_score(X, cluster_labels, random_state=22)\n",
    "            print(\"For n_clusters ={},\".format(n_clusters)+\"{} - average silhouette_score :{}\".\\\n",
    "                  format(cluster_method, silhouette_avg))\n",
    "\n",
    "        \n",
    "    elif cluster_method == 'gaussian_mix':\n",
    "        for n_clusters in range_n_clusters: \n",
    "            gm = GaussianMixture(n_components=n_clusters, random_state=22).fit(X) # fit model\n",
    "            cluster_labels = gm.predict(X)\n",
    "\n",
    "            # clustering model & clustering result to variable \"cluster_labels\". \n",
    "            silhouette_avg = silhouette_score(X, cluster_labels, random_state=22)\n",
    "            print(\"For n_clusters ={},\".format(n_clusters)+\"{} - average silhouette_score :{}\".\\\n",
    "                  format(cluster_method, silhouette_avg))\n",
    "        \n",
    "        # res_mix_cluster.predict(X)\n",
    "        \n",
    "    elif cluster_method == 'hierarchical':\n",
    "        # Define Z\n",
    "        Z = linkage(X, method)\n",
    "\n",
    "        for n_clusters in range_n_clusters:   \n",
    "            cluster_labels=  fcluster(Z, n_clusters, criterion='maxclust') \n",
    "\n",
    "            silhouette_avg = silhouette_score(X, cluster_labels, random_state=22)\n",
    "            print(\"For n_clusters ={},\".format(n_clusters)+\"{} - average silhouette_score :{}\".\\\n",
    "                  format(cluster_method, silhouette_avg))"
   ]
  },
  {
   "cell_type": "code",
   "execution_count": 41,
   "metadata": {
    "collapsed": false
   },
   "outputs": [
    {
     "name": "stdout",
     "output_type": "stream",
     "text": [
      "For n_clusters =2,kmeans - average silhouette_score :0.165822998091\n",
      "For n_clusters =3,kmeans - average silhouette_score :0.187805540167\n",
      "For n_clusters =4,kmeans - average silhouette_score :0.166438115101\n",
      "For n_clusters =5,kmeans - average silhouette_score :0.120126963588\n",
      "For n_clusters =6,kmeans - average silhouette_score :0.114257522659\n",
      "For n_clusters =7,kmeans - average silhouette_score :0.120802327111\n",
      "For n_clusters =8,kmeans - average silhouette_score :0.117169200864\n",
      "For n_clusters =9,kmeans - average silhouette_score :0.106731287082\n"
     ]
    }
   ],
   "source": [
    "## choose the number of clusters using silhouette method\n",
    "get_silhouette_score(X, 'kmeans')"
   ]
  },
  {
   "cell_type": "code",
   "execution_count": 43,
   "metadata": {
    "collapsed": false
   },
   "outputs": [
    {
     "name": "stdout",
     "output_type": "stream",
     "text": [
      "47\n",
      "94\n",
      "21\n"
     ]
    }
   ],
   "source": [
    "n_clusters = 3  # number of clusters\n",
    "#XX= X.ix[:, ] # hour of day data\n",
    "\n",
    "#train the model.\n",
    "km=KMeans(n_clusters=n_clusters, random_state=22).fit(X)\n",
    "labels_km = km.labels_\n",
    "\n",
    "print list(labels_km).count(0)\n",
    "print list(labels_km).count(1)\n",
    "print list(labels_km).count(2)"
   ]
  },
  {
   "cell_type": "code",
   "execution_count": 44,
   "metadata": {
    "collapsed": false
   },
   "outputs": [
    {
     "data": {
      "text/html": [
       "<div>\n",
       "<table border=\"1\" class=\"dataframe\">\n",
       "  <thead>\n",
       "    <tr style=\"text-align: right;\">\n",
       "      <th></th>\n",
       "      <th>0</th>\n",
       "      <th>1</th>\n",
       "      <th>2</th>\n",
       "      <th>cluster</th>\n",
       "      <th>score</th>\n",
       "    </tr>\n",
       "  </thead>\n",
       "  <tbody>\n",
       "    <tr>\n",
       "      <th>128</th>\n",
       "      <td>2.963334</td>\n",
       "      <td>3.460277</td>\n",
       "      <td>3.383299</td>\n",
       "      <td>0</td>\n",
       "      <td>2.963334</td>\n",
       "    </tr>\n",
       "    <tr>\n",
       "      <th>146</th>\n",
       "      <td>3.034284</td>\n",
       "      <td>2.949054</td>\n",
       "      <td>2.797796</td>\n",
       "      <td>2</td>\n",
       "      <td>2.797796</td>\n",
       "    </tr>\n",
       "    <tr>\n",
       "      <th>130</th>\n",
       "      <td>2.762682</td>\n",
       "      <td>3.366782</td>\n",
       "      <td>3.355031</td>\n",
       "      <td>0</td>\n",
       "      <td>2.762682</td>\n",
       "    </tr>\n",
       "    <tr>\n",
       "      <th>0</th>\n",
       "      <td>2.567072</td>\n",
       "      <td>2.529634</td>\n",
       "      <td>2.631141</td>\n",
       "      <td>1</td>\n",
       "      <td>2.529634</td>\n",
       "    </tr>\n",
       "    <tr>\n",
       "      <th>6</th>\n",
       "      <td>2.521075</td>\n",
       "      <td>3.048388</td>\n",
       "      <td>3.209962</td>\n",
       "      <td>0</td>\n",
       "      <td>2.521075</td>\n",
       "    </tr>\n",
       "  </tbody>\n",
       "</table>\n",
       "</div>"
      ],
      "text/plain": [
       "            0         1         2  cluster     score\n",
       "128  2.963334  3.460277  3.383299        0  2.963334\n",
       "146  3.034284  2.949054  2.797796        2  2.797796\n",
       "130  2.762682  3.366782  3.355031        0  2.762682\n",
       "0    2.567072  2.529634  2.631141        1  2.529634\n",
       "6    2.521075  3.048388  3.209962        0  2.521075"
      ]
     },
     "execution_count": 44,
     "metadata": {},
     "output_type": "execute_result"
    }
   ],
   "source": [
    "## Distance \n",
    "# KM=KMeans(n_clusters=k,random_state=9)\n",
    "scor=km.fit_predict(X)\n",
    "\n",
    "res_p=pd.DataFrame(km.transform(X))  ## distances of each data point to each cluster center!!!\n",
    "res_p=pd.concat((res_p, pd.DataFrame(km.fit_predict(X))),axis=1)\n",
    "\n",
    "res_p.columns=list(range(n_clusters))+[\"cluster\"]\n",
    "res_p.loc[:,\"score\"]=res_p.apply(lambda x: x[int(x[\"cluster\"])],axis=1)\n",
    "res_p.sort_values(\"score\",ascending=False)[:5]"
   ]
  },
  {
   "cell_type": "code",
   "execution_count": 45,
   "metadata": {
    "collapsed": true
   },
   "outputs": [],
   "source": [
    "X_df = X.copy()"
   ]
  },
  {
   "cell_type": "code",
   "execution_count": 46,
   "metadata": {
    "collapsed": true
   },
   "outputs": [],
   "source": [
    "X_df['km'] = labels_km"
   ]
  },
  {
   "cell_type": "code",
   "execution_count": 47,
   "metadata": {
    "collapsed": false
   },
   "outputs": [],
   "source": [
    "X_df['distance_KM'] = res_p.score.values"
   ]
  },
  {
   "cell_type": "code",
   "execution_count": 48,
   "metadata": {
    "collapsed": true
   },
   "outputs": [],
   "source": [
    "## Get Anomalies\n",
    "def get_anomaly(df, label_col, dist_or_likelihood, thres):\n",
    "    \n",
    "    df_anomalies = pd.DataFrame(columns=df.columns)\n",
    "    \n",
    "    clustermean = df.groupby(label_col)[dist_or_likelihood].mean()\n",
    "    clusterstd = df.groupby(label_col)[dist_or_likelihood].std()\n",
    "    \n",
    "    for label in df[label_col].unique():\n",
    "        anomaly = df[(df[label_col]==label) \\\n",
    "               & (abs(df[dist_or_likelihood] - clustermean[label]) / clusterstd[label] > thres)]\n",
    "        \n",
    "        df_anomalies = pd.concat([df_anomalies, anomaly], axis=0)\n",
    "    \n",
    "    return df_anomalies"
   ]
  },
  {
   "cell_type": "code",
   "execution_count": 49,
   "metadata": {
    "collapsed": false
   },
   "outputs": [],
   "source": [
    "## get anomalies based on kmeans distance\n",
    "km_anomalies = get_anomaly(X_df, 'km', 'distance_KM', 2)"
   ]
  },
  {
   "cell_type": "code",
   "execution_count": 50,
   "metadata": {
    "collapsed": false
   },
   "outputs": [
    {
     "data": {
      "text/plain": [
       "GFlbBbpmC830wrIR6k5bIQ    2.529634\n",
       "Uxm9N6jwmJybOv1NcBbnRw    2.373414\n",
       "grlL6zmHBOer9rPycsRhBA    2.512756\n",
       "aYyj9OdH059CoEXadmldXA    2.797796\n",
       "IhYo9Szx_gPDfNOcz5-8DQ    2.963334\n",
       "mO786Fl-KJV82FrW00RzBw    2.762682\n",
       "Name: distance_KM, dtype: float64"
      ]
     },
     "execution_count": 50,
     "metadata": {},
     "output_type": "execute_result"
    }
   ],
   "source": [
    "km_anomalies['distance_KM']"
   ]
  },
  {
   "cell_type": "code",
   "execution_count": null,
   "metadata": {
    "collapsed": true
   },
   "outputs": [],
   "source": []
  },
  {
   "cell_type": "code",
   "execution_count": null,
   "metadata": {
    "collapsed": true
   },
   "outputs": [],
   "source": []
  },
  {
   "cell_type": "markdown",
   "metadata": {},
   "source": [
    "# Gaussian Mixture"
   ]
  },
  {
   "cell_type": "code",
   "execution_count": 51,
   "metadata": {
    "collapsed": false
   },
   "outputs": [
    {
     "name": "stdout",
     "output_type": "stream",
     "text": [
      "For n_clusters =2,gaussian_mix - average silhouette_score :0.0903079188504\n",
      "For n_clusters =3,gaussian_mix - average silhouette_score :0.0823246172313\n",
      "For n_clusters =4,gaussian_mix - average silhouette_score :0.109228035479\n",
      "For n_clusters =5,gaussian_mix - average silhouette_score :0.0916121753279\n",
      "For n_clusters =6,gaussian_mix - average silhouette_score :0.104909665675\n",
      "For n_clusters =7,gaussian_mix - average silhouette_score :0.0959469346231\n",
      "For n_clusters =8,gaussian_mix - average silhouette_score :0.0820634365561\n",
      "For n_clusters =9,gaussian_mix - average silhouette_score :0.0760367905315\n"
     ]
    }
   ],
   "source": [
    "##### Gaussian Mixture #########\n",
    "\n",
    "## choose the number of clusters using silhouette method\n",
    "get_silhouette_score(X, 'gaussian_mix')"
   ]
  },
  {
   "cell_type": "code",
   "execution_count": 52,
   "metadata": {
    "collapsed": false
   },
   "outputs": [],
   "source": [
    "k = 4\n",
    "GM=GaussianMixture(n_components=k,random_state=22)\n",
    "GM.fit(X)\n",
    "\n",
    "label_gm = GM.predict(X)"
   ]
  },
  {
   "cell_type": "code",
   "execution_count": 53,
   "metadata": {
    "collapsed": false
   },
   "outputs": [
    {
     "name": "stdout",
     "output_type": "stream",
     "text": [
      "47\n",
      "16\n",
      "32\n",
      "67\n",
      "0\n"
     ]
    }
   ],
   "source": [
    "print list(label_gm).count(0)\n",
    "print list(label_gm).count(1)\n",
    "print list(label_gm).count(2)\n",
    "print list(label_gm).count(3)\n",
    "print list(label_gm).count(4)"
   ]
  },
  {
   "cell_type": "markdown",
   "metadata": {},
   "source": [
    "# Isolation Forest"
   ]
  },
  {
   "cell_type": "code",
   "execution_count": 54,
   "metadata": {
    "collapsed": true
   },
   "outputs": [],
   "source": [
    "### 3) Isolation Foreset\n",
    "from sklearn.ensemble import IsolationForest\n",
    "\n",
    "# fit the model\n",
    "ISF = IsolationForest(max_samples=100, random_state=22)\n",
    "ISF.fit(X)\n",
    "\n",
    "## compute anomaly score of the input. The lower, the more abnormal.\n",
    "score_isf = ISF.decision_function(X)"
   ]
  },
  {
   "cell_type": "code",
   "execution_count": 55,
   "metadata": {
    "collapsed": false
   },
   "outputs": [
    {
     "data": {
      "text/plain": [
       "112"
      ]
     },
     "execution_count": 55,
     "metadata": {},
     "output_type": "execute_result"
    }
   ],
   "source": [
    "score_isf.argmin()"
   ]
  },
  {
   "cell_type": "markdown",
   "metadata": {},
   "source": [
    "# KNN Distance"
   ]
  },
  {
   "cell_type": "code",
   "execution_count": 56,
   "metadata": {
    "collapsed": true
   },
   "outputs": [],
   "source": [
    "def dist2knn(x, nn, k):\n",
    "    dist_ = []\n",
    "    for i in range(len(nn)):\n",
    "        dist_.append(distance.euclidean(x, nn.iloc[i,:]))\n",
    "    dist_.sort()\n",
    "    return sum(dist_[:k+1]) # +1: remove 0 self"
   ]
  },
  {
   "cell_type": "code",
   "execution_count": 57,
   "metadata": {
    "collapsed": false
   },
   "outputs": [
    {
     "name": "stdout",
     "output_type": "stream",
     "text": [
      "100.0%\n"
     ]
    }
   ],
   "source": [
    "dist_sum_knn = []\n",
    "for i in range(len(X)):\n",
    "    print '\\r{}%'.format(100.0*(i+1)/len(X)),\n",
    "    dist_sum_knn.append(dist2knn(X.iloc[i,:], X, 5))"
   ]
  },
  {
   "cell_type": "code",
   "execution_count": null,
   "metadata": {
    "collapsed": true
   },
   "outputs": [],
   "source": []
  },
  {
   "cell_type": "markdown",
   "metadata": {},
   "source": [
    "# Output"
   ]
  },
  {
   "cell_type": "code",
   "execution_count": 58,
   "metadata": {
    "collapsed": true
   },
   "outputs": [],
   "source": [
    "result = pd.DataFrame(index=X.index)"
   ]
  },
  {
   "cell_type": "code",
   "execution_count": 59,
   "metadata": {
    "collapsed": false
   },
   "outputs": [],
   "source": [
    "result['clusters_sp'] = labels_spectural\n",
    "result['clusters_km'] = labels_km\n",
    "result['distance_km'] = km_anomalies['distance_KM']\n",
    "result['clusters_gm'] = label_gm\n",
    "result['scores_isf'] = score_isf\n",
    "result['distance_knn'] = dist_sum_knn"
   ]
  },
  {
   "cell_type": "code",
   "execution_count": 60,
   "metadata": {
    "collapsed": false
   },
   "outputs": [
    {
     "data": {
      "text/html": [
       "<div>\n",
       "<table border=\"1\" class=\"dataframe\">\n",
       "  <thead>\n",
       "    <tr style=\"text-align: right;\">\n",
       "      <th></th>\n",
       "      <th>clusters_sp</th>\n",
       "      <th>clusters_km</th>\n",
       "      <th>distance_km</th>\n",
       "      <th>clusters_gm</th>\n",
       "      <th>scores_isf</th>\n",
       "      <th>distance_knn</th>\n",
       "    </tr>\n",
       "  </thead>\n",
       "  <tbody>\n",
       "    <tr>\n",
       "      <th>GFlbBbpmC830wrIR6k5bIQ</th>\n",
       "      <td>0</td>\n",
       "      <td>1</td>\n",
       "      <td>2.529634</td>\n",
       "      <td>2</td>\n",
       "      <td>0.030464</td>\n",
       "      <td>10.889744</td>\n",
       "    </tr>\n",
       "    <tr>\n",
       "      <th>4k3RlMAMd46DZ_JyZU0lMg</th>\n",
       "      <td>0</td>\n",
       "      <td>1</td>\n",
       "      <td>NaN</td>\n",
       "      <td>3</td>\n",
       "      <td>0.129966</td>\n",
       "      <td>5.828427</td>\n",
       "    </tr>\n",
       "    <tr>\n",
       "      <th>3GfdCuI0YCc5U3rLLLPHUw</th>\n",
       "      <td>0</td>\n",
       "      <td>1</td>\n",
       "      <td>NaN</td>\n",
       "      <td>3</td>\n",
       "      <td>0.076589</td>\n",
       "      <td>10.000000</td>\n",
       "    </tr>\n",
       "    <tr>\n",
       "      <th>HGitzBs7x_fUvdTtrTacXg</th>\n",
       "      <td>1</td>\n",
       "      <td>2</td>\n",
       "      <td>NaN</td>\n",
       "      <td>1</td>\n",
       "      <td>-0.027590</td>\n",
       "      <td>8.382332</td>\n",
       "    </tr>\n",
       "    <tr>\n",
       "      <th>6tSvz_21BMo3a4GaItwa0g</th>\n",
       "      <td>0</td>\n",
       "      <td>1</td>\n",
       "      <td>NaN</td>\n",
       "      <td>3</td>\n",
       "      <td>0.123768</td>\n",
       "      <td>5.828427</td>\n",
       "    </tr>\n",
       "    <tr>\n",
       "      <th>WSGHEQdcdbBWXDpna99EiQ</th>\n",
       "      <td>0</td>\n",
       "      <td>0</td>\n",
       "      <td>NaN</td>\n",
       "      <td>0</td>\n",
       "      <td>0.087490</td>\n",
       "      <td>7.928203</td>\n",
       "    </tr>\n",
       "    <tr>\n",
       "      <th>wpnLPAnkMEb1NpC3xiD_qg</th>\n",
       "      <td>1</td>\n",
       "      <td>0</td>\n",
       "      <td>NaN</td>\n",
       "      <td>0</td>\n",
       "      <td>-0.039625</td>\n",
       "      <td>13.032495</td>\n",
       "    </tr>\n",
       "    <tr>\n",
       "      <th>Lq9rYrwvWV5QDBYzq7MGHQ</th>\n",
       "      <td>0</td>\n",
       "      <td>1</td>\n",
       "      <td>NaN</td>\n",
       "      <td>2</td>\n",
       "      <td>0.119516</td>\n",
       "      <td>5.414214</td>\n",
       "    </tr>\n",
       "    <tr>\n",
       "      <th>7mMxJjeZqnN_nOhWhyU-Vg</th>\n",
       "      <td>0</td>\n",
       "      <td>0</td>\n",
       "      <td>NaN</td>\n",
       "      <td>0</td>\n",
       "      <td>0.018746</td>\n",
       "      <td>11.607183</td>\n",
       "    </tr>\n",
       "    <tr>\n",
       "      <th>TtqvXhjmXXd0nhibRAbpRg</th>\n",
       "      <td>0</td>\n",
       "      <td>1</td>\n",
       "      <td>NaN</td>\n",
       "      <td>3</td>\n",
       "      <td>0.111167</td>\n",
       "      <td>7.071068</td>\n",
       "    </tr>\n",
       "    <tr>\n",
       "      <th>YkOCo5ipV2he2WXIAlZb-A</th>\n",
       "      <td>0</td>\n",
       "      <td>0</td>\n",
       "      <td>NaN</td>\n",
       "      <td>0</td>\n",
       "      <td>0.067458</td>\n",
       "      <td>7.706742</td>\n",
       "    </tr>\n",
       "    <tr>\n",
       "      <th>EvxTD0ETbbFbFjUMWhHbIw</th>\n",
       "      <td>0</td>\n",
       "      <td>0</td>\n",
       "      <td>NaN</td>\n",
       "      <td>0</td>\n",
       "      <td>0.036402</td>\n",
       "      <td>10.708204</td>\n",
       "    </tr>\n",
       "    <tr>\n",
       "      <th>Uxm9N6jwmJybOv1NcBbnRw</th>\n",
       "      <td>0</td>\n",
       "      <td>1</td>\n",
       "      <td>2.373414</td>\n",
       "      <td>3</td>\n",
       "      <td>0.033663</td>\n",
       "      <td>12.034027</td>\n",
       "    </tr>\n",
       "    <tr>\n",
       "      <th>R9gRb3T8t-eIKlOtMPShuA</th>\n",
       "      <td>0</td>\n",
       "      <td>1</td>\n",
       "      <td>NaN</td>\n",
       "      <td>3</td>\n",
       "      <td>0.142077</td>\n",
       "      <td>4.000000</td>\n",
       "    </tr>\n",
       "    <tr>\n",
       "      <th>REXvfvEMPKbcLBD33y6fjA</th>\n",
       "      <td>0</td>\n",
       "      <td>1</td>\n",
       "      <td>NaN</td>\n",
       "      <td>2</td>\n",
       "      <td>0.111728</td>\n",
       "      <td>6.656854</td>\n",
       "    </tr>\n",
       "    <tr>\n",
       "      <th>7ibuDLfx8gEhESAufYIySw</th>\n",
       "      <td>0</td>\n",
       "      <td>1</td>\n",
       "      <td>NaN</td>\n",
       "      <td>3</td>\n",
       "      <td>0.148051</td>\n",
       "      <td>4.000000</td>\n",
       "    </tr>\n",
       "    <tr>\n",
       "      <th>W8apgXmOxESpoL_EeogC5w</th>\n",
       "      <td>0</td>\n",
       "      <td>1</td>\n",
       "      <td>NaN</td>\n",
       "      <td>3</td>\n",
       "      <td>0.142077</td>\n",
       "      <td>4.000000</td>\n",
       "    </tr>\n",
       "    <tr>\n",
       "      <th>5yZ1XmDcOEsElDeb9PlPDQ</th>\n",
       "      <td>0</td>\n",
       "      <td>1</td>\n",
       "      <td>NaN</td>\n",
       "      <td>3</td>\n",
       "      <td>0.116565</td>\n",
       "      <td>6.242641</td>\n",
       "    </tr>\n",
       "    <tr>\n",
       "      <th>sYfHxCqHpIX2HnDhw0JRAA</th>\n",
       "      <td>0</td>\n",
       "      <td>1</td>\n",
       "      <td>NaN</td>\n",
       "      <td>2</td>\n",
       "      <td>0.131637</td>\n",
       "      <td>4.828427</td>\n",
       "    </tr>\n",
       "    <tr>\n",
       "      <th>BEtgRzNeXGAf0uQ-HuSyfA</th>\n",
       "      <td>0</td>\n",
       "      <td>0</td>\n",
       "      <td>NaN</td>\n",
       "      <td>0</td>\n",
       "      <td>0.063565</td>\n",
       "      <td>9.732051</td>\n",
       "    </tr>\n",
       "    <tr>\n",
       "      <th>agGJSdMTRrkA6VrYMbC-SQ</th>\n",
       "      <td>0</td>\n",
       "      <td>1</td>\n",
       "      <td>NaN</td>\n",
       "      <td>3</td>\n",
       "      <td>0.132777</td>\n",
       "      <td>6.242641</td>\n",
       "    </tr>\n",
       "    <tr>\n",
       "      <th>M-SS_Kr0zlC7v8kBSRa74g</th>\n",
       "      <td>0</td>\n",
       "      <td>1</td>\n",
       "      <td>NaN</td>\n",
       "      <td>3</td>\n",
       "      <td>0.123886</td>\n",
       "      <td>6.656854</td>\n",
       "    </tr>\n",
       "    <tr>\n",
       "      <th>2PS9kBbuJcmBhcNp-D62uA</th>\n",
       "      <td>0</td>\n",
       "      <td>0</td>\n",
       "      <td>NaN</td>\n",
       "      <td>0</td>\n",
       "      <td>0.065227</td>\n",
       "      <td>9.196152</td>\n",
       "    </tr>\n",
       "    <tr>\n",
       "      <th>BcW7Z9lPmOB_8eS2lEuOqQ</th>\n",
       "      <td>0</td>\n",
       "      <td>1</td>\n",
       "      <td>NaN</td>\n",
       "      <td>2</td>\n",
       "      <td>0.111421</td>\n",
       "      <td>7.071068</td>\n",
       "    </tr>\n",
       "    <tr>\n",
       "      <th>ZAuAwz1ijuydn5yL3q3rzA</th>\n",
       "      <td>0</td>\n",
       "      <td>1</td>\n",
       "      <td>NaN</td>\n",
       "      <td>3</td>\n",
       "      <td>0.120212</td>\n",
       "      <td>6.656854</td>\n",
       "    </tr>\n",
       "    <tr>\n",
       "      <th>w6zW6gIyg1sI5V6Wag_SYg</th>\n",
       "      <td>0</td>\n",
       "      <td>1</td>\n",
       "      <td>NaN</td>\n",
       "      <td>3</td>\n",
       "      <td>0.075405</td>\n",
       "      <td>8.196152</td>\n",
       "    </tr>\n",
       "    <tr>\n",
       "      <th>B_WggEKFq-ZFNui8CHPYvA</th>\n",
       "      <td>0</td>\n",
       "      <td>0</td>\n",
       "      <td>NaN</td>\n",
       "      <td>0</td>\n",
       "      <td>0.091803</td>\n",
       "      <td>6.974691</td>\n",
       "    </tr>\n",
       "    <tr>\n",
       "      <th>6H8xfhoZ2IGa3eNiY5FqLA</th>\n",
       "      <td>0</td>\n",
       "      <td>1</td>\n",
       "      <td>NaN</td>\n",
       "      <td>2</td>\n",
       "      <td>0.132884</td>\n",
       "      <td>7.071068</td>\n",
       "    </tr>\n",
       "    <tr>\n",
       "      <th>RrCgc8eAKbHu-2IpQXg6Rw</th>\n",
       "      <td>0</td>\n",
       "      <td>1</td>\n",
       "      <td>NaN</td>\n",
       "      <td>3</td>\n",
       "      <td>0.130651</td>\n",
       "      <td>6.242641</td>\n",
       "    </tr>\n",
       "    <tr>\n",
       "      <th>364hhL5st0LV16UcBHRJ3A</th>\n",
       "      <td>0</td>\n",
       "      <td>1</td>\n",
       "      <td>NaN</td>\n",
       "      <td>2</td>\n",
       "      <td>0.066015</td>\n",
       "      <td>9.968119</td>\n",
       "    </tr>\n",
       "    <tr>\n",
       "      <th>...</th>\n",
       "      <td>...</td>\n",
       "      <td>...</td>\n",
       "      <td>...</td>\n",
       "      <td>...</td>\n",
       "      <td>...</td>\n",
       "      <td>...</td>\n",
       "    </tr>\n",
       "    <tr>\n",
       "      <th>7vHvQCjPq5pWj7Rio1A--w</th>\n",
       "      <td>0</td>\n",
       "      <td>1</td>\n",
       "      <td>NaN</td>\n",
       "      <td>3</td>\n",
       "      <td>0.159102</td>\n",
       "      <td>2.000000</td>\n",
       "    </tr>\n",
       "    <tr>\n",
       "      <th>O3OH5IEFMPtz7mPKakPZ3Q</th>\n",
       "      <td>0</td>\n",
       "      <td>1</td>\n",
       "      <td>NaN</td>\n",
       "      <td>3</td>\n",
       "      <td>0.033584</td>\n",
       "      <td>9.146264</td>\n",
       "    </tr>\n",
       "    <tr>\n",
       "      <th>wWuGa3OOQJro_XGe-GKBXA</th>\n",
       "      <td>0</td>\n",
       "      <td>2</td>\n",
       "      <td>NaN</td>\n",
       "      <td>2</td>\n",
       "      <td>-0.016156</td>\n",
       "      <td>10.569419</td>\n",
       "    </tr>\n",
       "    <tr>\n",
       "      <th>xM37qm9Wbc-hOAS7-Xse7g</th>\n",
       "      <td>0</td>\n",
       "      <td>1</td>\n",
       "      <td>NaN</td>\n",
       "      <td>3</td>\n",
       "      <td>0.098812</td>\n",
       "      <td>7.071068</td>\n",
       "    </tr>\n",
       "    <tr>\n",
       "      <th>-DnaKAs2oK3rXfrjSvn9ew</th>\n",
       "      <td>0</td>\n",
       "      <td>0</td>\n",
       "      <td>NaN</td>\n",
       "      <td>0</td>\n",
       "      <td>0.055171</td>\n",
       "      <td>9.464102</td>\n",
       "    </tr>\n",
       "    <tr>\n",
       "      <th>7wHLFohwCw8l6WS-feLjeg</th>\n",
       "      <td>0</td>\n",
       "      <td>1</td>\n",
       "      <td>NaN</td>\n",
       "      <td>2</td>\n",
       "      <td>0.028417</td>\n",
       "      <td>10.944272</td>\n",
       "    </tr>\n",
       "    <tr>\n",
       "      <th>xR7t4xCYRYEe1RjpYjBbkw</th>\n",
       "      <td>0</td>\n",
       "      <td>1</td>\n",
       "      <td>NaN</td>\n",
       "      <td>2</td>\n",
       "      <td>0.093311</td>\n",
       "      <td>8.024580</td>\n",
       "    </tr>\n",
       "    <tr>\n",
       "      <th>Cy8XYYDrZ5wd3Bq-toXMsg</th>\n",
       "      <td>0</td>\n",
       "      <td>1</td>\n",
       "      <td>NaN</td>\n",
       "      <td>2</td>\n",
       "      <td>0.049642</td>\n",
       "      <td>9.700170</td>\n",
       "    </tr>\n",
       "    <tr>\n",
       "      <th>BjrKNWhtQkedHw8hP_0Bjg</th>\n",
       "      <td>1</td>\n",
       "      <td>0</td>\n",
       "      <td>NaN</td>\n",
       "      <td>0</td>\n",
       "      <td>0.020568</td>\n",
       "      <td>9.032614</td>\n",
       "    </tr>\n",
       "    <tr>\n",
       "      <th>Jx1q_S8-T4RXuhf7P_ZuIQ</th>\n",
       "      <td>0</td>\n",
       "      <td>2</td>\n",
       "      <td>NaN</td>\n",
       "      <td>1</td>\n",
       "      <td>-0.040684</td>\n",
       "      <td>13.201585</td>\n",
       "    </tr>\n",
       "    <tr>\n",
       "      <th>eJPckkV1k7gn0V2awA1pzA</th>\n",
       "      <td>0</td>\n",
       "      <td>0</td>\n",
       "      <td>NaN</td>\n",
       "      <td>0</td>\n",
       "      <td>0.066463</td>\n",
       "      <td>8.342417</td>\n",
       "    </tr>\n",
       "    <tr>\n",
       "      <th>lmxA0dJM0XsPCIHPXhEQ-g</th>\n",
       "      <td>1</td>\n",
       "      <td>2</td>\n",
       "      <td>NaN</td>\n",
       "      <td>1</td>\n",
       "      <td>-0.024451</td>\n",
       "      <td>12.213128</td>\n",
       "    </tr>\n",
       "    <tr>\n",
       "      <th>ugGqbJFuVs4pEyrvDS1TYQ</th>\n",
       "      <td>0</td>\n",
       "      <td>1</td>\n",
       "      <td>NaN</td>\n",
       "      <td>2</td>\n",
       "      <td>0.058785</td>\n",
       "      <td>9.464102</td>\n",
       "    </tr>\n",
       "    <tr>\n",
       "      <th>burnDlH36FSphvf4vQf10w</th>\n",
       "      <td>0</td>\n",
       "      <td>1</td>\n",
       "      <td>NaN</td>\n",
       "      <td>3</td>\n",
       "      <td>0.087831</td>\n",
       "      <td>6.974691</td>\n",
       "    </tr>\n",
       "    <tr>\n",
       "      <th>aYyj9OdH059CoEXadmldXA</th>\n",
       "      <td>0</td>\n",
       "      <td>2</td>\n",
       "      <td>2.797796</td>\n",
       "      <td>3</td>\n",
       "      <td>-0.039172</td>\n",
       "      <td>14.142136</td>\n",
       "    </tr>\n",
       "    <tr>\n",
       "      <th>yU34swtpTS8-SMjeLIEFcQ</th>\n",
       "      <td>0</td>\n",
       "      <td>0</td>\n",
       "      <td>NaN</td>\n",
       "      <td>0</td>\n",
       "      <td>0.094301</td>\n",
       "      <td>7.706742</td>\n",
       "    </tr>\n",
       "    <tr>\n",
       "      <th>1nF8Me63cpxIkFK8Ysx-DA</th>\n",
       "      <td>0</td>\n",
       "      <td>1</td>\n",
       "      <td>NaN</td>\n",
       "      <td>3</td>\n",
       "      <td>0.094009</td>\n",
       "      <td>7.388905</td>\n",
       "    </tr>\n",
       "    <tr>\n",
       "      <th>FPAOrUsP7GuIyqmK9UoPUQ</th>\n",
       "      <td>0</td>\n",
       "      <td>0</td>\n",
       "      <td>NaN</td>\n",
       "      <td>0</td>\n",
       "      <td>0.056114</td>\n",
       "      <td>9.414214</td>\n",
       "    </tr>\n",
       "    <tr>\n",
       "      <th>XKo3y41cF6euqS7I6AX_1Q</th>\n",
       "      <td>0</td>\n",
       "      <td>0</td>\n",
       "      <td>NaN</td>\n",
       "      <td>0</td>\n",
       "      <td>0.041340</td>\n",
       "      <td>10.440255</td>\n",
       "    </tr>\n",
       "    <tr>\n",
       "      <th>NTtLuuBKpywlyIz6oyd9kg</th>\n",
       "      <td>0</td>\n",
       "      <td>1</td>\n",
       "      <td>NaN</td>\n",
       "      <td>3</td>\n",
       "      <td>0.081663</td>\n",
       "      <td>8.928203</td>\n",
       "    </tr>\n",
       "    <tr>\n",
       "      <th>0xvdC8F0HmFpAFkJk6nXLg</th>\n",
       "      <td>0</td>\n",
       "      <td>1</td>\n",
       "      <td>NaN</td>\n",
       "      <td>3</td>\n",
       "      <td>0.086183</td>\n",
       "      <td>8.660254</td>\n",
       "    </tr>\n",
       "    <tr>\n",
       "      <th>D6K3VT6S8FwFm4u5uN8T8g</th>\n",
       "      <td>0</td>\n",
       "      <td>1</td>\n",
       "      <td>NaN</td>\n",
       "      <td>3</td>\n",
       "      <td>0.121443</td>\n",
       "      <td>6.242641</td>\n",
       "    </tr>\n",
       "    <tr>\n",
       "      <th>H1NqpoM2hT_A6M98PSrZvw</th>\n",
       "      <td>0</td>\n",
       "      <td>0</td>\n",
       "      <td>NaN</td>\n",
       "      <td>0</td>\n",
       "      <td>0.051091</td>\n",
       "      <td>9.464102</td>\n",
       "    </tr>\n",
       "    <tr>\n",
       "      <th>Vs7gc9EE3k9wARuUcN9piA</th>\n",
       "      <td>0</td>\n",
       "      <td>1</td>\n",
       "      <td>NaN</td>\n",
       "      <td>3</td>\n",
       "      <td>0.128016</td>\n",
       "      <td>5.656854</td>\n",
       "    </tr>\n",
       "    <tr>\n",
       "      <th>gx2yPrOJSwF1ApJYdGBWIw</th>\n",
       "      <td>0</td>\n",
       "      <td>1</td>\n",
       "      <td>NaN</td>\n",
       "      <td>3</td>\n",
       "      <td>0.120752</td>\n",
       "      <td>6.242641</td>\n",
       "    </tr>\n",
       "    <tr>\n",
       "      <th>NIOwzgujIXKVBEVNTQBXpg</th>\n",
       "      <td>0</td>\n",
       "      <td>1</td>\n",
       "      <td>NaN</td>\n",
       "      <td>2</td>\n",
       "      <td>0.038692</td>\n",
       "      <td>9.414214</td>\n",
       "    </tr>\n",
       "    <tr>\n",
       "      <th>z_46RY-L3vcMrH3-wxCp9w</th>\n",
       "      <td>0</td>\n",
       "      <td>0</td>\n",
       "      <td>NaN</td>\n",
       "      <td>0</td>\n",
       "      <td>-0.001332</td>\n",
       "      <td>11.820605</td>\n",
       "    </tr>\n",
       "    <tr>\n",
       "      <th>3xykzfVY2PbdjKCRDLdzTQ</th>\n",
       "      <td>0</td>\n",
       "      <td>1</td>\n",
       "      <td>NaN</td>\n",
       "      <td>2</td>\n",
       "      <td>0.131637</td>\n",
       "      <td>4.828427</td>\n",
       "    </tr>\n",
       "    <tr>\n",
       "      <th>nrahyQyopCtajDqUtVVVfA</th>\n",
       "      <td>0</td>\n",
       "      <td>1</td>\n",
       "      <td>NaN</td>\n",
       "      <td>3</td>\n",
       "      <td>0.159102</td>\n",
       "      <td>2.000000</td>\n",
       "    </tr>\n",
       "    <tr>\n",
       "      <th>DIxgItsSI9QwX9H8lVptYg</th>\n",
       "      <td>0</td>\n",
       "      <td>0</td>\n",
       "      <td>NaN</td>\n",
       "      <td>0</td>\n",
       "      <td>0.032490</td>\n",
       "      <td>10.204187</td>\n",
       "    </tr>\n",
       "  </tbody>\n",
       "</table>\n",
       "<p>162 rows × 6 columns</p>\n",
       "</div>"
      ],
      "text/plain": [
       "                        clusters_sp  clusters_km  distance_km  clusters_gm  \\\n",
       "GFlbBbpmC830wrIR6k5bIQ            0            1     2.529634            2   \n",
       "4k3RlMAMd46DZ_JyZU0lMg            0            1          NaN            3   \n",
       "3GfdCuI0YCc5U3rLLLPHUw            0            1          NaN            3   \n",
       "HGitzBs7x_fUvdTtrTacXg            1            2          NaN            1   \n",
       "6tSvz_21BMo3a4GaItwa0g            0            1          NaN            3   \n",
       "WSGHEQdcdbBWXDpna99EiQ            0            0          NaN            0   \n",
       "wpnLPAnkMEb1NpC3xiD_qg            1            0          NaN            0   \n",
       "Lq9rYrwvWV5QDBYzq7MGHQ            0            1          NaN            2   \n",
       "7mMxJjeZqnN_nOhWhyU-Vg            0            0          NaN            0   \n",
       "TtqvXhjmXXd0nhibRAbpRg            0            1          NaN            3   \n",
       "YkOCo5ipV2he2WXIAlZb-A            0            0          NaN            0   \n",
       "EvxTD0ETbbFbFjUMWhHbIw            0            0          NaN            0   \n",
       "Uxm9N6jwmJybOv1NcBbnRw            0            1     2.373414            3   \n",
       "R9gRb3T8t-eIKlOtMPShuA            0            1          NaN            3   \n",
       "REXvfvEMPKbcLBD33y6fjA            0            1          NaN            2   \n",
       "7ibuDLfx8gEhESAufYIySw            0            1          NaN            3   \n",
       "W8apgXmOxESpoL_EeogC5w            0            1          NaN            3   \n",
       "5yZ1XmDcOEsElDeb9PlPDQ            0            1          NaN            3   \n",
       "sYfHxCqHpIX2HnDhw0JRAA            0            1          NaN            2   \n",
       "BEtgRzNeXGAf0uQ-HuSyfA            0            0          NaN            0   \n",
       "agGJSdMTRrkA6VrYMbC-SQ            0            1          NaN            3   \n",
       "M-SS_Kr0zlC7v8kBSRa74g            0            1          NaN            3   \n",
       "2PS9kBbuJcmBhcNp-D62uA            0            0          NaN            0   \n",
       "BcW7Z9lPmOB_8eS2lEuOqQ            0            1          NaN            2   \n",
       "ZAuAwz1ijuydn5yL3q3rzA            0            1          NaN            3   \n",
       "w6zW6gIyg1sI5V6Wag_SYg            0            1          NaN            3   \n",
       "B_WggEKFq-ZFNui8CHPYvA            0            0          NaN            0   \n",
       "6H8xfhoZ2IGa3eNiY5FqLA            0            1          NaN            2   \n",
       "RrCgc8eAKbHu-2IpQXg6Rw            0            1          NaN            3   \n",
       "364hhL5st0LV16UcBHRJ3A            0            1          NaN            2   \n",
       "...                             ...          ...          ...          ...   \n",
       "7vHvQCjPq5pWj7Rio1A--w            0            1          NaN            3   \n",
       "O3OH5IEFMPtz7mPKakPZ3Q            0            1          NaN            3   \n",
       "wWuGa3OOQJro_XGe-GKBXA            0            2          NaN            2   \n",
       "xM37qm9Wbc-hOAS7-Xse7g            0            1          NaN            3   \n",
       "-DnaKAs2oK3rXfrjSvn9ew            0            0          NaN            0   \n",
       "7wHLFohwCw8l6WS-feLjeg            0            1          NaN            2   \n",
       "xR7t4xCYRYEe1RjpYjBbkw            0            1          NaN            2   \n",
       "Cy8XYYDrZ5wd3Bq-toXMsg            0            1          NaN            2   \n",
       "BjrKNWhtQkedHw8hP_0Bjg            1            0          NaN            0   \n",
       "Jx1q_S8-T4RXuhf7P_ZuIQ            0            2          NaN            1   \n",
       "eJPckkV1k7gn0V2awA1pzA            0            0          NaN            0   \n",
       "lmxA0dJM0XsPCIHPXhEQ-g            1            2          NaN            1   \n",
       "ugGqbJFuVs4pEyrvDS1TYQ            0            1          NaN            2   \n",
       "burnDlH36FSphvf4vQf10w            0            1          NaN            3   \n",
       "aYyj9OdH059CoEXadmldXA            0            2     2.797796            3   \n",
       "yU34swtpTS8-SMjeLIEFcQ            0            0          NaN            0   \n",
       "1nF8Me63cpxIkFK8Ysx-DA            0            1          NaN            3   \n",
       "FPAOrUsP7GuIyqmK9UoPUQ            0            0          NaN            0   \n",
       "XKo3y41cF6euqS7I6AX_1Q            0            0          NaN            0   \n",
       "NTtLuuBKpywlyIz6oyd9kg            0            1          NaN            3   \n",
       "0xvdC8F0HmFpAFkJk6nXLg            0            1          NaN            3   \n",
       "D6K3VT6S8FwFm4u5uN8T8g            0            1          NaN            3   \n",
       "H1NqpoM2hT_A6M98PSrZvw            0            0          NaN            0   \n",
       "Vs7gc9EE3k9wARuUcN9piA            0            1          NaN            3   \n",
       "gx2yPrOJSwF1ApJYdGBWIw            0            1          NaN            3   \n",
       "NIOwzgujIXKVBEVNTQBXpg            0            1          NaN            2   \n",
       "z_46RY-L3vcMrH3-wxCp9w            0            0          NaN            0   \n",
       "3xykzfVY2PbdjKCRDLdzTQ            0            1          NaN            2   \n",
       "nrahyQyopCtajDqUtVVVfA            0            1          NaN            3   \n",
       "DIxgItsSI9QwX9H8lVptYg            0            0          NaN            0   \n",
       "\n",
       "                        scores_isf  distance_knn  \n",
       "GFlbBbpmC830wrIR6k5bIQ    0.030464     10.889744  \n",
       "4k3RlMAMd46DZ_JyZU0lMg    0.129966      5.828427  \n",
       "3GfdCuI0YCc5U3rLLLPHUw    0.076589     10.000000  \n",
       "HGitzBs7x_fUvdTtrTacXg   -0.027590      8.382332  \n",
       "6tSvz_21BMo3a4GaItwa0g    0.123768      5.828427  \n",
       "WSGHEQdcdbBWXDpna99EiQ    0.087490      7.928203  \n",
       "wpnLPAnkMEb1NpC3xiD_qg   -0.039625     13.032495  \n",
       "Lq9rYrwvWV5QDBYzq7MGHQ    0.119516      5.414214  \n",
       "7mMxJjeZqnN_nOhWhyU-Vg    0.018746     11.607183  \n",
       "TtqvXhjmXXd0nhibRAbpRg    0.111167      7.071068  \n",
       "YkOCo5ipV2he2WXIAlZb-A    0.067458      7.706742  \n",
       "EvxTD0ETbbFbFjUMWhHbIw    0.036402     10.708204  \n",
       "Uxm9N6jwmJybOv1NcBbnRw    0.033663     12.034027  \n",
       "R9gRb3T8t-eIKlOtMPShuA    0.142077      4.000000  \n",
       "REXvfvEMPKbcLBD33y6fjA    0.111728      6.656854  \n",
       "7ibuDLfx8gEhESAufYIySw    0.148051      4.000000  \n",
       "W8apgXmOxESpoL_EeogC5w    0.142077      4.000000  \n",
       "5yZ1XmDcOEsElDeb9PlPDQ    0.116565      6.242641  \n",
       "sYfHxCqHpIX2HnDhw0JRAA    0.131637      4.828427  \n",
       "BEtgRzNeXGAf0uQ-HuSyfA    0.063565      9.732051  \n",
       "agGJSdMTRrkA6VrYMbC-SQ    0.132777      6.242641  \n",
       "M-SS_Kr0zlC7v8kBSRa74g    0.123886      6.656854  \n",
       "2PS9kBbuJcmBhcNp-D62uA    0.065227      9.196152  \n",
       "BcW7Z9lPmOB_8eS2lEuOqQ    0.111421      7.071068  \n",
       "ZAuAwz1ijuydn5yL3q3rzA    0.120212      6.656854  \n",
       "w6zW6gIyg1sI5V6Wag_SYg    0.075405      8.196152  \n",
       "B_WggEKFq-ZFNui8CHPYvA    0.091803      6.974691  \n",
       "6H8xfhoZ2IGa3eNiY5FqLA    0.132884      7.071068  \n",
       "RrCgc8eAKbHu-2IpQXg6Rw    0.130651      6.242641  \n",
       "364hhL5st0LV16UcBHRJ3A    0.066015      9.968119  \n",
       "...                            ...           ...  \n",
       "7vHvQCjPq5pWj7Rio1A--w    0.159102      2.000000  \n",
       "O3OH5IEFMPtz7mPKakPZ3Q    0.033584      9.146264  \n",
       "wWuGa3OOQJro_XGe-GKBXA   -0.016156     10.569419  \n",
       "xM37qm9Wbc-hOAS7-Xse7g    0.098812      7.071068  \n",
       "-DnaKAs2oK3rXfrjSvn9ew    0.055171      9.464102  \n",
       "7wHLFohwCw8l6WS-feLjeg    0.028417     10.944272  \n",
       "xR7t4xCYRYEe1RjpYjBbkw    0.093311      8.024580  \n",
       "Cy8XYYDrZ5wd3Bq-toXMsg    0.049642      9.700170  \n",
       "BjrKNWhtQkedHw8hP_0Bjg    0.020568      9.032614  \n",
       "Jx1q_S8-T4RXuhf7P_ZuIQ   -0.040684     13.201585  \n",
       "eJPckkV1k7gn0V2awA1pzA    0.066463      8.342417  \n",
       "lmxA0dJM0XsPCIHPXhEQ-g   -0.024451     12.213128  \n",
       "ugGqbJFuVs4pEyrvDS1TYQ    0.058785      9.464102  \n",
       "burnDlH36FSphvf4vQf10w    0.087831      6.974691  \n",
       "aYyj9OdH059CoEXadmldXA   -0.039172     14.142136  \n",
       "yU34swtpTS8-SMjeLIEFcQ    0.094301      7.706742  \n",
       "1nF8Me63cpxIkFK8Ysx-DA    0.094009      7.388905  \n",
       "FPAOrUsP7GuIyqmK9UoPUQ    0.056114      9.414214  \n",
       "XKo3y41cF6euqS7I6AX_1Q    0.041340     10.440255  \n",
       "NTtLuuBKpywlyIz6oyd9kg    0.081663      8.928203  \n",
       "0xvdC8F0HmFpAFkJk6nXLg    0.086183      8.660254  \n",
       "D6K3VT6S8FwFm4u5uN8T8g    0.121443      6.242641  \n",
       "H1NqpoM2hT_A6M98PSrZvw    0.051091      9.464102  \n",
       "Vs7gc9EE3k9wARuUcN9piA    0.128016      5.656854  \n",
       "gx2yPrOJSwF1ApJYdGBWIw    0.120752      6.242641  \n",
       "NIOwzgujIXKVBEVNTQBXpg    0.038692      9.414214  \n",
       "z_46RY-L3vcMrH3-wxCp9w   -0.001332     11.820605  \n",
       "3xykzfVY2PbdjKCRDLdzTQ    0.131637      4.828427  \n",
       "nrahyQyopCtajDqUtVVVfA    0.159102      2.000000  \n",
       "DIxgItsSI9QwX9H8lVptYg    0.032490     10.204187  \n",
       "\n",
       "[162 rows x 6 columns]"
      ]
     },
     "execution_count": 60,
     "metadata": {},
     "output_type": "execute_result"
    }
   ],
   "source": [
    "result"
   ]
  },
  {
   "cell_type": "code",
   "execution_count": 61,
   "metadata": {
    "collapsed": false
   },
   "outputs": [],
   "source": [
    "result.to_csv('LasVegas_jap_results.csv', index_label=False, encoding='utf-8' )"
   ]
  },
  {
   "cell_type": "code",
   "execution_count": 63,
   "metadata": {
    "collapsed": true
   },
   "outputs": [],
   "source": [
    "anomaly_merged = pd.concat([df_select, result], axis=1)"
   ]
  },
  {
   "cell_type": "code",
   "execution_count": 64,
   "metadata": {
    "collapsed": false
   },
   "outputs": [
    {
     "data": {
      "text/plain": [
       "Uxm9N6jwmJybOv1NcBbnRw    2.373414\n",
       "grlL6zmHBOer9rPycsRhBA    2.512756\n",
       "GFlbBbpmC830wrIR6k5bIQ    2.529634\n",
       "mO786Fl-KJV82FrW00RzBw    2.762682\n",
       "aYyj9OdH059CoEXadmldXA    2.797796\n",
       "IhYo9Szx_gPDfNOcz5-8DQ    2.963334\n",
       "4k3RlMAMd46DZ_JyZU0lMg         NaN\n",
       "3GfdCuI0YCc5U3rLLLPHUw         NaN\n",
       "HGitzBs7x_fUvdTtrTacXg         NaN\n",
       "6tSvz_21BMo3a4GaItwa0g         NaN\n",
       "WSGHEQdcdbBWXDpna99EiQ         NaN\n",
       "wpnLPAnkMEb1NpC3xiD_qg         NaN\n",
       "Lq9rYrwvWV5QDBYzq7MGHQ         NaN\n",
       "7mMxJjeZqnN_nOhWhyU-Vg         NaN\n",
       "TtqvXhjmXXd0nhibRAbpRg         NaN\n",
       "YkOCo5ipV2he2WXIAlZb-A         NaN\n",
       "EvxTD0ETbbFbFjUMWhHbIw         NaN\n",
       "R9gRb3T8t-eIKlOtMPShuA         NaN\n",
       "REXvfvEMPKbcLBD33y6fjA         NaN\n",
       "7ibuDLfx8gEhESAufYIySw         NaN\n",
       "W8apgXmOxESpoL_EeogC5w         NaN\n",
       "5yZ1XmDcOEsElDeb9PlPDQ         NaN\n",
       "sYfHxCqHpIX2HnDhw0JRAA         NaN\n",
       "BEtgRzNeXGAf0uQ-HuSyfA         NaN\n",
       "agGJSdMTRrkA6VrYMbC-SQ         NaN\n",
       "M-SS_Kr0zlC7v8kBSRa74g         NaN\n",
       "2PS9kBbuJcmBhcNp-D62uA         NaN\n",
       "BcW7Z9lPmOB_8eS2lEuOqQ         NaN\n",
       "ZAuAwz1ijuydn5yL3q3rzA         NaN\n",
       "w6zW6gIyg1sI5V6Wag_SYg         NaN\n",
       "                            ...   \n",
       "82YGtjc5KKikNiqBZ33qzw         NaN\n",
       "7vHvQCjPq5pWj7Rio1A--w         NaN\n",
       "O3OH5IEFMPtz7mPKakPZ3Q         NaN\n",
       "wWuGa3OOQJro_XGe-GKBXA         NaN\n",
       "xM37qm9Wbc-hOAS7-Xse7g         NaN\n",
       "-DnaKAs2oK3rXfrjSvn9ew         NaN\n",
       "7wHLFohwCw8l6WS-feLjeg         NaN\n",
       "xR7t4xCYRYEe1RjpYjBbkw         NaN\n",
       "Cy8XYYDrZ5wd3Bq-toXMsg         NaN\n",
       "BjrKNWhtQkedHw8hP_0Bjg         NaN\n",
       "Jx1q_S8-T4RXuhf7P_ZuIQ         NaN\n",
       "eJPckkV1k7gn0V2awA1pzA         NaN\n",
       "lmxA0dJM0XsPCIHPXhEQ-g         NaN\n",
       "ugGqbJFuVs4pEyrvDS1TYQ         NaN\n",
       "burnDlH36FSphvf4vQf10w         NaN\n",
       "yU34swtpTS8-SMjeLIEFcQ         NaN\n",
       "1nF8Me63cpxIkFK8Ysx-DA         NaN\n",
       "FPAOrUsP7GuIyqmK9UoPUQ         NaN\n",
       "XKo3y41cF6euqS7I6AX_1Q         NaN\n",
       "NTtLuuBKpywlyIz6oyd9kg         NaN\n",
       "0xvdC8F0HmFpAFkJk6nXLg         NaN\n",
       "D6K3VT6S8FwFm4u5uN8T8g         NaN\n",
       "H1NqpoM2hT_A6M98PSrZvw         NaN\n",
       "Vs7gc9EE3k9wARuUcN9piA         NaN\n",
       "gx2yPrOJSwF1ApJYdGBWIw         NaN\n",
       "NIOwzgujIXKVBEVNTQBXpg         NaN\n",
       "z_46RY-L3vcMrH3-wxCp9w         NaN\n",
       "3xykzfVY2PbdjKCRDLdzTQ         NaN\n",
       "nrahyQyopCtajDqUtVVVfA         NaN\n",
       "DIxgItsSI9QwX9H8lVptYg         NaN\n",
       "Name: distance_km, dtype: float64"
      ]
     },
     "execution_count": 64,
     "metadata": {},
     "output_type": "execute_result"
    }
   ],
   "source": [
    "anomaly_merged['distance_km'].sort_values()"
   ]
  },
  {
   "cell_type": "code",
   "execution_count": 65,
   "metadata": {
    "collapsed": false
   },
   "outputs": [
    {
     "data": {
      "text/plain": [
       "nrahyQyopCtajDqUtVVVfA     2.000000\n",
       "5JjGTaZkHbbjBrzBODcsAQ     2.000000\n",
       "GkRF8rSvh9cOQuuPeDh9bg     2.000000\n",
       "7vHvQCjPq5pWj7Rio1A--w     2.000000\n",
       "ugLqbAvBdRDc-gS4hpslXw     4.000000\n",
       "o6jHRzuoTDCt6xiJA3VwUQ     4.000000\n",
       "iqQEH6olFhpqwZjFRRFmuA     4.000000\n",
       "aQ222ydz_GSRZV66xNt4kQ     4.000000\n",
       "3oajqiPFhYQJsHHiVCchEQ     4.000000\n",
       "W8apgXmOxESpoL_EeogC5w     4.000000\n",
       "OK0ba4X5seibH8oMWh4bhw     4.000000\n",
       "7ibuDLfx8gEhESAufYIySw     4.000000\n",
       "Bm8nRUsZ-dK6g2eJLxMTOw     4.000000\n",
       "R9gRb3T8t-eIKlOtMPShuA     4.000000\n",
       "stK7zVTmMar1ThpzT0Wjvg     4.242641\n",
       "yHYjDPuRtLvhvMpOn5fXOQ     4.242641\n",
       "dEAk-gE-5Q95a7p91gNn8A     4.242641\n",
       "sYfHxCqHpIX2HnDhw0JRAA     4.828427\n",
       "3xykzfVY2PbdjKCRDLdzTQ     4.828427\n",
       "dZB5VuI4mCVRz8qQUwUgCg     5.000000\n",
       "iSQwKRrLYYi-dI2PpJmJJg     5.000000\n",
       "HmsCerK_rub0Ulo0aC0f9A     5.000000\n",
       "PChG1Dm0A6AXIXkXGVK8Fw     5.000000\n",
       "Lq9rYrwvWV5QDBYzq7MGHQ     5.414214\n",
       "78XbdLi5e42XDxgnxuYacg     5.414214\n",
       "arv3T_av9OoVo3SvxV4TXw     5.656854\n",
       "Vs7gc9EE3k9wARuUcN9piA     5.656854\n",
       "4k3RlMAMd46DZ_JyZU0lMg     5.828427\n",
       "6tSvz_21BMo3a4GaItwa0g     5.828427\n",
       "qpub9UXk8oBJr95oq-MbIg     5.828427\n",
       "                            ...    \n",
       "wWuGa3OOQJro_XGe-GKBXA    10.569419\n",
       "rbQOcy2n8dBPpm5ua3VU_Q    10.676323\n",
       "jX9DocoiY4Bo9EUkaTSqvg    10.676323\n",
       "EvxTD0ETbbFbFjUMWhHbIw    10.708204\n",
       "Fv4EXwV30rwGD2NzN1ekgA    10.708204\n",
       "YYzHvjD16a8Vn6AeaWBKJg    10.708204\n",
       "GFlbBbpmC830wrIR6k5bIQ    10.889744\n",
       "7wHLFohwCw8l6WS-feLjeg    10.944272\n",
       "YTCCJ3ShO-zg0dlx1nk6dw    11.117887\n",
       "vOMDU31gdylrzBhAKC9QbA    11.180340\n",
       "xEH00X_VoRepWKXQrragmw    11.316588\n",
       "gBfPyzPRmeOaj3SdcIj0Rw    11.607183\n",
       "7mMxJjeZqnN_nOhWhyU-Vg    11.607183\n",
       "z_46RY-L3vcMrH3-wxCp9w    11.820605\n",
       "Uxm9N6jwmJybOv1NcBbnRw    12.034027\n",
       "Er5XAY2UFGGqBHdqpeCFkA    12.034027\n",
       "ARohEoxqg8TzA5gQfdGAZw    12.034027\n",
       "lmxA0dJM0XsPCIHPXhEQ-g    12.213128\n",
       "RSOinkOUpxm0mGw1IWr4Xw    12.230289\n",
       "aNGcHb8rjFFI9nY_fUgImg    12.622812\n",
       "grlL6zmHBOer9rPycsRhBA    12.622812\n",
       "VeiL_tgw7dsl-7IcnOsh0g    12.639972\n",
       "T419Y3fiJW9EuFDkFougVA    12.836233\n",
       "9cw870n3gsGikVoOT5YOYg    12.836233\n",
       "wpnLPAnkMEb1NpC3xiD_qg    13.032495\n",
       "Jx1q_S8-T4RXuhf7P_ZuIQ    13.201585\n",
       "9P23-V64kYz3trn9ecaJJA    13.594108\n",
       "mO786Fl-KJV82FrW00RzBw    13.765681\n",
       "aYyj9OdH059CoEXadmldXA    14.142136\n",
       "IhYo9Szx_gPDfNOcz5-8DQ    14.798734\n",
       "Name: distance_knn, dtype: float64"
      ]
     },
     "execution_count": 65,
     "metadata": {},
     "output_type": "execute_result"
    }
   ],
   "source": [
    "anomaly_merged['distance_knn'].sort_values()"
   ]
  },
  {
   "cell_type": "code",
   "execution_count": 66,
   "metadata": {
    "collapsed": false
   },
   "outputs": [
    {
     "data": {
      "text/plain": [
       "YTCCJ3ShO-zg0dlx1nk6dw   -0.065252\n",
       "IhYo9Szx_gPDfNOcz5-8DQ   -0.065241\n",
       "mO786Fl-KJV82FrW00RzBw   -0.058650\n",
       "9P23-V64kYz3trn9ecaJJA   -0.045980\n",
       "9cw870n3gsGikVoOT5YOYg   -0.044326\n",
       "Jx1q_S8-T4RXuhf7P_ZuIQ   -0.040684\n",
       "gBfPyzPRmeOaj3SdcIj0Rw   -0.040620\n",
       "wpnLPAnkMEb1NpC3xiD_qg   -0.039625\n",
       "aYyj9OdH059CoEXadmldXA   -0.039172\n",
       "EZQESVzkOPs7LwCHVC3Szg   -0.028573\n",
       "HGitzBs7x_fUvdTtrTacXg   -0.027590\n",
       "lmxA0dJM0XsPCIHPXhEQ-g   -0.024451\n",
       "T419Y3fiJW9EuFDkFougVA   -0.019428\n",
       "rbQOcy2n8dBPpm5ua3VU_Q   -0.018711\n",
       "wWuGa3OOQJro_XGe-GKBXA   -0.016156\n",
       "aNGcHb8rjFFI9nY_fUgImg   -0.011770\n",
       "mS_dBSMFiDJn4UVc0iv6Hg   -0.009724\n",
       "ARohEoxqg8TzA5gQfdGAZw   -0.009628\n",
       "xEH00X_VoRepWKXQrragmw   -0.005506\n",
       "RSOinkOUpxm0mGw1IWr4Xw   -0.005236\n",
       "VeiL_tgw7dsl-7IcnOsh0g   -0.003752\n",
       "grlL6zmHBOer9rPycsRhBA   -0.002677\n",
       "z_46RY-L3vcMrH3-wxCp9w   -0.001332\n",
       "pyqnGlIfP9Zw8LLxBjyAiA    0.003168\n",
       "TCWMgOiV0PxQkWE1SyBIWQ    0.007371\n",
       "vRFYqRz5F41ici5IOO2_pg    0.008905\n",
       "7mMxJjeZqnN_nOhWhyU-Vg    0.018746\n",
       "j5nPiTwWEFr-VsePew7Sjg    0.020271\n",
       "Fv4EXwV30rwGD2NzN1ekgA    0.020502\n",
       "BjrKNWhtQkedHw8hP_0Bjg    0.020568\n",
       "                            ...   \n",
       "sYfHxCqHpIX2HnDhw0JRAA    0.131637\n",
       "3xykzfVY2PbdjKCRDLdzTQ    0.131637\n",
       "2SbyRgHWuWNlq18eHAx95Q    0.132010\n",
       "A-uZAD4zP3rRxb44WUGV5w    0.132201\n",
       "agGJSdMTRrkA6VrYMbC-SQ    0.132777\n",
       "6H8xfhoZ2IGa3eNiY5FqLA    0.132884\n",
       "stK7zVTmMar1ThpzT0Wjvg    0.133970\n",
       "dEAk-gE-5Q95a7p91gNn8A    0.133970\n",
       "yHYjDPuRtLvhvMpOn5fXOQ    0.133970\n",
       "HmsCerK_rub0Ulo0aC0f9A    0.135130\n",
       "PChG1Dm0A6AXIXkXGVK8Fw    0.139258\n",
       "MXC9pwIxovWUc9yu1F8OxA    0.140717\n",
       "R9gRb3T8t-eIKlOtMPShuA    0.142077\n",
       "W8apgXmOxESpoL_EeogC5w    0.142077\n",
       "tJ9-u9MfpVbX4X2miIJ71w    0.143017\n",
       "dZB5VuI4mCVRz8qQUwUgCg    0.144487\n",
       "vdOf_NWsct8jr4qYKoE_iw    0.145402\n",
       "OK0ba4X5seibH8oMWh4bhw    0.146611\n",
       "aQ222ydz_GSRZV66xNt4kQ    0.146611\n",
       "7ibuDLfx8gEhESAufYIySw    0.148051\n",
       "ugLqbAvBdRDc-gS4hpslXw    0.148051\n",
       "iSQwKRrLYYi-dI2PpJmJJg    0.150844\n",
       "3oajqiPFhYQJsHHiVCchEQ    0.151847\n",
       "Bm8nRUsZ-dK6g2eJLxMTOw    0.151847\n",
       "o6jHRzuoTDCt6xiJA3VwUQ    0.152652\n",
       "iqQEH6olFhpqwZjFRRFmuA    0.152652\n",
       "7vHvQCjPq5pWj7Rio1A--w    0.159102\n",
       "5JjGTaZkHbbjBrzBODcsAQ    0.159102\n",
       "nrahyQyopCtajDqUtVVVfA    0.159102\n",
       "GkRF8rSvh9cOQuuPeDh9bg    0.159102\n",
       "Name: scores_isf, dtype: float64"
      ]
     },
     "execution_count": 66,
     "metadata": {},
     "output_type": "execute_result"
    }
   ],
   "source": [
    "anomaly_merged['scores_isf'].sort_values()"
   ]
  },
  {
   "cell_type": "code",
   "execution_count": 73,
   "metadata": {
    "collapsed": false
   },
   "outputs": [
    {
     "data": {
      "text/plain": [
       "categories                        [Home Services, Occupational Therapy, Massage,...\n",
       "city                                                                      Las Vegas\n",
       "hours                             [Monday 9:0-21:0, Tuesday 9:0-21:0, Wednesday ...\n",
       "is_open                                                                           1\n",
       "latitude                                                                    36.1335\n",
       "longitude                                                                  -115.279\n",
       "name                                               Shiatsu'ssage 365 Sports Massage\n",
       "neighborhood                                                               Westside\n",
       "postal_code                                                                   89117\n",
       "review_count                                                                      9\n",
       "stars                                                                           4.5\n",
       "state                                                                            NV\n",
       "AgesAllowed                                                                     NaN\n",
       "Ambience_casual                                                               False\n",
       "Ambience_classy                                                                 NaN\n",
       "Ambience_divey                                                                  NaN\n",
       "Ambience_hipster                                                                NaN\n",
       "Ambience_intimate                                                               NaN\n",
       "Ambience_romantic                                                               NaN\n",
       "Ambience_touristy                                                               NaN\n",
       "Ambience_trendy                                                                 NaN\n",
       "Ambience_upscale                                                              False\n",
       "BYOB                                                                            NaN\n",
       "BYOBCorkage                                                                     NaN\n",
       "BestNights_friday                                                               NaN\n",
       "BestNights_monday                                                               NaN\n",
       "BestNights_saturday                                                             NaN\n",
       "BestNights_sunday                                                               NaN\n",
       "BestNights_thursday                                                             NaN\n",
       "BestNights_tuesday                                                            False\n",
       "                                                        ...                        \n",
       "DietaryRestrictions_soy-free                                                    NaN\n",
       "DietaryRestrictions_vegan                                                       NaN\n",
       "DietaryRestrictions_vegetarian                                                  NaN\n",
       "GoodForMeal_breakfast                                                           NaN\n",
       "GoodForMeal_brunch                                                              NaN\n",
       "GoodForMeal_dessert                                                             NaN\n",
       "GoodForMeal_dinner                                                              NaN\n",
       "GoodForMeal_latenight                                                           NaN\n",
       "GoodForMeal_lunch                                                              True\n",
       "HappyHour                                                                       NaN\n",
       "Music_background_music                                                          NaN\n",
       "Music_dj                                                                       True\n",
       "Music_jukebox                                                                   NaN\n",
       "Music_karaoke                                                                   NaN\n",
       "Music_live                                                                      NaN\n",
       "Music_no_music                                                                 True\n",
       "Music_video                                                                   False\n",
       "OutdoorSeating                                                                  NaN\n",
       "RestaurantsDelivery                                                             NaN\n",
       "RestaurantsGoodForGroups                                                      False\n",
       "Smoking                                                                         NaN\n",
       "review_count_greater_median                                                   False\n",
       "cuisine_Japanese                                                                  2\n",
       "spatial_label                                                                     7\n",
       "clusters_sp                                                                       0\n",
       "clusters_km                                                                       0\n",
       "distance_km                                                                 2.96333\n",
       "clusters_gm                                                                       0\n",
       "scores_isf                                                               -0.0652408\n",
       "distance_knn                                                                14.7987\n",
       "Name: IhYo9Szx_gPDfNOcz5-8DQ, dtype: object"
      ]
     },
     "execution_count": 73,
     "metadata": {},
     "output_type": "execute_result"
    }
   ],
   "source": [
    "anomaly_merged.loc['IhYo9Szx_gPDfNOcz5-8DQ', :]"
   ]
  },
  {
   "cell_type": "code",
   "execution_count": null,
   "metadata": {
    "collapsed": true
   },
   "outputs": [],
   "source": []
  }
 ],
 "metadata": {
  "kernelspec": {
   "display_name": "myPy27",
   "language": "python",
   "name": "mypy27"
  },
  "language_info": {
   "codemirror_mode": {
    "name": "ipython",
    "version": 2
   },
   "file_extension": ".py",
   "mimetype": "text/x-python",
   "name": "python",
   "nbconvert_exporter": "python",
   "pygments_lexer": "ipython2",
   "version": "2.7.13"
  }
 },
 "nbformat": 4,
 "nbformat_minor": 0
}
