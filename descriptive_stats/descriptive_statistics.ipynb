{
 "cells": [
  {
   "cell_type": "code",
   "execution_count": 4,
   "metadata": {
    "collapsed": true
   },
   "outputs": [],
   "source": [
    "import json\n",
    "import numpy as np\n",
    "import pandas as pd\n",
    "import matplotlib.pyplot as plt"
   ]
  },
  {
   "cell_type": "code",
   "execution_count": 10,
   "metadata": {
    "collapsed": true
   },
   "outputs": [],
   "source": [
    "import sys  \n",
    "\n",
    "reload(sys)  \n",
    "sys.setdefaultencoding('utf8')"
   ]
  },
  {
   "cell_type": "code",
   "execution_count": 12,
   "metadata": {
    "collapsed": false
   },
   "outputs": [],
   "source": [
    "business = pd.read_json('../datasets/yelp_academic_dataset_business.json', lines=True, encoding='utf8')"
   ]
  },
  {
   "cell_type": "code",
   "execution_count": 13,
   "metadata": {
    "collapsed": false
   },
   "outputs": [],
   "source": [
    "checkin = pd.read_json('../datasets/yelp_academic_dataset_checkin.json', lines=True, encoding='utf8')"
   ]
  },
  {
   "cell_type": "code",
   "execution_count": 14,
   "metadata": {
    "collapsed": true
   },
   "outputs": [],
   "source": [
    "review = pd.read_json('../datasets/yelp_academic_dataset_review.json', lines=True, encoding='utf8')"
   ]
  },
  {
   "cell_type": "code",
   "execution_count": 15,
   "metadata": {
    "collapsed": true
   },
   "outputs": [],
   "source": [
    "tip = pd.read_json('../datasets/yelp_academic_dataset_tip.json', lines=True, encoding='utf8')"
   ]
  },
  {
   "cell_type": "code",
   "execution_count": 16,
   "metadata": {
    "collapsed": true
   },
   "outputs": [],
   "source": [
    "user = pd.read_json('../datasets/yelp_academic_dataset_user.json', lines=True, encoding='utf8')"
   ]
  },
  {
   "cell_type": "code",
   "execution_count": null,
   "metadata": {
    "collapsed": true
   },
   "outputs": [],
   "source": []
  },
  {
   "cell_type": "code",
   "execution_count": null,
   "metadata": {
    "collapsed": true
   },
   "outputs": [],
   "source": []
  },
  {
   "cell_type": "code",
   "execution_count": null,
   "metadata": {
    "collapsed": true
   },
   "outputs": [],
   "source": []
  },
  {
   "cell_type": "code",
   "execution_count": null,
   "metadata": {
    "collapsed": true
   },
   "outputs": [],
   "source": []
  },
  {
   "cell_type": "markdown",
   "metadata": {},
   "source": [
    "# Business Dataset"
   ]
  },
  {
   "cell_type": "code",
   "execution_count": null,
   "metadata": {
    "collapsed": true
   },
   "outputs": [],
   "source": [
    "{\n",
    "    \"business_id\":\"encrypted business id\",\n",
    "    \"name\":\"business name\",\n",
    "    \"neighborhood\":\"hood name\",\n",
    "    \"address\":\"full address\",\n",
    "    \"city\":\"city\",\n",
    "    \"state\":\"state -- if applicable --\",\n",
    "    \"postal code\":\"postal code\",\n",
    "    \"latitude\":latitude,\n",
    "    \"longitude\":longitude,\n",
    "    \"stars\":star rating, ***rounded to half-stars***,\n",
    "    \"review_count\":number of reviews,\n",
    "    \"is_open\":0/1 (closed/open),\n",
    "    \"attributes\":[\"an array of strings: each array element is an attribute\"],\n",
    "    \"categories\":[\"an array of strings of business categories\"],\n",
    "    \"hours\":[\"an array of strings of business hours\"],\n",
    "    \"type\": \"business\"\n",
    "}"
   ]
  },
  {
   "cell_type": "code",
   "execution_count": 53,
   "metadata": {
    "collapsed": false
   },
   "outputs": [
    {
     "data": {
      "text/plain": [
       "'Size of the business dataset: 144072'"
      ]
     },
     "execution_count": 53,
     "metadata": {},
     "output_type": "execute_result"
    }
   ],
   "source": [
    "'Size of the business dataset: ' + str(len(business))"
   ]
  },
  {
   "cell_type": "code",
   "execution_count": 66,
   "metadata": {
    "collapsed": false
   },
   "outputs": [
    {
     "data": {
      "text/plain": [
       "Index([u'address', u'attributes', u'business_id', u'categories', u'city',\n",
       "       u'hours', u'is_open', u'latitude', u'longitude', u'name',\n",
       "       u'neighborhood', u'postal_code', u'review_count', u'stars', u'state',\n",
       "       u'type'],\n",
       "      dtype='object')"
      ]
     },
     "execution_count": 66,
     "metadata": {},
     "output_type": "execute_result"
    }
   ],
   "source": [
    "business.columns"
   ]
  },
  {
   "cell_type": "code",
   "execution_count": 115,
   "metadata": {
    "collapsed": false
   },
   "outputs": [
    {
     "data": {
      "text/plain": [
       "[u'BikeParking: True', u\"BusinessParking: {'garage': False, 'street': True, 'validated': False, 'lot': False, 'valet': False}\", u'RestaurantsPriceRange2: 1']"
      ]
     },
     "execution_count": 115,
     "metadata": {},
     "output_type": "execute_result"
    }
   ],
   "source": [
    "business['attributes'][12]"
   ]
  },
  {
   "cell_type": "code",
   "execution_count": 121,
   "metadata": {
    "collapsed": false
   },
   "outputs": [
    {
     "data": {
      "text/plain": [
       "[u'Sports Clubs', u'Active Life']"
      ]
     },
     "execution_count": 121,
     "metadata": {},
     "output_type": "execute_result"
    }
   ],
   "source": [
    "business['categories'][20]"
   ]
  },
  {
   "cell_type": "code",
   "execution_count": 73,
   "metadata": {
    "collapsed": false
   },
   "outputs": [
    {
     "data": {
      "text/html": [
       "<div>\n",
       "<table border=\"1\" class=\"dataframe\">\n",
       "  <thead>\n",
       "    <tr style=\"text-align: right;\">\n",
       "      <th></th>\n",
       "      <th>address</th>\n",
       "      <th>attributes</th>\n",
       "      <th>business_id</th>\n",
       "      <th>categories</th>\n",
       "      <th>city</th>\n",
       "      <th>hours</th>\n",
       "      <th>is_open</th>\n",
       "      <th>latitude</th>\n",
       "      <th>longitude</th>\n",
       "      <th>name</th>\n",
       "      <th>neighborhood</th>\n",
       "      <th>postal_code</th>\n",
       "      <th>review_count</th>\n",
       "      <th>stars</th>\n",
       "      <th>state</th>\n",
       "      <th>type</th>\n",
       "    </tr>\n",
       "  </thead>\n",
       "  <tbody>\n",
       "    <tr>\n",
       "      <th>0</th>\n",
       "      <td>227 E Baseline Rd, Ste J2</td>\n",
       "      <td>[BikeParking: True, BusinessAcceptsBitcoin: Fa...</td>\n",
       "      <td>0DI8Dt2PJp07XkVvIElIcQ</td>\n",
       "      <td>[Tobacco Shops, Nightlife, Vape Shops, Shopping]</td>\n",
       "      <td>Tempe</td>\n",
       "      <td>[Monday 11:0-21:0, Tuesday 11:0-21:0, Wednesda...</td>\n",
       "      <td>0</td>\n",
       "      <td>33.378214</td>\n",
       "      <td>-111.936102</td>\n",
       "      <td>Innovative Vapors</td>\n",
       "      <td></td>\n",
       "      <td>85283</td>\n",
       "      <td>17</td>\n",
       "      <td>4.5</td>\n",
       "      <td>AZ</td>\n",
       "      <td>business</td>\n",
       "    </tr>\n",
       "    <tr>\n",
       "      <th>1</th>\n",
       "      <td>495 S Grand Central Pkwy</td>\n",
       "      <td>[BusinessAcceptsBitcoin: False, BusinessAccept...</td>\n",
       "      <td>LTlCaCGZE14GuaUXUGbamg</td>\n",
       "      <td>[Caterers, Grocery, Food, Event Planning &amp; Ser...</td>\n",
       "      <td>Las Vegas</td>\n",
       "      <td>[Monday 0:0-0:0, Tuesday 0:0-0:0, Wednesday 0:...</td>\n",
       "      <td>1</td>\n",
       "      <td>36.192284</td>\n",
       "      <td>-115.159272</td>\n",
       "      <td>Cut and Taste</td>\n",
       "      <td></td>\n",
       "      <td>89106</td>\n",
       "      <td>9</td>\n",
       "      <td>5.0</td>\n",
       "      <td>NV</td>\n",
       "      <td>business</td>\n",
       "    </tr>\n",
       "    <tr>\n",
       "      <th>2</th>\n",
       "      <td>979 Bloor Street W</td>\n",
       "      <td>[Alcohol: none, Ambience: {'romantic': False, ...</td>\n",
       "      <td>EDqCEAGXVGCH4FJXgqtjqg</td>\n",
       "      <td>[Restaurants, Pizza, Chicken Wings, Italian]</td>\n",
       "      <td>Toronto</td>\n",
       "      <td>[Monday 11:0-2:0, Tuesday 11:0-2:0, Wednesday ...</td>\n",
       "      <td>1</td>\n",
       "      <td>43.661054</td>\n",
       "      <td>-79.429089</td>\n",
       "      <td>Pizza Pizza</td>\n",
       "      <td>Dufferin Grove</td>\n",
       "      <td>M6H 1L5</td>\n",
       "      <td>7</td>\n",
       "      <td>2.5</td>\n",
       "      <td>ON</td>\n",
       "      <td>business</td>\n",
       "    </tr>\n",
       "    <tr>\n",
       "      <th>3</th>\n",
       "      <td>7014 Steubenville Pike</td>\n",
       "      <td>[AcceptsInsurance: False, BusinessAcceptsCredi...</td>\n",
       "      <td>cnGIivYRLxpF7tBVR_JwWA</td>\n",
       "      <td>[Hair Removal, Beauty &amp; Spas, Blow Dry/Out Ser...</td>\n",
       "      <td>Oakdale</td>\n",
       "      <td>[Tuesday 10:0-21:0, Wednesday 10:0-21:0, Thurs...</td>\n",
       "      <td>1</td>\n",
       "      <td>40.444544</td>\n",
       "      <td>-80.174540</td>\n",
       "      <td>Plush Salon and Spa</td>\n",
       "      <td></td>\n",
       "      <td>15071</td>\n",
       "      <td>4</td>\n",
       "      <td>4.0</td>\n",
       "      <td>PA</td>\n",
       "      <td>business</td>\n",
       "    </tr>\n",
       "    <tr>\n",
       "      <th>4</th>\n",
       "      <td>321 Jarvis Street</td>\n",
       "      <td>[BusinessAcceptsCreditCards: True, Restaurants...</td>\n",
       "      <td>cdk-qqJ71q6P7TJTww_DSA</td>\n",
       "      <td>[Hotels &amp; Travel, Event Planning &amp; Services, H...</td>\n",
       "      <td>Toronto</td>\n",
       "      <td>None</td>\n",
       "      <td>1</td>\n",
       "      <td>43.659829</td>\n",
       "      <td>-79.375401</td>\n",
       "      <td>Comfort Inn</td>\n",
       "      <td>Downtown Core</td>\n",
       "      <td>M5B 2C2</td>\n",
       "      <td>8</td>\n",
       "      <td>3.0</td>\n",
       "      <td>ON</td>\n",
       "      <td>business</td>\n",
       "    </tr>\n",
       "  </tbody>\n",
       "</table>\n",
       "</div>"
      ],
      "text/plain": [
       "                     address  \\\n",
       "0  227 E Baseline Rd, Ste J2   \n",
       "1   495 S Grand Central Pkwy   \n",
       "2         979 Bloor Street W   \n",
       "3     7014 Steubenville Pike   \n",
       "4          321 Jarvis Street   \n",
       "\n",
       "                                          attributes             business_id  \\\n",
       "0  [BikeParking: True, BusinessAcceptsBitcoin: Fa...  0DI8Dt2PJp07XkVvIElIcQ   \n",
       "1  [BusinessAcceptsBitcoin: False, BusinessAccept...  LTlCaCGZE14GuaUXUGbamg   \n",
       "2  [Alcohol: none, Ambience: {'romantic': False, ...  EDqCEAGXVGCH4FJXgqtjqg   \n",
       "3  [AcceptsInsurance: False, BusinessAcceptsCredi...  cnGIivYRLxpF7tBVR_JwWA   \n",
       "4  [BusinessAcceptsCreditCards: True, Restaurants...  cdk-qqJ71q6P7TJTww_DSA   \n",
       "\n",
       "                                          categories       city  \\\n",
       "0   [Tobacco Shops, Nightlife, Vape Shops, Shopping]      Tempe   \n",
       "1  [Caterers, Grocery, Food, Event Planning & Ser...  Las Vegas   \n",
       "2       [Restaurants, Pizza, Chicken Wings, Italian]    Toronto   \n",
       "3  [Hair Removal, Beauty & Spas, Blow Dry/Out Ser...    Oakdale   \n",
       "4  [Hotels & Travel, Event Planning & Services, H...    Toronto   \n",
       "\n",
       "                                               hours  is_open   latitude  \\\n",
       "0  [Monday 11:0-21:0, Tuesday 11:0-21:0, Wednesda...        0  33.378214   \n",
       "1  [Monday 0:0-0:0, Tuesday 0:0-0:0, Wednesday 0:...        1  36.192284   \n",
       "2  [Monday 11:0-2:0, Tuesday 11:0-2:0, Wednesday ...        1  43.661054   \n",
       "3  [Tuesday 10:0-21:0, Wednesday 10:0-21:0, Thurs...        1  40.444544   \n",
       "4                                               None        1  43.659829   \n",
       "\n",
       "    longitude                 name    neighborhood postal_code  review_count  \\\n",
       "0 -111.936102    Innovative Vapors                       85283            17   \n",
       "1 -115.159272        Cut and Taste                       89106             9   \n",
       "2  -79.429089          Pizza Pizza  Dufferin Grove     M6H 1L5             7   \n",
       "3  -80.174540  Plush Salon and Spa                       15071             4   \n",
       "4  -79.375401          Comfort Inn   Downtown Core     M5B 2C2             8   \n",
       "\n",
       "   stars state      type  \n",
       "0    4.5    AZ  business  \n",
       "1    5.0    NV  business  \n",
       "2    2.5    ON  business  \n",
       "3    4.0    PA  business  \n",
       "4    3.0    ON  business  "
      ]
     },
     "execution_count": 73,
     "metadata": {},
     "output_type": "execute_result"
    }
   ],
   "source": [
    "business.head()"
   ]
  },
  {
   "cell_type": "markdown",
   "metadata": {},
   "source": [
    "### Open/Closed"
   ]
  },
  {
   "cell_type": "code",
   "execution_count": 60,
   "metadata": {
    "collapsed": false
   },
   "outputs": [
    {
     "data": {
      "text/plain": [
       "'Percentage of open businesses: 0.850304014659'"
      ]
     },
     "execution_count": 60,
     "metadata": {},
     "output_type": "execute_result"
    }
   ],
   "source": [
    "'Percentage of open businesses: ' + str(business['is_open'].sum() / float(len(business)))"
   ]
  },
  {
   "cell_type": "markdown",
   "metadata": {},
   "source": [
    "### City and State"
   ]
  },
  {
   "cell_type": "code",
   "execution_count": 20,
   "metadata": {
    "collapsed": false
   },
   "outputs": [
    {
     "data": {
      "text/plain": [
       "878"
      ]
     },
     "execution_count": 20,
     "metadata": {},
     "output_type": "execute_result"
    }
   ],
   "source": [
    "len(business.city.unique())"
   ]
  },
  {
   "cell_type": "code",
   "execution_count": 30,
   "metadata": {
    "collapsed": false
   },
   "outputs": [
    {
     "data": {
      "text/plain": [
       "Las Vegas     22892\n",
       "Toronto       14540\n",
       "Phoenix       14468\n",
       "Scottsdale     6917\n",
       "Charlotte      6912\n",
       "Pittsburgh     5275\n",
       "Montréal       4785\n",
       "Mesa           4714\n",
       "Henderson      3788\n",
       "Tempe          3703\n",
       "Name: city, dtype: int64"
      ]
     },
     "execution_count": 30,
     "metadata": {},
     "output_type": "execute_result"
    }
   ],
   "source": [
    "business['city'].value_counts().head(10)"
   ]
  },
  {
   "cell_type": "code",
   "execution_count": 31,
   "metadata": {
    "collapsed": false
   },
   "outputs": [
    {
     "data": {
      "text/plain": [
       "Buckeye - Shaker          1\n",
       "East Mesa                 1\n",
       "Broadlands                1\n",
       "Vilas                     1\n",
       "Pencaitland               1\n",
       "Morriston                 1\n",
       "Charlotte (University)    1\n",
       "Malton                    1\n",
       "Reminderville             1\n",
       "                          1\n",
       "Name: city, dtype: int64"
      ]
     },
     "execution_count": 31,
     "metadata": {},
     "output_type": "execute_result"
    }
   ],
   "source": [
    "business['city'].value_counts().tail(10)"
   ]
  },
  {
   "cell_type": "code",
   "execution_count": 81,
   "metadata": {
    "collapsed": false
   },
   "outputs": [
    {
     "data": {
      "text/plain": [
       "29"
      ]
     },
     "execution_count": 81,
     "metadata": {},
     "output_type": "execute_result"
    }
   ],
   "source": [
    "len(business.state.unique())"
   ]
  },
  {
   "cell_type": "code",
   "execution_count": 82,
   "metadata": {
    "collapsed": false
   },
   "outputs": [
    {
     "data": {
      "text/plain": [
       "AZ     43492\n",
       "NV     28214\n",
       "ON     24507\n",
       "NC     10177\n",
       "OH      9966\n",
       "PA      8091\n",
       "QC      6668\n",
       "WI      3899\n",
       "EDH     3539\n",
       "BW      2905\n",
       "Name: state, dtype: int64"
      ]
     },
     "execution_count": 82,
     "metadata": {},
     "output_type": "execute_result"
    }
   ],
   "source": [
    "business['state'].value_counts().head(10)"
   ]
  },
  {
   "cell_type": "code",
   "execution_count": 83,
   "metadata": {
    "collapsed": false
   },
   "outputs": [
    {
     "data": {
      "text/plain": [
       "ESX    11\n",
       "SCB     3\n",
       "FLN     1\n",
       "PKN     1\n",
       "STG     1\n",
       "KHL     1\n",
       "VT      1\n",
       "NLK     1\n",
       "NTH     1\n",
       "FAL     1\n",
       "Name: state, dtype: int64"
      ]
     },
     "execution_count": 83,
     "metadata": {},
     "output_type": "execute_result"
    }
   ],
   "source": [
    "business['state'].value_counts().tail(10)"
   ]
  },
  {
   "cell_type": "code",
   "execution_count": 79,
   "metadata": {
    "collapsed": false
   },
   "outputs": [
    {
     "data": {
      "image/png": "[encoded data removed]",
      "text/plain": [
       "<matplotlib.figure.Figure object at 0x7ffbb543b090>"
      ]
     },
     "metadata": {},
     "output_type": "display_data"
    }
   ],
   "source": [
    "plt.figure(figsize=(10,10))\n",
    "plt.scatter(business['review_count'], business['stars'])\n",
    "plt.xlabel('Review Counts')\n",
    "plt.ylabel('Stars')\n",
    "plt.show()"
   ]
  },
  {
   "cell_type": "code",
   "execution_count": 93,
   "metadata": {
    "collapsed": false
   },
   "outputs": [
    {
     "data": {
      "text/plain": [
       "state\n",
       "AZ      9.0\n",
       "BW      6.0\n",
       "EDH     7.0\n",
       "ELN     4.0\n",
       "ESX     5.0\n",
       "FAL    11.0\n",
       "FIF     4.0\n",
       "FLN     5.0\n",
       "HLD     5.0\n",
       "IL      8.0\n",
       "KHL     7.0\n",
       "MLN     5.0\n",
       "NC      8.0\n",
       "NI      4.5\n",
       "NLK     3.0\n",
       "NTH    17.0\n",
       "NV     12.0\n",
       "NY      5.0\n",
       "OH      7.0\n",
       "ON      8.0\n",
       "PA      8.0\n",
       "PKN    24.0\n",
       "QC      7.0\n",
       "SC      6.5\n",
       "SCB     6.0\n",
       "STG     3.0\n",
       "VT      4.0\n",
       "WI      8.0\n",
       "WLN     4.0\n",
       "Name: review_count, dtype: float64"
      ]
     },
     "execution_count": 93,
     "metadata": {},
     "output_type": "execute_result"
    }
   ],
   "source": [
    "business.groupby('state').median()['review_count']"
   ]
  },
  {
   "cell_type": "code",
   "execution_count": 95,
   "metadata": {
    "collapsed": false
   },
   "outputs": [
    {
     "data": {
      "text/plain": [
       "state\n",
       "AZ     4.0\n",
       "BW     4.0\n",
       "EDH    4.0\n",
       "ELN    4.0\n",
       "ESX    4.0\n",
       "FAL    4.0\n",
       "FIF    3.5\n",
       "FLN    4.5\n",
       "HLD    4.0\n",
       "IL     3.5\n",
       "KHL    3.5\n",
       "MLN    4.0\n",
       "NC     3.5\n",
       "NI     4.0\n",
       "NLK    3.5\n",
       "NTH    2.0\n",
       "NV     4.0\n",
       "NY     3.5\n",
       "OH     3.5\n",
       "ON     3.5\n",
       "PA     3.5\n",
       "PKN    3.5\n",
       "QC     4.0\n",
       "SC     3.5\n",
       "SCB    4.0\n",
       "STG    4.5\n",
       "VT     5.0\n",
       "WI     4.0\n",
       "WLN    3.5\n",
       "Name: stars, dtype: float64"
      ]
     },
     "execution_count": 95,
     "metadata": {},
     "output_type": "execute_result"
    }
   ],
   "source": [
    "business.groupby('state').median()['stars']"
   ]
  },
  {
   "cell_type": "code",
   "execution_count": 107,
   "metadata": {
    "collapsed": false
   },
   "outputs": [
    {
     "data": {
      "text/html": [
       "<div>\n",
       "<table border=\"1\" class=\"dataframe\">\n",
       "  <thead>\n",
       "    <tr style=\"text-align: right;\">\n",
       "      <th></th>\n",
       "      <th>address</th>\n",
       "      <th>attributes</th>\n",
       "      <th>business_id</th>\n",
       "      <th>categories</th>\n",
       "      <th>city</th>\n",
       "      <th>hours</th>\n",
       "      <th>is_open</th>\n",
       "      <th>latitude</th>\n",
       "      <th>longitude</th>\n",
       "      <th>name</th>\n",
       "      <th>neighborhood</th>\n",
       "      <th>postal_code</th>\n",
       "      <th>review_count</th>\n",
       "      <th>stars</th>\n",
       "      <th>state</th>\n",
       "      <th>type</th>\n",
       "    </tr>\n",
       "  </thead>\n",
       "  <tbody>\n",
       "    <tr>\n",
       "      <th>70810</th>\n",
       "      <td>4610 N 7th Ave</td>\n",
       "      <td>[BikeParking: True, BusinessAcceptsCreditCards...</td>\n",
       "      <td>2LfIuF3_sX6uwe-IR-P0jQ</td>\n",
       "      <td>[Home &amp; Garden, Antiques, Home Decor, Shopping]</td>\n",
       "      <td>Phoenix</td>\n",
       "      <td>[Monday 11:0-17:0, Tuesday 11:0-17:0, Wednesda...</td>\n",
       "      <td>0</td>\n",
       "      <td>33.504054</td>\n",
       "      <td>-112.082813</td>\n",
       "      <td>Modern On Melrose</td>\n",
       "      <td></td>\n",
       "      <td>85013</td>\n",
       "      <td>15</td>\n",
       "      <td>4.0</td>\n",
       "      <td>AZ</td>\n",
       "      <td>business</td>\n",
       "    </tr>\n",
       "  </tbody>\n",
       "</table>\n",
       "</div>"
      ],
      "text/plain": [
       "              address                                         attributes  \\\n",
       "70810  4610 N 7th Ave  [BikeParking: True, BusinessAcceptsCreditCards...   \n",
       "\n",
       "                  business_id  \\\n",
       "70810  2LfIuF3_sX6uwe-IR-P0jQ   \n",
       "\n",
       "                                            categories     city  \\\n",
       "70810  [Home & Garden, Antiques, Home Decor, Shopping]  Phoenix   \n",
       "\n",
       "                                                   hours  is_open   latitude  \\\n",
       "70810  [Monday 11:0-17:0, Tuesday 11:0-17:0, Wednesda...        0  33.504054   \n",
       "\n",
       "        longitude               name neighborhood postal_code  review_count  \\\n",
       "70810 -112.082813  Modern On Melrose                    85013            15   \n",
       "\n",
       "       stars state      type  \n",
       "70810    4.0    AZ  business  "
      ]
     },
     "execution_count": 107,
     "metadata": {},
     "output_type": "execute_result"
    }
   ],
   "source": [
    "business[business['business_id'] == '2LfIuF3_sX6uwe-IR-P0jQ']"
   ]
  },
  {
   "cell_type": "code",
   "execution_count": 140,
   "metadata": {
    "collapsed": false
   },
   "outputs": [
    {
     "data": {
      "text/html": [
       "<div>\n",
       "<table border=\"1\" class=\"dataframe\">\n",
       "  <thead>\n",
       "    <tr style=\"text-align: right;\">\n",
       "      <th></th>\n",
       "      <th>is_open</th>\n",
       "      <th>latitude</th>\n",
       "      <th>longitude</th>\n",
       "      <th>review_count</th>\n",
       "      <th>stars</th>\n",
       "    </tr>\n",
       "  </thead>\n",
       "  <tbody>\n",
       "    <tr>\n",
       "      <th>count</th>\n",
       "      <td>144072.000000</td>\n",
       "      <td>144072.000000</td>\n",
       "      <td>144072.000000</td>\n",
       "      <td>144072.000000</td>\n",
       "      <td>144072.000000</td>\n",
       "    </tr>\n",
       "    <tr>\n",
       "      <th>mean</th>\n",
       "      <td>0.850304</td>\n",
       "      <td>38.644758</td>\n",
       "      <td>-92.690002</td>\n",
       "      <td>28.825511</td>\n",
       "      <td>3.637709</td>\n",
       "    </tr>\n",
       "    <tr>\n",
       "      <th>std</th>\n",
       "      <td>0.356774</td>\n",
       "      <td>5.344079</td>\n",
       "      <td>26.898355</td>\n",
       "      <td>92.574711</td>\n",
       "      <td>0.969585</td>\n",
       "    </tr>\n",
       "    <tr>\n",
       "      <th>min</th>\n",
       "      <td>0.000000</td>\n",
       "      <td>32.998019</td>\n",
       "      <td>-122.397206</td>\n",
       "      <td>3.000000</td>\n",
       "      <td>1.000000</td>\n",
       "    </tr>\n",
       "    <tr>\n",
       "      <th>25%</th>\n",
       "      <td>1.000000</td>\n",
       "      <td>33.627346</td>\n",
       "      <td>-112.136907</td>\n",
       "      <td>4.000000</td>\n",
       "      <td>3.000000</td>\n",
       "    </tr>\n",
       "    <tr>\n",
       "      <th>50%</th>\n",
       "      <td>1.000000</td>\n",
       "      <td>36.143417</td>\n",
       "      <td>-89.523207</td>\n",
       "      <td>9.000000</td>\n",
       "      <td>3.500000</td>\n",
       "    </tr>\n",
       "    <tr>\n",
       "      <th>75%</th>\n",
       "      <td>1.000000</td>\n",
       "      <td>43.611192</td>\n",
       "      <td>-79.649855</td>\n",
       "      <td>22.000000</td>\n",
       "      <td>4.500000</td>\n",
       "    </tr>\n",
       "    <tr>\n",
       "      <th>max</th>\n",
       "      <td>1.000000</td>\n",
       "      <td>57.592285</td>\n",
       "      <td>115.086769</td>\n",
       "      <td>6414.000000</td>\n",
       "      <td>5.000000</td>\n",
       "    </tr>\n",
       "  </tbody>\n",
       "</table>\n",
       "</div>"
      ],
      "text/plain": [
       "             is_open       latitude      longitude   review_count  \\\n",
       "count  144072.000000  144072.000000  144072.000000  144072.000000   \n",
       "mean        0.850304      38.644758     -92.690002      28.825511   \n",
       "std         0.356774       5.344079      26.898355      92.574711   \n",
       "min         0.000000      32.998019    -122.397206       3.000000   \n",
       "25%         1.000000      33.627346    -112.136907       4.000000   \n",
       "50%         1.000000      36.143417     -89.523207       9.000000   \n",
       "75%         1.000000      43.611192     -79.649855      22.000000   \n",
       "max         1.000000      57.592285     115.086769    6414.000000   \n",
       "\n",
       "               stars  \n",
       "count  144072.000000  \n",
       "mean        3.637709  \n",
       "std         0.969585  \n",
       "min         1.000000  \n",
       "25%         3.000000  \n",
       "50%         3.500000  \n",
       "75%         4.500000  \n",
       "max         5.000000  "
      ]
     },
     "execution_count": 140,
     "metadata": {},
     "output_type": "execute_result"
    }
   ],
   "source": [
    "business.describe()"
   ]
  },
  {
   "cell_type": "code",
   "execution_count": null,
   "metadata": {
    "collapsed": true
   },
   "outputs": [],
   "source": []
  },
  {
   "cell_type": "code",
   "execution_count": null,
   "metadata": {
    "collapsed": true
   },
   "outputs": [],
   "source": []
  },
  {
   "cell_type": "code",
   "execution_count": null,
   "metadata": {
    "collapsed": true
   },
   "outputs": [],
   "source": []
  },
  {
   "cell_type": "markdown",
   "metadata": {},
   "source": [
    "# Review"
   ]
  },
  {
   "cell_type": "code",
   "execution_count": null,
   "metadata": {
    "collapsed": true
   },
   "outputs": [],
   "source": [
    "{\n",
    "    \"review_id\":\"encrypted review id\",\n",
    "    \"user_id\":\"encrypted user id\",\n",
    "    \"business_id\":\"encrypted business id\",\n",
    "    \"stars\":star rating, rounded to half-stars,\n",
    "    \"date\":\"date formatted like 2009-12-19\",\n",
    "    \"text\":\"review text\",\n",
    "    \"useful\":number of useful votes received,\n",
    "    \"funny\":number of funny votes received,\n",
    "    \"cool\": number of cool review votes received,\n",
    "    \"type\": \"review\"\n",
    "}"
   ]
  },
  {
   "cell_type": "markdown",
   "metadata": {},
   "source": [
    "https://www.yelp.com/dataset_challenge\n",
    "https://www.yelp-support.com/Recommended_Reviews\n",
    "9. Why is the user review count different than the actual number of reviews returned for that user?\n",
    "The review count represents the total number of reviews a user had posted at the time of data collection, whether Yelp recommended them or not. As for the reviews, only the reviews that were recommended at the time of data collection are included. Also, we only include businesses that have had at least 3 reviews older than 14 days. So the review count number may differ from the number of actual reviews for any given user."
   ]
  },
  {
   "cell_type": "code",
   "execution_count": 102,
   "metadata": {
    "collapsed": false
   },
   "outputs": [
    {
     "data": {
      "text/plain": [
       "4153150"
      ]
     },
     "execution_count": 102,
     "metadata": {},
     "output_type": "execute_result"
    }
   ],
   "source": [
    "len(review)"
   ]
  },
  {
   "cell_type": "code",
   "execution_count": 98,
   "metadata": {
    "collapsed": false
   },
   "outputs": [
    {
     "data": {
      "text/html": [
       "<div>\n",
       "<table border=\"1\" class=\"dataframe\">\n",
       "  <thead>\n",
       "    <tr style=\"text-align: right;\">\n",
       "      <th></th>\n",
       "      <th>business_id</th>\n",
       "      <th>cool</th>\n",
       "      <th>date</th>\n",
       "      <th>funny</th>\n",
       "      <th>review_id</th>\n",
       "      <th>stars</th>\n",
       "      <th>text</th>\n",
       "      <th>type</th>\n",
       "      <th>useful</th>\n",
       "      <th>user_id</th>\n",
       "    </tr>\n",
       "  </thead>\n",
       "  <tbody>\n",
       "    <tr>\n",
       "      <th>0</th>\n",
       "      <td>2aFiy99vNLklCx3T_tGS9A</td>\n",
       "      <td>0</td>\n",
       "      <td>2011-10-10</td>\n",
       "      <td>0</td>\n",
       "      <td>NxL8SIC5yqOdnlXCg18IBg</td>\n",
       "      <td>5</td>\n",
       "      <td>If you enjoy service by someone who is as comp...</td>\n",
       "      <td>review</td>\n",
       "      <td>0</td>\n",
       "      <td>KpkOkG6RIf4Ra25Lhhxf1A</td>\n",
       "    </tr>\n",
       "    <tr>\n",
       "      <th>1</th>\n",
       "      <td>2aFiy99vNLklCx3T_tGS9A</td>\n",
       "      <td>0</td>\n",
       "      <td>2010-12-29</td>\n",
       "      <td>0</td>\n",
       "      <td>pXbbIgOXvLuTi_SPs1hQEQ</td>\n",
       "      <td>5</td>\n",
       "      <td>After being on the phone with Verizon Wireless...</td>\n",
       "      <td>review</td>\n",
       "      <td>1</td>\n",
       "      <td>bQ7fQq1otn9hKX-gXRsrgA</td>\n",
       "    </tr>\n",
       "    <tr>\n",
       "      <th>2</th>\n",
       "      <td>2aFiy99vNLklCx3T_tGS9A</td>\n",
       "      <td>0</td>\n",
       "      <td>2011-04-29</td>\n",
       "      <td>0</td>\n",
       "      <td>wslW2Lu4NYylb1jEapAGsw</td>\n",
       "      <td>5</td>\n",
       "      <td>Great service! Corey is very service oriented....</td>\n",
       "      <td>review</td>\n",
       "      <td>0</td>\n",
       "      <td>r1NUhdNmL6yU9Bn-Yx6FTw</td>\n",
       "    </tr>\n",
       "    <tr>\n",
       "      <th>3</th>\n",
       "      <td>2LfIuF3_sX6uwe-IR-P0jQ</td>\n",
       "      <td>1</td>\n",
       "      <td>2014-07-14</td>\n",
       "      <td>0</td>\n",
       "      <td>GP6YEearUWrzPtQYSF1vVg</td>\n",
       "      <td>5</td>\n",
       "      <td>Highly recommended. Went in yesterday looking ...</td>\n",
       "      <td>review</td>\n",
       "      <td>0</td>\n",
       "      <td>aW3ix1KNZAvoM8q-WghA3Q</td>\n",
       "    </tr>\n",
       "    <tr>\n",
       "      <th>4</th>\n",
       "      <td>2LfIuF3_sX6uwe-IR-P0jQ</td>\n",
       "      <td>0</td>\n",
       "      <td>2014-01-15</td>\n",
       "      <td>0</td>\n",
       "      <td>25RlYGq2s5qShi-pn3ufVA</td>\n",
       "      <td>4</td>\n",
       "      <td>I walked in here looking for a specific piece ...</td>\n",
       "      <td>review</td>\n",
       "      <td>0</td>\n",
       "      <td>YOo-Cip8HqvKp_p9nEGphw</td>\n",
       "    </tr>\n",
       "  </tbody>\n",
       "</table>\n",
       "</div>"
      ],
      "text/plain": [
       "              business_id  cool       date  funny               review_id  \\\n",
       "0  2aFiy99vNLklCx3T_tGS9A     0 2011-10-10      0  NxL8SIC5yqOdnlXCg18IBg   \n",
       "1  2aFiy99vNLklCx3T_tGS9A     0 2010-12-29      0  pXbbIgOXvLuTi_SPs1hQEQ   \n",
       "2  2aFiy99vNLklCx3T_tGS9A     0 2011-04-29      0  wslW2Lu4NYylb1jEapAGsw   \n",
       "3  2LfIuF3_sX6uwe-IR-P0jQ     1 2014-07-14      0  GP6YEearUWrzPtQYSF1vVg   \n",
       "4  2LfIuF3_sX6uwe-IR-P0jQ     0 2014-01-15      0  25RlYGq2s5qShi-pn3ufVA   \n",
       "\n",
       "   stars                                               text    type  useful  \\\n",
       "0      5  If you enjoy service by someone who is as comp...  review       0   \n",
       "1      5  After being on the phone with Verizon Wireless...  review       1   \n",
       "2      5  Great service! Corey is very service oriented....  review       0   \n",
       "3      5  Highly recommended. Went in yesterday looking ...  review       0   \n",
       "4      4  I walked in here looking for a specific piece ...  review       0   \n",
       "\n",
       "                  user_id  \n",
       "0  KpkOkG6RIf4Ra25Lhhxf1A  \n",
       "1  bQ7fQq1otn9hKX-gXRsrgA  \n",
       "2  r1NUhdNmL6yU9Bn-Yx6FTw  \n",
       "3  aW3ix1KNZAvoM8q-WghA3Q  \n",
       "4  YOo-Cip8HqvKp_p9nEGphw  "
      ]
     },
     "execution_count": 98,
     "metadata": {},
     "output_type": "execute_result"
    }
   ],
   "source": [
    "review.head()"
   ]
  },
  {
   "cell_type": "code",
   "execution_count": 101,
   "metadata": {
    "collapsed": false
   },
   "outputs": [
    {
     "data": {
      "text/plain": [
       "1125"
      ]
     },
     "execution_count": 101,
     "metadata": {},
     "output_type": "execute_result"
    }
   ],
   "source": [
    "review['useful'].max()"
   ]
  },
  {
   "cell_type": "code",
   "execution_count": 123,
   "metadata": {
    "collapsed": false
   },
   "outputs": [
    {
     "data": {
      "text/plain": [
       "4.2000000000000002"
      ]
     },
     "execution_count": 123,
     "metadata": {},
     "output_type": "execute_result"
    }
   ],
   "source": [
    "review[review['business_id'] == '2LfIuF3_sX6uwe-IR-P0jQ']['stars'].mean()"
   ]
  },
  {
   "cell_type": "code",
   "execution_count": 125,
   "metadata": {
    "collapsed": false
   },
   "outputs": [
    {
     "data": {
      "text/html": [
       "<div>\n",
       "<table border=\"1\" class=\"dataframe\">\n",
       "  <thead>\n",
       "    <tr style=\"text-align: right;\">\n",
       "      <th></th>\n",
       "      <th>business_id</th>\n",
       "      <th>cool</th>\n",
       "      <th>date</th>\n",
       "      <th>funny</th>\n",
       "      <th>review_id</th>\n",
       "      <th>stars</th>\n",
       "      <th>text</th>\n",
       "      <th>type</th>\n",
       "      <th>useful</th>\n",
       "      <th>user_id</th>\n",
       "    </tr>\n",
       "  </thead>\n",
       "  <tbody>\n",
       "    <tr>\n",
       "      <th>0</th>\n",
       "      <td>2aFiy99vNLklCx3T_tGS9A</td>\n",
       "      <td>0</td>\n",
       "      <td>2011-10-10</td>\n",
       "      <td>0</td>\n",
       "      <td>NxL8SIC5yqOdnlXCg18IBg</td>\n",
       "      <td>5</td>\n",
       "      <td>If you enjoy service by someone who is as comp...</td>\n",
       "      <td>review</td>\n",
       "      <td>0</td>\n",
       "      <td>KpkOkG6RIf4Ra25Lhhxf1A</td>\n",
       "    </tr>\n",
       "    <tr>\n",
       "      <th>1</th>\n",
       "      <td>2aFiy99vNLklCx3T_tGS9A</td>\n",
       "      <td>0</td>\n",
       "      <td>2010-12-29</td>\n",
       "      <td>0</td>\n",
       "      <td>pXbbIgOXvLuTi_SPs1hQEQ</td>\n",
       "      <td>5</td>\n",
       "      <td>After being on the phone with Verizon Wireless...</td>\n",
       "      <td>review</td>\n",
       "      <td>1</td>\n",
       "      <td>bQ7fQq1otn9hKX-gXRsrgA</td>\n",
       "    </tr>\n",
       "    <tr>\n",
       "      <th>2</th>\n",
       "      <td>2aFiy99vNLklCx3T_tGS9A</td>\n",
       "      <td>0</td>\n",
       "      <td>2011-04-29</td>\n",
       "      <td>0</td>\n",
       "      <td>wslW2Lu4NYylb1jEapAGsw</td>\n",
       "      <td>5</td>\n",
       "      <td>Great service! Corey is very service oriented....</td>\n",
       "      <td>review</td>\n",
       "      <td>0</td>\n",
       "      <td>r1NUhdNmL6yU9Bn-Yx6FTw</td>\n",
       "    </tr>\n",
       "  </tbody>\n",
       "</table>\n",
       "</div>"
      ],
      "text/plain": [
       "              business_id  cool       date  funny               review_id  \\\n",
       "0  2aFiy99vNLklCx3T_tGS9A     0 2011-10-10      0  NxL8SIC5yqOdnlXCg18IBg   \n",
       "1  2aFiy99vNLklCx3T_tGS9A     0 2010-12-29      0  pXbbIgOXvLuTi_SPs1hQEQ   \n",
       "2  2aFiy99vNLklCx3T_tGS9A     0 2011-04-29      0  wslW2Lu4NYylb1jEapAGsw   \n",
       "\n",
       "   stars                                               text    type  useful  \\\n",
       "0      5  If you enjoy service by someone who is as comp...  review       0   \n",
       "1      5  After being on the phone with Verizon Wireless...  review       1   \n",
       "2      5  Great service! Corey is very service oriented....  review       0   \n",
       "\n",
       "                  user_id  \n",
       "0  KpkOkG6RIf4Ra25Lhhxf1A  \n",
       "1  bQ7fQq1otn9hKX-gXRsrgA  \n",
       "2  r1NUhdNmL6yU9Bn-Yx6FTw  "
      ]
     },
     "execution_count": 125,
     "metadata": {},
     "output_type": "execute_result"
    }
   ],
   "source": [
    "review[review['business_id'] == '2aFiy99vNLklCx3T_tGS9A']"
   ]
  },
  {
   "cell_type": "code",
   "execution_count": 128,
   "metadata": {
    "collapsed": false
   },
   "outputs": [
    {
     "data": {
      "text/plain": [
       "4153150"
      ]
     },
     "execution_count": 128,
     "metadata": {},
     "output_type": "execute_result"
    }
   ],
   "source": [
    "len(review['review_id'].unique())"
   ]
  },
  {
   "cell_type": "code",
   "execution_count": 131,
   "metadata": {
    "collapsed": false
   },
   "outputs": [
    {
     "data": {
      "image/png": "[encoded data removed]",
      "text/plain": [
       "<matplotlib.figure.Figure object at 0x7ffb9d708750>"
      ]
     },
     "metadata": {},
     "output_type": "display_data"
    }
   ],
   "source": [
    "plt.scatter(review['stars'], review['cool'])\n",
    "plt.xlabel('Star')\n",
    "plt.ylabel('Cool')\n",
    "plt.show()"
   ]
  },
  {
   "cell_type": "code",
   "execution_count": 133,
   "metadata": {
    "collapsed": false
   },
   "outputs": [
    {
     "data": {
      "image/png": "[encoded data removed]",
      "text/plain": [
       "<matplotlib.figure.Figure object at 0x7ffb9b123490>"
      ]
     },
     "metadata": {},
     "output_type": "display_data"
    }
   ],
   "source": [
    "plt.scatter(review['stars'], review['useful'])\n",
    "plt.xlabel('Star')\n",
    "plt.ylabel('Useful')\n",
    "plt.show()"
   ]
  },
  {
   "cell_type": "code",
   "execution_count": 135,
   "metadata": {
    "collapsed": false
   },
   "outputs": [
    {
     "data": {
      "image/png": "[encoded data removed]",
      "text/plain": [
       "<matplotlib.figure.Figure object at 0x7ffb98d61490>"
      ]
     },
     "metadata": {},
     "output_type": "display_data"
    }
   ],
   "source": [
    "plt.scatter(review['stars'], review['funny'])\n",
    "plt.xlabel('Star')\n",
    "plt.ylabel('Funny')\n",
    "plt.show()"
   ]
  },
  {
   "cell_type": "code",
   "execution_count": 141,
   "metadata": {
    "collapsed": false
   },
   "outputs": [
    {
     "data": {
      "text/html": [
       "<div>\n",
       "<table border=\"1\" class=\"dataframe\">\n",
       "  <thead>\n",
       "    <tr style=\"text-align: right;\">\n",
       "      <th></th>\n",
       "      <th>cool</th>\n",
       "      <th>funny</th>\n",
       "      <th>stars</th>\n",
       "      <th>useful</th>\n",
       "    </tr>\n",
       "  </thead>\n",
       "  <tbody>\n",
       "    <tr>\n",
       "      <th>count</th>\n",
       "      <td>4.153150e+06</td>\n",
       "      <td>4.153150e+06</td>\n",
       "      <td>4.153150e+06</td>\n",
       "      <td>4.153150e+06</td>\n",
       "    </tr>\n",
       "    <tr>\n",
       "      <th>mean</th>\n",
       "      <td>5.262232e-01</td>\n",
       "      <td>4.194826e-01</td>\n",
       "      <td>3.722765e+00</td>\n",
       "      <td>1.008271e+00</td>\n",
       "    </tr>\n",
       "    <tr>\n",
       "      <th>std</th>\n",
       "      <td>1.914351e+00</td>\n",
       "      <td>1.721744e+00</td>\n",
       "      <td>1.405131e+00</td>\n",
       "      <td>2.585058e+00</td>\n",
       "    </tr>\n",
       "    <tr>\n",
       "      <th>min</th>\n",
       "      <td>0.000000e+00</td>\n",
       "      <td>0.000000e+00</td>\n",
       "      <td>1.000000e+00</td>\n",
       "      <td>0.000000e+00</td>\n",
       "    </tr>\n",
       "    <tr>\n",
       "      <th>25%</th>\n",
       "      <td>0.000000e+00</td>\n",
       "      <td>0.000000e+00</td>\n",
       "      <td>3.000000e+00</td>\n",
       "      <td>0.000000e+00</td>\n",
       "    </tr>\n",
       "    <tr>\n",
       "      <th>50%</th>\n",
       "      <td>0.000000e+00</td>\n",
       "      <td>0.000000e+00</td>\n",
       "      <td>4.000000e+00</td>\n",
       "      <td>0.000000e+00</td>\n",
       "    </tr>\n",
       "    <tr>\n",
       "      <th>75%</th>\n",
       "      <td>0.000000e+00</td>\n",
       "      <td>0.000000e+00</td>\n",
       "      <td>5.000000e+00</td>\n",
       "      <td>1.000000e+00</td>\n",
       "    </tr>\n",
       "    <tr>\n",
       "      <th>max</th>\n",
       "      <td>5.130000e+02</td>\n",
       "      <td>6.320000e+02</td>\n",
       "      <td>5.000000e+00</td>\n",
       "      <td>1.125000e+03</td>\n",
       "    </tr>\n",
       "  </tbody>\n",
       "</table>\n",
       "</div>"
      ],
      "text/plain": [
       "               cool         funny         stars        useful\n",
       "count  4.153150e+06  4.153150e+06  4.153150e+06  4.153150e+06\n",
       "mean   5.262232e-01  4.194826e-01  3.722765e+00  1.008271e+00\n",
       "std    1.914351e+00  1.721744e+00  1.405131e+00  2.585058e+00\n",
       "min    0.000000e+00  0.000000e+00  1.000000e+00  0.000000e+00\n",
       "25%    0.000000e+00  0.000000e+00  3.000000e+00  0.000000e+00\n",
       "50%    0.000000e+00  0.000000e+00  4.000000e+00  0.000000e+00\n",
       "75%    0.000000e+00  0.000000e+00  5.000000e+00  1.000000e+00\n",
       "max    5.130000e+02  6.320000e+02  5.000000e+00  1.125000e+03"
      ]
     },
     "execution_count": 141,
     "metadata": {},
     "output_type": "execute_result"
    }
   ],
   "source": [
    "review.describe()"
   ]
  },
  {
   "cell_type": "code",
   "execution_count": null,
   "metadata": {
    "collapsed": true
   },
   "outputs": [],
   "source": []
  },
  {
   "cell_type": "code",
   "execution_count": null,
   "metadata": {
    "collapsed": true
   },
   "outputs": [],
   "source": []
  },
  {
   "cell_type": "markdown",
   "metadata": {},
   "source": [
    "# User"
   ]
  },
  {
   "cell_type": "code",
   "execution_count": null,
   "metadata": {
    "collapsed": true
   },
   "outputs": [],
   "source": [
    "{\n",
    "    \"user_id\":\"encrypted user id\",\n",
    "    \"name\":\"first name\",\n",
    "    \"review_count\":number of reviews,\n",
    "    \"yelping_since\": date formatted like \"2009-12-19\",\n",
    "    \"friends\":[\"an array of encrypted ids of friends\"],\n",
    "    \"useful\":\"number of useful votes sent by the user\",\n",
    "    \"funny\":\"number of funny votes sent by the user\",\n",
    "    \"cool\":\"number of cool votes sent by the user\",\n",
    "    \"fans\":\"number of fans the user has\",\n",
    "    \"elite\":[\"an array of years the user was elite\"],\n",
    "    \"average_stars\":floating point average like 4.31,\n",
    "    \"compliment_hot\":number of hot compliments received by the user,\n",
    "    \"compliment_more\":number of more compliments received by the user,\n",
    "    \"compliment_profile\": number of profile compliments received by the user,\n",
    "    \"compliment_cute\": number of cute compliments received by the user,\n",
    "    \"compliment_list\": number of list compliments received by the user,\n",
    "    \"compliment_note\": number of note compliments received by the user,\n",
    "    \"compliment_plain\": number of plain compliments received by the user,\n",
    "    \"compliment_cool\": number of cool compliments received by the user,\n",
    "    \"compliment_funny\": number of funny compliments received by the user,\n",
    "    \"compliment_writer\": number of writer compliments received by the user,\n",
    "    \"compliment_photos\": number of photo compliments received by the user,\n",
    "    \"type\":\"user\"\n",
    "}"
   ]
  },
  {
   "cell_type": "markdown",
   "metadata": {},
   "source": [
    "https://www.yelp.com/elite"
   ]
  },
  {
   "cell_type": "code",
   "execution_count": 142,
   "metadata": {
    "collapsed": false
   },
   "outputs": [
    {
     "data": {
      "text/plain": [
       "1029432"
      ]
     },
     "execution_count": 142,
     "metadata": {},
     "output_type": "execute_result"
    }
   ],
   "source": [
    "len(user)"
   ]
  },
  {
   "cell_type": "code",
   "execution_count": 138,
   "metadata": {
    "collapsed": false
   },
   "outputs": [
    {
     "data": {
      "text/plain": [
       "Index([u'average_stars', u'compliment_cool', u'compliment_cute',\n",
       "       u'compliment_funny', u'compliment_hot', u'compliment_list',\n",
       "       u'compliment_more', u'compliment_note', u'compliment_photos',\n",
       "       u'compliment_plain', u'compliment_profile', u'compliment_writer',\n",
       "       u'cool', u'elite', u'fans', u'friends', u'funny', u'name',\n",
       "       u'review_count', u'type', u'useful', u'user_id', u'yelping_since'],\n",
       "      dtype='object')"
      ]
     },
     "execution_count": 138,
     "metadata": {},
     "output_type": "execute_result"
    }
   ],
   "source": [
    "user.columns"
   ]
  },
  {
   "cell_type": "code",
   "execution_count": 136,
   "metadata": {
    "collapsed": false
   },
   "outputs": [
    {
     "data": {
      "text/html": [
       "<div>\n",
       "<table border=\"1\" class=\"dataframe\">\n",
       "  <thead>\n",
       "    <tr style=\"text-align: right;\">\n",
       "      <th></th>\n",
       "      <th>average_stars</th>\n",
       "      <th>compliment_cool</th>\n",
       "      <th>compliment_cute</th>\n",
       "      <th>compliment_funny</th>\n",
       "      <th>compliment_hot</th>\n",
       "      <th>compliment_list</th>\n",
       "      <th>compliment_more</th>\n",
       "      <th>compliment_note</th>\n",
       "      <th>compliment_photos</th>\n",
       "      <th>compliment_plain</th>\n",
       "      <th>...</th>\n",
       "      <th>elite</th>\n",
       "      <th>fans</th>\n",
       "      <th>friends</th>\n",
       "      <th>funny</th>\n",
       "      <th>name</th>\n",
       "      <th>review_count</th>\n",
       "      <th>type</th>\n",
       "      <th>useful</th>\n",
       "      <th>user_id</th>\n",
       "      <th>yelping_since</th>\n",
       "    </tr>\n",
       "  </thead>\n",
       "  <tbody>\n",
       "    <tr>\n",
       "      <th>0</th>\n",
       "      <td>3.59</td>\n",
       "      <td>4192</td>\n",
       "      <td>79</td>\n",
       "      <td>4192</td>\n",
       "      <td>3904</td>\n",
       "      <td>19</td>\n",
       "      <td>305</td>\n",
       "      <td>4705</td>\n",
       "      <td>1347</td>\n",
       "      <td>2617</td>\n",
       "      <td>...</td>\n",
       "      <td>[2017, 2015, 2016, 2014, 2011, 2013, 2012]</td>\n",
       "      <td>298</td>\n",
       "      <td>[iJg9ekPzF9lkMuvjKYX6uA, ctWAuzS04Xu0lke2Rop4l...</td>\n",
       "      <td>12316</td>\n",
       "      <td>Rob</td>\n",
       "      <td>761</td>\n",
       "      <td>user</td>\n",
       "      <td>18456</td>\n",
       "      <td>EZmocAborM6z66rTzeZxzQ</td>\n",
       "      <td>2009-09-12</td>\n",
       "    </tr>\n",
       "    <tr>\n",
       "      <th>1</th>\n",
       "      <td>4.29</td>\n",
       "      <td>144</td>\n",
       "      <td>11</td>\n",
       "      <td>144</td>\n",
       "      <td>64</td>\n",
       "      <td>1</td>\n",
       "      <td>4</td>\n",
       "      <td>97</td>\n",
       "      <td>24</td>\n",
       "      <td>129</td>\n",
       "      <td>...</td>\n",
       "      <td>[None]</td>\n",
       "      <td>34</td>\n",
       "      <td>[r2UUCzGxqI6WPsiWPgqG2A, qewG3X2O4X6JKskxyyqFw...</td>\n",
       "      <td>28</td>\n",
       "      <td>Vivian</td>\n",
       "      <td>80</td>\n",
       "      <td>user</td>\n",
       "      <td>117</td>\n",
       "      <td>myql3o3x22_ygECb8gVo7A</td>\n",
       "      <td>2009-06-27</td>\n",
       "    </tr>\n",
       "    <tr>\n",
       "      <th>2</th>\n",
       "      <td>4.15</td>\n",
       "      <td>36</td>\n",
       "      <td>1</td>\n",
       "      <td>36</td>\n",
       "      <td>14</td>\n",
       "      <td>2</td>\n",
       "      <td>10</td>\n",
       "      <td>21</td>\n",
       "      <td>4</td>\n",
       "      <td>23</td>\n",
       "      <td>...</td>\n",
       "      <td>[2011, 2016, 2017, 2013, 2014, 2015, 2012]</td>\n",
       "      <td>48</td>\n",
       "      <td>[qewG3X2O4X6JKskxyyqFwQ, -50XWnmQGqBgEI-9ANvLl...</td>\n",
       "      <td>6</td>\n",
       "      <td>Carol</td>\n",
       "      <td>841</td>\n",
       "      <td>user</td>\n",
       "      <td>58</td>\n",
       "      <td>FIk4lQQu1eTe2EpzQ4xhBA</td>\n",
       "      <td>2010-08-26</td>\n",
       "    </tr>\n",
       "    <tr>\n",
       "      <th>3</th>\n",
       "      <td>3.82</td>\n",
       "      <td>54</td>\n",
       "      <td>6</td>\n",
       "      <td>54</td>\n",
       "      <td>32</td>\n",
       "      <td>0</td>\n",
       "      <td>5</td>\n",
       "      <td>13</td>\n",
       "      <td>1</td>\n",
       "      <td>29</td>\n",
       "      <td>...</td>\n",
       "      <td>[2014, 2010, 2017, 2015, 2011, 2016, 2013, 201...</td>\n",
       "      <td>28</td>\n",
       "      <td>[AIhfuFmX62k7a22gXXAB2Q, kQ1jU2rDpFD_q54edEmwI...</td>\n",
       "      <td>51</td>\n",
       "      <td>Miss Maggie</td>\n",
       "      <td>376</td>\n",
       "      <td>user</td>\n",
       "      <td>42</td>\n",
       "      <td>ojovtd9c8GIeDiB8e0mq2w</td>\n",
       "      <td>2008-05-31</td>\n",
       "    </tr>\n",
       "    <tr>\n",
       "      <th>4</th>\n",
       "      <td>2.97</td>\n",
       "      <td>0</td>\n",
       "      <td>0</td>\n",
       "      <td>0</td>\n",
       "      <td>0</td>\n",
       "      <td>0</td>\n",
       "      <td>0</td>\n",
       "      <td>0</td>\n",
       "      <td>0</td>\n",
       "      <td>0</td>\n",
       "      <td>...</td>\n",
       "      <td>[None]</td>\n",
       "      <td>2</td>\n",
       "      <td>[bvZkBCY-AvCsxRjd6Q-vEQ, KNEVNYeyNZApXG6HqOdsR...</td>\n",
       "      <td>3</td>\n",
       "      <td>Jeremy</td>\n",
       "      <td>28</td>\n",
       "      <td>user</td>\n",
       "      <td>8</td>\n",
       "      <td>uVEoZmmL9yK0NMgadLL0CQ</td>\n",
       "      <td>2013-01-17</td>\n",
       "    </tr>\n",
       "  </tbody>\n",
       "</table>\n",
       "<p>5 rows × 23 columns</p>\n",
       "</div>"
      ],
      "text/plain": [
       "   average_stars  compliment_cool  compliment_cute  compliment_funny  \\\n",
       "0           3.59             4192               79              4192   \n",
       "1           4.29              144               11               144   \n",
       "2           4.15               36                1                36   \n",
       "3           3.82               54                6                54   \n",
       "4           2.97                0                0                 0   \n",
       "\n",
       "   compliment_hot  compliment_list  compliment_more  compliment_note  \\\n",
       "0            3904               19              305             4705   \n",
       "1              64                1                4               97   \n",
       "2              14                2               10               21   \n",
       "3              32                0                5               13   \n",
       "4               0                0                0                0   \n",
       "\n",
       "   compliment_photos  compliment_plain      ...       \\\n",
       "0               1347              2617      ...        \n",
       "1                 24               129      ...        \n",
       "2                  4                23      ...        \n",
       "3                  1                29      ...        \n",
       "4                  0                 0      ...        \n",
       "\n",
       "                                               elite  fans  \\\n",
       "0         [2017, 2015, 2016, 2014, 2011, 2013, 2012]   298   \n",
       "1                                             [None]    34   \n",
       "2         [2011, 2016, 2017, 2013, 2014, 2015, 2012]    48   \n",
       "3  [2014, 2010, 2017, 2015, 2011, 2016, 2013, 201...    28   \n",
       "4                                             [None]     2   \n",
       "\n",
       "                                             friends  funny         name  \\\n",
       "0  [iJg9ekPzF9lkMuvjKYX6uA, ctWAuzS04Xu0lke2Rop4l...  12316          Rob   \n",
       "1  [r2UUCzGxqI6WPsiWPgqG2A, qewG3X2O4X6JKskxyyqFw...     28       Vivian   \n",
       "2  [qewG3X2O4X6JKskxyyqFwQ, -50XWnmQGqBgEI-9ANvLl...      6        Carol   \n",
       "3  [AIhfuFmX62k7a22gXXAB2Q, kQ1jU2rDpFD_q54edEmwI...     51  Miss Maggie   \n",
       "4  [bvZkBCY-AvCsxRjd6Q-vEQ, KNEVNYeyNZApXG6HqOdsR...      3       Jeremy   \n",
       "\n",
       "  review_count  type useful                 user_id yelping_since  \n",
       "0          761  user  18456  EZmocAborM6z66rTzeZxzQ    2009-09-12  \n",
       "1           80  user    117  myql3o3x22_ygECb8gVo7A    2009-06-27  \n",
       "2          841  user     58  FIk4lQQu1eTe2EpzQ4xhBA    2010-08-26  \n",
       "3          376  user     42  ojovtd9c8GIeDiB8e0mq2w    2008-05-31  \n",
       "4           28  user      8  uVEoZmmL9yK0NMgadLL0CQ    2013-01-17  \n",
       "\n",
       "[5 rows x 23 columns]"
      ]
     },
     "execution_count": 136,
     "metadata": {},
     "output_type": "execute_result"
    }
   ],
   "source": [
    "user.head()"
   ]
  },
  {
   "cell_type": "code",
   "execution_count": 158,
   "metadata": {
    "collapsed": false
   },
   "outputs": [
    {
     "data": {
      "text/plain": [
       "Index([u'average_stars', u'compliment_cool', u'compliment_cute',\n",
       "       u'compliment_funny', u'compliment_hot', u'compliment_list',\n",
       "       u'compliment_more', u'compliment_note', u'compliment_photos',\n",
       "       u'compliment_plain', u'compliment_profile', u'compliment_writer',\n",
       "       u'cool', u'fans', u'funny', u'review_count', u'useful'],\n",
       "      dtype='object')"
      ]
     },
     "execution_count": 158,
     "metadata": {},
     "output_type": "execute_result"
    }
   ],
   "source": [
    "user.select_dtypes(include=['number']).columns"
   ]
  },
  {
   "cell_type": "code",
   "execution_count": 159,
   "metadata": {
    "collapsed": false
   },
   "outputs": [
    {
     "data": {
      "text/html": [
       "<div>\n",
       "<table border=\"1\" class=\"dataframe\">\n",
       "  <thead>\n",
       "    <tr style=\"text-align: right;\">\n",
       "      <th></th>\n",
       "      <th>average_stars</th>\n",
       "      <th>compliment_cool</th>\n",
       "      <th>compliment_cute</th>\n",
       "      <th>compliment_funny</th>\n",
       "      <th>compliment_hot</th>\n",
       "      <th>compliment_list</th>\n",
       "      <th>compliment_more</th>\n",
       "      <th>compliment_note</th>\n",
       "      <th>compliment_photos</th>\n",
       "      <th>compliment_plain</th>\n",
       "      <th>compliment_profile</th>\n",
       "      <th>compliment_writer</th>\n",
       "      <th>cool</th>\n",
       "      <th>fans</th>\n",
       "      <th>funny</th>\n",
       "      <th>review_count</th>\n",
       "      <th>useful</th>\n",
       "    </tr>\n",
       "  </thead>\n",
       "  <tbody>\n",
       "    <tr>\n",
       "      <th>average_stars</th>\n",
       "      <td>1.000000</td>\n",
       "      <td>0.004955</td>\n",
       "      <td>0.002208</td>\n",
       "      <td>0.004955</td>\n",
       "      <td>0.004424</td>\n",
       "      <td>0.001194</td>\n",
       "      <td>0.002281</td>\n",
       "      <td>0.002279</td>\n",
       "      <td>0.001948</td>\n",
       "      <td>0.004772</td>\n",
       "      <td>0.001850</td>\n",
       "      <td>0.004204</td>\n",
       "      <td>0.004169</td>\n",
       "      <td>0.010477</td>\n",
       "      <td>0.002888</td>\n",
       "      <td>0.010328</td>\n",
       "      <td>0.003633</td>\n",
       "    </tr>\n",
       "    <tr>\n",
       "      <th>compliment_cool</th>\n",
       "      <td>0.004955</td>\n",
       "      <td>1.000000</td>\n",
       "      <td>0.637884</td>\n",
       "      <td>1.000000</td>\n",
       "      <td>0.922982</td>\n",
       "      <td>0.524139</td>\n",
       "      <td>0.698514</td>\n",
       "      <td>0.626849</td>\n",
       "      <td>0.692400</td>\n",
       "      <td>0.892175</td>\n",
       "      <td>0.690345</td>\n",
       "      <td>0.925280</td>\n",
       "      <td>0.663084</td>\n",
       "      <td>0.569677</td>\n",
       "      <td>0.689398</td>\n",
       "      <td>0.351760</td>\n",
       "      <td>0.658446</td>\n",
       "    </tr>\n",
       "    <tr>\n",
       "      <th>compliment_cute</th>\n",
       "      <td>0.002208</td>\n",
       "      <td>0.637884</td>\n",
       "      <td>1.000000</td>\n",
       "      <td>0.637884</td>\n",
       "      <td>0.645190</td>\n",
       "      <td>0.943909</td>\n",
       "      <td>0.934712</td>\n",
       "      <td>0.448215</td>\n",
       "      <td>0.853470</td>\n",
       "      <td>0.539704</td>\n",
       "      <td>0.892148</td>\n",
       "      <td>0.692343</td>\n",
       "      <td>0.315016</td>\n",
       "      <td>0.277186</td>\n",
       "      <td>0.328745</td>\n",
       "      <td>0.153434</td>\n",
       "      <td>0.314600</td>\n",
       "    </tr>\n",
       "    <tr>\n",
       "      <th>compliment_funny</th>\n",
       "      <td>0.004955</td>\n",
       "      <td>1.000000</td>\n",
       "      <td>0.637884</td>\n",
       "      <td>1.000000</td>\n",
       "      <td>0.922982</td>\n",
       "      <td>0.524139</td>\n",
       "      <td>0.698514</td>\n",
       "      <td>0.626849</td>\n",
       "      <td>0.692400</td>\n",
       "      <td>0.892175</td>\n",
       "      <td>0.690345</td>\n",
       "      <td>0.925280</td>\n",
       "      <td>0.663084</td>\n",
       "      <td>0.569677</td>\n",
       "      <td>0.689398</td>\n",
       "      <td>0.351760</td>\n",
       "      <td>0.658446</td>\n",
       "    </tr>\n",
       "    <tr>\n",
       "      <th>compliment_hot</th>\n",
       "      <td>0.004424</td>\n",
       "      <td>0.922982</td>\n",
       "      <td>0.645190</td>\n",
       "      <td>0.922982</td>\n",
       "      <td>1.000000</td>\n",
       "      <td>0.488109</td>\n",
       "      <td>0.654516</td>\n",
       "      <td>0.708887</td>\n",
       "      <td>0.657912</td>\n",
       "      <td>0.766171</td>\n",
       "      <td>0.651110</td>\n",
       "      <td>0.849750</td>\n",
       "      <td>0.561949</td>\n",
       "      <td>0.528990</td>\n",
       "      <td>0.589673</td>\n",
       "      <td>0.303549</td>\n",
       "      <td>0.555599</td>\n",
       "    </tr>\n",
       "    <tr>\n",
       "      <th>compliment_list</th>\n",
       "      <td>0.001194</td>\n",
       "      <td>0.524139</td>\n",
       "      <td>0.943909</td>\n",
       "      <td>0.524139</td>\n",
       "      <td>0.488109</td>\n",
       "      <td>1.000000</td>\n",
       "      <td>0.951548</td>\n",
       "      <td>0.397535</td>\n",
       "      <td>0.848836</td>\n",
       "      <td>0.458001</td>\n",
       "      <td>0.911373</td>\n",
       "      <td>0.633854</td>\n",
       "      <td>0.243560</td>\n",
       "      <td>0.148062</td>\n",
       "      <td>0.261302</td>\n",
       "      <td>0.103294</td>\n",
       "      <td>0.239819</td>\n",
       "    </tr>\n",
       "    <tr>\n",
       "      <th>compliment_more</th>\n",
       "      <td>0.002281</td>\n",
       "      <td>0.698514</td>\n",
       "      <td>0.934712</td>\n",
       "      <td>0.698514</td>\n",
       "      <td>0.654516</td>\n",
       "      <td>0.951548</td>\n",
       "      <td>1.000000</td>\n",
       "      <td>0.511596</td>\n",
       "      <td>0.882017</td>\n",
       "      <td>0.615690</td>\n",
       "      <td>0.964811</td>\n",
       "      <td>0.798392</td>\n",
       "      <td>0.383817</td>\n",
       "      <td>0.274604</td>\n",
       "      <td>0.419339</td>\n",
       "      <td>0.194481</td>\n",
       "      <td>0.381040</td>\n",
       "    </tr>\n",
       "    <tr>\n",
       "      <th>compliment_note</th>\n",
       "      <td>0.002279</td>\n",
       "      <td>0.626849</td>\n",
       "      <td>0.448215</td>\n",
       "      <td>0.626849</td>\n",
       "      <td>0.708887</td>\n",
       "      <td>0.397535</td>\n",
       "      <td>0.511596</td>\n",
       "      <td>1.000000</td>\n",
       "      <td>0.483627</td>\n",
       "      <td>0.586514</td>\n",
       "      <td>0.484896</td>\n",
       "      <td>0.603333</td>\n",
       "      <td>0.417652</td>\n",
       "      <td>0.384312</td>\n",
       "      <td>0.440480</td>\n",
       "      <td>0.247417</td>\n",
       "      <td>0.430591</td>\n",
       "    </tr>\n",
       "    <tr>\n",
       "      <th>compliment_photos</th>\n",
       "      <td>0.001948</td>\n",
       "      <td>0.692400</td>\n",
       "      <td>0.853470</td>\n",
       "      <td>0.692400</td>\n",
       "      <td>0.657912</td>\n",
       "      <td>0.848836</td>\n",
       "      <td>0.882017</td>\n",
       "      <td>0.483627</td>\n",
       "      <td>1.000000</td>\n",
       "      <td>0.603898</td>\n",
       "      <td>0.853324</td>\n",
       "      <td>0.775588</td>\n",
       "      <td>0.384438</td>\n",
       "      <td>0.224731</td>\n",
       "      <td>0.448318</td>\n",
       "      <td>0.117788</td>\n",
       "      <td>0.370907</td>\n",
       "    </tr>\n",
       "    <tr>\n",
       "      <th>compliment_plain</th>\n",
       "      <td>0.004772</td>\n",
       "      <td>0.892175</td>\n",
       "      <td>0.539704</td>\n",
       "      <td>0.892175</td>\n",
       "      <td>0.766171</td>\n",
       "      <td>0.458001</td>\n",
       "      <td>0.615690</td>\n",
       "      <td>0.586514</td>\n",
       "      <td>0.603898</td>\n",
       "      <td>1.000000</td>\n",
       "      <td>0.609914</td>\n",
       "      <td>0.840796</td>\n",
       "      <td>0.677567</td>\n",
       "      <td>0.596729</td>\n",
       "      <td>0.681456</td>\n",
       "      <td>0.352080</td>\n",
       "      <td>0.694519</td>\n",
       "    </tr>\n",
       "    <tr>\n",
       "      <th>compliment_profile</th>\n",
       "      <td>0.001850</td>\n",
       "      <td>0.690345</td>\n",
       "      <td>0.892148</td>\n",
       "      <td>0.690345</td>\n",
       "      <td>0.651110</td>\n",
       "      <td>0.911373</td>\n",
       "      <td>0.964811</td>\n",
       "      <td>0.484896</td>\n",
       "      <td>0.853324</td>\n",
       "      <td>0.609914</td>\n",
       "      <td>1.000000</td>\n",
       "      <td>0.795236</td>\n",
       "      <td>0.391188</td>\n",
       "      <td>0.226154</td>\n",
       "      <td>0.431158</td>\n",
       "      <td>0.144913</td>\n",
       "      <td>0.384007</td>\n",
       "    </tr>\n",
       "    <tr>\n",
       "      <th>compliment_writer</th>\n",
       "      <td>0.004204</td>\n",
       "      <td>0.925280</td>\n",
       "      <td>0.692343</td>\n",
       "      <td>0.925280</td>\n",
       "      <td>0.849750</td>\n",
       "      <td>0.633854</td>\n",
       "      <td>0.798392</td>\n",
       "      <td>0.603333</td>\n",
       "      <td>0.775588</td>\n",
       "      <td>0.840796</td>\n",
       "      <td>0.795236</td>\n",
       "      <td>1.000000</td>\n",
       "      <td>0.606207</td>\n",
       "      <td>0.527343</td>\n",
       "      <td>0.654503</td>\n",
       "      <td>0.348556</td>\n",
       "      <td>0.601251</td>\n",
       "    </tr>\n",
       "    <tr>\n",
       "      <th>cool</th>\n",
       "      <td>0.004169</td>\n",
       "      <td>0.663084</td>\n",
       "      <td>0.315016</td>\n",
       "      <td>0.663084</td>\n",
       "      <td>0.561949</td>\n",
       "      <td>0.243560</td>\n",
       "      <td>0.383817</td>\n",
       "      <td>0.417652</td>\n",
       "      <td>0.384438</td>\n",
       "      <td>0.677567</td>\n",
       "      <td>0.391188</td>\n",
       "      <td>0.606207</td>\n",
       "      <td>1.000000</td>\n",
       "      <td>0.433918</td>\n",
       "      <td>0.844814</td>\n",
       "      <td>0.260627</td>\n",
       "      <td>0.920161</td>\n",
       "    </tr>\n",
       "    <tr>\n",
       "      <th>fans</th>\n",
       "      <td>0.010477</td>\n",
       "      <td>0.569677</td>\n",
       "      <td>0.277186</td>\n",
       "      <td>0.569677</td>\n",
       "      <td>0.528990</td>\n",
       "      <td>0.148062</td>\n",
       "      <td>0.274604</td>\n",
       "      <td>0.384312</td>\n",
       "      <td>0.224731</td>\n",
       "      <td>0.596729</td>\n",
       "      <td>0.226154</td>\n",
       "      <td>0.527343</td>\n",
       "      <td>0.433918</td>\n",
       "      <td>1.000000</td>\n",
       "      <td>0.381613</td>\n",
       "      <td>0.595719</td>\n",
       "      <td>0.476943</td>\n",
       "    </tr>\n",
       "    <tr>\n",
       "      <th>funny</th>\n",
       "      <td>0.002888</td>\n",
       "      <td>0.689398</td>\n",
       "      <td>0.328745</td>\n",
       "      <td>0.689398</td>\n",
       "      <td>0.589673</td>\n",
       "      <td>0.261302</td>\n",
       "      <td>0.419339</td>\n",
       "      <td>0.440480</td>\n",
       "      <td>0.448318</td>\n",
       "      <td>0.681456</td>\n",
       "      <td>0.431158</td>\n",
       "      <td>0.654503</td>\n",
       "      <td>0.844814</td>\n",
       "      <td>0.381613</td>\n",
       "      <td>1.000000</td>\n",
       "      <td>0.240260</td>\n",
       "      <td>0.843471</td>\n",
       "    </tr>\n",
       "    <tr>\n",
       "      <th>review_count</th>\n",
       "      <td>0.010328</td>\n",
       "      <td>0.351760</td>\n",
       "      <td>0.153434</td>\n",
       "      <td>0.351760</td>\n",
       "      <td>0.303549</td>\n",
       "      <td>0.103294</td>\n",
       "      <td>0.194481</td>\n",
       "      <td>0.247417</td>\n",
       "      <td>0.117788</td>\n",
       "      <td>0.352080</td>\n",
       "      <td>0.144913</td>\n",
       "      <td>0.348556</td>\n",
       "      <td>0.260627</td>\n",
       "      <td>0.595719</td>\n",
       "      <td>0.240260</td>\n",
       "      <td>1.000000</td>\n",
       "      <td>0.298556</td>\n",
       "    </tr>\n",
       "    <tr>\n",
       "      <th>useful</th>\n",
       "      <td>0.003633</td>\n",
       "      <td>0.658446</td>\n",
       "      <td>0.314600</td>\n",
       "      <td>0.658446</td>\n",
       "      <td>0.555599</td>\n",
       "      <td>0.239819</td>\n",
       "      <td>0.381040</td>\n",
       "      <td>0.430591</td>\n",
       "      <td>0.370907</td>\n",
       "      <td>0.694519</td>\n",
       "      <td>0.384007</td>\n",
       "      <td>0.601251</td>\n",
       "      <td>0.920161</td>\n",
       "      <td>0.476943</td>\n",
       "      <td>0.843471</td>\n",
       "      <td>0.298556</td>\n",
       "      <td>1.000000</td>\n",
       "    </tr>\n",
       "  </tbody>\n",
       "</table>\n",
       "</div>"
      ],
      "text/plain": [
       "                    average_stars  compliment_cool  compliment_cute  \\\n",
       "average_stars            1.000000         0.004955         0.002208   \n",
       "compliment_cool          0.004955         1.000000         0.637884   \n",
       "compliment_cute          0.002208         0.637884         1.000000   \n",
       "compliment_funny         0.004955         1.000000         0.637884   \n",
       "compliment_hot           0.004424         0.922982         0.645190   \n",
       "compliment_list          0.001194         0.524139         0.943909   \n",
       "compliment_more          0.002281         0.698514         0.934712   \n",
       "compliment_note          0.002279         0.626849         0.448215   \n",
       "compliment_photos        0.001948         0.692400         0.853470   \n",
       "compliment_plain         0.004772         0.892175         0.539704   \n",
       "compliment_profile       0.001850         0.690345         0.892148   \n",
       "compliment_writer        0.004204         0.925280         0.692343   \n",
       "cool                     0.004169         0.663084         0.315016   \n",
       "fans                     0.010477         0.569677         0.277186   \n",
       "funny                    0.002888         0.689398         0.328745   \n",
       "review_count             0.010328         0.351760         0.153434   \n",
       "useful                   0.003633         0.658446         0.314600   \n",
       "\n",
       "                    compliment_funny  compliment_hot  compliment_list  \\\n",
       "average_stars               0.004955        0.004424         0.001194   \n",
       "compliment_cool             1.000000        0.922982         0.524139   \n",
       "compliment_cute             0.637884        0.645190         0.943909   \n",
       "compliment_funny            1.000000        0.922982         0.524139   \n",
       "compliment_hot              0.922982        1.000000         0.488109   \n",
       "compliment_list             0.524139        0.488109         1.000000   \n",
       "compliment_more             0.698514        0.654516         0.951548   \n",
       "compliment_note             0.626849        0.708887         0.397535   \n",
       "compliment_photos           0.692400        0.657912         0.848836   \n",
       "compliment_plain            0.892175        0.766171         0.458001   \n",
       "compliment_profile          0.690345        0.651110         0.911373   \n",
       "compliment_writer           0.925280        0.849750         0.633854   \n",
       "cool                        0.663084        0.561949         0.243560   \n",
       "fans                        0.569677        0.528990         0.148062   \n",
       "funny                       0.689398        0.589673         0.261302   \n",
       "review_count                0.351760        0.303549         0.103294   \n",
       "useful                      0.658446        0.555599         0.239819   \n",
       "\n",
       "                    compliment_more  compliment_note  compliment_photos  \\\n",
       "average_stars              0.002281         0.002279           0.001948   \n",
       "compliment_cool            0.698514         0.626849           0.692400   \n",
       "compliment_cute            0.934712         0.448215           0.853470   \n",
       "compliment_funny           0.698514         0.626849           0.692400   \n",
       "compliment_hot             0.654516         0.708887           0.657912   \n",
       "compliment_list            0.951548         0.397535           0.848836   \n",
       "compliment_more            1.000000         0.511596           0.882017   \n",
       "compliment_note            0.511596         1.000000           0.483627   \n",
       "compliment_photos          0.882017         0.483627           1.000000   \n",
       "compliment_plain           0.615690         0.586514           0.603898   \n",
       "compliment_profile         0.964811         0.484896           0.853324   \n",
       "compliment_writer          0.798392         0.603333           0.775588   \n",
       "cool                       0.383817         0.417652           0.384438   \n",
       "fans                       0.274604         0.384312           0.224731   \n",
       "funny                      0.419339         0.440480           0.448318   \n",
       "review_count               0.194481         0.247417           0.117788   \n",
       "useful                     0.381040         0.430591           0.370907   \n",
       "\n",
       "                    compliment_plain  compliment_profile  compliment_writer  \\\n",
       "average_stars               0.004772            0.001850           0.004204   \n",
       "compliment_cool             0.892175            0.690345           0.925280   \n",
       "compliment_cute             0.539704            0.892148           0.692343   \n",
       "compliment_funny            0.892175            0.690345           0.925280   \n",
       "compliment_hot              0.766171            0.651110           0.849750   \n",
       "compliment_list             0.458001            0.911373           0.633854   \n",
       "compliment_more             0.615690            0.964811           0.798392   \n",
       "compliment_note             0.586514            0.484896           0.603333   \n",
       "compliment_photos           0.603898            0.853324           0.775588   \n",
       "compliment_plain            1.000000            0.609914           0.840796   \n",
       "compliment_profile          0.609914            1.000000           0.795236   \n",
       "compliment_writer           0.840796            0.795236           1.000000   \n",
       "cool                        0.677567            0.391188           0.606207   \n",
       "fans                        0.596729            0.226154           0.527343   \n",
       "funny                       0.681456            0.431158           0.654503   \n",
       "review_count                0.352080            0.144913           0.348556   \n",
       "useful                      0.694519            0.384007           0.601251   \n",
       "\n",
       "                        cool      fans     funny  review_count    useful  \n",
       "average_stars       0.004169  0.010477  0.002888      0.010328  0.003633  \n",
       "compliment_cool     0.663084  0.569677  0.689398      0.351760  0.658446  \n",
       "compliment_cute     0.315016  0.277186  0.328745      0.153434  0.314600  \n",
       "compliment_funny    0.663084  0.569677  0.689398      0.351760  0.658446  \n",
       "compliment_hot      0.561949  0.528990  0.589673      0.303549  0.555599  \n",
       "compliment_list     0.243560  0.148062  0.261302      0.103294  0.239819  \n",
       "compliment_more     0.383817  0.274604  0.419339      0.194481  0.381040  \n",
       "compliment_note     0.417652  0.384312  0.440480      0.247417  0.430591  \n",
       "compliment_photos   0.384438  0.224731  0.448318      0.117788  0.370907  \n",
       "compliment_plain    0.677567  0.596729  0.681456      0.352080  0.694519  \n",
       "compliment_profile  0.391188  0.226154  0.431158      0.144913  0.384007  \n",
       "compliment_writer   0.606207  0.527343  0.654503      0.348556  0.601251  \n",
       "cool                1.000000  0.433918  0.844814      0.260627  0.920161  \n",
       "fans                0.433918  1.000000  0.381613      0.595719  0.476943  \n",
       "funny               0.844814  0.381613  1.000000      0.240260  0.843471  \n",
       "review_count        0.260627  0.595719  0.240260      1.000000  0.298556  \n",
       "useful              0.920161  0.476943  0.843471      0.298556  1.000000  "
      ]
     },
     "execution_count": 159,
     "metadata": {},
     "output_type": "execute_result"
    }
   ],
   "source": [
    "user.select_dtypes(include=['number']).corr()"
   ]
  },
  {
   "cell_type": "code",
   "execution_count": 163,
   "metadata": {
    "collapsed": false
   },
   "outputs": [
    {
     "data": {
      "image/png": "[encoded data removed]",
      "text/plain": [
       "<matplotlib.figure.Figure object at 0x7ffb4741a410>"
      ]
     },
     "metadata": {},
     "output_type": "display_data"
    }
   ],
   "source": [
    "def correlation_matrix(df):\n",
    "    from matplotlib import pyplot as plt\n",
    "    from matplotlib import cm as cm\n",
    "\n",
    "    fig = plt.figure(figsize=(16,16))\n",
    "    ax1 = fig.add_subplot(111)\n",
    "    cmap = cm.get_cmap('jet', 30)\n",
    "    cax = ax1.imshow(df.corr(), interpolation=\"nearest\", cmap=cmap)\n",
    "    ax1.grid(True)\n",
    "    plt.title('Numeric Feature Correlation')\n",
    "    labels = user.select_dtypes(include=['number']).columns\n",
    "    ax1.set_xticks(np.arange(len(labels)))\n",
    "    ax1.set_yticks(np.arange(len(labels)))\n",
    "    ax1.set_xticklabels(labels,fontsize=10,rotation=90)\n",
    "    ax1.set_yticklabels(labels,fontsize=10)\n",
    "#     Add colorbar, make sure to specify tick locations to match desired ticklabels\n",
    "    fig.colorbar(cax, ticks=[.75,.8,.85,.90,.95,1])\n",
    "    plt.show()\n",
    "\n",
    "correlation_matrix(user.select_dtypes(include=['number']))"
   ]
  },
  {
   "cell_type": "code",
   "execution_count": 165,
   "metadata": {
    "collapsed": false
   },
   "outputs": [
    {
     "data": {
      "image/png": "[encoded data removed]",
      "text/plain": [
       "<matplotlib.figure.Figure object at 0x7ffb3d104d90>"
      ]
     },
     "metadata": {},
     "output_type": "display_data"
    }
   ],
   "source": [
    "plt.scatter(user['average_stars'], user['review_count'])\n",
    "plt.show()"
   ]
  },
  {
   "cell_type": "code",
   "execution_count": 166,
   "metadata": {
    "collapsed": false
   },
   "outputs": [
    {
     "data": {
      "image/png": "[encoded data removed]",
      "text/plain": [
       "<matplotlib.figure.Figure object at 0x7ffc4d04efd0>"
      ]
     },
     "metadata": {},
     "output_type": "display_data"
    }
   ],
   "source": [
    "plt.scatter(user['average_stars'], user['useful'])\n",
    "plt.show()"
   ]
  },
  {
   "cell_type": "code",
   "execution_count": 167,
   "metadata": {
    "collapsed": false
   },
   "outputs": [
    {
     "data": {
      "image/png": "[encoded data removed]",
      "text/plain": [
       "<matplotlib.figure.Figure object at 0x7ffc3a1f9a10>"
      ]
     },
     "metadata": {},
     "output_type": "display_data"
    }
   ],
   "source": [
    "plt.scatter(user['review_count'], user['useful'])\n",
    "plt.show()"
   ]
  },
  {
   "cell_type": "code",
   "execution_count": 168,
   "metadata": {
    "collapsed": false
   },
   "outputs": [
    {
     "data": {
      "image/png": "[encoded data removed]",
      "text/plain": [
       "<matplotlib.figure.Figure object at 0x7ffc2426e150>"
      ]
     },
     "metadata": {},
     "output_type": "display_data"
    }
   ],
   "source": [
    "plt.scatter(user['useful'], user['fans'])\n",
    "plt.show()"
   ]
  },
  {
   "cell_type": "code",
   "execution_count": null,
   "metadata": {
    "collapsed": true
   },
   "outputs": [],
   "source": []
  },
  {
   "cell_type": "code",
   "execution_count": null,
   "metadata": {
    "collapsed": true
   },
   "outputs": [],
   "source": []
  },
  {
   "cell_type": "markdown",
   "metadata": {},
   "source": [
    "# Checkin"
   ]
  },
  {
   "cell_type": "code",
   "execution_count": null,
   "metadata": {
    "collapsed": true
   },
   "outputs": [],
   "source": [
    "{\n",
    "    \"time\":[\"an array of check ins with the format day-hour:number of check ins from hour to hour+1\"],\n",
    "    \"business_id\":\"encrypted business id\",\n",
    "    \"type\":\"checkin\"\n",
    "}"
   ]
  },
  {
   "cell_type": "code",
   "execution_count": 169,
   "metadata": {
    "collapsed": false
   },
   "outputs": [
    {
     "data": {
      "text/plain": [
       "125532"
      ]
     },
     "execution_count": 169,
     "metadata": {},
     "output_type": "execute_result"
    }
   ],
   "source": [
    "len(checkin)"
   ]
  },
  {
   "cell_type": "code",
   "execution_count": 170,
   "metadata": {
    "collapsed": false
   },
   "outputs": [
    {
     "data": {
      "text/plain": [
       "Index([u'business_id', u'time', u'type'], dtype='object')"
      ]
     },
     "execution_count": 170,
     "metadata": {},
     "output_type": "execute_result"
    }
   ],
   "source": [
    "checkin.columns"
   ]
  },
  {
   "cell_type": "code",
   "execution_count": 171,
   "metadata": {
    "collapsed": false
   },
   "outputs": [
    {
     "data": {
      "text/html": [
       "<div>\n",
       "<table border=\"1\" class=\"dataframe\">\n",
       "  <thead>\n",
       "    <tr style=\"text-align: right;\">\n",
       "      <th></th>\n",
       "      <th>business_id</th>\n",
       "      <th>time</th>\n",
       "      <th>type</th>\n",
       "    </tr>\n",
       "  </thead>\n",
       "  <tbody>\n",
       "    <tr>\n",
       "      <th>0</th>\n",
       "      <td>7KPBkxAOEtb3QeIL9PEErg</td>\n",
       "      <td>[Fri-0:2, Sat-0:1, Sun-0:1, Wed-0:2, Sat-1:2, ...</td>\n",
       "      <td>checkin</td>\n",
       "    </tr>\n",
       "    <tr>\n",
       "      <th>1</th>\n",
       "      <td>kREVIrSBbtqBhIYkTccQUg</td>\n",
       "      <td>[Mon-13:1, Thu-13:1, Sat-16:1, Wed-17:1, Sun-1...</td>\n",
       "      <td>checkin</td>\n",
       "    </tr>\n",
       "    <tr>\n",
       "      <th>2</th>\n",
       "      <td>tJRDll5yqpZwehenzE2cSg</td>\n",
       "      <td>[Thu-0:1, Mon-1:1, Mon-12:1, Sat-16:1]</td>\n",
       "      <td>checkin</td>\n",
       "    </tr>\n",
       "    <tr>\n",
       "      <th>3</th>\n",
       "      <td>nhZ1HGWD8lMErdn3FuWuTQ</td>\n",
       "      <td>[Fri-0:1, Sat-0:1, Sun-0:1, Thu-0:1, Wed-0:1, ...</td>\n",
       "      <td>checkin</td>\n",
       "    </tr>\n",
       "    <tr>\n",
       "      <th>4</th>\n",
       "      <td>8bY6M2yiWOF2ilfmGS34Fw</td>\n",
       "      <td>[Sat-11:1, Fri-13:1, Thu-14:1]</td>\n",
       "      <td>checkin</td>\n",
       "    </tr>\n",
       "  </tbody>\n",
       "</table>\n",
       "</div>"
      ],
      "text/plain": [
       "              business_id                                               time  \\\n",
       "0  7KPBkxAOEtb3QeIL9PEErg  [Fri-0:2, Sat-0:1, Sun-0:1, Wed-0:2, Sat-1:2, ...   \n",
       "1  kREVIrSBbtqBhIYkTccQUg  [Mon-13:1, Thu-13:1, Sat-16:1, Wed-17:1, Sun-1...   \n",
       "2  tJRDll5yqpZwehenzE2cSg             [Thu-0:1, Mon-1:1, Mon-12:1, Sat-16:1]   \n",
       "3  nhZ1HGWD8lMErdn3FuWuTQ  [Fri-0:1, Sat-0:1, Sun-0:1, Thu-0:1, Wed-0:1, ...   \n",
       "4  8bY6M2yiWOF2ilfmGS34Fw                     [Sat-11:1, Fri-13:1, Thu-14:1]   \n",
       "\n",
       "      type  \n",
       "0  checkin  \n",
       "1  checkin  \n",
       "2  checkin  \n",
       "3  checkin  \n",
       "4  checkin  "
      ]
     },
     "execution_count": 171,
     "metadata": {},
     "output_type": "execute_result"
    }
   ],
   "source": [
    "checkin.head()"
   ]
  },
  {
   "cell_type": "code",
   "execution_count": 172,
   "metadata": {
    "collapsed": false
   },
   "outputs": [
    {
     "data": {
      "text/plain": [
       "[u'Fri-0:2', u'Sat-0:1', u'Sun-0:1', u'Wed-0:2', u'Sat-1:2', u'Thu-1:1', u'Wed-1:1', u'Sat-2:1', u'Sun-2:2', u'Thu-2:1', u'Wed-2:1', u'Fri-3:1', u'Sun-3:3', u'Thu-4:1', u'Tue-4:1', u'Sun-6:1', u'Wed-6:1', u'Fri-10:1', u'Sat-10:1', u'Mon-11:1', u'Wed-11:2', u'Mon-12:1', u'Sat-12:1', u'Tue-12:1', u'Sat-13:2', u'Thu-13:1', u'Tue-13:2', u'Wed-13:2', u'Fri-14:2', u'Sat-14:1', u'Wed-14:1', u'Fri-15:1', u'Sat-15:1', u'Thu-15:1', u'Tue-15:1', u'Fri-16:1', u'Sat-16:2', u'Sun-16:1', u'Tue-16:1', u'Sat-17:3', u'Sun-17:1', u'Fri-18:1', u'Mon-18:1', u'Sat-18:2', u'Sun-18:1', u'Tue-18:2', u'Wed-18:1', u'Fri-19:2', u'Mon-19:1', u'Sun-19:2', u'Thu-19:1', u'Wed-19:1', u'Mon-20:1', u'Sun-20:5', u'Thu-20:1', u'Tue-20:1', u'Wed-20:2', u'Fri-21:2', u'Sun-21:1', u'Thu-21:4', u'Tue-21:1', u'Wed-21:1', u'Fri-22:1', u'Thu-22:1', u'Fri-23:1', u'Mon-23:1', u'Sat-23:3', u'Sun-23:1', u'Thu-23:2', u'Tue-23:1']"
      ]
     },
     "execution_count": 172,
     "metadata": {},
     "output_type": "execute_result"
    }
   ],
   "source": [
    "checkin['time'][0]"
   ]
  },
  {
   "cell_type": "code",
   "execution_count": null,
   "metadata": {
    "collapsed": true
   },
   "outputs": [],
   "source": []
  },
  {
   "cell_type": "code",
   "execution_count": null,
   "metadata": {
    "collapsed": true
   },
   "outputs": [],
   "source": []
  },
  {
   "cell_type": "markdown",
   "metadata": {},
   "source": [
    "# Tip"
   ]
  },
  {
   "cell_type": "code",
   "execution_count": null,
   "metadata": {
    "collapsed": true
   },
   "outputs": [],
   "source": [
    "{\n",
    "    \"text\":\"text of the tip\",\n",
    "    \"date\":\"date formatted like 2009-12-19\",\n",
    "    \"likes\":compliment count,\n",
    "    \"business_id\":\"encrypted business id\",\n",
    "    \"user_id\":\"encrypted user id\",\n",
    "    \"type\":\"tip\"\n",
    "}"
   ]
  },
  {
   "cell_type": "code",
   "execution_count": 173,
   "metadata": {
    "collapsed": false
   },
   "outputs": [
    {
     "data": {
      "text/plain": [
       "946600"
      ]
     },
     "execution_count": 173,
     "metadata": {},
     "output_type": "execute_result"
    }
   ],
   "source": [
    "len(tip)"
   ]
  },
  {
   "cell_type": "code",
   "execution_count": 174,
   "metadata": {
    "collapsed": false
   },
   "outputs": [
    {
     "data": {
      "text/plain": [
       "Index([u'business_id', u'date', u'likes', u'text', u'type', u'user_id'], dtype='object')"
      ]
     },
     "execution_count": 174,
     "metadata": {},
     "output_type": "execute_result"
    }
   ],
   "source": [
    "tip.columns"
   ]
  },
  {
   "cell_type": "code",
   "execution_count": 175,
   "metadata": {
    "collapsed": false
   },
   "outputs": [
    {
     "data": {
      "text/html": [
       "<div>\n",
       "<table border=\"1\" class=\"dataframe\">\n",
       "  <thead>\n",
       "    <tr style=\"text-align: right;\">\n",
       "      <th></th>\n",
       "      <th>business_id</th>\n",
       "      <th>date</th>\n",
       "      <th>likes</th>\n",
       "      <th>text</th>\n",
       "      <th>type</th>\n",
       "      <th>user_id</th>\n",
       "    </tr>\n",
       "  </thead>\n",
       "  <tbody>\n",
       "    <tr>\n",
       "      <th>0</th>\n",
       "      <td>tJRDll5yqpZwehenzE2cSg</td>\n",
       "      <td>2012-07-15</td>\n",
       "      <td>0</td>\n",
       "      <td>Get here early enough to have dinner.</td>\n",
       "      <td>tip</td>\n",
       "      <td>zcTZk7OG8ovAmh_fenH21g</td>\n",
       "    </tr>\n",
       "    <tr>\n",
       "      <th>1</th>\n",
       "      <td>jH19V2I9fIslnNhDzPmdkA</td>\n",
       "      <td>2015-08-12</td>\n",
       "      <td>0</td>\n",
       "      <td>Great breakfast large portions and friendly wa...</td>\n",
       "      <td>tip</td>\n",
       "      <td>ZcLKXikTHYOnYt5VYRO5sg</td>\n",
       "    </tr>\n",
       "    <tr>\n",
       "      <th>2</th>\n",
       "      <td>dAa0hB2yrnHzVmsCkN4YvQ</td>\n",
       "      <td>2014-06-20</td>\n",
       "      <td>0</td>\n",
       "      <td>Nice place. Great staff.  A fixture in the tow...</td>\n",
       "      <td>tip</td>\n",
       "      <td>oaYhjqBbh18ZhU0bpyzSuw</td>\n",
       "    </tr>\n",
       "    <tr>\n",
       "      <th>3</th>\n",
       "      <td>dAa0hB2yrnHzVmsCkN4YvQ</td>\n",
       "      <td>2016-10-12</td>\n",
       "      <td>0</td>\n",
       "      <td>Happy hour 5-7 Monday - Friday</td>\n",
       "      <td>tip</td>\n",
       "      <td>ulQ8Nyj7jCUR8M83SUMoRQ</td>\n",
       "    </tr>\n",
       "    <tr>\n",
       "      <th>4</th>\n",
       "      <td>SqW3igh1_Png336VIb5DUA</td>\n",
       "      <td>2016-07-03</td>\n",
       "      <td>0</td>\n",
       "      <td>Come early on Sunday's to avoid the rush</td>\n",
       "      <td>tip</td>\n",
       "      <td>ulQ8Nyj7jCUR8M83SUMoRQ</td>\n",
       "    </tr>\n",
       "  </tbody>\n",
       "</table>\n",
       "</div>"
      ],
      "text/plain": [
       "              business_id       date  likes  \\\n",
       "0  tJRDll5yqpZwehenzE2cSg 2012-07-15      0   \n",
       "1  jH19V2I9fIslnNhDzPmdkA 2015-08-12      0   \n",
       "2  dAa0hB2yrnHzVmsCkN4YvQ 2014-06-20      0   \n",
       "3  dAa0hB2yrnHzVmsCkN4YvQ 2016-10-12      0   \n",
       "4  SqW3igh1_Png336VIb5DUA 2016-07-03      0   \n",
       "\n",
       "                                                text type  \\\n",
       "0              Get here early enough to have dinner.  tip   \n",
       "1  Great breakfast large portions and friendly wa...  tip   \n",
       "2  Nice place. Great staff.  A fixture in the tow...  tip   \n",
       "3                     Happy hour 5-7 Monday - Friday  tip   \n",
       "4           Come early on Sunday's to avoid the rush  tip   \n",
       "\n",
       "                  user_id  \n",
       "0  zcTZk7OG8ovAmh_fenH21g  \n",
       "1  ZcLKXikTHYOnYt5VYRO5sg  \n",
       "2  oaYhjqBbh18ZhU0bpyzSuw  \n",
       "3  ulQ8Nyj7jCUR8M83SUMoRQ  \n",
       "4  ulQ8Nyj7jCUR8M83SUMoRQ  "
      ]
     },
     "execution_count": 175,
     "metadata": {},
     "output_type": "execute_result"
    }
   ],
   "source": [
    "tip.head()"
   ]
  },
  {
   "cell_type": "code",
   "execution_count": 176,
   "metadata": {
    "collapsed": false
   },
   "outputs": [
    {
     "data": {
      "image/png": "[encoded data removed]",
      "text/plain": [
       "<matplotlib.figure.Figure object at 0x7ffc18b8cb50>"
      ]
     },
     "metadata": {},
     "output_type": "display_data"
    }
   ],
   "source": [
    "plt.plot(tip['likes'])\n",
    "plt.show()"
   ]
  },
  {
   "cell_type": "code",
   "execution_count": null,
   "metadata": {
    "collapsed": true
   },
   "outputs": [],
   "source": []
  },
  {
   "cell_type": "code",
   "execution_count": null,
   "metadata": {
    "collapsed": true
   },
   "outputs": [],
   "source": []
  },
  {
   "cell_type": "code",
   "execution_count": null,
   "metadata": {
    "collapsed": true
   },
   "outputs": [],
   "source": []
  },
  {
   "cell_type": "code",
   "execution_count": null,
   "metadata": {
    "collapsed": true
   },
   "outputs": [],
   "source": []
  }
 ],
 "metadata": {
  "kernelspec": {
   "display_name": "myPy27",
   "language": "python",
   "name": "mypy27"
  },
  "language_info": {
   "codemirror_mode": {
    "name": "ipython",
    "version": 2
   },
   "file_extension": ".py",
   "mimetype": "text/x-python",
   "name": "python",
   "nbconvert_exporter": "python",
   "pygments_lexer": "ipython2",
   "version": "2.7.13"
  }
 },
 "nbformat": 4,
 "nbformat_minor": 0
}
