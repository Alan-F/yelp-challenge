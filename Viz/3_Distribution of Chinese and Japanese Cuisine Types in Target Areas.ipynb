{
 "cells": [
  {
   "cell_type": "code",
   "execution_count": 2,
   "metadata": {
    "collapsed": false
   },
   "outputs": [],
   "source": [
    "import plotly.plotly as py\n",
    "import cufflinks as cf\n",
    "import pandas as pd\n",
    "import numpy as np\n",
    "import json\n",
    "with open(\"/Users/Alan/.plotly/.credentials\", 'rb') as fi:\n",
    "    cred= json.load(fi, encoding='utf-8')\n",
    "myapi = cred['api_key']\n",
    "username = cred['username']\n",
    "py.sign_in(username, myapi)"
   ]
  },
  {
   "cell_type": "code",
   "execution_count": 6,
   "metadata": {
    "collapsed": true
   },
   "outputs": [],
   "source": [
    "j_cuisine = pd.read_pickle('../yelp-challenge/data_processeing/Yelp_Cuisine_Japanese.pkl')\n",
    "c_cuisine = pd.read_pickle('../yelp-challenge/data_processeing/Yelp_Cuisine_Chinese.pkl')\n",
    "ALL_JPN_BID = j_cuisine[j_cuisine.cuisine_Japanese == 2][['business_id']]\n",
    "ALL_CHN_BID = c_cuisine[c_cuisine.cuisine_Chinese == 2][['business_id']]\n",
    "area = pd.read_pickle(\"../yelp-challenge/data_processeing/spatial_labels.pkl\")\n",
    "TOR = area[area.spatial_label == 3]\n",
    "PHO = area[area.spatial_label == 2]\n",
    "LAS = area[area.spatial_label == 7]"
   ]
  },
  {
   "cell_type": "code",
   "execution_count": 75,
   "metadata": {
    "collapsed": true
   },
   "outputs": [],
   "source": [
    "cities = {}"
   ]
  },
  {
   "cell_type": "code",
   "execution_count": 76,
   "metadata": {
    "collapsed": false
   },
   "outputs": [],
   "source": [
    "c = len(TOR.join(ALL_CHN_BID, how='inner'))\n",
    "j = len(TOR.join(ALL_JPN_BID, how='inner'))\n",
    "o = len(TOR) - len(TOR.join(ALL_CHN_BID, how='inner')) - len(TOR.join(ALL_JPN_BID, how='inner'))\n",
    "cities['Torronto'] = [o,c,j]"
   ]
  },
  {
   "cell_type": "code",
   "execution_count": 77,
   "metadata": {
    "collapsed": false
   },
   "outputs": [],
   "source": [
    "c = len(PHO.join(ALL_CHN_BID, how='inner'))\n",
    "j = len(PHO.join(ALL_JPN_BID, how='inner'))\n",
    "o = len(PHO) - len(PHO.join(ALL_CHN_BID, how='inner')) - len(PHO.join(ALL_JPN_BID, how='inner'))\n",
    "cities['Phoenix'] = [o,c,j]"
   ]
  },
  {
   "cell_type": "code",
   "execution_count": 78,
   "metadata": {
    "collapsed": true
   },
   "outputs": [],
   "source": [
    "c = len(LAS.join(ALL_CHN_BID, how='inner'))\n",
    "j = len(LAS.join(ALL_JPN_BID, how='inner'))\n",
    "o = len(LAS) - len(LAS.join(ALL_CHN_BID, how='inner')) - len(LAS.join(ALL_JPN_BID, how='inner'))\n",
    "cities['Las Vegas'] = [o,c,j]"
   ]
  },
  {
   "cell_type": "code",
   "execution_count": 79,
   "metadata": {
    "collapsed": false
   },
   "outputs": [
    {
     "data": {
      "text/html": [
       "<div>\n",
       "<table border=\"1\" class=\"dataframe\">\n",
       "  <thead>\n",
       "    <tr style=\"text-align: right;\">\n",
       "      <th></th>\n",
       "      <th>Others</th>\n",
       "      <th>Chinese Cuisine</th>\n",
       "      <th>Japanese Cuisine</th>\n",
       "    </tr>\n",
       "  </thead>\n",
       "  <tbody>\n",
       "    <tr>\n",
       "      <th>Las Vegas</th>\n",
       "      <td>2899</td>\n",
       "      <td>410</td>\n",
       "      <td>255</td>\n",
       "    </tr>\n",
       "    <tr>\n",
       "      <th>Phoenix</th>\n",
       "      <td>4546</td>\n",
       "      <td>482</td>\n",
       "      <td>246</td>\n",
       "    </tr>\n",
       "    <tr>\n",
       "      <th>Torronto</th>\n",
       "      <td>5060</td>\n",
       "      <td>853</td>\n",
       "      <td>551</td>\n",
       "    </tr>\n",
       "  </tbody>\n",
       "</table>\n",
       "</div>"
      ],
      "text/plain": [
       "           Others  Chinese Cuisine  Japanese Cuisine\n",
       "Las Vegas    2899              410               255\n",
       "Phoenix      4546              482               246\n",
       "Torronto     5060              853               551"
      ]
     },
     "execution_count": 79,
     "metadata": {},
     "output_type": "execute_result"
    }
   ],
   "source": [
    "df = pd.DataFrame.from_dict(cities, orient='index')\n",
    "df.columns = ['Others', 'Chinese Cuisine', 'Japanese Cuisine']\n",
    "df"
   ]
  },
  {
   "cell_type": "code",
   "execution_count": 81,
   "metadata": {
    "collapsed": false
   },
   "outputs": [
    {
     "data": {
      "text/html": [
       "<iframe id=\"igraph\" scrolling=\"no\" style=\"border:none;\" seamless=\"seamless\" src=\"https://plot.ly/~proidea/26.embed\" height=\"525px\" width=\"100%\"></iframe>"
      ],
      "text/plain": [
       "<plotly.tools.PlotlyDisplay object>"
      ]
     },
     "execution_count": 81,
     "metadata": {},
     "output_type": "execute_result"
    }
   ],
   "source": [
    "cf.set_config_file(offline=False, world_readable=True, theme='ggplot')\n",
    "df.iplot(kind='barh',barmode='stack', bargap=.1, \\\n",
    "        title='Distribution of Chinese and Japanese Cuisine Types in Target Areas', \\\n",
    "         xTitle='The Number of Restaurants', yTitle='The Greater City Area')"
   ]
  }
 ],
 "metadata": {
  "kernelspec": {
   "display_name": "Python [default]",
   "language": "python",
   "name": "python2"
  },
  "language_info": {
   "codemirror_mode": {
    "name": "ipython",
    "version": 2
   },
   "file_extension": ".py",
   "mimetype": "text/x-python",
   "name": "python",
   "nbconvert_exporter": "python",
   "pygments_lexer": "ipython2",
   "version": "2.7.12"
  }
 },
 "nbformat": 4,
 "nbformat_minor": 1
}
