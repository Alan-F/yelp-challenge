{
 "cells": [
  {
   "cell_type": "code",
   "execution_count": 1,
   "metadata": {
    "collapsed": true
   },
   "outputs": [],
   "source": [
    "import pandas as pd\n",
    "import plotly.plotly as py\n",
    "import plotly.figure_factory as ff\n",
    "import json\n",
    "with open(\"/Users/Alan/.plotly/.credentials\", 'rb') as fi:\n",
    "    cred= json.load(fi, encoding='utf-8')\n",
    "myapi = cred['api_key']\n",
    "username = cred['username']\n",
    "py.sign_in(username, myapi)"
   ]
  },
  {
   "cell_type": "markdown",
   "metadata": {},
   "source": [
    "#### Area Index\n",
    "- TOR: 3\n",
    "- PHO: 2\n",
    "- LAS: 7"
   ]
  },
  {
   "cell_type": "code",
   "execution_count": 2,
   "metadata": {
    "collapsed": true
   },
   "outputs": [],
   "source": [
    "b = pd.read_pickle(\"../yelp-challenge/data_all_cities/all_cities_preprocess.pkl\")\n",
    "area = pd.read_pickle(\"../yelp-challenge/data_processeing/spatial_labels.pkl\")\n",
    "TOR = area[area.spatial_label == 3]\n",
    "PHO = area[area.spatial_label == 2]\n",
    "LAS = area[area.spatial_label == 7]"
   ]
  },
  {
   "cell_type": "markdown",
   "metadata": {},
   "source": [
    " <br/><br/>\n",
    "# By # of Business_ID\n",
    "<br/>"
   ]
  },
  {
   "cell_type": "markdown",
   "metadata": {},
   "source": [
    "## The Greater Torronto Area"
   ]
  },
  {
   "cell_type": "code",
   "execution_count": 10,
   "metadata": {
    "collapsed": false
   },
   "outputs": [],
   "source": [
    "Tcity = b[['city']].join(TOR, how='inner').city.value_counts().keys().values[:4]"
   ]
  },
  {
   "cell_type": "code",
   "execution_count": 11,
   "metadata": {
    "collapsed": false
   },
   "outputs": [
    {
     "data": {
      "text/plain": [
       "['Toronto', 'Mississauga', 'Markham', 'Vaughan']"
      ]
     },
     "execution_count": 11,
     "metadata": {},
     "output_type": "execute_result"
    }
   ],
   "source": [
    "map(str,Tcity)"
   ]
  },
  {
   "cell_type": "markdown",
   "metadata": {},
   "source": [
    "## The Greater Phoenix Area"
   ]
  },
  {
   "cell_type": "code",
   "execution_count": 12,
   "metadata": {
    "collapsed": false
   },
   "outputs": [],
   "source": [
    "Pcity = b[['city']].join(PHO, how='inner').city.value_counts().keys().values[:4]"
   ]
  },
  {
   "cell_type": "code",
   "execution_count": 13,
   "metadata": {
    "collapsed": false
   },
   "outputs": [
    {
     "data": {
      "text/plain": [
       "['Phoenix', 'Scottsdale', 'Mesa', 'Tempe']"
      ]
     },
     "execution_count": 13,
     "metadata": {},
     "output_type": "execute_result"
    }
   ],
   "source": [
    "map(str, Pcity)"
   ]
  },
  {
   "cell_type": "markdown",
   "metadata": {},
   "source": [
    "## The Greater Las Vegas Area"
   ]
  },
  {
   "cell_type": "code",
   "execution_count": 14,
   "metadata": {
    "collapsed": false
   },
   "outputs": [],
   "source": [
    "Lcity =b[['city']].join(LAS, how='inner').city.value_counts().keys().values[:4]"
   ]
  },
  {
   "cell_type": "code",
   "execution_count": 15,
   "metadata": {
    "collapsed": false
   },
   "outputs": [
    {
     "data": {
      "text/plain": [
       "['Las Vegas', 'Henderson', 'North Las Vegas', 'Boulder City']"
      ]
     },
     "execution_count": 15,
     "metadata": {},
     "output_type": "execute_result"
    }
   ],
   "source": [
    "map(str, Lcity)"
   ]
  },
  {
   "cell_type": "markdown",
   "metadata": {},
   "source": []
  },
  {
   "cell_type": "markdown",
   "metadata": {},
   "source": [
    "# PLOT"
   ]
  },
  {
   "cell_type": "code",
   "execution_count": 18,
   "metadata": {
    "collapsed": false
   },
   "outputs": [
    {
     "data": {
      "text/html": [
       "<iframe id=\"igraph\" scrolling=\"no\" style=\"border:none;\" seamless=\"seamless\" src=\"https://plot.ly/~proidea/28.embed\" height=\"170px\" width=\"100%\"></iframe>"
      ],
      "text/plain": [
       "<plotly.tools.PlotlyDisplay object>"
      ]
     },
     "execution_count": 18,
     "metadata": {},
     "output_type": "execute_result"
    }
   ],
   "source": [
    "data_matrix = [['Area', 'City1', 'City2', 'City3', 'City4', '...'],\n",
    "               ['The Greater \\nTorronto Area', 'Toronto', 'Mississauga', 'Markham', 'Vaughan', '...'],\n",
    "               ['The Greater \\nPhoenix Area', 'Phoenix', 'Scottsdale', 'Mesa', 'Tempe', '...'],\n",
    "               ['The Greater \\nLas Vegas Area', 'Las Vegas', 'Henderson', 'North Las Vegas', 'Boulder City', '...']]\n",
    "\n",
    "table = ff.create_table(data_matrix)\n",
    "py.iplot(table, filename='simple_table')"
   ]
  }
 ],
 "metadata": {
  "anaconda-cloud": {},
  "kernelspec": {
   "display_name": "Python [default]",
   "language": "python",
   "name": "python2"
  },
  "language_info": {
   "codemirror_mode": {
    "name": "ipython",
    "version": 2
   },
   "file_extension": ".py",
   "mimetype": "text/x-python",
   "name": "python",
   "nbconvert_exporter": "python",
   "pygments_lexer": "ipython2",
   "version": "2.7.12"
  }
 },
 "nbformat": 4,
 "nbformat_minor": 1
}
