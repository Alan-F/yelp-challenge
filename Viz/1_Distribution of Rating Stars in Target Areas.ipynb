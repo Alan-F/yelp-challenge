{
 "cells": [
  {
   "cell_type": "code",
   "execution_count": 8,
   "metadata": {
    "collapsed": false
   },
   "outputs": [],
   "source": [
    "import plotly.plotly as py\n",
    "import cufflinks as cf\n",
    "import pandas as pd\n",
    "import numpy as np\n",
    "import json\n",
    "\n",
    "with open(\"/Users/Alan/.plotly/.credentials\", 'rb') as fi:\n",
    "    cred= json.load(fi, encoding='utf-8')\n",
    "myapi = cred['api_key']\n",
    "username = cred['username']\n",
    "py.sign_in(username, myapi)"
   ]
  },
  {
   "cell_type": "markdown",
   "metadata": {},
   "source": [
    "#### Area Index\n",
    "- TOR: 3\n",
    "- PHO: 2\n",
    "- LAS: 7"
   ]
  },
  {
   "cell_type": "code",
   "execution_count": 34,
   "metadata": {
    "collapsed": false
   },
   "outputs": [],
   "source": [
    "b = pd.read_pickle(\"../yelp-challenge/data_all_cities/all_cities_preprocess.pkl\")\n",
    "area = pd.read_pickle(\"../yelp-challenge/data_processeing/spatial_labels.pkl\")\n",
    "area_star = b[['stars']].join(area)\n",
    "T_star = area_star[area_star.spatial_label == 3].groupby('stars').size()\n",
    "P_star = area_star[area_star.spatial_label == 2].groupby('stars').size()\n",
    "L_star = area_star[area_star.spatial_label == 7].groupby('stars').size()\n",
    "stars = pd.concat([T_star,P_star,L_star], axis=1)\n",
    "print area_star.stars.max(), area_star.stars.min()\n",
    "print len(area_star.stars.unique())\n",
    "stars = pd.concat([T_star,P_star,L_star], axis=1)\n",
    "stars.index = stars.index.values\n",
    "stars.columns = ['The Greater Torronto Area', 'The Greater Phoenix Area', 'The Greater Las Vegas Area']"
   ]
  },
  {
   "cell_type": "code",
   "execution_count": 73,
   "metadata": {
    "collapsed": false
   },
   "outputs": [
    {
     "data": {
      "text/html": [
       "<iframe id=\"igraph\" scrolling=\"no\" style=\"border:none;\" seamless=\"seamless\" src=\"https://plot.ly/~proidea/13.embed\" height=\"525px\" width=\"100%\"></iframe>"
      ],
      "text/plain": [
       "<plotly.tools.PlotlyDisplay object>"
      ]
     },
     "execution_count": 73,
     "metadata": {},
     "output_type": "execute_result"
    }
   ],
   "source": [
    "stars.iplot(kind='area', fill=True, title='Distribution of Rating Stars in Target Areas', xTitle='Rating Star', yTitle='The Number of Restaurants',bins=9)"
   ]
  }
 ],
 "metadata": {
  "anaconda-cloud": {},
  "kernelspec": {
   "display_name": "Python [default]",
   "language": "python",
   "name": "python2"
  },
  "language_info": {
   "codemirror_mode": {
    "name": "ipython",
    "version": 2
   },
   "file_extension": ".py",
   "mimetype": "text/x-python",
   "name": "python",
   "nbconvert_exporter": "python",
   "pygments_lexer": "ipython2",
   "version": "2.7.12"
  }
 },
 "nbformat": 4,
 "nbformat_minor": 1
}
