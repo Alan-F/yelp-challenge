{
 "cells": [
  {
   "cell_type": "markdown",
   "metadata": {},
   "source": [
    "# Combine Cuisine"
   ]
  },
  {
   "cell_type": "code",
   "execution_count": 56,
   "metadata": {
    "collapsed": true
   },
   "outputs": [],
   "source": [
    "import pandas as pd\n",
    "import numpy as np"
   ]
  },
  {
   "cell_type": "code",
   "execution_count": 3,
   "metadata": {
    "collapsed": false
   },
   "outputs": [],
   "source": [
    "## load all cat from pickle\n",
    "#df = pd.read_pickle('../data_all_cities/all_cities_preprocess.pkl')\n",
    "# df.head(2)"
   ]
  },
  {
   "cell_type": "markdown",
   "metadata": {},
   "source": [
    "## Function that creates a cuisine type feature"
   ]
  },
  {
   "cell_type": "code",
   "execution_count": 58,
   "metadata": {
    "collapsed": true
   },
   "outputs": [],
   "source": [
    "import pandas as pd\n",
    "import numpy as np\n",
    "\n",
    "def create_cuisine(path_df, tar_column, cuisine, path_culture, path_cuisine, save = False):\n",
    "    \"\"\"\n",
    "    This function creates a columne with spefic cruisine types\n",
    "    \n",
    "    Attribute:\n",
    "    path_df: imported dataframe with businesses and a column of lists of categories\n",
    "    tar_column: the columne in the df used to compare with our lists\n",
    "    cuisine: name of the created cuisine type column\n",
    "    path_culture: file path of the text file with a list of cultural words\n",
    "    path_cuisine: file path of the text file with a list of selected cuisine words\n",
    "    save: change it to \"True\" if save the output to pickle file\n",
    "    \n",
    "    Returns the original dataframe with a new cuisine column\n",
    "         -- 2 if the business category belongs to the selected cuisine\n",
    "         -- 1 if Not the selected cuisine (but with other region/culture related words)\n",
    "         -- 0 if it has no cultural labels\n",
    "    \"\"\"\n",
    "    # load dataframe\n",
    "    df = pd.read_pickle(path_df)\n",
    "    \n",
    "    # load saved txt file\n",
    "    list_culture = open(path_culture, 'rw').read().split('\\n')\n",
    "    list_cuisine = open(path_cuisine, 'rw').read().split('\\n')\n",
    "    \n",
    "    # assign numbers to each business\n",
    "    type_cuisine =  df[tar_column].apply(lambda l: 2 if len(set(l).intersection(list_cuisine)) > 0 \\\n",
    "                                   else 0 if len(set(l).intersection(list_culture)) == 0 \\\n",
    "                                   else 1)\n",
    "    df['cuisine_{}'.format(cuisine)] = type_cuisine\n",
    "    \n",
    "    if save:\n",
    "        df.to_pickle('Yelp_Cuisine_{}.p'.format(cuisine))\n",
    "    \n",
    "    return df"
   ]
  },
  {
   "cell_type": "code",
   "execution_count": null,
   "metadata": {
    "collapsed": true
   },
   "outputs": [],
   "source": []
  },
  {
   "cell_type": "markdown",
   "metadata": {},
   "source": [
    "## 1. Cuisine-- Chinese \n",
    "Chinese food, non-Chinese food, no-labeled"
   ]
  },
  {
   "cell_type": "code",
   "execution_count": 46,
   "metadata": {
    "collapsed": true
   },
   "outputs": [],
   "source": [
    "# parameters\n",
    "path_df = '../data_all_cities/all_cities_preprocess.pkl'\n",
    "path_culture = 'cat_culture.txt'\n",
    "path_cuisine = 'cat_culture-Chinese.txt'\n",
    "cuisine = 'Chinese'\n",
    "tar_column = 'categories'"
   ]
  },
  {
   "cell_type": "code",
   "execution_count": 47,
   "metadata": {
    "collapsed": false
   },
   "outputs": [],
   "source": [
    "# create column for Chinese cuisine type\n",
    "df_chinese = create_cuisine(path_df, tar_column, cuisine, path_culture, path_cuisine, save = False)"
   ]
  },
  {
   "cell_type": "code",
   "execution_count": 57,
   "metadata": {
    "collapsed": false
   },
   "outputs": [
    {
     "data": {
      "text/html": [
       "<div>\n",
       "<table border=\"1\" class=\"dataframe\">\n",
       "  <thead>\n",
       "    <tr style=\"text-align: right;\">\n",
       "      <th></th>\n",
       "      <th>address</th>\n",
       "      <th>attributes</th>\n",
       "      <th>business_id</th>\n",
       "      <th>categories</th>\n",
       "      <th>city</th>\n",
       "      <th>hours</th>\n",
       "      <th>is_open</th>\n",
       "      <th>latitude</th>\n",
       "      <th>longitude</th>\n",
       "      <th>name</th>\n",
       "      <th>...</th>\n",
       "      <th>RestaurantsDelivery</th>\n",
       "      <th>RestaurantsGoodForGroups</th>\n",
       "      <th>RestaurantsPriceRange2</th>\n",
       "      <th>RestaurantsReservations</th>\n",
       "      <th>RestaurantsTableService</th>\n",
       "      <th>RestaurantsTakeOut</th>\n",
       "      <th>Smoking</th>\n",
       "      <th>WheelchairAccessible</th>\n",
       "      <th>WiFi</th>\n",
       "      <th>cuisine_Chinese</th>\n",
       "    </tr>\n",
       "  </thead>\n",
       "  <tbody>\n",
       "    <tr>\n",
       "      <th>EDqCEAGXVGCH4FJXgqtjqg</th>\n",
       "      <td>979 Bloor Street W</td>\n",
       "      <td>[{u'Alcohol': u'none'}, {u'Ambience': {u'roman...</td>\n",
       "      <td>EDqCEAGXVGCH4FJXgqtjqg</td>\n",
       "      <td>[Restaurants, Pizza, Chicken Wings, Italian]</td>\n",
       "      <td>Toronto</td>\n",
       "      <td>[Monday 11:0-2:0, Tuesday 11:0-2:0, Wednesday ...</td>\n",
       "      <td>1</td>\n",
       "      <td>43.661054</td>\n",
       "      <td>-79.429089</td>\n",
       "      <td>Pizza Pizza</td>\n",
       "      <td>...</td>\n",
       "      <td>False</td>\n",
       "      <td>False</td>\n",
       "      <td>NaN</td>\n",
       "      <td>NaN</td>\n",
       "      <td>NaN</td>\n",
       "      <td>NaN</td>\n",
       "      <td>False</td>\n",
       "      <td>NaN</td>\n",
       "      <td>NaN</td>\n",
       "      <td>1</td>\n",
       "    </tr>\n",
       "    <tr>\n",
       "      <th>GDnbt3isfhd57T1QqU6flg</th>\n",
       "      <td>11072 No Frank Lloyd Wright</td>\n",
       "      <td>[{u'Alcohol': u'none'}, {u'Ambience': {u'roman...</td>\n",
       "      <td>GDnbt3isfhd57T1QqU6flg</td>\n",
       "      <td>[Tex-Mex, Mexican, Fast Food, Restaurants]</td>\n",
       "      <td>Scottsdale</td>\n",
       "      <td>[Monday 10:0-22:0, Tuesday 10:0-22:0, Wednesda...</td>\n",
       "      <td>1</td>\n",
       "      <td>33.586710</td>\n",
       "      <td>-111.835410</td>\n",
       "      <td>Taco Bell</td>\n",
       "      <td>...</td>\n",
       "      <td>False</td>\n",
       "      <td>False</td>\n",
       "      <td>NaN</td>\n",
       "      <td>NaN</td>\n",
       "      <td>NaN</td>\n",
       "      <td>NaN</td>\n",
       "      <td>False</td>\n",
       "      <td>NaN</td>\n",
       "      <td>NaN</td>\n",
       "      <td>1</td>\n",
       "    </tr>\n",
       "    <tr>\n",
       "      <th>a1Ba6XeIOP48e64YFD0dMw</th>\n",
       "      <td>2000 Mansfield Street, Suite 104</td>\n",
       "      <td>[{u'Caters': True}]</td>\n",
       "      <td>a1Ba6XeIOP48e64YFD0dMw</td>\n",
       "      <td>[Sandwiches, Breakfast &amp; Brunch, Salad, Restau...</td>\n",
       "      <td>Montréal</td>\n",
       "      <td>[Monday 6:30-17:0, Tuesday 6:30-17:0, Wednesda...</td>\n",
       "      <td>1</td>\n",
       "      <td>45.502346</td>\n",
       "      <td>-73.573807</td>\n",
       "      <td>La Prep</td>\n",
       "      <td>...</td>\n",
       "      <td>NaN</td>\n",
       "      <td>NaN</td>\n",
       "      <td>NaN</td>\n",
       "      <td>NaN</td>\n",
       "      <td>NaN</td>\n",
       "      <td>NaN</td>\n",
       "      <td>NaN</td>\n",
       "      <td>NaN</td>\n",
       "      <td>NaN</td>\n",
       "      <td>0</td>\n",
       "    </tr>\n",
       "  </tbody>\n",
       "</table>\n",
       "<p>3 rows × 98 columns</p>\n",
       "</div>"
      ],
      "text/plain": [
       "                                                 address  \\\n",
       "EDqCEAGXVGCH4FJXgqtjqg                979 Bloor Street W   \n",
       "GDnbt3isfhd57T1QqU6flg       11072 No Frank Lloyd Wright   \n",
       "a1Ba6XeIOP48e64YFD0dMw  2000 Mansfield Street, Suite 104   \n",
       "\n",
       "                                                               attributes  \\\n",
       "EDqCEAGXVGCH4FJXgqtjqg  [{u'Alcohol': u'none'}, {u'Ambience': {u'roman...   \n",
       "GDnbt3isfhd57T1QqU6flg  [{u'Alcohol': u'none'}, {u'Ambience': {u'roman...   \n",
       "a1Ba6XeIOP48e64YFD0dMw                                [{u'Caters': True}]   \n",
       "\n",
       "                                   business_id  \\\n",
       "EDqCEAGXVGCH4FJXgqtjqg  EDqCEAGXVGCH4FJXgqtjqg   \n",
       "GDnbt3isfhd57T1QqU6flg  GDnbt3isfhd57T1QqU6flg   \n",
       "a1Ba6XeIOP48e64YFD0dMw  a1Ba6XeIOP48e64YFD0dMw   \n",
       "\n",
       "                                                               categories  \\\n",
       "EDqCEAGXVGCH4FJXgqtjqg       [Restaurants, Pizza, Chicken Wings, Italian]   \n",
       "GDnbt3isfhd57T1QqU6flg         [Tex-Mex, Mexican, Fast Food, Restaurants]   \n",
       "a1Ba6XeIOP48e64YFD0dMw  [Sandwiches, Breakfast & Brunch, Salad, Restau...   \n",
       "\n",
       "                              city  \\\n",
       "EDqCEAGXVGCH4FJXgqtjqg     Toronto   \n",
       "GDnbt3isfhd57T1QqU6flg  Scottsdale   \n",
       "a1Ba6XeIOP48e64YFD0dMw    Montréal   \n",
       "\n",
       "                                                                    hours  \\\n",
       "EDqCEAGXVGCH4FJXgqtjqg  [Monday 11:0-2:0, Tuesday 11:0-2:0, Wednesday ...   \n",
       "GDnbt3isfhd57T1QqU6flg  [Monday 10:0-22:0, Tuesday 10:0-22:0, Wednesda...   \n",
       "a1Ba6XeIOP48e64YFD0dMw  [Monday 6:30-17:0, Tuesday 6:30-17:0, Wednesda...   \n",
       "\n",
       "                        is_open   latitude   longitude         name  \\\n",
       "EDqCEAGXVGCH4FJXgqtjqg        1  43.661054  -79.429089  Pizza Pizza   \n",
       "GDnbt3isfhd57T1QqU6flg        1  33.586710 -111.835410    Taco Bell   \n",
       "a1Ba6XeIOP48e64YFD0dMw        1  45.502346  -73.573807      La Prep   \n",
       "\n",
       "                             ...       RestaurantsDelivery  \\\n",
       "EDqCEAGXVGCH4FJXgqtjqg       ...                     False   \n",
       "GDnbt3isfhd57T1QqU6flg       ...                     False   \n",
       "a1Ba6XeIOP48e64YFD0dMw       ...                       NaN   \n",
       "\n",
       "                       RestaurantsGoodForGroups  RestaurantsPriceRange2  \\\n",
       "EDqCEAGXVGCH4FJXgqtjqg                    False                     NaN   \n",
       "GDnbt3isfhd57T1QqU6flg                    False                     NaN   \n",
       "a1Ba6XeIOP48e64YFD0dMw                      NaN                     NaN   \n",
       "\n",
       "                        RestaurantsReservations RestaurantsTableService  \\\n",
       "EDqCEAGXVGCH4FJXgqtjqg                      NaN                     NaN   \n",
       "GDnbt3isfhd57T1QqU6flg                      NaN                     NaN   \n",
       "a1Ba6XeIOP48e64YFD0dMw                      NaN                     NaN   \n",
       "\n",
       "                       RestaurantsTakeOut Smoking WheelchairAccessible WiFi  \\\n",
       "EDqCEAGXVGCH4FJXgqtjqg                NaN   False                  NaN  NaN   \n",
       "GDnbt3isfhd57T1QqU6flg                NaN   False                  NaN  NaN   \n",
       "a1Ba6XeIOP48e64YFD0dMw                NaN     NaN                  NaN  NaN   \n",
       "\n",
       "                       cuisine_Chinese  \n",
       "EDqCEAGXVGCH4FJXgqtjqg               1  \n",
       "GDnbt3isfhd57T1QqU6flg               1  \n",
       "a1Ba6XeIOP48e64YFD0dMw               0  \n",
       "\n",
       "[3 rows x 98 columns]"
      ]
     },
     "execution_count": 57,
     "metadata": {},
     "output_type": "execute_result"
    }
   ],
   "source": [
    "df_chinese.head(3)"
   ]
  },
  {
   "cell_type": "code",
   "execution_count": 54,
   "metadata": {
    "collapsed": false
   },
   "outputs": [],
   "source": [
    "# Check\n",
    "# df_chinese[df_chinese.cuisine_Chinese == 0]"
   ]
  }
 ],
 "metadata": {
  "anaconda-cloud": {},
  "kernelspec": {
   "display_name": "Python [Root]",
   "language": "python",
   "name": "Python [Root]"
  },
  "language_info": {
   "codemirror_mode": {
    "name": "ipython",
    "version": 2
   },
   "file_extension": ".py",
   "mimetype": "text/x-python",
   "name": "python",
   "nbconvert_exporter": "python",
   "pygments_lexer": "ipython2",
   "version": "2.7.12"
  }
 },
 "nbformat": 4,
 "nbformat_minor": 0
}
